{
 "cells": [
  {
   "cell_type": "markdown",
   "id": "95925d7a",
   "metadata": {},
   "source": [
    "#### Technique we will have to use:\n",
    "1. Mean/Median/Mode\n",
    "2. Random Sample Imputation\n",
    "3. Capturing NaN with a new Feature\n",
    "4. End of distribution\n",
    "5. Arbitary Value\n",
    "6. Most Frequent Value\n",
    "7. Capturing NaN with a new Feature with Most Frequent Value\n",
    "8. New value for NaN - Example `Missing`"
   ]
  },
  {
   "cell_type": "code",
   "execution_count": 1,
   "id": "ea176052",
   "metadata": {},
   "outputs": [],
   "source": [
    "import numpy as np \n",
    "import pandas as pd\n",
    "from sklearn.model_selection import train_test_split, KFold, StratifiedKFold, GridSearchCV, RandomizedSearchCV\n",
    "from sklearn.preprocessing import StandardScaler, MinMaxScaler\n",
    "from sklearn.decomposition import PCA\n",
    "from sklearn.metrics import accuracy_score, f1_score, recall_score, confusion_matrix\n",
    "from sklearn.linear_model import LogisticRegression\n",
    "from sklearn.tree import DecisionTreeClassifier\n",
    "from sklearn.ensemble import AdaBoostClassifier, RandomForestClassifier, GradientBoostingClassifier, ExtraTreesClassifier, BaggingClassifier\n",
    "from xgboost import XGBClassifier\n",
    "import matplotlib.pyplot as plt\n",
    "%matplotlib inline"
   ]
  },
  {
   "cell_type": "code",
   "execution_count": 2,
   "id": "47e105b0",
   "metadata": {},
   "outputs": [],
   "source": [
    "# fig_ = plt.figure()\n",
    "# ax_  = fig_.add_subplot(111)\n",
    "# df_.loc[:, 'Age'].plot(kind = 'kde', ax = ax_)\n",
    "# df_.loc[:, 'Age_median'].plot(kind = 'kde', ax = ax_, color = 'red')\n",
    "# lines_, labels_ = ax_.get_legend_handles_labels()\n",
    "# ax_.legend(lines_, labels_, loc = 'best')\n",
    "# plt.show()"
   ]
  },
  {
   "cell_type": "code",
   "execution_count": 3,
   "id": "71f4ad38",
   "metadata": {},
   "outputs": [
    {
     "data": {
      "text/html": [
       "<div>\n",
       "<style scoped>\n",
       "    .dataframe tbody tr th:only-of-type {\n",
       "        vertical-align: middle;\n",
       "    }\n",
       "\n",
       "    .dataframe tbody tr th {\n",
       "        vertical-align: top;\n",
       "    }\n",
       "\n",
       "    .dataframe thead th {\n",
       "        text-align: right;\n",
       "    }\n",
       "</style>\n",
       "<table border=\"1\" class=\"dataframe\">\n",
       "  <thead>\n",
       "    <tr style=\"text-align: right;\">\n",
       "      <th></th>\n",
       "      <th>Survived</th>\n",
       "      <th>Age</th>\n",
       "      <th>Cabin</th>\n",
       "    </tr>\n",
       "  </thead>\n",
       "  <tbody>\n",
       "    <tr>\n",
       "      <th>0</th>\n",
       "      <td>0</td>\n",
       "      <td>22.0</td>\n",
       "      <td>NaN</td>\n",
       "    </tr>\n",
       "    <tr>\n",
       "      <th>1</th>\n",
       "      <td>1</td>\n",
       "      <td>38.0</td>\n",
       "      <td>C85</td>\n",
       "    </tr>\n",
       "    <tr>\n",
       "      <th>2</th>\n",
       "      <td>1</td>\n",
       "      <td>26.0</td>\n",
       "      <td>NaN</td>\n",
       "    </tr>\n",
       "    <tr>\n",
       "      <th>3</th>\n",
       "      <td>1</td>\n",
       "      <td>35.0</td>\n",
       "      <td>C123</td>\n",
       "    </tr>\n",
       "    <tr>\n",
       "      <th>4</th>\n",
       "      <td>0</td>\n",
       "      <td>35.0</td>\n",
       "      <td>NaN</td>\n",
       "    </tr>\n",
       "  </tbody>\n",
       "</table>\n",
       "</div>"
      ],
      "text/plain": [
       "   Survived   Age Cabin\n",
       "0         0  22.0   NaN\n",
       "1         1  38.0   C85\n",
       "2         1  26.0   NaN\n",
       "3         1  35.0  C123\n",
       "4         0  35.0   NaN"
      ]
     },
     "execution_count": 3,
     "metadata": {},
     "output_type": "execute_result"
    }
   ],
   "source": [
    "#### import the dataset\n",
    "df = pd.read_csv('titanic.csv', usecols = ['Age', 'Cabin', 'Survived'])\n",
    "df1 = pd.read_csv('titanic.csv', usecols = ['Age', 'Cabin', 'Survived'])\n",
    "df.head()"
   ]
  },
  {
   "cell_type": "markdown",
   "id": "195d7e14",
   "metadata": {},
   "source": [
    "#### Mean / Median / Mode"
   ]
  },
  {
   "cell_type": "code",
   "execution_count": 4,
   "id": "fe55bb61",
   "metadata": {},
   "outputs": [
    {
     "data": {
      "text/plain": [
       "Survived      0\n",
       "Age         177\n",
       "Cabin       687\n",
       "dtype: int64"
      ]
     },
     "execution_count": 4,
     "metadata": {},
     "output_type": "execute_result"
    }
   ],
   "source": [
    "df.isnull().sum()"
   ]
  },
  {
   "cell_type": "code",
   "execution_count": 5,
   "id": "2d324a80",
   "metadata": {},
   "outputs": [],
   "source": [
    "#### Mean, Median, Mode should be used in Numerical column\n",
    "mean_ = df.loc[:, 'Age'].mean()\n",
    "df.loc[:, 'Age'] = df.loc[:, 'Age'].fillna(mean_)"
   ]
  },
  {
   "cell_type": "code",
   "execution_count": 6,
   "id": "80eaeb0c",
   "metadata": {},
   "outputs": [
    {
     "data": {
      "image/png": "[encoded data removed]",
      "text/plain": [
       "<Figure size 432x288 with 1 Axes>"
      ]
     },
     "metadata": {
      "needs_background": "light"
     },
     "output_type": "display_data"
    }
   ],
   "source": [
    "#### Check the distribution\n",
    "\n",
    "fig_ = plt.figure()\n",
    "ax_  = fig_.add_subplot(111)\n",
    "df.loc[:, 'Age'].plot(kind = 'kde', ax = ax_)\n",
    "df1.loc[:, 'Age'].plot(kind = 'kde', ax = ax_, color = 'red')\n",
    "lines_, labels_ = ax_.get_legend_handles_labels()\n",
    "ax_.legend(lines_, labels_, loc = 'best')\n",
    "plt.show()"
   ]
  },
  {
   "cell_type": "code",
   "execution_count": 7,
   "id": "88285c6b",
   "metadata": {},
   "outputs": [],
   "source": [
    "#### Median\n",
    "df = pd.read_csv('titanic.csv', usecols = ['Age', 'Cabin', 'Survived'])\n",
    "df1 = pd.read_csv('titanic.csv', usecols = ['Age', 'Cabin', 'Survived'])\n",
    "\n",
    "median_ = df.loc[:, 'Age'].median()\n",
    "df.loc[:, 'Age'] = df.loc[:, 'Age'].fillna(median_)"
   ]
  },
  {
   "cell_type": "code",
   "execution_count": 8,
   "id": "55e8fe19",
   "metadata": {},
   "outputs": [
    {
     "data": {
      "image/png": "[encoded data removed]",
      "text/plain": [
       "<Figure size 432x288 with 1 Axes>"
      ]
     },
     "metadata": {
      "needs_background": "light"
     },
     "output_type": "display_data"
    }
   ],
   "source": [
    "#### Check the distribution\n",
    "\n",
    "fig_ = plt.figure()\n",
    "ax_  = fig_.add_subplot(111)\n",
    "df.loc[:, 'Age'].plot(kind = 'kde', ax = ax_)\n",
    "df1.loc[:, 'Age'].plot(kind = 'kde', ax = ax_, color = 'red')\n",
    "lines_, labels_ = ax_.get_legend_handles_labels()\n",
    "ax_.legend(lines_, labels_, loc = 'best')\n",
    "plt.show()"
   ]
  },
  {
   "cell_type": "code",
   "execution_count": 9,
   "id": "8ed0f248",
   "metadata": {},
   "outputs": [],
   "source": [
    "#### Mode \n",
    "df = pd.read_csv('titanic.csv', usecols = ['Age', 'Cabin', 'Survived'])\n",
    "df1 = pd.read_csv('titanic.csv', usecols = ['Age', 'Cabin', 'Survived'])\n",
    "\n",
    "mode_ = df.loc[:, 'Age'].mode()\n",
    "df.loc[:, 'Age'] = df.loc[:, 'Age'].fillna(mode_)"
   ]
  },
  {
   "cell_type": "code",
   "execution_count": 10,
   "id": "3bf904cb",
   "metadata": {},
   "outputs": [
    {
     "data": {
      "image/png": "[encoded data removed]",
      "text/plain": [
       "<Figure size 432x288 with 1 Axes>"
      ]
     },
     "metadata": {
      "needs_background": "light"
     },
     "output_type": "display_data"
    }
   ],
   "source": [
    "#### Check the distribution\n",
    "\n",
    "fig_ = plt.figure()\n",
    "ax_  = fig_.add_subplot(111)\n",
    "df.loc[:, 'Age'].plot(kind = 'kde', ax = ax_)\n",
    "df1.loc[:, 'Age'].plot(kind = 'kde', ax = ax_, color = 'red')\n",
    "lines_, labels_ = ax_.get_legend_handles_labels()\n",
    "ax_.legend(lines_, labels_, loc = 'best')\n",
    "plt.show()"
   ]
  },
  {
   "cell_type": "markdown",
   "id": "71e253b0",
   "metadata": {},
   "source": [
    "#### Advantage:\n",
    "1. Easy to implement\n",
    "2. Robust to the outliers\n",
    "3. Not increasing the new features in the dataset\n",
    "\n",
    "#### Disadvantage:\n",
    "1. It distorts the orginal distribution."
   ]
  },
  {
   "cell_type": "markdown",
   "id": "db01cc9b",
   "metadata": {},
   "source": [
    "#### 2. Random Sample Imputation"
   ]
  },
  {
   "cell_type": "code",
   "execution_count": 11,
   "id": "b63c67a7",
   "metadata": {},
   "outputs": [
    {
     "data": {
      "text/html": [
       "<div>\n",
       "<style scoped>\n",
       "    .dataframe tbody tr th:only-of-type {\n",
       "        vertical-align: middle;\n",
       "    }\n",
       "\n",
       "    .dataframe tbody tr th {\n",
       "        vertical-align: top;\n",
       "    }\n",
       "\n",
       "    .dataframe thead th {\n",
       "        text-align: right;\n",
       "    }\n",
       "</style>\n",
       "<table border=\"1\" class=\"dataframe\">\n",
       "  <thead>\n",
       "    <tr style=\"text-align: right;\">\n",
       "      <th></th>\n",
       "      <th>Survived</th>\n",
       "      <th>Age</th>\n",
       "      <th>Cabin</th>\n",
       "    </tr>\n",
       "  </thead>\n",
       "  <tbody>\n",
       "    <tr>\n",
       "      <th>0</th>\n",
       "      <td>0</td>\n",
       "      <td>22.0</td>\n",
       "      <td>NaN</td>\n",
       "    </tr>\n",
       "    <tr>\n",
       "      <th>1</th>\n",
       "      <td>1</td>\n",
       "      <td>38.0</td>\n",
       "      <td>C85</td>\n",
       "    </tr>\n",
       "    <tr>\n",
       "      <th>2</th>\n",
       "      <td>1</td>\n",
       "      <td>26.0</td>\n",
       "      <td>NaN</td>\n",
       "    </tr>\n",
       "    <tr>\n",
       "      <th>3</th>\n",
       "      <td>1</td>\n",
       "      <td>35.0</td>\n",
       "      <td>C123</td>\n",
       "    </tr>\n",
       "    <tr>\n",
       "      <th>4</th>\n",
       "      <td>0</td>\n",
       "      <td>35.0</td>\n",
       "      <td>NaN</td>\n",
       "    </tr>\n",
       "  </tbody>\n",
       "</table>\n",
       "</div>"
      ],
      "text/plain": [
       "   Survived   Age Cabin\n",
       "0         0  22.0   NaN\n",
       "1         1  38.0   C85\n",
       "2         1  26.0   NaN\n",
       "3         1  35.0  C123\n",
       "4         0  35.0   NaN"
      ]
     },
     "execution_count": 11,
     "metadata": {},
     "output_type": "execute_result"
    }
   ],
   "source": [
    "df = pd.read_csv('titanic.csv', usecols = ['Age', 'Cabin', 'Survived'])\n",
    "df1 = pd.read_csv('titanic.csv', usecols = ['Age', 'Cabin', 'Survived'])\n",
    "df.head()"
   ]
  },
  {
   "cell_type": "code",
   "execution_count": 12,
   "id": "be539b00",
   "metadata": {},
   "outputs": [
    {
     "name": "stdout",
     "output_type": "stream",
     "text": [
      "done\n"
     ]
    }
   ],
   "source": [
    "#### It will work on the categorical and numerical data and completely at Random\n",
    "index_ = list(df.loc[:, 'Age'].dropna().sample(df.loc[:, 'Age'].isnull().sum(), random_state = 0).index)\n",
    "value_ = list(df.loc[:, 'Age'].dropna().sample(df.loc[:, 'Age'].isnull().sum(), random_state = 0).values)\n",
    "#### null index find\n",
    "null_index_ = df.loc[df.loc[:, 'Age'].isnull(), 'Age'].index\n",
    "null_index_ = list(null_index_)\n",
    "for pick_, _index in enumerate(null_index_):\n",
    "    df.loc[_index, 'Age'] = value_[pick_]\n",
    "print(\"done\")"
   ]
  },
  {
   "cell_type": "code",
   "execution_count": 13,
   "id": "24f83aea",
   "metadata": {},
   "outputs": [
    {
     "data": {
      "image/png": "[encoded data removed]",
      "text/plain": [
       "<Figure size 432x288 with 1 Axes>"
      ]
     },
     "metadata": {
      "needs_background": "light"
     },
     "output_type": "display_data"
    }
   ],
   "source": [
    "##### Distribution Check\n",
    "fig_ = plt.figure()\n",
    "ax_  = fig_.add_subplot(111)\n",
    "df.loc[:, 'Age'].plot(kind = 'kde', ax = ax_)\n",
    "df1.loc[:, 'Age'].plot(kind = 'kde', ax = ax_, color = 'red')\n",
    "lines_, labels_ = ax_.get_legend_handles_labels()\n",
    "ax_.legend(lines_, labels_, loc = 'best')\n",
    "plt.show()"
   ]
  },
  {
   "cell_type": "markdown",
   "id": "3783ca70",
   "metadata": {},
   "source": [
    "#### Advantage:\n",
    "1. Easy to implement\n",
    "2. No distortion in the real distribution\n",
    "3. Not increasing the additinal features\n",
    "\n",
    "#### Disadvantage:\n",
    "1. Sometimes this randomness did not work at all."
   ]
  },
  {
   "cell_type": "markdown",
   "id": "3bf998c1",
   "metadata": {},
   "source": [
    "#### 3. Capturing NaN value with a new feature"
   ]
  },
  {
   "cell_type": "code",
   "execution_count": 14,
   "id": "93ef9f88",
   "metadata": {},
   "outputs": [
    {
     "data": {
      "text/html": [
       "<div>\n",
       "<style scoped>\n",
       "    .dataframe tbody tr th:only-of-type {\n",
       "        vertical-align: middle;\n",
       "    }\n",
       "\n",
       "    .dataframe tbody tr th {\n",
       "        vertical-align: top;\n",
       "    }\n",
       "\n",
       "    .dataframe thead th {\n",
       "        text-align: right;\n",
       "    }\n",
       "</style>\n",
       "<table border=\"1\" class=\"dataframe\">\n",
       "  <thead>\n",
       "    <tr style=\"text-align: right;\">\n",
       "      <th></th>\n",
       "      <th>Survived</th>\n",
       "      <th>Age</th>\n",
       "      <th>Cabin</th>\n",
       "    </tr>\n",
       "  </thead>\n",
       "  <tbody>\n",
       "    <tr>\n",
       "      <th>0</th>\n",
       "      <td>0</td>\n",
       "      <td>22.0</td>\n",
       "      <td>NaN</td>\n",
       "    </tr>\n",
       "    <tr>\n",
       "      <th>1</th>\n",
       "      <td>1</td>\n",
       "      <td>38.0</td>\n",
       "      <td>C85</td>\n",
       "    </tr>\n",
       "    <tr>\n",
       "      <th>2</th>\n",
       "      <td>1</td>\n",
       "      <td>26.0</td>\n",
       "      <td>NaN</td>\n",
       "    </tr>\n",
       "    <tr>\n",
       "      <th>3</th>\n",
       "      <td>1</td>\n",
       "      <td>35.0</td>\n",
       "      <td>C123</td>\n",
       "    </tr>\n",
       "    <tr>\n",
       "      <th>4</th>\n",
       "      <td>0</td>\n",
       "      <td>35.0</td>\n",
       "      <td>NaN</td>\n",
       "    </tr>\n",
       "  </tbody>\n",
       "</table>\n",
       "</div>"
      ],
      "text/plain": [
       "   Survived   Age Cabin\n",
       "0         0  22.0   NaN\n",
       "1         1  38.0   C85\n",
       "2         1  26.0   NaN\n",
       "3         1  35.0  C123\n",
       "4         0  35.0   NaN"
      ]
     },
     "execution_count": 14,
     "metadata": {},
     "output_type": "execute_result"
    }
   ],
   "source": [
    "df = pd.read_csv('titanic.csv', usecols = ['Age', 'Cabin', 'Survived'])\n",
    "df1 = pd.read_csv('titanic.csv', usecols = ['Age', 'Cabin', 'Survived'])\n",
    "df.head()"
   ]
  },
  {
   "cell_type": "code",
   "execution_count": 15,
   "id": "5a6f22af",
   "metadata": {},
   "outputs": [
    {
     "data": {
      "text/html": [
       "<div>\n",
       "<style scoped>\n",
       "    .dataframe tbody tr th:only-of-type {\n",
       "        vertical-align: middle;\n",
       "    }\n",
       "\n",
       "    .dataframe tbody tr th {\n",
       "        vertical-align: top;\n",
       "    }\n",
       "\n",
       "    .dataframe thead th {\n",
       "        text-align: right;\n",
       "    }\n",
       "</style>\n",
       "<table border=\"1\" class=\"dataframe\">\n",
       "  <thead>\n",
       "    <tr style=\"text-align: right;\">\n",
       "      <th></th>\n",
       "      <th>Survived</th>\n",
       "      <th>Age</th>\n",
       "      <th>Cabin</th>\n",
       "      <th>Age_Capture_NaN</th>\n",
       "    </tr>\n",
       "  </thead>\n",
       "  <tbody>\n",
       "    <tr>\n",
       "      <th>0</th>\n",
       "      <td>0</td>\n",
       "      <td>22.0</td>\n",
       "      <td>NaN</td>\n",
       "      <td>0</td>\n",
       "    </tr>\n",
       "    <tr>\n",
       "      <th>1</th>\n",
       "      <td>1</td>\n",
       "      <td>38.0</td>\n",
       "      <td>C85</td>\n",
       "      <td>0</td>\n",
       "    </tr>\n",
       "    <tr>\n",
       "      <th>2</th>\n",
       "      <td>1</td>\n",
       "      <td>26.0</td>\n",
       "      <td>NaN</td>\n",
       "      <td>0</td>\n",
       "    </tr>\n",
       "    <tr>\n",
       "      <th>3</th>\n",
       "      <td>1</td>\n",
       "      <td>35.0</td>\n",
       "      <td>C123</td>\n",
       "      <td>0</td>\n",
       "    </tr>\n",
       "    <tr>\n",
       "      <th>4</th>\n",
       "      <td>0</td>\n",
       "      <td>35.0</td>\n",
       "      <td>NaN</td>\n",
       "      <td>0</td>\n",
       "    </tr>\n",
       "  </tbody>\n",
       "</table>\n",
       "</div>"
      ],
      "text/plain": [
       "   Survived   Age Cabin  Age_Capture_NaN\n",
       "0         0  22.0   NaN                0\n",
       "1         1  38.0   C85                0\n",
       "2         1  26.0   NaN                0\n",
       "3         1  35.0  C123                0\n",
       "4         0  35.0   NaN                0"
      ]
     },
     "execution_count": 15,
     "metadata": {},
     "output_type": "execute_result"
    }
   ],
   "source": [
    "df.loc[:, 'Age_Capture_NaN'] = np.where(df.loc[:, 'Age'].isnull(), 1, 0)\n",
    "df.loc[:, 'Age'] = df.loc[:, 'Age'].fillna(df.loc[:, 'Age'].median())\n",
    "df.head()"
   ]
  },
  {
   "cell_type": "markdown",
   "id": "fa38a331",
   "metadata": {},
   "source": [
    "#### Advantage:\n",
    "1. Easy to implement\n",
    "2. Capturing importance of missing Value\n",
    "\n",
    "#### Disadvantage:\n",
    "1. Increasing the additinal feature\n",
    "2. Missing that has will be imputed with other technique might lead to distort the orginal distribution"
   ]
  },
  {
   "cell_type": "markdown",
   "id": "668b60c5",
   "metadata": {},
   "source": [
    "#### End of Distribution "
   ]
  },
  {
   "cell_type": "code",
   "execution_count": 16,
   "id": "b08aae67",
   "metadata": {},
   "outputs": [
    {
     "data": {
      "text/html": [
       "<div>\n",
       "<style scoped>\n",
       "    .dataframe tbody tr th:only-of-type {\n",
       "        vertical-align: middle;\n",
       "    }\n",
       "\n",
       "    .dataframe tbody tr th {\n",
       "        vertical-align: top;\n",
       "    }\n",
       "\n",
       "    .dataframe thead th {\n",
       "        text-align: right;\n",
       "    }\n",
       "</style>\n",
       "<table border=\"1\" class=\"dataframe\">\n",
       "  <thead>\n",
       "    <tr style=\"text-align: right;\">\n",
       "      <th></th>\n",
       "      <th>Survived</th>\n",
       "      <th>Age</th>\n",
       "      <th>Cabin</th>\n",
       "    </tr>\n",
       "  </thead>\n",
       "  <tbody>\n",
       "    <tr>\n",
       "      <th>0</th>\n",
       "      <td>0</td>\n",
       "      <td>22.0</td>\n",
       "      <td>NaN</td>\n",
       "    </tr>\n",
       "    <tr>\n",
       "      <th>1</th>\n",
       "      <td>1</td>\n",
       "      <td>38.0</td>\n",
       "      <td>C85</td>\n",
       "    </tr>\n",
       "    <tr>\n",
       "      <th>2</th>\n",
       "      <td>1</td>\n",
       "      <td>26.0</td>\n",
       "      <td>NaN</td>\n",
       "    </tr>\n",
       "    <tr>\n",
       "      <th>3</th>\n",
       "      <td>1</td>\n",
       "      <td>35.0</td>\n",
       "      <td>C123</td>\n",
       "    </tr>\n",
       "    <tr>\n",
       "      <th>4</th>\n",
       "      <td>0</td>\n",
       "      <td>35.0</td>\n",
       "      <td>NaN</td>\n",
       "    </tr>\n",
       "  </tbody>\n",
       "</table>\n",
       "</div>"
      ],
      "text/plain": [
       "   Survived   Age Cabin\n",
       "0         0  22.0   NaN\n",
       "1         1  38.0   C85\n",
       "2         1  26.0   NaN\n",
       "3         1  35.0  C123\n",
       "4         0  35.0   NaN"
      ]
     },
     "execution_count": 16,
     "metadata": {},
     "output_type": "execute_result"
    }
   ],
   "source": [
    "df = pd.read_csv('titanic.csv', usecols = ['Age', 'Cabin', 'Survived'])\n",
    "df1 = pd.read_csv('titanic.csv', usecols = ['Age', 'Cabin', 'Survived'])\n",
    "df.head()"
   ]
  },
  {
   "cell_type": "code",
   "execution_count": 17,
   "id": "cd91df86",
   "metadata": {},
   "outputs": [
    {
     "data": {
      "text/plain": [
       "<AxesSubplot:xlabel='Age'>"
      ]
     },
     "execution_count": 17,
     "metadata": {},
     "output_type": "execute_result"
    },
    {
     "data": {
      "image/png": "[encoded data removed]",
      "text/plain": [
       "<Figure size 432x288 with 1 Axes>"
      ]
     },
     "metadata": {
      "needs_background": "light"
     },
     "output_type": "display_data"
    }
   ],
   "source": [
    "import seaborn as sns\n",
    "sns.boxplot(x = df.loc[:, 'Age'])"
   ]
  },
  {
   "cell_type": "code",
   "execution_count": 18,
   "id": "17de4a28",
   "metadata": {},
   "outputs": [
    {
     "data": {
      "text/html": [
       "<div>\n",
       "<style scoped>\n",
       "    .dataframe tbody tr th:only-of-type {\n",
       "        vertical-align: middle;\n",
       "    }\n",
       "\n",
       "    .dataframe tbody tr th {\n",
       "        vertical-align: top;\n",
       "    }\n",
       "\n",
       "    .dataframe thead th {\n",
       "        text-align: right;\n",
       "    }\n",
       "</style>\n",
       "<table border=\"1\" class=\"dataframe\">\n",
       "  <thead>\n",
       "    <tr style=\"text-align: right;\">\n",
       "      <th></th>\n",
       "      <th>Survived</th>\n",
       "      <th>Age</th>\n",
       "      <th>Cabin</th>\n",
       "    </tr>\n",
       "  </thead>\n",
       "  <tbody>\n",
       "    <tr>\n",
       "      <th>0</th>\n",
       "      <td>0</td>\n",
       "      <td>22.0</td>\n",
       "      <td>NaN</td>\n",
       "    </tr>\n",
       "    <tr>\n",
       "      <th>1</th>\n",
       "      <td>1</td>\n",
       "      <td>38.0</td>\n",
       "      <td>C85</td>\n",
       "    </tr>\n",
       "    <tr>\n",
       "      <th>2</th>\n",
       "      <td>1</td>\n",
       "      <td>26.0</td>\n",
       "      <td>NaN</td>\n",
       "    </tr>\n",
       "    <tr>\n",
       "      <th>3</th>\n",
       "      <td>1</td>\n",
       "      <td>35.0</td>\n",
       "      <td>C123</td>\n",
       "    </tr>\n",
       "    <tr>\n",
       "      <th>4</th>\n",
       "      <td>0</td>\n",
       "      <td>35.0</td>\n",
       "      <td>NaN</td>\n",
       "    </tr>\n",
       "  </tbody>\n",
       "</table>\n",
       "</div>"
      ],
      "text/plain": [
       "   Survived   Age Cabin\n",
       "0         0  22.0   NaN\n",
       "1         1  38.0   C85\n",
       "2         1  26.0   NaN\n",
       "3         1  35.0  C123\n",
       "4         0  35.0   NaN"
      ]
     },
     "execution_count": 18,
     "metadata": {},
     "output_type": "execute_result"
    }
   ],
   "source": [
    "df.loc[:, 'Age'] = df.loc[:, 'Age'].fillna(82)\n",
    "df.head()"
   ]
  },
  {
   "cell_type": "code",
   "execution_count": 19,
   "id": "aa754fc8",
   "metadata": {},
   "outputs": [
    {
     "data": {
      "text/plain": [
       "<AxesSubplot:xlabel='Age'>"
      ]
     },
     "execution_count": 19,
     "metadata": {},
     "output_type": "execute_result"
    },
    {
     "data": {
      "image/png": "[encoded data removed]",
      "text/plain": [
       "<Figure size 432x288 with 1 Axes>"
      ]
     },
     "metadata": {
      "needs_background": "light"
     },
     "output_type": "display_data"
    }
   ],
   "source": [
    "sns.boxplot(x = df.loc[:, 'Age'])"
   ]
  },
  {
   "cell_type": "code",
   "execution_count": 20,
   "id": "58b40675",
   "metadata": {},
   "outputs": [
    {
     "data": {
      "image/png": "[encoded data removed]",
      "text/plain": [
       "<Figure size 432x288 with 1 Axes>"
      ]
     },
     "metadata": {
      "needs_background": "light"
     },
     "output_type": "display_data"
    }
   ],
   "source": [
    "##### Plot the Distribution\n",
    "fig_ = plt.figure()\n",
    "ax_  = fig_.add_subplot(111)\n",
    "df.loc[:, 'Age'].plot(kind = 'kde', ax = ax_)\n",
    "df1.loc[:, 'Age'].plot(kind = 'kde', ax = ax_, color = 'red')\n",
    "lines_, labels_ = ax_.get_legend_handles_labels()\n",
    "ax_.legend(lines_, labels_, loc = 'best')\n",
    "plt.show()"
   ]
  },
  {
   "cell_type": "markdown",
   "id": "e1486a3d",
   "metadata": {},
   "source": [
    "#### Advantage:\n",
    "1. Easy to implement\n",
    "2. Robust to the outliers\n",
    "3. Not increasing the additinal feature\n",
    "\n",
    "#### Disadvantage:\n",
    "1. Distorts the orginal variance or distribution"
   ]
  },
  {
   "cell_type": "markdown",
   "id": "ad601e1f",
   "metadata": {},
   "source": [
    "#### Arbitary Value"
   ]
  },
  {
   "cell_type": "code",
   "execution_count": 21,
   "id": "af23f504",
   "metadata": {},
   "outputs": [
    {
     "data": {
      "text/html": [
       "<div>\n",
       "<style scoped>\n",
       "    .dataframe tbody tr th:only-of-type {\n",
       "        vertical-align: middle;\n",
       "    }\n",
       "\n",
       "    .dataframe tbody tr th {\n",
       "        vertical-align: top;\n",
       "    }\n",
       "\n",
       "    .dataframe thead th {\n",
       "        text-align: right;\n",
       "    }\n",
       "</style>\n",
       "<table border=\"1\" class=\"dataframe\">\n",
       "  <thead>\n",
       "    <tr style=\"text-align: right;\">\n",
       "      <th></th>\n",
       "      <th>Survived</th>\n",
       "      <th>Age</th>\n",
       "      <th>Cabin</th>\n",
       "    </tr>\n",
       "  </thead>\n",
       "  <tbody>\n",
       "    <tr>\n",
       "      <th>0</th>\n",
       "      <td>0</td>\n",
       "      <td>22.0</td>\n",
       "      <td>NaN</td>\n",
       "    </tr>\n",
       "    <tr>\n",
       "      <th>1</th>\n",
       "      <td>1</td>\n",
       "      <td>38.0</td>\n",
       "      <td>C85</td>\n",
       "    </tr>\n",
       "    <tr>\n",
       "      <th>2</th>\n",
       "      <td>1</td>\n",
       "      <td>26.0</td>\n",
       "      <td>NaN</td>\n",
       "    </tr>\n",
       "    <tr>\n",
       "      <th>3</th>\n",
       "      <td>1</td>\n",
       "      <td>35.0</td>\n",
       "      <td>C123</td>\n",
       "    </tr>\n",
       "    <tr>\n",
       "      <th>4</th>\n",
       "      <td>0</td>\n",
       "      <td>35.0</td>\n",
       "      <td>NaN</td>\n",
       "    </tr>\n",
       "  </tbody>\n",
       "</table>\n",
       "</div>"
      ],
      "text/plain": [
       "   Survived   Age Cabin\n",
       "0         0  22.0   NaN\n",
       "1         1  38.0   C85\n",
       "2         1  26.0   NaN\n",
       "3         1  35.0  C123\n",
       "4         0  35.0   NaN"
      ]
     },
     "execution_count": 21,
     "metadata": {},
     "output_type": "execute_result"
    }
   ],
   "source": [
    "df = pd.read_csv('titanic.csv', usecols = ['Age', 'Cabin', 'Survived'])\n",
    "df1 = pd.read_csv('titanic.csv', usecols = ['Age', 'Cabin', 'Survived'])\n",
    "df.head()"
   ]
  },
  {
   "cell_type": "code",
   "execution_count": 22,
   "id": "27605910",
   "metadata": {},
   "outputs": [
    {
     "data": {
      "text/plain": [
       "<AxesSubplot:ylabel='Frequency'>"
      ]
     },
     "execution_count": 22,
     "metadata": {},
     "output_type": "execute_result"
    },
    {
     "data": {
      "image/png": "[encoded data removed]",
      "text/plain": [
       "<Figure size 432x288 with 1 Axes>"
      ]
     },
     "metadata": {
      "needs_background": "light"
     },
     "output_type": "display_data"
    }
   ],
   "source": [
    "df.loc[:, 'Age'].plot(kind = 'hist', bins = 50)"
   ]
  },
  {
   "cell_type": "code",
   "execution_count": 23,
   "id": "ffc579c0",
   "metadata": {},
   "outputs": [
    {
     "data": {
      "text/html": [
       "<div>\n",
       "<style scoped>\n",
       "    .dataframe tbody tr th:only-of-type {\n",
       "        vertical-align: middle;\n",
       "    }\n",
       "\n",
       "    .dataframe tbody tr th {\n",
       "        vertical-align: top;\n",
       "    }\n",
       "\n",
       "    .dataframe thead th {\n",
       "        text-align: right;\n",
       "    }\n",
       "</style>\n",
       "<table border=\"1\" class=\"dataframe\">\n",
       "  <thead>\n",
       "    <tr style=\"text-align: right;\">\n",
       "      <th></th>\n",
       "      <th>Survived</th>\n",
       "      <th>Age</th>\n",
       "      <th>Cabin</th>\n",
       "    </tr>\n",
       "  </thead>\n",
       "  <tbody>\n",
       "    <tr>\n",
       "      <th>0</th>\n",
       "      <td>0</td>\n",
       "      <td>22.0</td>\n",
       "      <td>NaN</td>\n",
       "    </tr>\n",
       "    <tr>\n",
       "      <th>1</th>\n",
       "      <td>1</td>\n",
       "      <td>38.0</td>\n",
       "      <td>C85</td>\n",
       "    </tr>\n",
       "    <tr>\n",
       "      <th>2</th>\n",
       "      <td>1</td>\n",
       "      <td>26.0</td>\n",
       "      <td>NaN</td>\n",
       "    </tr>\n",
       "    <tr>\n",
       "      <th>3</th>\n",
       "      <td>1</td>\n",
       "      <td>35.0</td>\n",
       "      <td>C123</td>\n",
       "    </tr>\n",
       "    <tr>\n",
       "      <th>4</th>\n",
       "      <td>0</td>\n",
       "      <td>35.0</td>\n",
       "      <td>NaN</td>\n",
       "    </tr>\n",
       "  </tbody>\n",
       "</table>\n",
       "</div>"
      ],
      "text/plain": [
       "   Survived   Age Cabin\n",
       "0         0  22.0   NaN\n",
       "1         1  38.0   C85\n",
       "2         1  26.0   NaN\n",
       "3         1  35.0  C123\n",
       "4         0  35.0   NaN"
      ]
     },
     "execution_count": 23,
     "metadata": {},
     "output_type": "execute_result"
    }
   ],
   "source": [
    "df.loc[:, 'Age'] = df.loc[:, 'Age'].fillna(100)\n",
    "df.head()"
   ]
  },
  {
   "cell_type": "code",
   "execution_count": 24,
   "id": "edcab870",
   "metadata": {},
   "outputs": [
    {
     "data": {
      "image/png": "[encoded data removed]",
      "text/plain": [
       "<Figure size 432x288 with 1 Axes>"
      ]
     },
     "metadata": {
      "needs_background": "light"
     },
     "output_type": "display_data"
    }
   ],
   "source": [
    "##### Plot the Distribution\n",
    "fig_ = plt.figure()\n",
    "ax_  = fig_.add_subplot(111)\n",
    "df.loc[:, 'Age'].plot(kind = 'kde', ax = ax_)\n",
    "df1.loc[:, 'Age'].plot(kind = 'kde', ax = ax_, color = 'red')\n",
    "lines_, labels_ = ax_.get_legend_handles_labels()\n",
    "ax_.legend(lines_, labels_, loc = 'best')\n",
    "plt.show()"
   ]
  },
  {
   "cell_type": "markdown",
   "id": "b2413104",
   "metadata": {},
   "source": [
    "#### Advantage:\n",
    "1. Easy to implement\n",
    "2. Capturing the importance of missing value\n",
    "\n",
    "#### Disadvantage:\n",
    "1. Distorts the orginal distribution.\n",
    "2. Hard to decide the value, which should be taken"
   ]
  },
  {
   "cell_type": "markdown",
   "id": "d22a5269",
   "metadata": {},
   "source": [
    "#### Most Freqency Value imputation"
   ]
  },
  {
   "cell_type": "code",
   "execution_count": 25,
   "id": "baa7baf8",
   "metadata": {},
   "outputs": [
    {
     "data": {
      "text/html": [
       "<div>\n",
       "<style scoped>\n",
       "    .dataframe tbody tr th:only-of-type {\n",
       "        vertical-align: middle;\n",
       "    }\n",
       "\n",
       "    .dataframe tbody tr th {\n",
       "        vertical-align: top;\n",
       "    }\n",
       "\n",
       "    .dataframe thead th {\n",
       "        text-align: right;\n",
       "    }\n",
       "</style>\n",
       "<table border=\"1\" class=\"dataframe\">\n",
       "  <thead>\n",
       "    <tr style=\"text-align: right;\">\n",
       "      <th></th>\n",
       "      <th>Survived</th>\n",
       "      <th>Age</th>\n",
       "      <th>Cabin</th>\n",
       "    </tr>\n",
       "  </thead>\n",
       "  <tbody>\n",
       "    <tr>\n",
       "      <th>0</th>\n",
       "      <td>0</td>\n",
       "      <td>22.0</td>\n",
       "      <td>NaN</td>\n",
       "    </tr>\n",
       "    <tr>\n",
       "      <th>1</th>\n",
       "      <td>1</td>\n",
       "      <td>38.0</td>\n",
       "      <td>C85</td>\n",
       "    </tr>\n",
       "    <tr>\n",
       "      <th>2</th>\n",
       "      <td>1</td>\n",
       "      <td>26.0</td>\n",
       "      <td>NaN</td>\n",
       "    </tr>\n",
       "    <tr>\n",
       "      <th>3</th>\n",
       "      <td>1</td>\n",
       "      <td>35.0</td>\n",
       "      <td>C123</td>\n",
       "    </tr>\n",
       "    <tr>\n",
       "      <th>4</th>\n",
       "      <td>0</td>\n",
       "      <td>35.0</td>\n",
       "      <td>NaN</td>\n",
       "    </tr>\n",
       "  </tbody>\n",
       "</table>\n",
       "</div>"
      ],
      "text/plain": [
       "   Survived   Age Cabin\n",
       "0         0  22.0   NaN\n",
       "1         1  38.0   C85\n",
       "2         1  26.0   NaN\n",
       "3         1  35.0  C123\n",
       "4         0  35.0   NaN"
      ]
     },
     "execution_count": 25,
     "metadata": {},
     "output_type": "execute_result"
    }
   ],
   "source": [
    "df = pd.read_csv('titanic.csv', usecols = ['Age', 'Cabin', 'Survived'])\n",
    "df1 = pd.read_csv('titanic.csv', usecols = ['Age', 'Cabin', 'Survived'])\n",
    "df.head()"
   ]
  },
  {
   "cell_type": "code",
   "execution_count": 26,
   "id": "38693eba",
   "metadata": {},
   "outputs": [
    {
     "data": {
      "text/plain": [
       "687"
      ]
     },
     "execution_count": 26,
     "metadata": {},
     "output_type": "execute_result"
    }
   ],
   "source": [
    "#### It normally works for the categorical data\n",
    "df.loc[:, 'Cabin'].isnull().sum()"
   ]
  },
  {
   "cell_type": "code",
   "execution_count": 27,
   "id": "d0a9c33f",
   "metadata": {},
   "outputs": [
    {
     "data": {
      "text/plain": [
       "0"
      ]
     },
     "execution_count": 27,
     "metadata": {},
     "output_type": "execute_result"
    }
   ],
   "source": [
    "df.loc[:, 'Cabin'] = df.loc[:, 'Cabin'].value_counts().sort_values(ascending = False).index[0]\n",
    "df.loc[:, 'Cabin'].isnull().sum().sum()"
   ]
  },
  {
   "cell_type": "markdown",
   "id": "3b23fd2f",
   "metadata": {},
   "source": [
    "#### Advantage:\n",
    "1. Easy to implement\n",
    "2. Not inreasing the additinal features - No Curse of Dimensionality\n",
    "\n",
    "#### Disadvtange:\n",
    "1. Distorts the orginal distribution\n",
    "2. This might lead to over representation if NaN values are huge"
   ]
  },
  {
   "cell_type": "markdown",
   "id": "0293c6aa",
   "metadata": {},
   "source": [
    "#### Capturing NaN value with a new feature "
   ]
  },
  {
   "cell_type": "code",
   "execution_count": 28,
   "id": "21e78ce0",
   "metadata": {},
   "outputs": [
    {
     "data": {
      "text/html": [
       "<div>\n",
       "<style scoped>\n",
       "    .dataframe tbody tr th:only-of-type {\n",
       "        vertical-align: middle;\n",
       "    }\n",
       "\n",
       "    .dataframe tbody tr th {\n",
       "        vertical-align: top;\n",
       "    }\n",
       "\n",
       "    .dataframe thead th {\n",
       "        text-align: right;\n",
       "    }\n",
       "</style>\n",
       "<table border=\"1\" class=\"dataframe\">\n",
       "  <thead>\n",
       "    <tr style=\"text-align: right;\">\n",
       "      <th></th>\n",
       "      <th>Survived</th>\n",
       "      <th>Age</th>\n",
       "      <th>Cabin</th>\n",
       "    </tr>\n",
       "  </thead>\n",
       "  <tbody>\n",
       "    <tr>\n",
       "      <th>0</th>\n",
       "      <td>0</td>\n",
       "      <td>22.0</td>\n",
       "      <td>NaN</td>\n",
       "    </tr>\n",
       "    <tr>\n",
       "      <th>1</th>\n",
       "      <td>1</td>\n",
       "      <td>38.0</td>\n",
       "      <td>C85</td>\n",
       "    </tr>\n",
       "    <tr>\n",
       "      <th>2</th>\n",
       "      <td>1</td>\n",
       "      <td>26.0</td>\n",
       "      <td>NaN</td>\n",
       "    </tr>\n",
       "    <tr>\n",
       "      <th>3</th>\n",
       "      <td>1</td>\n",
       "      <td>35.0</td>\n",
       "      <td>C123</td>\n",
       "    </tr>\n",
       "    <tr>\n",
       "      <th>4</th>\n",
       "      <td>0</td>\n",
       "      <td>35.0</td>\n",
       "      <td>NaN</td>\n",
       "    </tr>\n",
       "  </tbody>\n",
       "</table>\n",
       "</div>"
      ],
      "text/plain": [
       "   Survived   Age Cabin\n",
       "0         0  22.0   NaN\n",
       "1         1  38.0   C85\n",
       "2         1  26.0   NaN\n",
       "3         1  35.0  C123\n",
       "4         0  35.0   NaN"
      ]
     },
     "execution_count": 28,
     "metadata": {},
     "output_type": "execute_result"
    }
   ],
   "source": [
    "df = pd.read_csv('titanic.csv', usecols = ['Age', 'Cabin', 'Survived'])\n",
    "df1 = pd.read_csv('titanic.csv', usecols = ['Age', 'Cabin', 'Survived'])\n",
    "df.head()"
   ]
  },
  {
   "cell_type": "code",
   "execution_count": 29,
   "id": "750c3364",
   "metadata": {},
   "outputs": [
    {
     "data": {
      "text/html": [
       "<div>\n",
       "<style scoped>\n",
       "    .dataframe tbody tr th:only-of-type {\n",
       "        vertical-align: middle;\n",
       "    }\n",
       "\n",
       "    .dataframe tbody tr th {\n",
       "        vertical-align: top;\n",
       "    }\n",
       "\n",
       "    .dataframe thead th {\n",
       "        text-align: right;\n",
       "    }\n",
       "</style>\n",
       "<table border=\"1\" class=\"dataframe\">\n",
       "  <thead>\n",
       "    <tr style=\"text-align: right;\">\n",
       "      <th></th>\n",
       "      <th>Survived</th>\n",
       "      <th>Age</th>\n",
       "      <th>Cabin</th>\n",
       "      <th>Capture_NaN_Cabin</th>\n",
       "    </tr>\n",
       "  </thead>\n",
       "  <tbody>\n",
       "    <tr>\n",
       "      <th>0</th>\n",
       "      <td>0</td>\n",
       "      <td>22.0</td>\n",
       "      <td>NaN</td>\n",
       "      <td>1</td>\n",
       "    </tr>\n",
       "    <tr>\n",
       "      <th>1</th>\n",
       "      <td>1</td>\n",
       "      <td>38.0</td>\n",
       "      <td>C85</td>\n",
       "      <td>0</td>\n",
       "    </tr>\n",
       "    <tr>\n",
       "      <th>2</th>\n",
       "      <td>1</td>\n",
       "      <td>26.0</td>\n",
       "      <td>NaN</td>\n",
       "      <td>1</td>\n",
       "    </tr>\n",
       "    <tr>\n",
       "      <th>3</th>\n",
       "      <td>1</td>\n",
       "      <td>35.0</td>\n",
       "      <td>C123</td>\n",
       "      <td>0</td>\n",
       "    </tr>\n",
       "    <tr>\n",
       "      <th>4</th>\n",
       "      <td>0</td>\n",
       "      <td>35.0</td>\n",
       "      <td>NaN</td>\n",
       "      <td>1</td>\n",
       "    </tr>\n",
       "  </tbody>\n",
       "</table>\n",
       "</div>"
      ],
      "text/plain": [
       "   Survived   Age Cabin  Capture_NaN_Cabin\n",
       "0         0  22.0   NaN                  1\n",
       "1         1  38.0   C85                  0\n",
       "2         1  26.0   NaN                  1\n",
       "3         1  35.0  C123                  0\n",
       "4         0  35.0   NaN                  1"
      ]
     },
     "execution_count": 29,
     "metadata": {},
     "output_type": "execute_result"
    }
   ],
   "source": [
    "df.loc[:, 'Capture_NaN_Cabin'] = np.where(df.loc[:, 'Cabin'].isnull(), 1, 0)\n",
    "df.head()"
   ]
  },
  {
   "cell_type": "markdown",
   "id": "009a95b7",
   "metadata": {},
   "source": [
    "#### Advantage:\n",
    "1. Easy to implement\n",
    "2. Capturing the importance of missing Value\n",
    "\n",
    "#### Disadvantage:\n",
    "1. Inreasing the additional feature - Curse of dimensionality"
   ]
  },
  {
   "cell_type": "markdown",
   "id": "d84ba96d",
   "metadata": {},
   "source": [
    "#### New Value for NaN - Example `Missing`"
   ]
  },
  {
   "cell_type": "code",
   "execution_count": 30,
   "id": "978c71c3",
   "metadata": {},
   "outputs": [
    {
     "data": {
      "text/html": [
       "<div>\n",
       "<style scoped>\n",
       "    .dataframe tbody tr th:only-of-type {\n",
       "        vertical-align: middle;\n",
       "    }\n",
       "\n",
       "    .dataframe tbody tr th {\n",
       "        vertical-align: top;\n",
       "    }\n",
       "\n",
       "    .dataframe thead th {\n",
       "        text-align: right;\n",
       "    }\n",
       "</style>\n",
       "<table border=\"1\" class=\"dataframe\">\n",
       "  <thead>\n",
       "    <tr style=\"text-align: right;\">\n",
       "      <th></th>\n",
       "      <th>Survived</th>\n",
       "      <th>Age</th>\n",
       "      <th>Cabin</th>\n",
       "    </tr>\n",
       "  </thead>\n",
       "  <tbody>\n",
       "    <tr>\n",
       "      <th>0</th>\n",
       "      <td>0</td>\n",
       "      <td>22.0</td>\n",
       "      <td>NaN</td>\n",
       "    </tr>\n",
       "    <tr>\n",
       "      <th>1</th>\n",
       "      <td>1</td>\n",
       "      <td>38.0</td>\n",
       "      <td>C85</td>\n",
       "    </tr>\n",
       "    <tr>\n",
       "      <th>2</th>\n",
       "      <td>1</td>\n",
       "      <td>26.0</td>\n",
       "      <td>NaN</td>\n",
       "    </tr>\n",
       "    <tr>\n",
       "      <th>3</th>\n",
       "      <td>1</td>\n",
       "      <td>35.0</td>\n",
       "      <td>C123</td>\n",
       "    </tr>\n",
       "    <tr>\n",
       "      <th>4</th>\n",
       "      <td>0</td>\n",
       "      <td>35.0</td>\n",
       "      <td>NaN</td>\n",
       "    </tr>\n",
       "  </tbody>\n",
       "</table>\n",
       "</div>"
      ],
      "text/plain": [
       "   Survived   Age Cabin\n",
       "0         0  22.0   NaN\n",
       "1         1  38.0   C85\n",
       "2         1  26.0   NaN\n",
       "3         1  35.0  C123\n",
       "4         0  35.0   NaN"
      ]
     },
     "execution_count": 30,
     "metadata": {},
     "output_type": "execute_result"
    }
   ],
   "source": [
    "df = pd.read_csv('titanic.csv', usecols = ['Age', 'Cabin', 'Survived'])\n",
    "df1 = pd.read_csv('titanic.csv', usecols = ['Age', 'Cabin', 'Survived'])\n",
    "df.head()"
   ]
  },
  {
   "cell_type": "code",
   "execution_count": 31,
   "id": "e0526ee5",
   "metadata": {},
   "outputs": [
    {
     "data": {
      "text/plain": [
       "0"
      ]
     },
     "execution_count": 31,
     "metadata": {},
     "output_type": "execute_result"
    }
   ],
   "source": [
    "df.loc[:, 'Cabin'] = df.loc[:, 'Cabin'].fillna('Missing')\n",
    "df.loc[:, 'Cabin'].isnull().sum().sum()"
   ]
  },
  {
   "cell_type": "markdown",
   "id": "3dda814d",
   "metadata": {},
   "source": [
    "#### Advantage:\n",
    "1. Easy to implement\n",
    "2. By using the new name it might capture the importance the missing value"
   ]
  },
  {
   "cell_type": "markdown",
   "id": "4bcd4794",
   "metadata": {},
   "source": [
    "#### One Hot Encoding with top 10 features"
   ]
  },
  {
   "cell_type": "code",
   "execution_count": 32,
   "id": "ddc3104b",
   "metadata": {},
   "outputs": [
    {
     "data": {
      "text/html": [
       "<div>\n",
       "<style scoped>\n",
       "    .dataframe tbody tr th:only-of-type {\n",
       "        vertical-align: middle;\n",
       "    }\n",
       "\n",
       "    .dataframe tbody tr th {\n",
       "        vertical-align: top;\n",
       "    }\n",
       "\n",
       "    .dataframe thead th {\n",
       "        text-align: right;\n",
       "    }\n",
       "</style>\n",
       "<table border=\"1\" class=\"dataframe\">\n",
       "  <thead>\n",
       "    <tr style=\"text-align: right;\">\n",
       "      <th></th>\n",
       "      <th>occupation</th>\n",
       "    </tr>\n",
       "  </thead>\n",
       "  <tbody>\n",
       "    <tr>\n",
       "      <th>0</th>\n",
       "      <td>Machine-op-inspct</td>\n",
       "    </tr>\n",
       "    <tr>\n",
       "      <th>1</th>\n",
       "      <td>Farming-fishing</td>\n",
       "    </tr>\n",
       "    <tr>\n",
       "      <th>2</th>\n",
       "      <td>Protective-serv</td>\n",
       "    </tr>\n",
       "    <tr>\n",
       "      <th>3</th>\n",
       "      <td>Machine-op-inspct</td>\n",
       "    </tr>\n",
       "    <tr>\n",
       "      <th>4</th>\n",
       "      <td>NaN</td>\n",
       "    </tr>\n",
       "  </tbody>\n",
       "</table>\n",
       "</div>"
      ],
      "text/plain": [
       "          occupation\n",
       "0  Machine-op-inspct\n",
       "1    Farming-fishing\n",
       "2    Protective-serv\n",
       "3  Machine-op-inspct\n",
       "4                NaN"
      ]
     },
     "execution_count": 32,
     "metadata": {},
     "output_type": "execute_result"
    }
   ],
   "source": [
    "df = pd.read_csv('adult.csv', na_values = ['?', '??'], usecols = ['occupation'])\n",
    "df.head()"
   ]
  },
  {
   "cell_type": "code",
   "execution_count": 33,
   "id": "7e820146",
   "metadata": {},
   "outputs": [
    {
     "data": {
      "text/plain": [
       "14"
      ]
     },
     "execution_count": 33,
     "metadata": {},
     "output_type": "execute_result"
    }
   ],
   "source": [
    "#### One Hot Encoding with top 10 features\n",
    "df.loc[:, 'occupation'].nunique()"
   ]
  },
  {
   "cell_type": "code",
   "execution_count": 34,
   "id": "9a9075e1",
   "metadata": {},
   "outputs": [
    {
     "name": "stdout",
     "output_type": "stream",
     "text": [
      "Prof-specialty || Craft-repair || Exec-managerial || Adm-clerical || Sales || Other-service || Machine-op-inspct || Transport-moving || Handlers-cleaners || Farming-fishing || "
     ]
    }
   ],
   "source": [
    "#### Taking top 10 categories from the dataset\n",
    "top_ten_ = list(df.loc[:, 'occupation'].value_counts(ascending = False).head(10).index)\n",
    "for top_ in top_ten_:\n",
    "    print(top_, end = \" || \")"
   ]
  },
  {
   "cell_type": "code",
   "execution_count": 35,
   "id": "11854821",
   "metadata": {},
   "outputs": [
    {
     "name": "stdout",
     "output_type": "stream",
     "text": [
      "Done !\n"
     ]
    }
   ],
   "source": [
    "for index_, category_value_ in enumerate(df.loc[:, 'occupation']):\n",
    "    if category_value_ in top_ten_:\n",
    "        pass\n",
    "    else:\n",
    "        df.loc[index_, 'occupation'] = 'unknown'\n",
    "print(\"Done !\")"
   ]
  },
  {
   "cell_type": "code",
   "execution_count": 36,
   "id": "c6689e15",
   "metadata": {},
   "outputs": [
    {
     "data": {
      "text/plain": [
       "11"
      ]
     },
     "execution_count": 36,
     "metadata": {},
     "output_type": "execute_result"
    }
   ],
   "source": [
    "df.loc[:, 'occupation'].nunique()"
   ]
  },
  {
   "cell_type": "code",
   "execution_count": 38,
   "id": "88a56906",
   "metadata": {},
   "outputs": [
    {
     "data": {
      "text/html": [
       "<div>\n",
       "<style scoped>\n",
       "    .dataframe tbody tr th:only-of-type {\n",
       "        vertical-align: middle;\n",
       "    }\n",
       "\n",
       "    .dataframe tbody tr th {\n",
       "        vertical-align: top;\n",
       "    }\n",
       "\n",
       "    .dataframe thead th {\n",
       "        text-align: right;\n",
       "    }\n",
       "</style>\n",
       "<table border=\"1\" class=\"dataframe\">\n",
       "  <thead>\n",
       "    <tr style=\"text-align: right;\">\n",
       "      <th></th>\n",
       "      <th>occupation_Craft-repair</th>\n",
       "      <th>occupation_Exec-managerial</th>\n",
       "      <th>occupation_Farming-fishing</th>\n",
       "      <th>occupation_Handlers-cleaners</th>\n",
       "      <th>occupation_Machine-op-inspct</th>\n",
       "      <th>occupation_Other-service</th>\n",
       "      <th>occupation_Prof-specialty</th>\n",
       "      <th>occupation_Sales</th>\n",
       "      <th>occupation_Transport-moving</th>\n",
       "      <th>occupation_unknown</th>\n",
       "    </tr>\n",
       "  </thead>\n",
       "  <tbody>\n",
       "    <tr>\n",
       "      <th>0</th>\n",
       "      <td>0</td>\n",
       "      <td>0</td>\n",
       "      <td>0</td>\n",
       "      <td>0</td>\n",
       "      <td>1</td>\n",
       "      <td>0</td>\n",
       "      <td>0</td>\n",
       "      <td>0</td>\n",
       "      <td>0</td>\n",
       "      <td>0</td>\n",
       "    </tr>\n",
       "    <tr>\n",
       "      <th>1</th>\n",
       "      <td>0</td>\n",
       "      <td>0</td>\n",
       "      <td>1</td>\n",
       "      <td>0</td>\n",
       "      <td>0</td>\n",
       "      <td>0</td>\n",
       "      <td>0</td>\n",
       "      <td>0</td>\n",
       "      <td>0</td>\n",
       "      <td>0</td>\n",
       "    </tr>\n",
       "    <tr>\n",
       "      <th>2</th>\n",
       "      <td>0</td>\n",
       "      <td>0</td>\n",
       "      <td>0</td>\n",
       "      <td>0</td>\n",
       "      <td>0</td>\n",
       "      <td>0</td>\n",
       "      <td>0</td>\n",
       "      <td>0</td>\n",
       "      <td>0</td>\n",
       "      <td>1</td>\n",
       "    </tr>\n",
       "    <tr>\n",
       "      <th>3</th>\n",
       "      <td>0</td>\n",
       "      <td>0</td>\n",
       "      <td>0</td>\n",
       "      <td>0</td>\n",
       "      <td>1</td>\n",
       "      <td>0</td>\n",
       "      <td>0</td>\n",
       "      <td>0</td>\n",
       "      <td>0</td>\n",
       "      <td>0</td>\n",
       "    </tr>\n",
       "    <tr>\n",
       "      <th>4</th>\n",
       "      <td>0</td>\n",
       "      <td>0</td>\n",
       "      <td>0</td>\n",
       "      <td>0</td>\n",
       "      <td>0</td>\n",
       "      <td>0</td>\n",
       "      <td>0</td>\n",
       "      <td>0</td>\n",
       "      <td>0</td>\n",
       "      <td>1</td>\n",
       "    </tr>\n",
       "    <tr>\n",
       "      <th>...</th>\n",
       "      <td>...</td>\n",
       "      <td>...</td>\n",
       "      <td>...</td>\n",
       "      <td>...</td>\n",
       "      <td>...</td>\n",
       "      <td>...</td>\n",
       "      <td>...</td>\n",
       "      <td>...</td>\n",
       "      <td>...</td>\n",
       "      <td>...</td>\n",
       "    </tr>\n",
       "    <tr>\n",
       "      <th>48837</th>\n",
       "      <td>0</td>\n",
       "      <td>0</td>\n",
       "      <td>0</td>\n",
       "      <td>0</td>\n",
       "      <td>0</td>\n",
       "      <td>0</td>\n",
       "      <td>0</td>\n",
       "      <td>0</td>\n",
       "      <td>0</td>\n",
       "      <td>1</td>\n",
       "    </tr>\n",
       "    <tr>\n",
       "      <th>48838</th>\n",
       "      <td>0</td>\n",
       "      <td>0</td>\n",
       "      <td>0</td>\n",
       "      <td>0</td>\n",
       "      <td>1</td>\n",
       "      <td>0</td>\n",
       "      <td>0</td>\n",
       "      <td>0</td>\n",
       "      <td>0</td>\n",
       "      <td>0</td>\n",
       "    </tr>\n",
       "    <tr>\n",
       "      <th>48839</th>\n",
       "      <td>0</td>\n",
       "      <td>0</td>\n",
       "      <td>0</td>\n",
       "      <td>0</td>\n",
       "      <td>0</td>\n",
       "      <td>0</td>\n",
       "      <td>0</td>\n",
       "      <td>0</td>\n",
       "      <td>0</td>\n",
       "      <td>0</td>\n",
       "    </tr>\n",
       "    <tr>\n",
       "      <th>48840</th>\n",
       "      <td>0</td>\n",
       "      <td>0</td>\n",
       "      <td>0</td>\n",
       "      <td>0</td>\n",
       "      <td>0</td>\n",
       "      <td>0</td>\n",
       "      <td>0</td>\n",
       "      <td>0</td>\n",
       "      <td>0</td>\n",
       "      <td>0</td>\n",
       "    </tr>\n",
       "    <tr>\n",
       "      <th>48841</th>\n",
       "      <td>0</td>\n",
       "      <td>1</td>\n",
       "      <td>0</td>\n",
       "      <td>0</td>\n",
       "      <td>0</td>\n",
       "      <td>0</td>\n",
       "      <td>0</td>\n",
       "      <td>0</td>\n",
       "      <td>0</td>\n",
       "      <td>0</td>\n",
       "    </tr>\n",
       "  </tbody>\n",
       "</table>\n",
       "<p>48842 rows × 10 columns</p>\n",
       "</div>"
      ],
      "text/plain": [
       "       occupation_Craft-repair  occupation_Exec-managerial  \\\n",
       "0                            0                           0   \n",
       "1                            0                           0   \n",
       "2                            0                           0   \n",
       "3                            0                           0   \n",
       "4                            0                           0   \n",
       "...                        ...                         ...   \n",
       "48837                        0                           0   \n",
       "48838                        0                           0   \n",
       "48839                        0                           0   \n",
       "48840                        0                           0   \n",
       "48841                        0                           1   \n",
       "\n",
       "       occupation_Farming-fishing  occupation_Handlers-cleaners  \\\n",
       "0                               0                             0   \n",
       "1                               1                             0   \n",
       "2                               0                             0   \n",
       "3                               0                             0   \n",
       "4                               0                             0   \n",
       "...                           ...                           ...   \n",
       "48837                           0                             0   \n",
       "48838                           0                             0   \n",
       "48839                           0                             0   \n",
       "48840                           0                             0   \n",
       "48841                           0                             0   \n",
       "\n",
       "       occupation_Machine-op-inspct  occupation_Other-service  \\\n",
       "0                                 1                         0   \n",
       "1                                 0                         0   \n",
       "2                                 0                         0   \n",
       "3                                 1                         0   \n",
       "4                                 0                         0   \n",
       "...                             ...                       ...   \n",
       "48837                             0                         0   \n",
       "48838                             1                         0   \n",
       "48839                             0                         0   \n",
       "48840                             0                         0   \n",
       "48841                             0                         0   \n",
       "\n",
       "       occupation_Prof-specialty  occupation_Sales  \\\n",
       "0                              0                 0   \n",
       "1                              0                 0   \n",
       "2                              0                 0   \n",
       "3                              0                 0   \n",
       "4                              0                 0   \n",
       "...                          ...               ...   \n",
       "48837                          0                 0   \n",
       "48838                          0                 0   \n",
       "48839                          0                 0   \n",
       "48840                          0                 0   \n",
       "48841                          0                 0   \n",
       "\n",
       "       occupation_Transport-moving  occupation_unknown  \n",
       "0                                0                   0  \n",
       "1                                0                   0  \n",
       "2                                0                   1  \n",
       "3                                0                   0  \n",
       "4                                0                   1  \n",
       "...                            ...                 ...  \n",
       "48837                            0                   1  \n",
       "48838                            0                   0  \n",
       "48839                            0                   0  \n",
       "48840                            0                   0  \n",
       "48841                            0                   0  \n",
       "\n",
       "[48842 rows x 10 columns]"
      ]
     },
     "execution_count": 38,
     "metadata": {},
     "output_type": "execute_result"
    }
   ],
   "source": [
    "#### Now One Hot Encoding \n",
    "pd.get_dummies(df, columns = ['occupation'], drop_first = True)"
   ]
  },
  {
   "cell_type": "markdown",
   "id": "ee79dac4",
   "metadata": {},
   "source": [
    "#### Advantage:\n",
    "1. Easy to implement - Popular\n",
    "2. Not increasing a high number of features using this technique\n",
    "\n",
    "#### Disadvantage:\n",
    "1. It might have Curse of Dimensionality\n",
    "2. Sparse Matrix "
   ]
  }
 ],
 "metadata": {
  "kernelspec": {
   "display_name": "Python 3 (ipykernel)",
   "language": "python",
   "name": "python3"
  },
  "language_info": {
   "codemirror_mode": {
    "name": "ipython",
    "version": 3
   },
   "file_extension": ".py",
   "mimetype": "text/x-python",
   "name": "python",
   "nbconvert_exporter": "python",
   "pygments_lexer": "ipython3",
   "version": "3.9.12"
  }
 },
 "nbformat": 4,
 "nbformat_minor": 5
}

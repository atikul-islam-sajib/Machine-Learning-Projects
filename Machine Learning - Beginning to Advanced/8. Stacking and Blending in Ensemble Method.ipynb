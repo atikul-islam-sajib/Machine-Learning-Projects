{
 "cells": [
  {
   "cell_type": "markdown",
   "id": "8fdc017e",
   "metadata": {},
   "source": [
    "## Approach we should be followed:\n",
    "1. Blending - Hold Out Method\n",
    "2. K fold Approach - Stacking Method"
   ]
  },
  {
   "cell_type": "code",
   "execution_count": 1,
   "id": "2a8108f6",
   "metadata": {},
   "outputs": [],
   "source": [
    "######## import the necessary functions #########\n",
    "import numpy as np\n",
    "import pandas as pd\n",
    "from sklearn.model_selection import train_test_split, KFold, StratifiedKFold\n",
    "from sklearn.preprocessing import StandardScaler, MinMaxScaler\n",
    "from sklearn.metrics import accuracy_score, recall_score, precision_score, f1_score\n",
    "from sklearn.linear_model import LinearRegression, LogisticRegression\n",
    "from sklearn.tree import DecisionTreeClassifier\n",
    "from sklearn.ensemble import RandomForestClassifier, AdaBoostClassifier, GradientBoostingClassifier, BaggingClassifier\n",
    "from xgboost import XGBClassifier"
   ]
  },
  {
   "cell_type": "code",
   "execution_count": 2,
   "id": "ff4aaece",
   "metadata": {},
   "outputs": [],
   "source": [
    "#### Warning Remove\n",
    "import sys\n",
    "\n",
    "if not sys.warnoptions:\n",
    "    import warnings\n",
    "    warnings.simplefilter(\"ignore\")"
   ]
  },
  {
   "cell_type": "code",
   "execution_count": 3,
   "id": "ad6d3d71",
   "metadata": {},
   "outputs": [
    {
     "data": {
      "text/html": [
       "<div>\n",
       "<style scoped>\n",
       "    .dataframe tbody tr th:only-of-type {\n",
       "        vertical-align: middle;\n",
       "    }\n",
       "\n",
       "    .dataframe tbody tr th {\n",
       "        vertical-align: top;\n",
       "    }\n",
       "\n",
       "    .dataframe thead th {\n",
       "        text-align: right;\n",
       "    }\n",
       "</style>\n",
       "<table border=\"1\" class=\"dataframe\">\n",
       "  <thead>\n",
       "    <tr style=\"text-align: right;\">\n",
       "      <th></th>\n",
       "      <th>cgpa</th>\n",
       "      <th>placement_exam_marks</th>\n",
       "      <th>placed</th>\n",
       "    </tr>\n",
       "  </thead>\n",
       "  <tbody>\n",
       "    <tr>\n",
       "      <th>0</th>\n",
       "      <td>7.19</td>\n",
       "      <td>26.0</td>\n",
       "      <td>1</td>\n",
       "    </tr>\n",
       "    <tr>\n",
       "      <th>1</th>\n",
       "      <td>7.46</td>\n",
       "      <td>38.0</td>\n",
       "      <td>1</td>\n",
       "    </tr>\n",
       "    <tr>\n",
       "      <th>2</th>\n",
       "      <td>7.54</td>\n",
       "      <td>40.0</td>\n",
       "      <td>1</td>\n",
       "    </tr>\n",
       "    <tr>\n",
       "      <th>3</th>\n",
       "      <td>6.42</td>\n",
       "      <td>8.0</td>\n",
       "      <td>1</td>\n",
       "    </tr>\n",
       "    <tr>\n",
       "      <th>4</th>\n",
       "      <td>7.23</td>\n",
       "      <td>17.0</td>\n",
       "      <td>0</td>\n",
       "    </tr>\n",
       "  </tbody>\n",
       "</table>\n",
       "</div>"
      ],
      "text/plain": [
       "   cgpa  placement_exam_marks  placed\n",
       "0  7.19                  26.0       1\n",
       "1  7.46                  38.0       1\n",
       "2  7.54                  40.0       1\n",
       "3  6.42                   8.0       1\n",
       "4  7.23                  17.0       0"
      ]
     },
     "execution_count": 3,
     "metadata": {},
     "output_type": "execute_result"
    }
   ],
   "source": [
    "###### import the dataset #######\n",
    "df = pd.read_csv('placement.csv')\n",
    "df.head()"
   ]
  },
  {
   "cell_type": "code",
   "execution_count": 4,
   "id": "4d3a7948",
   "metadata": {},
   "outputs": [
    {
     "data": {
      "text/plain": [
       "0"
      ]
     },
     "execution_count": 4,
     "metadata": {},
     "output_type": "execute_result"
    }
   ],
   "source": [
    "##### check null value present or not ######\n",
    "df.isnull().sum().sum()"
   ]
  },
  {
   "cell_type": "code",
   "execution_count": 5,
   "id": "eeb43149",
   "metadata": {},
   "outputs": [],
   "source": [
    "y = df.iloc[:, -1]"
   ]
  },
  {
   "cell_type": "code",
   "execution_count": 6,
   "id": "237e2439",
   "metadata": {},
   "outputs": [
    {
     "data": {
      "text/html": [
       "<div>\n",
       "<style scoped>\n",
       "    .dataframe tbody tr th:only-of-type {\n",
       "        vertical-align: middle;\n",
       "    }\n",
       "\n",
       "    .dataframe tbody tr th {\n",
       "        vertical-align: top;\n",
       "    }\n",
       "\n",
       "    .dataframe thead th {\n",
       "        text-align: right;\n",
       "    }\n",
       "</style>\n",
       "<table border=\"1\" class=\"dataframe\">\n",
       "  <thead>\n",
       "    <tr style=\"text-align: right;\">\n",
       "      <th></th>\n",
       "      <th>cgpa</th>\n",
       "      <th>placement_exam_marks</th>\n",
       "    </tr>\n",
       "  </thead>\n",
       "  <tbody>\n",
       "    <tr>\n",
       "      <th>0</th>\n",
       "      <td>0.371611</td>\n",
       "      <td>-0.325554</td>\n",
       "    </tr>\n",
       "    <tr>\n",
       "      <th>1</th>\n",
       "      <td>0.810215</td>\n",
       "      <td>0.302020</td>\n",
       "    </tr>\n",
       "    <tr>\n",
       "      <th>2</th>\n",
       "      <td>0.940171</td>\n",
       "      <td>0.406616</td>\n",
       "    </tr>\n",
       "    <tr>\n",
       "      <th>3</th>\n",
       "      <td>-0.879222</td>\n",
       "      <td>-1.266915</td>\n",
       "    </tr>\n",
       "    <tr>\n",
       "      <th>4</th>\n",
       "      <td>0.436589</td>\n",
       "      <td>-0.796234</td>\n",
       "    </tr>\n",
       "  </tbody>\n",
       "</table>\n",
       "</div>"
      ],
      "text/plain": [
       "       cgpa  placement_exam_marks\n",
       "0  0.371611             -0.325554\n",
       "1  0.810215              0.302020\n",
       "2  0.940171              0.406616\n",
       "3 -0.879222             -1.266915\n",
       "4  0.436589             -0.796234"
      ]
     },
     "execution_count": 6,
     "metadata": {},
     "output_type": "execute_result"
    }
   ],
   "source": [
    "###### Scaling the data using MinMax #######\n",
    "scaler_ = StandardScaler()\n",
    "df = pd.DataFrame(scaler_.fit_transform(df.iloc[:, :-1]), columns = df.columns[:-1])\n",
    "df.head()"
   ]
  },
  {
   "cell_type": "code",
   "execution_count": 7,
   "id": "5c197eb2",
   "metadata": {},
   "outputs": [
    {
     "data": {
      "text/html": [
       "<div>\n",
       "<style scoped>\n",
       "    .dataframe tbody tr th:only-of-type {\n",
       "        vertical-align: middle;\n",
       "    }\n",
       "\n",
       "    .dataframe tbody tr th {\n",
       "        vertical-align: top;\n",
       "    }\n",
       "\n",
       "    .dataframe thead th {\n",
       "        text-align: right;\n",
       "    }\n",
       "</style>\n",
       "<table border=\"1\" class=\"dataframe\">\n",
       "  <thead>\n",
       "    <tr style=\"text-align: right;\">\n",
       "      <th></th>\n",
       "      <th>cgpa</th>\n",
       "      <th>placement_exam_marks</th>\n",
       "      <th>placed</th>\n",
       "    </tr>\n",
       "  </thead>\n",
       "  <tbody>\n",
       "    <tr>\n",
       "      <th>0</th>\n",
       "      <td>0.371611</td>\n",
       "      <td>-0.325554</td>\n",
       "      <td>1</td>\n",
       "    </tr>\n",
       "    <tr>\n",
       "      <th>1</th>\n",
       "      <td>0.810215</td>\n",
       "      <td>0.302020</td>\n",
       "      <td>1</td>\n",
       "    </tr>\n",
       "    <tr>\n",
       "      <th>2</th>\n",
       "      <td>0.940171</td>\n",
       "      <td>0.406616</td>\n",
       "      <td>1</td>\n",
       "    </tr>\n",
       "    <tr>\n",
       "      <th>3</th>\n",
       "      <td>-0.879222</td>\n",
       "      <td>-1.266915</td>\n",
       "      <td>1</td>\n",
       "    </tr>\n",
       "    <tr>\n",
       "      <th>4</th>\n",
       "      <td>0.436589</td>\n",
       "      <td>-0.796234</td>\n",
       "      <td>0</td>\n",
       "    </tr>\n",
       "  </tbody>\n",
       "</table>\n",
       "</div>"
      ],
      "text/plain": [
       "       cgpa  placement_exam_marks  placed\n",
       "0  0.371611             -0.325554       1\n",
       "1  0.810215              0.302020       1\n",
       "2  0.940171              0.406616       1\n",
       "3 -0.879222             -1.266915       1\n",
       "4  0.436589             -0.796234       0"
      ]
     },
     "execution_count": 7,
     "metadata": {},
     "output_type": "execute_result"
    }
   ],
   "source": [
    "df = pd.concat([df, y], axis = 1)\n",
    "df.head()"
   ]
  },
  {
   "cell_type": "code",
   "execution_count": 8,
   "id": "3818eab0",
   "metadata": {},
   "outputs": [
    {
     "data": {
      "text/plain": [
       "<AxesSubplot:xlabel='cgpa', ylabel='Density'>"
      ]
     },
     "execution_count": 8,
     "metadata": {},
     "output_type": "execute_result"
    },
    {
     "data": {
      "image/png": "[encoded data removed]",
      "text/plain": [
       "<Figure size 432x288 with 1 Axes>"
      ]
     },
     "metadata": {
      "needs_background": "light"
     },
     "output_type": "display_data"
    }
   ],
   "source": [
    "##### Find the outliers has or not ######\n",
    "import seaborn as sns \n",
    "sns.distplot(df.loc[:, 'cgpa'])"
   ]
  },
  {
   "cell_type": "code",
   "execution_count": 9,
   "id": "0e4e5a07",
   "metadata": {},
   "outputs": [
    {
     "data": {
      "text/plain": [
       "<AxesSubplot:xlabel='cgpa'>"
      ]
     },
     "execution_count": 9,
     "metadata": {},
     "output_type": "execute_result"
    },
    {
     "data": {
      "image/png": "[encoded data removed]",
      "text/plain": [
       "<Figure size 432x288 with 1 Axes>"
      ]
     },
     "metadata": {
      "needs_background": "light"
     },
     "output_type": "display_data"
    }
   ],
   "source": [
    "sns.boxplot(df.loc[:, 'cgpa'])"
   ]
  },
  {
   "cell_type": "code",
   "execution_count": 10,
   "id": "bba26353",
   "metadata": {},
   "outputs": [
    {
     "name": "stdout",
     "output_type": "stream",
     "text": [
      "Done \n",
      "\n"
     ]
    },
    {
     "data": {
      "text/plain": [
       "<AxesSubplot:xlabel='cgpa'>"
      ]
     },
     "execution_count": 10,
     "metadata": {},
     "output_type": "execute_result"
    },
    {
     "data": {
      "image/png": "[encoded data removed]",
      "text/plain": [
       "<Figure size 432x288 with 1 Axes>"
      ]
     },
     "metadata": {
      "needs_background": "light"
     },
     "output_type": "display_data"
    }
   ],
   "source": [
    "##### It's a normal distribution ######\n",
    "upper_limit_ = df.loc[:, 'cgpa'].mean() + 3*df.loc[:, 'cgpa'].std()\n",
    "lower_limit_ = df.loc[:, 'cgpa'].mean() - 3*df.loc[:, 'cgpa'].std()\n",
    "\n",
    "##### Capping used to remove outliers ######\n",
    "df.loc[:, 'cgpa'] = np.where(df.loc[:, 'cgpa'] > upper_limit_,\n",
    "        upper_limit_,\n",
    "        np.where(df.loc[:, 'cgpa'] < lower_limit_,\n",
    "                lower_limit_,\n",
    "                df.loc[:, 'cgpa']))\n",
    "print(\"Done \\n\")\n",
    "\n",
    "sns.boxplot(df.loc[:, 'cgpa'])"
   ]
  },
  {
   "cell_type": "code",
   "execution_count": 11,
   "id": "aec8094a",
   "metadata": {},
   "outputs": [
    {
     "data": {
      "text/plain": [
       "<AxesSubplot:xlabel='placement_exam_marks', ylabel='Density'>"
      ]
     },
     "execution_count": 11,
     "metadata": {},
     "output_type": "execute_result"
    },
    {
     "data": {
      "image/png": "[encoded data removed]",
      "text/plain": [
       "<Figure size 432x288 with 1 Axes>"
      ]
     },
     "metadata": {
      "needs_background": "light"
     },
     "output_type": "display_data"
    }
   ],
   "source": [
    "sns.distplot(df.loc[:, 'placement_exam_marks'])"
   ]
  },
  {
   "cell_type": "code",
   "execution_count": 12,
   "id": "11c3e3bf",
   "metadata": {},
   "outputs": [
    {
     "data": {
      "text/plain": [
       "<AxesSubplot:xlabel='placement_exam_marks'>"
      ]
     },
     "execution_count": 12,
     "metadata": {},
     "output_type": "execute_result"
    },
    {
     "data": {
      "image/png": "[encoded data removed]",
      "text/plain": [
       "<Figure size 432x288 with 1 Axes>"
      ]
     },
     "metadata": {
      "needs_background": "light"
     },
     "output_type": "display_data"
    }
   ],
   "source": [
    "sns.boxplot(df.loc[:, 'placement_exam_marks'])"
   ]
  },
  {
   "cell_type": "code",
   "execution_count": 13,
   "id": "5c1b4254",
   "metadata": {},
   "outputs": [
    {
     "name": "stdout",
     "output_type": "stream",
     "text": [
      "Done\n"
     ]
    },
    {
     "data": {
      "text/plain": [
       "<AxesSubplot:xlabel='placement_exam_marks'>"
      ]
     },
     "execution_count": 13,
     "metadata": {},
     "output_type": "execute_result"
    },
    {
     "data": {
      "image/png": "[encoded data removed]",
      "text/plain": [
       "<Figure size 432x288 with 1 Axes>"
      ]
     },
     "metadata": {
      "needs_background": "light"
     },
     "output_type": "display_data"
    }
   ],
   "source": [
    "percentile_25 = df.loc[:, 'placement_exam_marks'].quantile(0.25)\n",
    "percentile_75 = df.loc[:, 'placement_exam_marks'].quantile(0.75)\n",
    "\n",
    "##### calculate IQR\n",
    "IQR = percentile_75 - percentile_25\n",
    "\n",
    "#### calculate upper and lower limit\n",
    "upper_limit_ = percentile_75 + 1.5 * IQR\n",
    "lower_limit_ = percentile_25 - 1.5 * IQR\n",
    "\n",
    "#### capping\n",
    "\n",
    "df.loc[:, 'placement_exam_marks'] = np.where(df.loc[:, 'placement_exam_marks'] > upper_limit_,\n",
    "        upper_limit_,\n",
    "        np.where(df.loc[:, 'placement_exam_marks'] < lower_limit_,\n",
    "                lower_limit_,\n",
    "                df.loc[:, 'placement_exam_marks']))\n",
    "\n",
    "print(\"Done\")\n",
    "\n",
    "sns.boxplot(df.loc[:, 'placement_exam_marks'])"
   ]
  },
  {
   "cell_type": "code",
   "execution_count": 14,
   "id": "59fc28c3",
   "metadata": {},
   "outputs": [
    {
     "data": {
      "text/html": [
       "<div>\n",
       "<style scoped>\n",
       "    .dataframe tbody tr th:only-of-type {\n",
       "        vertical-align: middle;\n",
       "    }\n",
       "\n",
       "    .dataframe tbody tr th {\n",
       "        vertical-align: top;\n",
       "    }\n",
       "\n",
       "    .dataframe thead th {\n",
       "        text-align: right;\n",
       "    }\n",
       "</style>\n",
       "<table border=\"1\" class=\"dataframe\">\n",
       "  <thead>\n",
       "    <tr style=\"text-align: right;\">\n",
       "      <th></th>\n",
       "      <th>cgpa</th>\n",
       "      <th>placement_exam_marks</th>\n",
       "      <th>placed</th>\n",
       "    </tr>\n",
       "  </thead>\n",
       "  <tbody>\n",
       "    <tr>\n",
       "      <th>0</th>\n",
       "      <td>0.371611</td>\n",
       "      <td>-0.325554</td>\n",
       "      <td>1</td>\n",
       "    </tr>\n",
       "    <tr>\n",
       "      <th>1</th>\n",
       "      <td>0.810215</td>\n",
       "      <td>0.302020</td>\n",
       "      <td>1</td>\n",
       "    </tr>\n",
       "    <tr>\n",
       "      <th>2</th>\n",
       "      <td>0.940171</td>\n",
       "      <td>0.406616</td>\n",
       "      <td>1</td>\n",
       "    </tr>\n",
       "    <tr>\n",
       "      <th>3</th>\n",
       "      <td>-0.879222</td>\n",
       "      <td>-1.266915</td>\n",
       "      <td>1</td>\n",
       "    </tr>\n",
       "    <tr>\n",
       "      <th>4</th>\n",
       "      <td>0.436589</td>\n",
       "      <td>-0.796234</td>\n",
       "      <td>0</td>\n",
       "    </tr>\n",
       "  </tbody>\n",
       "</table>\n",
       "</div>"
      ],
      "text/plain": [
       "       cgpa  placement_exam_marks  placed\n",
       "0  0.371611             -0.325554       1\n",
       "1  0.810215              0.302020       1\n",
       "2  0.940171              0.406616       1\n",
       "3 -0.879222             -1.266915       1\n",
       "4  0.436589             -0.796234       0"
      ]
     },
     "execution_count": 14,
     "metadata": {},
     "output_type": "execute_result"
    }
   ],
   "source": [
    "df.head()"
   ]
  },
  {
   "cell_type": "code",
   "execution_count": 15,
   "id": "b7176735",
   "metadata": {},
   "outputs": [
    {
     "data": {
      "text/plain": [
       "0    511\n",
       "1    489\n",
       "Name: placed, dtype: int64"
      ]
     },
     "execution_count": 15,
     "metadata": {},
     "output_type": "execute_result"
    }
   ],
   "source": [
    "##### Value counts\n",
    "df.iloc[:, -1].value_counts()"
   ]
  },
  {
   "cell_type": "code",
   "execution_count": 16,
   "id": "21c825ba",
   "metadata": {},
   "outputs": [],
   "source": [
    "###### Split the dataset into X and y #######\n",
    "X = df.iloc[:, :-1].values\n",
    "y = df.iloc[:, -1].values\n",
    "\n",
    "##### train and test\n",
    "X_train, X_test, y_train, y_test = train_test_split(X, y, test_size = 0.30, random_state = 42)"
   ]
  },
  {
   "cell_type": "code",
   "execution_count": 17,
   "id": "db9b9cb9",
   "metadata": {},
   "outputs": [
    {
     "name": "stdout",
     "output_type": "stream",
     "text": [
      "accuracy is =  0.5\n",
      "precision is =  0.4965034965034965\n",
      "recall is =  0.47651006711409394\n",
      "f1 score is =  0.48630136986301364\n"
     ]
    }
   ],
   "source": [
    "##### Stacking and Blending Classifier ######\n",
    "from sklearn.ensemble import StackingClassifier\n",
    "\n",
    "##### Define estimators ######\n",
    "estimators_ = [\n",
    "    ('random_forest', RandomForestClassifier(n_estimators=10)),\n",
    "    ('gradient_boost', GradientBoostingClassifier()),\n",
    "    ('adaboost', AdaBoostClassifier())\n",
    "]\n",
    "\n",
    "#### call the StackingClassifier ####\n",
    "stackingClassifier_ = StackingClassifier(estimators = estimators_, final_estimator = XGBClassifier(), cv = 5)\n",
    "stackingClassifier_.fit(X_train, y_train)\n",
    "predicted_ = stackingClassifier_.predict(X_test)\n",
    "print(\"accuracy is = \", accuracy_score(predicted_, y_test))\n",
    "print(\"precision is = \", precision_score(predicted_, y_test))\n",
    "print(\"recall is = \", recall_score(predicted_, y_test))\n",
    "print(\"f1 score is = \", f1_score(predicted_, y_test))"
   ]
  },
  {
   "cell_type": "code",
   "execution_count": 18,
   "id": "a046153f",
   "metadata": {},
   "outputs": [
    {
     "name": "stdout",
     "output_type": "stream",
     "text": [
      "accuracy is =  0.5233333333333333\n",
      "precision is =  0.5594405594405595\n",
      "recall is =  0.5\n",
      "f1 score is =  0.528052805280528\n"
     ]
    }
   ],
   "source": [
    "logistic_ = XGBClassifier()\n",
    "logistic_.fit(X_train, y_train)\n",
    "predicted_ = logistic_.predict(X_test)\n",
    "print(\"accuracy is = \", accuracy_score(predicted_, y_test))\n",
    "print(\"precision is = \", precision_score(predicted_, y_test))\n",
    "print(\"recall is = \", recall_score(predicted_, y_test))\n",
    "print(\"f1 score is = \", f1_score(predicted_, y_test))"
   ]
  },
  {
   "cell_type": "code",
   "execution_count": 19,
   "id": "1c62ba31",
   "metadata": {},
   "outputs": [
    {
     "name": "stdout",
     "output_type": "stream",
     "text": [
      "accuracy is =  0.5533333333333333\n",
      "precision is =  0.5174825174825175\n",
      "recall is =  0.5323741007194245\n",
      "f1 score is =  0.5248226950354611\n"
     ]
    }
   ],
   "source": [
    "from sklearn.svm import SVC\n",
    "\n",
    "logistic_ = SVC(kernel='sigmoid', degree=10)\n",
    "logistic_.fit(X_train, y_train)\n",
    "predicted_ = logistic_.predict(X_test)\n",
    "print(\"accuracy is = \", accuracy_score(predicted_, y_test))\n",
    "print(\"precision is = \", precision_score(predicted_, y_test))\n",
    "print(\"recall is = \", recall_score(predicted_, y_test))\n",
    "print(\"f1 score is = \", f1_score(predicted_, y_test))"
   ]
  },
  {
   "cell_type": "code",
   "execution_count": 20,
   "id": "392abc39",
   "metadata": {},
   "outputs": [
    {
     "name": "stdout",
     "output_type": "stream",
     "text": [
      "accuracy is =  0.5333333333333333\n",
      "precision is =  0.5664335664335665\n",
      "recall is =  0.5094339622641509\n",
      "f1 score is =  0.5364238410596027\n"
     ]
    }
   ],
   "source": [
    "from sklearn.neighbors import KNeighborsClassifier\n",
    "\n",
    "logistic_ = KNeighborsClassifier()\n",
    "logistic_.fit(X_train, y_train)\n",
    "predicted_ = logistic_.predict(X_test)\n",
    "print(\"accuracy is = \", accuracy_score(predicted_, y_test))\n",
    "print(\"precision is = \", precision_score(predicted_, y_test))\n",
    "print(\"recall is = \", recall_score(predicted_, y_test))\n",
    "print(\"f1 score is = \", f1_score(predicted_, y_test))"
   ]
  },
  {
   "cell_type": "code",
   "execution_count": 21,
   "id": "398fc17b",
   "metadata": {},
   "outputs": [
    {
     "name": "stdout",
     "output_type": "stream",
     "text": [
      "accuracy is =  0.51\n",
      "precision is =  0.27972027972027974\n",
      "recall is =  0.47619047619047616\n",
      "f1 score is =  0.35242290748898686\n"
     ]
    }
   ],
   "source": [
    "from sklearn.naive_bayes import GaussianNB\n",
    "\n",
    "logistic_ = GaussianNB()\n",
    "logistic_.fit(X_train, y_train)\n",
    "predicted_ = logistic_.predict(X_test)\n",
    "print(\"accuracy is = \", accuracy_score(predicted_, y_test))\n",
    "print(\"precision is = \", precision_score(predicted_, y_test))\n",
    "print(\"recall is = \", recall_score(predicted_, y_test))\n",
    "print(\"f1 score is = \", f1_score(predicted_, y_test))"
   ]
  },
  {
   "cell_type": "code",
   "execution_count": 22,
   "id": "954fb0cd",
   "metadata": {},
   "outputs": [],
   "source": [
    "##### Using Feature Imporatnce\n",
    "\n",
    "from sklearn.naive_bayes import GaussianNB\n",
    "\n",
    "logistic_ = RandomForestClassifier()\n",
    "logistic_.fit(X_train, y_train)\n",
    "predicted_ = logistic_.predict(X_test)"
   ]
  },
  {
   "cell_type": "code",
   "execution_count": 23,
   "id": "1288bf85",
   "metadata": {},
   "outputs": [
    {
     "data": {
      "text/plain": [
       "array([0.61482911, 0.38517089])"
      ]
     },
     "execution_count": 23,
     "metadata": {},
     "output_type": "execute_result"
    }
   ],
   "source": [
    "logistic_.feature_importances_"
   ]
  },
  {
   "cell_type": "code",
   "execution_count": 24,
   "id": "85185ba2",
   "metadata": {},
   "outputs": [
    {
     "data": {
      "text/html": [
       "<div>\n",
       "<style scoped>\n",
       "    .dataframe tbody tr th:only-of-type {\n",
       "        vertical-align: middle;\n",
       "    }\n",
       "\n",
       "    .dataframe tbody tr th {\n",
       "        vertical-align: top;\n",
       "    }\n",
       "\n",
       "    .dataframe thead th {\n",
       "        text-align: right;\n",
       "    }\n",
       "</style>\n",
       "<table border=\"1\" class=\"dataframe\">\n",
       "  <thead>\n",
       "    <tr style=\"text-align: right;\">\n",
       "      <th></th>\n",
       "      <th>cgpa</th>\n",
       "      <th>placement_exam_marks</th>\n",
       "      <th>placed</th>\n",
       "    </tr>\n",
       "  </thead>\n",
       "  <tbody>\n",
       "    <tr>\n",
       "      <th>0</th>\n",
       "      <td>0.371611</td>\n",
       "      <td>-0.325554</td>\n",
       "      <td>1</td>\n",
       "    </tr>\n",
       "    <tr>\n",
       "      <th>1</th>\n",
       "      <td>0.810215</td>\n",
       "      <td>0.302020</td>\n",
       "      <td>1</td>\n",
       "    </tr>\n",
       "    <tr>\n",
       "      <th>2</th>\n",
       "      <td>0.940171</td>\n",
       "      <td>0.406616</td>\n",
       "      <td>1</td>\n",
       "    </tr>\n",
       "    <tr>\n",
       "      <th>3</th>\n",
       "      <td>-0.879222</td>\n",
       "      <td>-1.266915</td>\n",
       "      <td>1</td>\n",
       "    </tr>\n",
       "    <tr>\n",
       "      <th>4</th>\n",
       "      <td>0.436589</td>\n",
       "      <td>-0.796234</td>\n",
       "      <td>0</td>\n",
       "    </tr>\n",
       "  </tbody>\n",
       "</table>\n",
       "</div>"
      ],
      "text/plain": [
       "       cgpa  placement_exam_marks  placed\n",
       "0  0.371611             -0.325554       1\n",
       "1  0.810215              0.302020       1\n",
       "2  0.940171              0.406616       1\n",
       "3 -0.879222             -1.266915       1\n",
       "4  0.436589             -0.796234       0"
      ]
     },
     "execution_count": 24,
     "metadata": {},
     "output_type": "execute_result"
    }
   ],
   "source": [
    "df.head()"
   ]
  },
  {
   "cell_type": "code",
   "execution_count": 25,
   "id": "55d82073",
   "metadata": {},
   "outputs": [],
   "source": [
    "###### Split the dataset into X and y #######\n",
    "X = df.iloc[:, 0].values\n",
    "y = df.iloc[:, -1].values\n",
    "X = X.reshape((-1,1))\n",
    "\n",
    "##### train and test\n",
    "X_train, X_test, y_train, y_test = train_test_split(X, y, test_size = 0.30, random_state = 42)"
   ]
  },
  {
   "cell_type": "code",
   "execution_count": 26,
   "id": "7d6b3b9d",
   "metadata": {},
   "outputs": [
    {
     "data": {
      "text/plain": [
       "((1000, 1), (1000,))"
      ]
     },
     "execution_count": 26,
     "metadata": {},
     "output_type": "execute_result"
    }
   ],
   "source": [
    "X.shape, y.shape"
   ]
  },
  {
   "cell_type": "code",
   "execution_count": 39,
   "id": "710e56df",
   "metadata": {},
   "outputs": [],
   "source": [
    "##### Using Feature Imporatnce\n",
    "\n",
    "from sklearn.naive_bayes import GaussianNB\n",
    "\n",
    "logistic_ = SVC(kernel='poly', C = 2.9)\n",
    "logistic_.fit(X_train, y_train)\n",
    "predicted_ = logistic_.predict(X_test)"
   ]
  },
  {
   "cell_type": "code",
   "execution_count": 43,
   "id": "3191f83c",
   "metadata": {},
   "outputs": [
    {
     "data": {
      "text/plain": [
       "0.5233333333333333"
      ]
     },
     "execution_count": 43,
     "metadata": {},
     "output_type": "execute_result"
    }
   ],
   "source": [
    "accuracy_score(predicted_, y_test)"
   ]
  }
 ],
 "metadata": {
  "kernelspec": {
   "display_name": "Python 3 (ipykernel)",
   "language": "python",
   "name": "python3"
  },
  "language_info": {
   "codemirror_mode": {
    "name": "ipython",
    "version": 3
   },
   "file_extension": ".py",
   "mimetype": "text/x-python",
   "name": "python",
   "nbconvert_exporter": "python",
   "pygments_lexer": "ipython3",
   "version": "3.9.12"
  }
 },
 "nbformat": 4,
 "nbformat_minor": 5
}

{
 "cells": [
  {
   "cell_type": "markdown",
   "id": "e3f5befb",
   "metadata": {},
   "source": [
    "# Numpy for 1D array"
   ]
  },
  {
   "cell_type": "code",
   "execution_count": 1,
   "id": "ab99a1b3",
   "metadata": {},
   "outputs": [],
   "source": [
    "import numpy as np"
   ]
  },
  {
   "cell_type": "code",
   "execution_count": 2,
   "id": "0505185c",
   "metadata": {},
   "outputs": [
    {
     "name": "stdout",
     "output_type": "stream",
     "text": [
      "[ 1  2  3  4  5  6  7  8  9 10]\n"
     ]
    }
   ],
   "source": [
    "#Craete a numpy array\n",
    "array_ = np.array([1,2,3,4,5,6,7,8,9,10])\n",
    "#print the array\n",
    "print(array_)"
   ]
  },
  {
   "cell_type": "code",
   "execution_count": 3,
   "id": "e87f80f1",
   "metadata": {},
   "outputs": [
    {
     "name": "stdout",
     "output_type": "stream",
     "text": [
      "the dimnetion of this array is =  1\n",
      "the shape of this array is     = (10,)\n",
      "the data type of this array is = int32\n"
     ]
    }
   ],
   "source": [
    "#print the dimention, shape, data type\n",
    "\n",
    "print(\"the dimnetion of this array is = \",array_.ndim)\n",
    "print(\"the shape of this array is     =\",array_.shape)\n",
    "print(\"the data type of this array is =\",array_.dtype)"
   ]
  },
  {
   "cell_type": "code",
   "execution_count": 4,
   "id": "f0c69e12",
   "metadata": {},
   "outputs": [
    {
     "name": "stdout",
     "output_type": "stream",
     "text": [
      "the zeros_ :\n",
      " [0. 0. 0. 0. 0. 0. 0. 0. 0. 0.] \n",
      "\n",
      "the dimention of this array is =  1\n",
      "the shape of this array is     = (10,)\n",
      "the data type of this array is = float64\n"
     ]
    }
   ],
   "source": [
    "#Create zeros\n",
    "\n",
    "#In np.zeros((row, colum))\n",
    "zeros_ = np.zeros((10,))\n",
    "print(\"the zeros_ :\\n\", zeros_,'\\n')\n",
    "\n",
    "print('the dimention of this array is = ', zeros_.ndim)\n",
    "print('the shape of this array is     =', zeros_.shape)\n",
    "print('the data type of this array is =', zeros_.dtype)"
   ]
  },
  {
   "cell_type": "code",
   "execution_count": 5,
   "id": "acfe1e64",
   "metadata": {},
   "outputs": [
    {
     "name": "stdout",
     "output_type": "stream",
     "text": [
      "the array after changing the data type:\n",
      " [0 0 0 0 0 0 0 0 0 0] \n",
      "\n",
      "the array which i created with int64 data type:\n",
      " [0 0 0 0 0 0 0 0 0 0] \n",
      "\n"
     ]
    }
   ],
   "source": [
    "#In np.zeros, default the data type is \"float\", so we can change it using \"astype\"\n",
    "\n",
    "zeros_ = zeros_.astype('int64')\n",
    "print(\"the array after changing the data type:\\n\", zeros_,'\\n')\n",
    "\n",
    "#Is it the only option to do. Answer is no. when we build np.zeros() there we have a option dtype. there we can change.\n",
    "\n",
    "store_ = np.zeros((10,), dtype = 'int64')\n",
    "\n",
    "print(\"the array which i created with int64 data type:\\n\", store_,'\\n')"
   ]
  },
  {
   "cell_type": "code",
   "execution_count": 6,
   "id": "dfa9d7b6",
   "metadata": {},
   "outputs": [
    {
     "name": "stdout",
     "output_type": "stream",
     "text": [
      "the array is: \n",
      " [ 1  2  3  4  5  6  7  8  9 10] \n",
      "\n",
      "the array of zeros:\n",
      " [0 0 0 0 0 0 0 0 0 0] \n",
      "\n"
     ]
    }
   ],
   "source": [
    "#print the array_\n",
    "print(\"the array is: \\n\", array_,'\\n')\n",
    "print(\"the array of zeros:\\n\",store_,'\\n')"
   ]
  },
  {
   "cell_type": "code",
   "execution_count": 7,
   "id": "223c9e32",
   "metadata": {},
   "outputs": [
    {
     "name": "stdout",
     "output_type": "stream",
     "text": [
      "the size of array is       =  10\n",
      "the size of store array is =  10\n"
     ]
    }
   ],
   "source": [
    "#print the length \n",
    "print('the size of array is       = ', array_.size)\n",
    "print('the size of store array is = ',store_.size)"
   ]
  },
  {
   "cell_type": "code",
   "execution_count": 8,
   "id": "96ce1d38",
   "metadata": {},
   "outputs": [
    {
     "name": "stdout",
     "output_type": "stream",
     "text": [
      "the number of rows is =  10\n",
      "the list is =  [1, 2, 3, 4, 5, 6, 7, 8, 9, 10]\n",
      "the dict is =  {'A': 1, 'B': 2, 'C': 3, 'D': 4, 'E': 5, 'F': 6, 'G': 7, 'H': 8, 'I': 9, 'J': 10}\n",
      "the store array contains:  [1, 2, 3, 4, 5, 6, 7, 8, 9, 10]\n",
      "the zeros contains :  [ 1  2  3  4  5  6  7  8  9 10]\n",
      "the list1 contains:  [1, 2, 3, 4, 5, 6, 7, 8, 9, 10]\n",
      "the array1 contains:  [0.0108663  0.85124037 0.88555569 0.71304089 0.33615815 0.79679003\n",
      " 0.99198802 0.04175259 0.02223271 0.02446167]\n",
      "the array1 contains now:  [1, 2, 3, 4, 5, 6, 7, 8, 9, 10]\n"
     ]
    }
   ],
   "source": [
    "#copy the array data into store array using list and dictonary\n",
    "\n",
    "list_ = []\n",
    "dict_ = {}\n",
    "keys_ = ['A', 'B', 'C', 'D', 'E', 'F', 'G', 'H', 'I', 'J']\n",
    "# for value_ in np.nditer(array_):\n",
    "#     print(\"value = \", value_)\n",
    "    \n",
    "# output:\n",
    "    \n",
    "# value =  1\n",
    "# value =  2\n",
    "# value =  3\n",
    "# value =  4\n",
    "# value =  5\n",
    "# value =  6\n",
    "# value =  7\n",
    "# value =  8\n",
    "# value =  9\n",
    "# value =  10\n",
    "\n",
    "row_ = array_.shape[0]\n",
    "print(\"the number of rows is = \", row_)\n",
    "\n",
    "for value_ in range(row_):\n",
    "    list_.append(array_[value_])\n",
    "    dict_[keys_[value_]] = array_[value_]\n",
    "\n",
    "print(\"the list is = \", list_)\n",
    "print(\"the dict is = \", dict_)\n",
    "\n",
    "#just store the data into store \n",
    "\n",
    "store_ = list_\n",
    "\n",
    "print(\"the store array contains: \", store_)\n",
    "\n",
    "#store data using loop\n",
    "\n",
    "for index_, value_ in enumerate(list_):\n",
    "    zeros_[index_] = value_\n",
    "print(\"the zeros contains : \", zeros_)\n",
    "\n",
    "#print the dictonary and store the value\n",
    "list1_ = []\n",
    "\n",
    "for value_ in dict_.values():\n",
    "    list1_.append(value_)\n",
    "\n",
    "print('the list1 contains: ', list1_)\n",
    "\n",
    "array1_ = np.random.rand(10)\n",
    "print('the array1 contains: ', array1_)\n",
    "\n",
    "#now store the list1_ data to array1_\n",
    "\n",
    "array1_ = list1_\n",
    "\n",
    "print(\"the array1 contains now: \", array1_)"
   ]
  },
  {
   "cell_type": "code",
   "execution_count": 9,
   "id": "80f40e5f",
   "metadata": {},
   "outputs": [
    {
     "name": "stdout",
     "output_type": "stream",
     "text": [
      "the array is =  [ 1  2  3  4  5  6  7  8  9 10]\n"
     ]
    }
   ],
   "source": [
    "print(\"the array is = \", array_)"
   ]
  },
  {
   "cell_type": "code",
   "execution_count": 10,
   "id": "ea9d626e",
   "metadata": {},
   "outputs": [
    {
     "name": "stdout",
     "output_type": "stream",
     "text": [
      "Yes, its presence\n"
     ]
    }
   ],
   "source": [
    "#Check 5 is presence or not\n",
    "\n",
    "if 5 in array_:\n",
    "    print(\"Yes, its presence\")\n",
    "else:\n",
    "    print(\"No, its not presence\")"
   ]
  },
  {
   "cell_type": "code",
   "execution_count": 11,
   "id": "2d72d7e9",
   "metadata": {},
   "outputs": [
    {
     "name": "stdout",
     "output_type": "stream",
     "text": [
      "The index is =  [4]\n",
      "the value is =  [5]\n"
     ]
    }
   ],
   "source": [
    "#if we need to index of 5 value then use 'argmax'\n",
    "index_ = np.where(array_ == 5)\n",
    "print(\"The index is = \", index_[0])\n",
    "\n",
    "#Check that in that index the value is presence or not\n",
    "\n",
    "print(\"the value is = \", array_[index_])"
   ]
  },
  {
   "cell_type": "code",
   "execution_count": 12,
   "id": "2603a2b2",
   "metadata": {},
   "outputs": [
    {
     "name": "stdout",
     "output_type": "stream",
     "text": [
      "Index are =  [ 3  4 10]\n",
      "the index are =  [2 3 9]\n",
      "the value is =  [ 3  4 10]\n"
     ]
    }
   ],
   "source": [
    "#If i want to check 3,4,5 value is presence or not then use \"np.in1d\"\n",
    "\n",
    "np.in1d(array_, [3,4,10])\n",
    "#it gives the 1d array with boolean\n",
    "#output:\n",
    "# array([False,  True,  True, False,  True, False, False, False, False,\n",
    "#        False])\n",
    "\n",
    "print(\"Index are = \",array_[np.in1d(array_, [3,4,10])])\n",
    "\n",
    "# index_ = array_[np.in1d(array_, [3,4,10])]\n",
    "\n",
    "# print(\"the index are = \", index_)\n",
    "\n",
    "#now find the value of those index\n",
    "\n",
    "index_ = np.where(np.in1d(array_, [3,4,10]))\n",
    "print(\"the index are = \", index_[0])\n",
    "\n",
    "#Check the value is really presence or not\n",
    "\n",
    "print(\"the value is = \",array_[index_])"
   ]
  },
  {
   "cell_type": "code",
   "execution_count": 13,
   "id": "00845be7",
   "metadata": {},
   "outputs": [
    {
     "name": "stdout",
     "output_type": "stream",
     "text": [
      "[ 1  2  3  4  5  6  7  8  9 10]\n",
      "the last five data is =  [ 6  7  8  9 10]\n",
      "the first three data is =  [1 2 3]\n",
      "the 4th and 5th index's data is =  [4 5]\n"
     ]
    }
   ],
   "source": [
    "#Slicing\n",
    "\n",
    "print(array_)\n",
    "\n",
    "#print the last 5 data\n",
    "print(\"the last five data is = \", array_[-5:])\n",
    "#print the first 3 data\n",
    "print('the first three data is = ', array_[:3])\n",
    "#print the 4,5th index value\n",
    "print(\"the 4th and 5th index's data is = \", array_[[3,4]])"
   ]
  },
  {
   "cell_type": "code",
   "execution_count": 14,
   "id": "da43c1fc",
   "metadata": {},
   "outputs": [
    {
     "name": "stdout",
     "output_type": "stream",
     "text": [
      "[ 1  2  3  4  5  6  7  8  9 10]\n",
      "the split array is =  [array([1, 2, 3, 4]), array([5, 6, 7]), array([ 8,  9, 10])]\n",
      "the split values:  [1 2 3 4] \n",
      "\n",
      "the split values:  [5 6 7] \n",
      "\n",
      "the split values:  [ 8  9 10] \n",
      "\n",
      "the list is :  [array([1, 2, 3, 4]), array([5, 6, 7]), array([ 8,  9, 10])]\n"
     ]
    }
   ],
   "source": [
    "#array_split\n",
    "\n",
    "print(array_)\n",
    "split_ = np.array_split(array_, 3)\n",
    "\n",
    "print(\"the split array is = \", split_)\n",
    "\n",
    "#using loop we need to print\n",
    "\n",
    "list_ = []\n",
    "for value_ in split_:\n",
    "    print(\"the split values: \", value_,'\\n')\n",
    "    list_.append(value_)\n",
    "\n",
    "print(\"the list is : \", list_)"
   ]
  },
  {
   "cell_type": "code",
   "execution_count": 15,
   "id": "d46248bc",
   "metadata": {},
   "outputs": [
    {
     "name": "stdout",
     "output_type": "stream",
     "text": [
      "after using hstack the array looks like =  [ 1  2  3  4  5  6  7  8  9 10]\n"
     ]
    }
   ],
   "source": [
    "#Now, we want to add those the same way as it was\n",
    "\n",
    "print(\"after using hstack the array looks like = \",np.hstack(split_))"
   ]
  },
  {
   "cell_type": "code",
   "execution_count": 16,
   "id": "278c98d2",
   "metadata": {},
   "outputs": [
    {
     "name": "stdout",
     "output_type": "stream",
     "text": [
      "the sum of this array is =  55\n",
      "the mean of this array is =  5.5\n",
      "the std of this array is =  2.8722813232690143\n",
      "the max value of this array is =  10\n",
      "the min value of this array is =  1\n"
     ]
    }
   ],
   "source": [
    "#some arithmatic operation \n",
    "\n",
    "print(\"the sum of this array is = \", np.sum(array_))\n",
    "print(\"the mean of this array is = \", np.mean(array_))\n",
    "print(\"the std of this array is = \", np.std(array_))\n",
    "print(\"the max value of this array is = \", np.max(array_))\n",
    "print(\"the min value of this array is = \", np.min(array_))"
   ]
  },
  {
   "cell_type": "code",
   "execution_count": 17,
   "id": "bec58ed8",
   "metadata": {},
   "outputs": [
    {
     "name": "stdout",
     "output_type": "stream",
     "text": [
      "the unique value of this array is =  [ 1  2  3  4  5  6  7  8  9 10]\n",
      "Unique =  [ 1  2  3  4  5  6  7  8  9 10] value_counts_ =  [1 1 1 1 1 1 1 1 1 1]\n"
     ]
    }
   ],
   "source": [
    "#Find the unique value \n",
    "\n",
    "print(\"the unique value of this array is = \",np.unique(array_))\n",
    "\n",
    "#How many times the unique value occurs\n",
    "\n",
    "unique_, counts_ = np.unique(array_, return_counts = True)\n",
    "\n",
    "print(\"Unique = \", unique_, \"value_counts_ = \", counts_)"
   ]
  },
  {
   "cell_type": "code",
   "execution_count": 18,
   "id": "d835804f",
   "metadata": {},
   "outputs": [
    {
     "name": "stdout",
     "output_type": "stream",
     "text": [
      "the sort value is =  [ 1  2  3  4  5  6  7  8  9 10]\n"
     ]
    }
   ],
   "source": [
    "#Sort the value\n",
    "array_.sort()\n",
    "print(\"the sort value is = \",array_)"
   ]
  },
  {
   "cell_type": "code",
   "execution_count": 19,
   "id": "3aefd854",
   "metadata": {},
   "outputs": [
    {
     "name": "stdout",
     "output_type": "stream",
     "text": [
      "the linspace value is =  [ 1.  2.  3.  4.  5.  6.  7.  8.  9. 10. 11. 12. 13. 14. 15. 16. 17. 18.\n",
      " 19. 20. 21. 22. 23. 24. 25. 26. 27. 28. 29. 30.]\n",
      "after reshaping the value is =  [[ 1  2  3  4  5]\n",
      " [ 6  7  8  9 10]]\n"
     ]
    }
   ],
   "source": [
    "#Linspace\n",
    "print(\"the linspace value is = \",np.linspace(start = 1, stop = 30, num = 30))\n",
    "#Reshape\n",
    "array_ = array_.reshape(2,5)\n",
    "print('after reshaping the value is = ', array_)"
   ]
  },
  {
   "cell_type": "markdown",
   "id": "020037df",
   "metadata": {},
   "source": [
    "# 2D NUMPY"
   ]
  },
  {
   "cell_type": "code",
   "execution_count": 20,
   "id": "ddea45c8",
   "metadata": {},
   "outputs": [
    {
     "name": "stdout",
     "output_type": "stream",
     "text": [
      "[20.1 21.1 22.1 23.1 24.1 25.1 26.1 27.1 28.1 29.1 30.1 31.1 32.1 33.1\n",
      " 34.1 35.1 36.1 37.1 38.1 39.1]\n"
     ]
    }
   ],
   "source": [
    "array_ = np.arange(start = 20.1, stop = 40.1, dtype = 'float64')\n",
    "print(array_)"
   ]
  },
  {
   "cell_type": "code",
   "execution_count": 21,
   "id": "acd72f4c",
   "metadata": {},
   "outputs": [
    {
     "name": "stdout",
     "output_type": "stream",
     "text": [
      "[[20.1 21.1 22.1 23.1]\n",
      " [24.1 25.1 26.1 27.1]\n",
      " [28.1 29.1 30.1 31.1]\n",
      " [32.1 33.1 34.1 35.1]\n",
      " [36.1 37.1 38.1 39.1]]\n",
      "2\n"
     ]
    }
   ],
   "source": [
    "#now reshape it 10*8\n",
    "array_ = array_.reshape(5,4)\n",
    "print(array_)\n",
    "print(array_.ndim)"
   ]
  },
  {
   "cell_type": "code",
   "execution_count": 22,
   "id": "366c2e8a",
   "metadata": {},
   "outputs": [
    {
     "name": "stdout",
     "output_type": "stream",
     "text": [
      "[[0.23026491 0.60504874 0.38357941 0.58706932]\n",
      " [0.40397886 0.62630971 0.13260374 0.99772995]\n",
      " [0.81459207 0.97344876 0.73835401 0.99565992]\n",
      " [0.24924398 0.60806533 0.06958223 0.44155837]\n",
      " [0.16911349 0.42385377 0.54829295 0.37918782]]\n",
      "2\n"
     ]
    }
   ],
   "source": [
    "array1_ = np.random.rand(20)\n",
    "array1_ = array1_.reshape(5,4)\n",
    "print(array1_)\n",
    "print(array1_.ndim)"
   ]
  },
  {
   "cell_type": "code",
   "execution_count": 23,
   "id": "4ab0aea2",
   "metadata": {},
   "outputs": [
    {
     "data": {
      "text/plain": [
       "array([[20.1       , 21.1       , 22.1       , 23.1       ],\n",
       "       [24.1       , 25.1       , 26.1       , 27.1       ],\n",
       "       [28.1       , 29.1       , 30.1       , 31.1       ],\n",
       "       [32.1       , 33.1       , 34.1       , 35.1       ],\n",
       "       [36.1       , 37.1       , 38.1       , 39.1       ],\n",
       "       [ 0.23026491,  0.60504874,  0.38357941,  0.58706932],\n",
       "       [ 0.40397886,  0.62630971,  0.13260374,  0.99772995],\n",
       "       [ 0.81459207,  0.97344876,  0.73835401,  0.99565992],\n",
       "       [ 0.24924398,  0.60806533,  0.06958223,  0.44155837],\n",
       "       [ 0.16911349,  0.42385377,  0.54829295,  0.37918782]])"
      ]
     },
     "execution_count": 23,
     "metadata": {},
     "output_type": "execute_result"
    }
   ],
   "source": [
    "#now add this in a numpy using concatenate\n",
    "concatenate_ = np.concatenate((array_, array1_), axis = 0)\n",
    "concatenate_"
   ]
  },
  {
   "cell_type": "code",
   "execution_count": 24,
   "id": "9eb97c88",
   "metadata": {},
   "outputs": [
    {
     "data": {
      "text/plain": [
       "array([[20.1       , 21.1       , 22.1       , 23.1       ],\n",
       "       [24.1       , 25.1       , 26.1       , 27.1       ],\n",
       "       [28.1       , 29.1       , 30.1       , 31.1       ],\n",
       "       [32.1       , 33.1       , 34.1       , 35.1       ],\n",
       "       [36.1       , 37.1       , 38.1       , 39.1       ],\n",
       "       [ 0.23026491,  0.60504874,  0.38357941,  0.58706932],\n",
       "       [ 0.40397886,  0.62630971,  0.13260374,  0.99772995],\n",
       "       [ 0.81459207,  0.97344876,  0.73835401,  0.99565992],\n",
       "       [ 0.24924398,  0.60806533,  0.06958223,  0.44155837],\n",
       "       [ 0.16911349,  0.42385377,  0.54829295,  0.37918782]])"
      ]
     },
     "execution_count": 24,
     "metadata": {},
     "output_type": "execute_result"
    }
   ],
   "source": [
    "#now add this in a numpy using vstack\n",
    "vstack_ = np.vstack((array_,array1_))\n",
    "vstack_"
   ]
  },
  {
   "cell_type": "code",
   "execution_count": 25,
   "id": "cc6f9738",
   "metadata": {},
   "outputs": [
    {
     "data": {
      "text/plain": [
       "array([[ True,  True,  True,  True],\n",
       "       [ True,  True,  True,  True],\n",
       "       [ True,  True,  True,  True],\n",
       "       [ True,  True,  True,  True],\n",
       "       [ True,  True,  True,  True],\n",
       "       [ True,  True,  True,  True],\n",
       "       [ True,  True,  True,  True],\n",
       "       [ True,  True,  True,  True],\n",
       "       [ True,  True,  True,  True],\n",
       "       [ True,  True,  True,  True]])"
      ]
     },
     "execution_count": 25,
     "metadata": {},
     "output_type": "execute_result"
    }
   ],
   "source": [
    "#check whether two are same or not\n",
    "vstack_ == concatenate_"
   ]
  },
  {
   "cell_type": "code",
   "execution_count": 26,
   "id": "dd523591",
   "metadata": {},
   "outputs": [],
   "source": [
    "array_ = vstack_"
   ]
  },
  {
   "cell_type": "code",
   "execution_count": 27,
   "id": "3af315b9",
   "metadata": {},
   "outputs": [
    {
     "data": {
      "text/plain": [
       "array([[20, 21, 22, 23],\n",
       "       [24, 25, 26, 27],\n",
       "       [28, 29, 30, 31],\n",
       "       [32, 33, 34, 35],\n",
       "       [36, 37, 38, 39],\n",
       "       [ 0,  0,  0,  0],\n",
       "       [ 0,  0,  0,  0],\n",
       "       [ 0,  0,  0,  0],\n",
       "       [ 0,  0,  0,  0],\n",
       "       [ 0,  0,  0,  0]], dtype=int64)"
      ]
     },
     "execution_count": 27,
     "metadata": {},
     "output_type": "execute_result"
    }
   ],
   "source": [
    "#now change the data type\n",
    "\n",
    "array_ = array_.astype('int64')\n",
    "array_"
   ]
  },
  {
   "cell_type": "code",
   "execution_count": 28,
   "id": "3c4114b0",
   "metadata": {},
   "outputs": [
    {
     "data": {
      "text/plain": [
       "array([[False, False, False, False],\n",
       "       [False, False, False, False],\n",
       "       [False, False, False, False],\n",
       "       [False, False, False, False],\n",
       "       [False, False, False, False],\n",
       "       [ True,  True,  True,  True],\n",
       "       [ True,  True,  True,  True],\n",
       "       [ True,  True,  True,  True],\n",
       "       [ True,  True,  True,  True],\n",
       "       [ True,  True,  True,  True]])"
      ]
     },
     "execution_count": 28,
     "metadata": {},
     "output_type": "execute_result"
    }
   ],
   "source": [
    "#after changing the data type the value of a couple of rows and columns turns zero; now fill the value with random number\n",
    "\n",
    "array_ == 0"
   ]
  },
  {
   "cell_type": "code",
   "execution_count": 29,
   "id": "a5e52bb9",
   "metadata": {},
   "outputs": [
    {
     "name": "stdout",
     "output_type": "stream",
     "text": [
      "(array([20, 21, 22, 23, 24, 25, 26, 27, 28, 29, 30, 31, 32, 33, 34, 35, 36,\n",
      "       37, 38, 39], dtype=int64),)\n"
     ]
    }
   ],
   "source": [
    "#now find the index\n",
    "index_ = np.where(np.in1d(array_, array_ == 0))\n",
    "print(index_)\n",
    "\n",
    "index_ = list(index_[0])"
   ]
  },
  {
   "cell_type": "code",
   "execution_count": 30,
   "id": "2f796228",
   "metadata": {},
   "outputs": [
    {
     "name": "stdout",
     "output_type": "stream",
     "text": [
      "[5, 0]\n",
      "15\n",
      "[5, 1]\n",
      "31\n",
      "[5, 2]\n",
      "33\n",
      "[5, 3]\n",
      "34\n",
      "[6, 0]\n",
      "29\n",
      "[6, 1]\n",
      "26\n",
      "[6, 2]\n",
      "24\n",
      "[6, 3]\n",
      "39\n",
      "[7, 0]\n",
      "17\n",
      "[7, 1]\n",
      "48\n",
      "[7, 2]\n",
      "13\n",
      "[7, 3]\n",
      "21\n",
      "[8, 0]\n",
      "21\n",
      "[8, 1]\n",
      "22\n",
      "[8, 2]\n",
      "41\n",
      "[8, 3]\n",
      "29\n",
      "[9, 0]\n",
      "30\n",
      "[9, 1]\n",
      "44\n",
      "[9, 2]\n",
      "22\n",
      "[9, 3]\n",
      "41\n"
     ]
    },
    {
     "data": {
      "text/plain": [
       "array([[20, 21, 22, 23],\n",
       "       [24, 25, 26, 27],\n",
       "       [28, 29, 30, 31],\n",
       "       [32, 33, 34, 35],\n",
       "       [36, 37, 38, 39],\n",
       "       [15, 31, 33, 34],\n",
       "       [29, 26, 24, 39],\n",
       "       [17, 48, 13, 21],\n",
       "       [21, 22, 41, 29],\n",
       "       [30, 44, 22, 41]], dtype=int64)"
      ]
     },
     "execution_count": 30,
     "metadata": {},
     "output_type": "execute_result"
    }
   ],
   "source": [
    "#now find the 2D index\n",
    "\n",
    "\n",
    "def retrive(index_):\n",
    "    row_ = array_.shape[0]\n",
    "    col_ = array_.shape[1]\n",
    "\n",
    "    dict_  = {}\n",
    "    count_ = 0 \n",
    "    \n",
    "    for row in range(row_):\n",
    "        for col in range(col_):\n",
    "            dict_[count_] = [row, col]\n",
    "            count_ = count_ + 1\n",
    "            \n",
    "    return dict_[index_]\n",
    "\n",
    "list_  = []\n",
    "for data_ in index_:\n",
    "    print(retrive(data_))\n",
    "    random_ = np.random.randint(10,50)\n",
    "    print(random_)\n",
    "    array_[retrive(data_)[0], retrive(data_)[1]] = random_\n",
    "\n",
    "array_\n",
    "    "
   ]
  },
  {
   "cell_type": "code",
   "execution_count": 31,
   "id": "f6432115",
   "metadata": {},
   "outputs": [
    {
     "data": {
      "text/plain": [
       "array([[20, 21, 22, 23],\n",
       "       [24, 25, 26, 27],\n",
       "       [28, 29, 30, 31],\n",
       "       [32, 33, 34, 35],\n",
       "       [36, 37, 38, 39],\n",
       "       [15, 31, 33, 34],\n",
       "       [29, 26, 24, 39],\n",
       "       [17, 48, 13, 21],\n",
       "       [21, 22, 41, 29],\n",
       "       [30, 44, 22, 41]], dtype=int64)"
      ]
     },
     "execution_count": 31,
     "metadata": {},
     "output_type": "execute_result"
    }
   ],
   "source": [
    "#print the array_\n",
    "array_"
   ]
  },
  {
   "cell_type": "code",
   "execution_count": 32,
   "id": "48d44509",
   "metadata": {},
   "outputs": [
    {
     "data": {
      "text/plain": [
       "[array([[20, 21, 22, 23],\n",
       "        [24, 25, 26, 27],\n",
       "        [28, 29, 30, 31],\n",
       "        [32, 33, 34, 35]], dtype=int64),\n",
       " array([[36, 37, 38, 39],\n",
       "        [15, 31, 33, 34],\n",
       "        [29, 26, 24, 39]], dtype=int64),\n",
       " array([[17, 48, 13, 21],\n",
       "        [21, 22, 41, 29],\n",
       "        [30, 44, 22, 41]], dtype=int64)]"
      ]
     },
     "execution_count": 32,
     "metadata": {},
     "output_type": "execute_result"
    }
   ],
   "source": [
    "#split the dataset\n",
    "\n",
    "np.array_split(array_, 3)\n",
    "\n",
    "# output:\n",
    "# [array([[20, 21, 22, 23],\n",
    "#         [24, 25, 26, 27],\n",
    "#         [28, 29, 30, 31],\n",
    "#         [32, 33, 34, 35]], dtype=int64),\n",
    "#  array([[36, 37, 38, 39],\n",
    "#         [20, 26, 17, 39],\n",
    "#         [38, 17, 33, 16]], dtype=int64),\n",
    "#  array([[25, 29, 16, 32],\n",
    "#         [38, 39, 31, 16],\n",
    "#         [32, 31, 42, 34]], dtype=int64)]"
   ]
  },
  {
   "cell_type": "code",
   "execution_count": 33,
   "id": "c05828fb",
   "metadata": {},
   "outputs": [
    {
     "data": {
      "text/plain": [
       "[array([[20, 21, 22, 23],\n",
       "        [24, 25, 26, 27],\n",
       "        [28, 29, 30, 31],\n",
       "        [32, 33, 34, 35]], dtype=int64),\n",
       " array([[36, 37, 38, 39],\n",
       "        [15, 31, 33, 34],\n",
       "        [29, 26, 24, 39]], dtype=int64),\n",
       " array([[17, 48, 13, 21],\n",
       "        [21, 22, 41, 29],\n",
       "        [30, 44, 22, 41]], dtype=int64)]"
      ]
     },
     "execution_count": 33,
     "metadata": {},
     "output_type": "execute_result"
    }
   ],
   "source": [
    "#split the datset:\n",
    "split_ = np.array_split(array_, 3)\n",
    "split_"
   ]
  },
  {
   "cell_type": "code",
   "execution_count": 34,
   "id": "48b7a123",
   "metadata": {},
   "outputs": [
    {
     "data": {
      "text/plain": [
       "array([[0, 0, 0, 0],\n",
       "       [0, 0, 0, 0],\n",
       "       [0, 0, 0, 0],\n",
       "       [0, 0, 0, 0],\n",
       "       [0, 0, 0, 0],\n",
       "       [0, 0, 0, 0],\n",
       "       [0, 0, 0, 0],\n",
       "       [0, 0, 0, 0],\n",
       "       [0, 0, 0, 0],\n",
       "       [0, 0, 0, 0]], dtype=int64)"
      ]
     },
     "execution_count": 34,
     "metadata": {},
     "output_type": "execute_result"
    }
   ],
   "source": [
    "#store this split dataset in a new array_\n",
    "\n",
    "zeros_ = np.zeros((array_.shape[0],array_.shape[1]), dtype = 'int64')\n",
    "zeros_"
   ]
  },
  {
   "cell_type": "code",
   "execution_count": 35,
   "id": "c45bd8be",
   "metadata": {},
   "outputs": [
    {
     "data": {
      "text/plain": [
       "(4, 4)"
      ]
     },
     "execution_count": 35,
     "metadata": {},
     "output_type": "execute_result"
    }
   ],
   "source": [
    "split_[0].shape"
   ]
  },
  {
   "cell_type": "code",
   "execution_count": 36,
   "id": "a64b9d23",
   "metadata": {},
   "outputs": [
    {
     "data": {
      "text/plain": [
       "array([[20, 21, 22, 23],\n",
       "       [24, 25, 26, 27],\n",
       "       [28, 29, 30, 31],\n",
       "       [32, 33, 34, 35],\n",
       "       [36, 37, 38, 39],\n",
       "       [15, 31, 33, 34],\n",
       "       [29, 26, 24, 39],\n",
       "       [17, 48, 13, 21],\n",
       "       [21, 22, 41, 29],\n",
       "       [30, 44, 22, 41]], dtype=int64)"
      ]
     },
     "execution_count": 36,
     "metadata": {},
     "output_type": "execute_result"
    }
   ],
   "source": [
    "previous_ = 0\n",
    "\n",
    "count = 0\n",
    "\n",
    "for values_ in split_:\n",
    "\n",
    "    if count == 0:\n",
    "        zeros_[0:values_.shape[0],:] = values_\n",
    "        count = count + 1\n",
    "        previous_ = previous_ + values_.shape[0]\n",
    "    else:\n",
    "        zeros_[previous_:previous_+values_.shape[0],:] = values_\n",
    "        previous_ = previous_ + values_.shape[0]\n",
    "\n",
    "zeros_"
   ]
  },
  {
   "cell_type": "code",
   "execution_count": 37,
   "id": "44fd4b62",
   "metadata": {},
   "outputs": [
    {
     "data": {
      "text/plain": [
       "array([[20, 21, 22, 23],\n",
       "       [24, 25, 26, 27],\n",
       "       [28, 29, 30, 31],\n",
       "       [32, 33, 34, 35],\n",
       "       [36, 37, 38, 39],\n",
       "       [15, 31, 33, 34],\n",
       "       [29, 26, 24, 39],\n",
       "       [17, 48, 13, 21],\n",
       "       [21, 22, 41, 29],\n",
       "       [30, 44, 22, 41]], dtype=int64)"
      ]
     },
     "execution_count": 37,
     "metadata": {},
     "output_type": "execute_result"
    }
   ],
   "source": [
    "#now we will merge the sub array using vstack\n",
    "\n",
    "merge_ = np.vstack(split_)\n",
    "merge_"
   ]
  },
  {
   "cell_type": "code",
   "execution_count": 38,
   "id": "c2a613f6",
   "metadata": {},
   "outputs": [
    {
     "name": "stdout",
     "output_type": "stream",
     "text": [
      "zeros_ array has dimention =  2\n",
      "merge_ array has dimention =  2\n",
      "zeros_ array has shape =  (10, 4)\n",
      "merge_ array has shape =  (10, 4)\n",
      "sum of zeros_ =  1170\n",
      "sum of zeros_ =  1170\n"
     ]
    }
   ],
   "source": [
    "print(\"zeros_ array has dimention = \", zeros_.ndim)\n",
    "print(\"merge_ array has dimention = \", merge_.ndim)\n",
    "print(\"zeros_ array has shape = \", zeros_.shape)\n",
    "print(\"merge_ array has shape = \", merge_.shape)\n",
    "print(\"sum of zeros_ = \", sum(sum(zeros_)))\n",
    "print(\"sum of zeros_ = \", sum(sum(merge_)))"
   ]
  },
  {
   "cell_type": "code",
   "execution_count": 39,
   "id": "483405a4",
   "metadata": {},
   "outputs": [
    {
     "name": "stdout",
     "output_type": "stream",
     "text": [
      "[20 21 22 23] [20 21 22 23]\n",
      "[24 25 26 27] [24 25 26 27]\n",
      "[28 29 30 31] [28 29 30 31]\n",
      "[32 33 34 35] [32 33 34 35]\n",
      "[36 37 38 39] [36 37 38 39]\n",
      "[15 31 33 34] [15 31 33 34]\n",
      "[29 26 24 39] [29 26 24 39]\n",
      "[17 48 13 21] [17 48 13 21]\n",
      "[21 22 41 29] [21 22 41 29]\n",
      "[30 44 22 41] [30 44 22 41]\n"
     ]
    }
   ],
   "source": [
    "#Check two array has same element or not using iterative\n",
    "\n",
    "for data1_, data2_ in zip(merge_, zeros_):\n",
    "    print(data1_, data2_)"
   ]
  },
  {
   "cell_type": "code",
   "execution_count": 40,
   "id": "bfac9b53",
   "metadata": {},
   "outputs": [
    {
     "name": "stdout",
     "output_type": "stream",
     "text": [
      "True : - means two numpy array has same data:\n"
     ]
    }
   ],
   "source": [
    "check_ = merge_ == zeros_\n",
    "print(check_.all(),\": - means two numpy array has same data:\")"
   ]
  },
  {
   "cell_type": "code",
   "execution_count": 41,
   "id": "165e1c30",
   "metadata": {},
   "outputs": [
    {
     "data": {
      "text/plain": [
       "array([[20, 21, 22, 23],\n",
       "       [24, 25, 26, 27],\n",
       "       [28, 29, 30, 31],\n",
       "       [32, 33, 34, 35],\n",
       "       [36, 37, 38, 39],\n",
       "       [15, 31, 33, 34],\n",
       "       [29, 26, 24, 39],\n",
       "       [17, 48, 13, 21],\n",
       "       [21, 22, 41, 29],\n",
       "       [30, 44, 22, 41]], dtype=int64)"
      ]
     },
     "execution_count": 41,
     "metadata": {},
     "output_type": "execute_result"
    }
   ],
   "source": [
    "merge1_ = merge_.copy()\n",
    "merge1_"
   ]
  },
  {
   "cell_type": "code",
   "execution_count": 42,
   "id": "e34af019",
   "metadata": {},
   "outputs": [
    {
     "data": {
      "text/plain": [
       "array([[-20,  21,  22,  23],\n",
       "       [ 24,  25,  26,  27],\n",
       "       [ 28,  29,  30,  31],\n",
       "       [ 32,  33,  34,  35],\n",
       "       [ 36,  37,  38,  39],\n",
       "       [ 15,  31,  33,  34],\n",
       "       [ 29,  26,  24,  39],\n",
       "       [ 17,  48,  13,  21],\n",
       "       [ 21,  22,  41,  29],\n",
       "       [ 30,  44,  22,  41]], dtype=int64)"
      ]
     },
     "execution_count": 42,
     "metadata": {},
     "output_type": "execute_result"
    }
   ],
   "source": [
    "#change just one element\n",
    "merge1_[0,0] = -20\n",
    "\n",
    "merge1_"
   ]
  },
  {
   "cell_type": "code",
   "execution_count": 43,
   "id": "a9e324d7",
   "metadata": {},
   "outputs": [
    {
     "name": "stdout",
     "output_type": "stream",
     "text": [
      "False : - means two numpy array has no same value\n"
     ]
    }
   ],
   "source": [
    "#Now check two numpy array has same element or not\n",
    "\n",
    "check_= merge1_ == zeros_\n",
    "print(check_.all(),\": - means two numpy array has no same value\")"
   ]
  },
  {
   "cell_type": "code",
   "execution_count": 44,
   "id": "62c42498",
   "metadata": {},
   "outputs": [
    {
     "data": {
      "text/plain": [
       "array([0.45761448, 0.64447512, 0.71960169, 0.28564097, 0.39614611,\n",
       "       0.09201408, 0.78814089, 0.91553958, 0.31112772, 0.01864181,\n",
       "       0.34150165, 0.75535128, 0.13209754, 0.7016078 , 0.18255957,\n",
       "       0.34091797, 0.79679315, 0.90929582, 0.84964834, 0.09914434])"
      ]
     },
     "execution_count": 44,
     "metadata": {},
     "output_type": "execute_result"
    }
   ],
   "source": [
    "#Seed Function used_\n",
    "\n",
    "array_ = np.random.rand(20)\n",
    "array_\n",
    "\n",
    "# output:\n",
    "# array([0.64177338, 0.77661364, 0.16394576, 0.90402666, 0.82011204,\n",
    "#        0.19806071, 0.15275763, 0.6079709 , 0.0253648 , 0.85090399,\n",
    "#        0.98351251, 0.23394804, 0.66714399, 0.74475932, 0.18348242,\n",
    "#        0.86544879, 0.05239989, 0.9917028 , 0.41768067, 0.19039941])"
   ]
  },
  {
   "cell_type": "code",
   "execution_count": 45,
   "id": "70f386ae",
   "metadata": {},
   "outputs": [
    {
     "data": {
      "text/plain": [
       "array([[0.43163648, 0.72329754, 0.3265922 , 0.75853443, 0.10563137],\n",
       "       [0.32194446, 0.40122287, 0.55052481, 0.93653691, 0.10940103],\n",
       "       [0.45660179, 0.24405065, 0.26609997, 0.68608539, 0.96215856],\n",
       "       [0.03817626, 0.55072534, 0.0927245 , 0.70099548, 0.244669  ]])"
      ]
     },
     "execution_count": 45,
     "metadata": {},
     "output_type": "execute_result"
    }
   ],
   "source": [
    "#If i want to take 2D array using random.rand(row,column)\n",
    "array_ = np.random.rand(4,5)\n",
    "array_\n",
    "\n",
    "# output:\n",
    "# array([[0.78211176, 0.78570192, 0.53245874, 0.31182262, 0.04744965],\n",
    "#        [0.47884196, 0.7740885 , 0.78306403, 0.99123627, 0.97703521],\n",
    "#        [0.29556605, 0.19747933, 0.39715195, 0.46657199, 0.33410868],\n",
    "#        [0.91613972, 0.0710225 , 0.7938765 , 0.03837921, 0.90423262]])"
   ]
  },
  {
   "cell_type": "code",
   "execution_count": 46,
   "id": "2b412ecd",
   "metadata": {},
   "outputs": [
    {
     "data": {
      "text/plain": [
       "array([[0.43163648, 0.72329754, 0.3265922 , 0.75853443, 0.10563137],\n",
       "       [0.32194446, 0.40122287, 0.55052481, 0.93653691, 0.10940103],\n",
       "       [0.45660179, 0.24405065, 0.26609997, 0.68608539, 0.96215856],\n",
       "       [0.03817626, 0.55072534, 0.0927245 , 0.70099548, 0.244669  ]])"
      ]
     },
     "execution_count": 46,
     "metadata": {},
     "output_type": "execute_result"
    }
   ],
   "source": [
    "array1_ = array_.copy()\n",
    "array1_"
   ]
  },
  {
   "cell_type": "code",
   "execution_count": 47,
   "id": "21cfa78d",
   "metadata": {},
   "outputs": [
    {
     "name": "stdout",
     "output_type": "stream",
     "text": [
      "same\n",
      "the array is: \n",
      " [[0.15416284 0.7400497  0.26331502 0.53373939]\n",
      " [0.01457496 0.91874701 0.90071485 0.03342143]\n",
      " [0.95694934 0.13720932 0.28382835 0.60608318]\n",
      " [0.94422514 0.85273554 0.00225923 0.52122603]] \n",
      "\n",
      "the copy array is: \n",
      " [[0.15416284 0.7400497  0.26331502 0.53373939]\n",
      " [0.01457496 0.91874701 0.90071485 0.03342143]\n",
      " [0.95694934 0.13720932 0.28382835 0.60608318]\n",
      " [0.94422514 0.85273554 0.00225923 0.52122603]]\n",
      "\n",
      " two aray is same: \n"
     ]
    }
   ],
   "source": [
    "#check two array is same or not\n",
    "\n",
    "check_ = array1_ == array_\n",
    "\n",
    "if check_.all() == True:\n",
    "    print('same')\n",
    "else:\n",
    "    print('not same')\n",
    "    \n",
    "#How to oercome from this problem. Solution is using 'random.seed(12)' before calling the random.rand or some other function\n",
    "\n",
    "np.random.seed(12)\n",
    "\n",
    "newArray_ = np.random.rand(4,4)\n",
    "print(\"the array is: \\n\",newArray_,'\\n')\n",
    "copy_array_ = newArray_.copy()\n",
    "\n",
    "print(\"the copy array is: \\n\", copy_array_)\n",
    "\n",
    "check_ = newArray_ == copy_array_\n",
    "\n",
    "if check_.all() == True:\n",
    "    print(\"\\n two aray is same: \")\n",
    "else:\n",
    "    print('\\n two array is not same:')"
   ]
  },
  {
   "cell_type": "code",
   "execution_count": 48,
   "id": "d23d8ef2",
   "metadata": {},
   "outputs": [
    {
     "name": "stdout",
     "output_type": "stream",
     "text": [
      "the array is: \n",
      " [[ 8  1  3  7]\n",
      " [ 3  1  5  7]\n",
      " [10  1  1 10]] \n",
      "\n",
      "the dimnetion is =  2\n",
      "the shape is =  (3, 4) \n",
      "\n",
      "the array is : \n",
      " [[[ 9 10]\n",
      "  [ 7  2]\n",
      "  [ 9  5]]\n",
      "\n",
      " [[ 1  5]\n",
      "  [ 2  6]\n",
      "  [ 6  4]]] \n",
      "\n",
      "the dimnetion is =  3\n",
      "the shape is =  (2, 3, 2) \n",
      "\n"
     ]
    }
   ],
   "source": [
    "#Using random.randint(start, stop, (row, column))\n",
    "\n",
    "array_ = np.random.randint(1, 12, (3,4))\n",
    "print(\"the array is: \\n\", array_,'\\n')\n",
    "print(\"the dimnetion is = \", array_.ndim)\n",
    "print(\"the shape is = \", array_.shape,'\\n')\n",
    "\n",
    "\n",
    "#If i want to print 3D array then random.randint(start, stop, (2- means 3D, row, column))\n",
    "\n",
    "array1_ = np.random.randint(1, 12, (2,3,2))\n",
    "print(\"the array is : \\n\",array1_,'\\n')\n",
    "print(\"the dimnetion is = \", array1_.ndim)\n",
    "print(\"the shape is = \", array1_.shape,'\\n')"
   ]
  },
  {
   "cell_type": "code",
   "execution_count": 49,
   "id": "8b29f856",
   "metadata": {},
   "outputs": [
    {
     "name": "stdout",
     "output_type": "stream",
     "text": [
      "the array is = \n",
      " [0.95031352 0.76747565 0.82500925 0.4066403  0.45130841 0.40063163\n",
      " 0.99513816 0.17756418 0.9625969  0.41925027] \n",
      "\n",
      "the dimnetion is =  1\n",
      "the shape is =  (10,) \n",
      "\n",
      "the array is = \n",
      " [[0.42405245 0.46314887 0.37372315]\n",
      " [0.4655081  0.03516826 0.08427267]\n",
      " [0.7325207  0.63619999 0.02790779]\n",
      " [0.30017006 0.22085252 0.05501999]] \n",
      "\n",
      "the dimnetion is =  2\n",
      "the shape is =  (4, 3) \n",
      "\n"
     ]
    }
   ],
   "source": [
    "#Using random.random ((row, column))\n",
    "\n",
    "array_ = np.random.random(10)\n",
    "print(\"the array is = \\n\",array_,'\\n')\n",
    "print(\"the dimnetion is = \", array_.ndim)\n",
    "print(\"the shape is = \", array_.shape,'\\n')\n",
    "\n",
    "#Create 2D\n",
    "\n",
    "array_ = np.random.random((4,3))\n",
    "print(\"the array is = \\n\",array_,'\\n')\n",
    "print(\"the dimnetion is = \", array_.ndim)\n",
    "print(\"the shape is = \", array_.shape,'\\n')\n"
   ]
  },
  {
   "cell_type": "code",
   "execution_count": 50,
   "id": "c1443b21",
   "metadata": {},
   "outputs": [
    {
     "name": "stdout",
     "output_type": "stream",
     "text": [
      "the array is = \n",
      " [[0 1]\n",
      " [2 3]\n",
      " [4 5]\n",
      " [6 7]\n",
      " [8 9]] \n",
      "\n",
      "the dimention of this array is =  2 \n",
      "\n",
      "the shape of this array is =  (5, 2) \n",
      "\n",
      "the 1D array is =  [0 1 2 3 4 5 6 7 8 9]\n"
     ]
    },
    {
     "data": {
      "text/plain": [
       "array([0, 1, 2, 3, 4, 5, 6, 7, 8, 9])"
      ]
     },
     "execution_count": 50,
     "metadata": {},
     "output_type": "execute_result"
    }
   ],
   "source": [
    "#Using ravel and permutation\n",
    "\n",
    "array_ = np.arange(10).reshape(5,2)\n",
    "print(\"the array is = \\n\",array_, \"\\n\")\n",
    "print(\"the dimention of this array is = \", array_.ndim,\"\\n\")\n",
    "print(\"the shape of this array is = \", array_.shape,\"\\n\")\n",
    "\n",
    "#If i want to take just 1D then use ravel\n",
    "\n",
    "ravel_ = np.ravel(array_)\n",
    "print(\"the 1D array is = \", ravel_)\n",
    "\n",
    "#sort the value\n",
    "\n",
    "np.sort(ravel_)"
   ]
  },
  {
   "cell_type": "code",
   "execution_count": 51,
   "id": "80709c36",
   "metadata": {},
   "outputs": [
    {
     "name": "stdout",
     "output_type": "stream",
     "text": [
      "the array is : \n",
      " [[85 37 16 12 13 77 86 58 32 59]\n",
      " [62 15 23 99 44 85 84 10 86 23]\n",
      " [92 99 45 72 45 43 40 73 28 96]\n",
      " [60 90 94 16 83 55 40 42 37 69]\n",
      " [99 69 98 89 35 66 14 78 75 54]\n",
      " [47 85 78 63 85 63 57 70 52 80]\n",
      " [80 77 12 38 84 68 69 94 64 65]\n",
      " [94 30 39 79 61 53 42 53 28 80]\n",
      " [44 63 68 10 47 30 90 77 97 67]\n",
      " [64 66 78 35 54 32 79 19 69 37]] \n",
      "\n"
     ]
    },
    {
     "data": {
      "text/plain": [
       "array([[12, 13, 16, 32, 37, 58, 59, 77, 85, 86],\n",
       "       [10, 15, 23, 23, 44, 62, 84, 85, 86, 99],\n",
       "       [28, 40, 43, 45, 45, 72, 73, 92, 96, 99],\n",
       "       [16, 37, 40, 42, 55, 60, 69, 83, 90, 94],\n",
       "       [14, 35, 54, 66, 69, 75, 78, 89, 98, 99],\n",
       "       [47, 52, 57, 63, 63, 70, 78, 80, 85, 85],\n",
       "       [12, 38, 64, 65, 68, 69, 77, 80, 84, 94],\n",
       "       [28, 30, 39, 42, 53, 53, 61, 79, 80, 94],\n",
       "       [10, 30, 44, 47, 63, 67, 68, 77, 90, 97],\n",
       "       [19, 32, 35, 37, 54, 64, 66, 69, 78, 79]])"
      ]
     },
     "execution_count": 51,
     "metadata": {},
     "output_type": "execute_result"
    }
   ],
   "source": [
    "#Sorting Use\n",
    "\n",
    "np.random.seed(12)\n",
    "array_ = np.random.randint(10,100, (10,10))\n",
    "print(\"the array is : \\n\", array_,'\\n')\n",
    "\n",
    "#Using sort\n",
    "\n",
    "np.sort(array_)"
   ]
  },
  {
   "cell_type": "code",
   "execution_count": 52,
   "id": "e0483852",
   "metadata": {},
   "outputs": [
    {
     "name": "stdout",
     "output_type": "stream",
     "text": [
      "[(b'', 190.56) (b'', 100.1 )]\n",
      "[(b'', 100.1 ) (b'', 190.56)]\n"
     ]
    }
   ],
   "source": [
    "#User define sort\n",
    "\n",
    "data_type = np.dtype([('name', 'string_'),('data', 'float')])\n",
    "\n",
    "array_ = np.array([('abc', 190.56), ('bdc',100.10)],dtype = data_type)\n",
    "print(array_)\n",
    "print(np.sort(array_, order = 'data'))"
   ]
  },
  {
   "cell_type": "code",
   "execution_count": 53,
   "id": "1255feac",
   "metadata": {},
   "outputs": [
    {
     "name": "stdout",
     "output_type": "stream",
     "text": [
      "[[ 0  1  2  3  4  5  6  7  8  9]\n",
      " [10 11 12 13 14 15 16 17 18 19]\n",
      " [20 21 22 23 24 25 26 27 28 29]\n",
      " [30 31 32 33 34 35 36 37 38 39]\n",
      " [40 41 42 43 44 45 46 47 48 49]\n",
      " [50 51 52 53 54 55 56 57 58 59]\n",
      " [60 61 62 63 64 65 66 67 68 69]\n",
      " [70 71 72 73 74 75 76 77 78 79]\n",
      " [80 81 82 83 84 85 86 87 88 89]\n",
      " [90 91 92 93 94 95 96 97 98 99]]\n"
     ]
    },
    {
     "data": {
      "text/plain": [
       "array([[10, 11, 12, 13, 14, 15, 16, 17, 18, 19],\n",
       "       [30, 31, 32, 33, 34, 35, 36, 37, 38, 39],\n",
       "       [90, 91, 92, 93, 94, 95, 96, 97, 98, 99],\n",
       "       [60, 61, 62, 63, 64, 65, 66, 67, 68, 69],\n",
       "       [50, 51, 52, 53, 54, 55, 56, 57, 58, 59],\n",
       "       [80, 81, 82, 83, 84, 85, 86, 87, 88, 89],\n",
       "       [70, 71, 72, 73, 74, 75, 76, 77, 78, 79],\n",
       "       [ 0,  1,  2,  3,  4,  5,  6,  7,  8,  9],\n",
       "       [40, 41, 42, 43, 44, 45, 46, 47, 48, 49],\n",
       "       [20, 21, 22, 23, 24, 25, 26, 27, 28, 29]])"
      ]
     },
     "execution_count": 53,
     "metadata": {},
     "output_type": "execute_result"
    }
   ],
   "source": [
    "#Shuffle\n",
    "\n",
    "array_ = np.arange(100).reshape(10,10)\n",
    "print(array_)\n",
    "\n",
    "#now do the shuffle\n",
    "\n",
    "np.random.shuffle(array_)\n",
    "array_"
   ]
  },
  {
   "cell_type": "code",
   "execution_count": 54,
   "id": "eec8b309",
   "metadata": {},
   "outputs": [
    {
     "data": {
      "text/plain": [
       "59"
      ]
     },
     "execution_count": 54,
     "metadata": {},
     "output_type": "execute_result"
    }
   ],
   "source": [
    "#How to use random.choice\n",
    "np.random.choice(np.ravel(array_))"
   ]
  },
  {
   "cell_type": "markdown",
   "id": "7d7196cf",
   "metadata": {},
   "source": [
    "# Practise Session"
   ]
  },
  {
   "cell_type": "code",
   "execution_count": 55,
   "id": "bb153e78",
   "metadata": {},
   "outputs": [
    {
     "name": "stdout",
     "output_type": "stream",
     "text": [
      "the first array is: \n",
      " [[0 1 2 3 4]\n",
      " [5 6 7 8 9]]\n"
     ]
    }
   ],
   "source": [
    "#first create 2*5 matrix with \"integer value\"\n",
    "\n",
    "array1_ = np.arange(0,10, dtype = 'int64').reshape(2,5)\n",
    "\n",
    "print(\"the first array is: \\n\", array1_)"
   ]
  },
  {
   "cell_type": "code",
   "execution_count": 56,
   "id": "eb179045",
   "metadata": {},
   "outputs": [
    {
     "name": "stdout",
     "output_type": "stream",
     "text": [
      "the second array looks like: \n",
      " [[15 14 19 19 17]\n",
      " [20 19 15 20 15]]\n"
     ]
    }
   ],
   "source": [
    "#Create another array with 2*5 with \"integer\"\n",
    "\n",
    "array2_ = np.random.randint(11,21, (2,5))\n",
    "print(\"the second array looks like: \\n\", array2_)"
   ]
  },
  {
   "cell_type": "code",
   "execution_count": 57,
   "id": "73067ec8",
   "metadata": {},
   "outputs": [
    {
     "name": "stdout",
     "output_type": "stream",
     "text": [
      "the third array looks like: \n",
      " [[0.15416284 0.7400497  0.26331502 0.53373939 0.01457496]\n",
      " [0.91874701 0.90071485 0.03342143 0.95694934 0.13720932]]\n"
     ]
    }
   ],
   "source": [
    "#Create an another array with 2*5 matrix with \"float\"\n",
    "\n",
    "np.random.seed(12)\n",
    "array3_ = np.random.rand(2,5)\n",
    "print(\"the third array looks like: \\n\", array3_)"
   ]
  },
  {
   "cell_type": "code",
   "execution_count": 58,
   "id": "9f2af170",
   "metadata": {},
   "outputs": [
    {
     "name": "stdout",
     "output_type": "stream",
     "text": [
      "after ceiling the third array looks like: \n",
      " [[15 74 26 53  1]\n",
      " [91 90  3 95 13]]\n"
     ]
    }
   ],
   "source": [
    "#now modify the third array, which value .5222 it will be represent 52, 0.74 will be represent as 74\n",
    "\n",
    "array3_ = array3_*100\n",
    "array3_ = np.floor(array3_)\n",
    "array3_ = array3_.astype(int)\n",
    "\n",
    "print(\"after ceiling the third array looks like: \\n\",array3_)"
   ]
  },
  {
   "cell_type": "code",
   "execution_count": 59,
   "id": "88c2b787",
   "metadata": {},
   "outputs": [
    {
     "name": "stdout",
     "output_type": "stream",
     "text": [
      "the random value is: \n",
      " [0.15416284 0.7400497  0.26331502 0.53373939 0.01457496 0.91874701\n",
      " 0.90071485 0.03342143 0.95694934 0.13720932] \n",
      "\n",
      "the type of this random value is:  <class 'numpy.ndarray'> \n",
      "\n",
      "the data type of this random value is:  float64 \n",
      "\n",
      "after ceiling the array looks like:  [16 75 27 54  2 92 91  4 96 14]\n"
     ]
    }
   ],
   "source": [
    "#Create a list where random number will be presence and create foutrh array with 2*5 matrix\n",
    "\n",
    "list_ = []\n",
    "\n",
    "np.random.seed(12)\n",
    "random_ = np.random.random((2,5))\n",
    "random_ = np.ravel(random_)\n",
    "print(\"the random value is: \\n\",random_,'\\n')\n",
    "print(\"the type of this random value is: \", type(random_),'\\n')\n",
    "print(\"the data type of this random value is: \", random_.dtype,'\\n')\n",
    "\n",
    "#now convert the float64 to int\n",
    "\n",
    "random_ = random_*100\n",
    "random_ = np.ceil(random_)\n",
    "random_ = random_.astype(int)\n",
    "print(\"after ceiling the array looks like: \", random_)"
   ]
  },
  {
   "cell_type": "code",
   "execution_count": 60,
   "id": "edb969a5",
   "metadata": {},
   "outputs": [
    {
     "name": "stdout",
     "output_type": "stream",
     "text": [
      "after converting the numpy array into list, the array looks like:  [16, 75, 27, 54, 2, 92, 91, 4, 96, 14] \n",
      "\n",
      "the type of this is:  <class 'list'>\n"
     ]
    }
   ],
   "source": [
    "random_ = list(random_)\n",
    "print(\"after converting the numpy array into list, the array looks like: \", random_,'\\n')\n",
    "print(\"the type of this is: \", type(random_))"
   ]
  },
  {
   "cell_type": "code",
   "execution_count": 61,
   "id": "a7539553",
   "metadata": {},
   "outputs": [
    {
     "name": "stdout",
     "output_type": "stream",
     "text": [
      "the dummy shape looks like: \n",
      " [[0 0 0 0 0]\n",
      " [0 0 0 0 0]] \n",
      "\n",
      "the dimention of this dummy is:  2 \n",
      "\n",
      "the shape of this dummy is:  (2, 5) \n",
      "\n",
      "the row is: [0 1] \n",
      "\n",
      "the col_ is: [0 1 2 3 4]\n"
     ]
    }
   ],
   "source": [
    "#Now create the fourth matrix\n",
    "\n",
    "dummy_ = np.zeros((2,5), dtype = 'int64')\n",
    "print(\"the dummy shape looks like: \\n\", dummy_,'\\n')\n",
    "print(\"the dimention of this dummy is: \",dummy_.ndim,'\\n')\n",
    "print(\"the shape of this dummy is: \", dummy_.shape,'\\n')\n",
    "\n",
    "row_ = np.arange(0, dummy_.shape[0])\n",
    "print(\"the row is:\", row_,'\\n')\n",
    "col_ = np.arange(0, dummy_.shape[1])\n",
    "print(\"the col_ is:\", col_)\n",
    "\n"
   ]
  },
  {
   "cell_type": "code",
   "execution_count": 62,
   "id": "1264f96b",
   "metadata": {},
   "outputs": [
    {
     "name": "stdout",
     "output_type": "stream",
     "text": [
      "(0, 0)\n",
      "(0, 1)\n",
      "(0, 2)\n",
      "(0, 3)\n",
      "(0, 4)\n",
      "(1, 0)\n",
      "(1, 1)\n",
      "(1, 2)\n",
      "(1, 3)\n",
      "(1, 4)\n",
      "0 (0, 0)\n",
      "1 (0, 1)\n",
      "2 (0, 2)\n",
      "3 (0, 3)\n",
      "4 (0, 4)\n",
      "5 (1, 0)\n",
      "6 (1, 1)\n",
      "7 (1, 2)\n",
      "8 (1, 3)\n",
      "9 (1, 4)\n"
     ]
    }
   ],
   "source": [
    "import itertools\n",
    "\n",
    "for combination_ in list(itertools.product(row_,col_)):\n",
    "    print(combination_)\n",
    "#here in itertools.product(there is no need pass the [], ok ?)  \n",
    "\n",
    "# output:\n",
    "# (0, 0)\n",
    "# (0, 1)\n",
    "# (0, 2)\n",
    "# (0, 3)\n",
    "# (0, 4)\n",
    "# (1, 0)\n",
    "# (1, 1)\n",
    "# (1, 2)\n",
    "# (1, 3)\n",
    "# (1, 4)\n",
    "\n",
    "for index_, combination_ in enumerate(list(itertools.product(row_,col_))):\n",
    "    print(index_, combination_)\n",
    "    \n",
    "# output:\n",
    "# 0 (0, 0)\n",
    "# 1 (0, 1)\n",
    "# 2 (0, 2)\n",
    "# 3 (0, 3)\n",
    "# 4 (0, 4)\n",
    "# 5 (1, 0)\n",
    "# 6 (1, 1)\n",
    "# 7 (1, 2)\n",
    "# 8 (1, 3)\n",
    "# 9 (1, 4)\n"
   ]
  },
  {
   "cell_type": "code",
   "execution_count": 63,
   "id": "501569e3",
   "metadata": {},
   "outputs": [],
   "source": [
    "#now create a combination of rows and columns\n",
    "import itertools\n",
    "\n",
    "for index_, combination_ in enumerate(list(itertools.product(row_, col_))):\n",
    "    dummy_[combination_] = random_[index_]"
   ]
  },
  {
   "cell_type": "code",
   "execution_count": 64,
   "id": "b874840d",
   "metadata": {},
   "outputs": [
    {
     "name": "stdout",
     "output_type": "stream",
     "text": [
      "the dummy_ array looks like: \n",
      " [[16 75 27 54  2]\n",
      " [92 91  4 96 14]] \n",
      "\n",
      "the shape of this dummy_ is:  (2, 5) \n",
      "\n",
      "the dimention of this dummy is: 2 \n",
      "\n",
      "the type of this dummy is:  int64\n"
     ]
    }
   ],
   "source": [
    "print(\"the dummy_ array looks like: \\n\",dummy_,'\\n')\n",
    "print('the shape of this dummy_ is: ', dummy_.shape,'\\n')\n",
    "print(\"the dimention of this dummy is:\", dummy_.ndim,'\\n')\n",
    "print(\"the type of this dummy is: \", dummy_.dtype)"
   ]
  },
  {
   "cell_type": "code",
   "execution_count": 65,
   "id": "0747c1cf",
   "metadata": {},
   "outputs": [
    {
     "name": "stdout",
     "output_type": "stream",
     "text": [
      "the first array is: \n",
      " [[0 1 2 3 4]\n",
      " [5 6 7 8 9]] \n",
      "\n",
      "the second array is: \n",
      " [[15 14 19 19 17]\n",
      " [20 19 15 20 15]] \n",
      "\n",
      "the third array is: \n",
      " [[15 74 26 53  1]\n",
      " [91 90  3 95 13]] \n",
      "\n",
      "the fourth array is: \n",
      " [[16 75 27 54  2]\n",
      " [92 91  4 96 14]] \n",
      "\n"
     ]
    }
   ],
   "source": [
    "#Now print the all the array which we created so far\n",
    "\n",
    "print(\"the first array is: \\n\", array1_,'\\n')\n",
    "print(\"the second array is: \\n\", array2_,'\\n')\n",
    "print(\"the third array is: \\n\", array3_,'\\n')\n",
    "print(\"the fourth array is: \\n\", dummy_,'\\n')"
   ]
  },
  {
   "cell_type": "code",
   "execution_count": 66,
   "id": "d4bd863d",
   "metadata": {},
   "outputs": [
    {
     "name": "stdout",
     "output_type": "stream",
     "text": [
      "the merge_ array looks like: \n",
      " [[ 0  1  2  3  4]\n",
      " [ 5  6  7  8  9]\n",
      " [15 14 19 19 17]\n",
      " [20 19 15 20 15]\n",
      " [15 74 26 53  1]\n",
      " [91 90  3 95 13]\n",
      " [16 75 27 54  2]\n",
      " [92 91  4 96 14]] \n",
      "\n",
      "the dimention of this array is: 2 \n",
      "\n",
      "the shape of this array is: (8, 5) \n",
      "\n",
      "the type of this array is: <class 'numpy.ndarray'> \n",
      "\n",
      "the data data type of this array is: int64 \n",
      "\n"
     ]
    }
   ],
   "source": [
    "#Now merge all the sub array \n",
    "\n",
    "array_ = np.vstack((array1_, array2_, array3_, dummy_))\n",
    "\n",
    "print(\"the merge_ array looks like: \\n\", array_,'\\n')\n",
    "print(\"the dimention of this array is:\", array_.ndim,'\\n')\n",
    "print(\"the shape of this array is:\", array_.shape,'\\n')\n",
    "print(\"the type of this array is:\", type(array_),'\\n')\n",
    "print(\"the data data type of this array is:\", array_.dtype,'\\n')"
   ]
  },
  {
   "cell_type": "code",
   "execution_count": 67,
   "id": "1c0d5fe3",
   "metadata": {},
   "outputs": [],
   "source": [
    "array = array_.copy()"
   ]
  },
  {
   "cell_type": "code",
   "execution_count": 68,
   "id": "46bd99ac",
   "metadata": {},
   "outputs": [
    {
     "data": {
      "text/plain": [
       "array([[ True, False,  True, False,  True],\n",
       "       [False,  True, False,  True, False],\n",
       "       [False,  True, False, False, False],\n",
       "       [ True, False, False,  True, False],\n",
       "       [False,  True,  True, False, False],\n",
       "       [False,  True, False, False, False],\n",
       "       [ True, False, False,  True,  True],\n",
       "       [ True, False,  True,  True,  True]])"
      ]
     },
     "execution_count": 68,
     "metadata": {},
     "output_type": "execute_result"
    }
   ],
   "source": [
    "#Now in that certain array, find the even number and put there odd numbers randomly: using iteratively and print it\n",
    "\n",
    "#Check\n",
    "array_%2==0"
   ]
  },
  {
   "cell_type": "code",
   "execution_count": 69,
   "id": "206eea34",
   "metadata": {},
   "outputs": [
    {
     "name": "stdout",
     "output_type": "stream",
     "text": [
      "the index is =  (array([0, 0, 0, 1, 1, 2, 3, 3, 4, 4, 5, 6, 6, 6, 7, 7, 7, 7], dtype=int64), array([0, 2, 4, 1, 3, 1, 0, 3, 1, 2, 1, 0, 3, 4, 0, 2, 3, 4], dtype=int64))\n"
     ]
    }
   ],
   "source": [
    "#Now find the index_\n",
    "\n",
    "index_ = np.where(array_%2==0)\n",
    "print(\"the index is = \", index_)"
   ]
  },
  {
   "cell_type": "code",
   "execution_count": 70,
   "id": "4171944b",
   "metadata": {},
   "outputs": [
    {
     "name": "stdout",
     "output_type": "stream",
     "text": [
      "0 0\n",
      "0 2\n",
      "0 4\n",
      "1 1\n",
      "1 3\n",
      "2 1\n",
      "3 0\n",
      "3 3\n",
      "4 1\n",
      "4 2\n",
      "5 1\n",
      "6 0\n",
      "6 3\n",
      "6 4\n",
      "7 0\n",
      "7 2\n",
      "7 3\n",
      "7 4\n"
     ]
    }
   ],
   "source": [
    "#Print the combination of index_\n",
    "for row_, col_ in zip(index_[0], index_[1]):\n",
    "    print(row_, col_)"
   ]
  },
  {
   "cell_type": "code",
   "execution_count": 71,
   "id": "8f63d32a",
   "metadata": {},
   "outputs": [],
   "source": [
    "#now create some odd numbers randomly\n",
    "\n",
    "def random_generate():\n",
    "    random_odd_ = -1\n",
    "    while True:\n",
    "        odd_ = np.random.randint(1,18)\n",
    "        if odd_%2 == 0:\n",
    "            continue\n",
    "        else:\n",
    "            random_odd_ = odd_\n",
    "            break\n",
    "    return random_odd_"
   ]
  },
  {
   "cell_type": "code",
   "execution_count": 72,
   "id": "4aff9549",
   "metadata": {},
   "outputs": [
    {
     "data": {
      "text/plain": [
       "array([[ 1,  1,  9,  3, 13],\n",
       "       [ 5,  5,  7,  1,  9],\n",
       "       [15, 17, 19, 19, 17],\n",
       "       [ 7, 19, 15, 17, 15],\n",
       "       [15,  1, 15, 53,  1],\n",
       "       [91,  5,  3, 95, 13],\n",
       "       [ 1, 75, 27,  5, 13],\n",
       "       [ 5, 91,  1, 11,  7]], dtype=int64)"
      ]
     },
     "execution_count": 72,
     "metadata": {},
     "output_type": "execute_result"
    }
   ],
   "source": [
    "#Now, store the odd value in the even number \n",
    "\n",
    "for row_, col_ in zip(index_[0], index_[1]):\n",
    "    odd_ = random_generate()\n",
    "    array_[row_, col_] = odd_\n",
    "\n",
    "array_"
   ]
  },
  {
   "cell_type": "code",
   "execution_count": 73,
   "id": "55a78a3f",
   "metadata": {},
   "outputs": [
    {
     "name": "stdout",
     "output_type": "stream",
     "text": [
      "All are even:\n"
     ]
    }
   ],
   "source": [
    "#Now Check whether that certain array really contains all odd items or not\n",
    "\n",
    "check_ = array_%2!=0\n",
    "\n",
    "if check_.all() == True:\n",
    "    print('All are even:')\n",
    "else:\n",
    "    print(\"there might be having odd\")"
   ]
  },
  {
   "cell_type": "code",
   "execution_count": 74,
   "id": "d270ff50",
   "metadata": {},
   "outputs": [
    {
     "name": "stdout",
     "output_type": "stream",
     "text": [
      "there might be having odd\n"
     ]
    }
   ],
   "source": [
    "#Check that code really works or not\n",
    "dummy = array_.copy()\n",
    "dummy[0,0] = 26\n",
    "\n",
    "check_ = dummy%2!=0\n",
    "\n",
    "if check_.all() == True:\n",
    "    print('All are even:')\n",
    "else:\n",
    "    print(\"there might be having odd\")"
   ]
  },
  {
   "cell_type": "code",
   "execution_count": 75,
   "id": "1bfa177a",
   "metadata": {},
   "outputs": [
    {
     "name": "stdout",
     "output_type": "stream",
     "text": [
      "the array looks like: \n",
      " [[ 0  1  2  3  4]\n",
      " [ 5  6  7  8  9]\n",
      " [15 14 19 19 17]\n",
      " [20 19 15 20 15]\n",
      " [15 74 26 53  1]\n",
      " [91 90  3 95 13]\n",
      " [16 75 27 54  2]\n",
      " [92 91  4 96 14]] \n",
      "\n",
      "the odd looks like: \n",
      " [[ 7  1  7  3  7]\n",
      " [ 5  7  7  7  9]\n",
      " [15  7 19 19 17]\n",
      " [ 7 19 15  7 15]\n",
      " [15  7  7 53  1]\n",
      " [91  7  3 95 13]\n",
      " [ 7 75 27  7  7]\n",
      " [ 7 91  7  7  7]] \n",
      "\n",
      "All are odd_\n"
     ]
    }
   ],
   "source": [
    "#Do the same things using np.where(condition, action postive, action negative)\n",
    "\n",
    "print(\"the array looks like: \\n\", array,'\\n')\n",
    "\n",
    "odd_ = np.where(array%2 == 0, random_generate(), array)\n",
    "\n",
    "print(\"the odd looks like: \\n\", odd_,'\\n')\n",
    "\n",
    "check_ = odd_%2 == 0\n",
    "\n",
    "if check_.all() == True:\n",
    "    print('there might be having odd numbers')\n",
    "else:\n",
    "    print('All are odd_')"
   ]
  },
  {
   "cell_type": "code",
   "execution_count": 76,
   "id": "3e96dbbe",
   "metadata": {},
   "outputs": [
    {
     "name": "stdout",
     "output_type": "stream",
     "text": [
      "True\n"
     ]
    }
   ],
   "source": [
    "#How to Use Lambda\n",
    "\n",
    "# list_ = [1,2,3,4,5,6,7,8,9,10]\n",
    "\n",
    "# fuc_ = lambda lis_: lis_ if (lis_!=5) else 'false'\n",
    "# add_ = fuc_(list_)\n",
    "# print(add_)\n",
    "\n",
    "function_ = lambda number1_, number2_: 'True' if (number1_>number2_) else 'False'\n",
    "\n",
    "print(function_(10,5))"
   ]
  },
  {
   "cell_type": "code",
   "execution_count": 77,
   "id": "16757e48",
   "metadata": {},
   "outputs": [
    {
     "name": "stdout",
     "output_type": "stream",
     "text": [
      "False\n"
     ]
    },
    {
     "data": {
      "text/plain": [
       "266"
      ]
     },
     "execution_count": 77,
     "metadata": {},
     "output_type": "execute_result"
    }
   ],
   "source": [
    "list_ = [1,2,3,4,5,266, 6,7,8,9,10]\n",
    "func_ = lambda list_: True if (len(list_) == 10) else False\n",
    "print(func_(list_))\n",
    "max(list_)"
   ]
  },
  {
   "cell_type": "code",
   "execution_count": 78,
   "id": "c4426c94",
   "metadata": {},
   "outputs": [
    {
     "name": "stdout",
     "output_type": "stream",
     "text": [
      "[6, 7, 8, 9, 10]\n"
     ]
    }
   ],
   "source": [
    "list_ = [1,2,3,4,5,6,7,8,9,10]\n",
    "\n",
    "func_ = list(filter(lambda list_: list_>5, list_))\n",
    "print(func_)"
   ]
  },
  {
   "cell_type": "code",
   "execution_count": 79,
   "id": "ce98ebdd",
   "metadata": {},
   "outputs": [
    {
     "name": "stdout",
     "output_type": "stream",
     "text": [
      "[11, 12, 13, 14, 15, 16, 17, 18, 19]\n",
      "[3.3166247903554, 3.4641016151377544, 3.605551275463989, 3.7416573867739413, 3.872983346207417, 4.0, 4.123105625617661, 4.242640687119285, 4.358898943540674]\n"
     ]
    }
   ],
   "source": [
    "list_ = [11, 12, 13, 14, 15, 16, 17, 18, 19]\n",
    "print(list_)\n",
    "\n",
    "func_ = list(map(lambda value_: np.sqrt(value_), list_))\n",
    "print(func_)"
   ]
  },
  {
   "cell_type": "code",
   "execution_count": 80,
   "id": "748a58d2",
   "metadata": {},
   "outputs": [
    {
     "name": "stdout",
     "output_type": "stream",
     "text": [
      "[[3, 1, 2], [4, 6, 5], [8, 10, 9, 6]] \n",
      "\n",
      "after sorting:  [[3, 1, 2], [4, 6, 5], [8, 10, 9, 6]] \n",
      "\n",
      "index 0 contains:  [3, 1, 2]\n",
      "index 1 contains:  [4, 6, 5]\n",
      "index 2 contains:  [8, 10, 9, 6]\n",
      " \n",
      "after sorting the value of that list_ looks like: \n",
      " [[1, 2, 3], [4, 5, 6], [6, 8, 9, 10]] \n",
      "\n",
      "after sorting the list_ looks like: \n",
      " [[1, 2, 3], [4, 5, 6], [6, 8, 9, 10]]\n"
     ]
    }
   ],
   "source": [
    "list_ = [[3,1,2],[4,6,5],[8,10,9,6]]\n",
    "list1_ = [[3,1,2],[4,6,5],[8,10,9,6]]\n",
    "list2_ = [1,2,3,4,5,6]\n",
    "print(list_,'\\n')\n",
    "\n",
    "list_.sort(reverse = False)\n",
    "print(\"after sorting: \", list_,'\\n')\n",
    "#it doesn't sort due to it contains 2D. what we will have to do is write a loop and in loop we will sort\n",
    "\n",
    "for index_, value_ in enumerate(list_):\n",
    "    print(\"index\", index_, \"contains: \",value_)\n",
    "    value_.sort(reverse = False)\n",
    "    \n",
    "print(' ')\n",
    "\n",
    "print(\"after sorting the value of that list_ looks like: \\n\", list_,'\\n')\n",
    "\n",
    "\n",
    "#Here, we were using loop just to do a sort, we can use it in different ways\n",
    "\n",
    "sort_ = [sorted(value_, reverse = False) for value_ in list_]\n",
    "print(\"after sorting the list_ looks like: \\n\", sort_)"
   ]
  },
  {
   "cell_type": "code",
   "execution_count": 81,
   "id": "c2b75682",
   "metadata": {},
   "outputs": [
    {
     "name": "stdout",
     "output_type": "stream",
     "text": [
      "the random array looks like: \n",
      " [[0.15416284 0.7400497  0.26331502 0.53373939 0.01457496]\n",
      " [0.91874701 0.90071485 0.03342143 0.95694934 0.13720932]\n",
      " [0.28382835 0.60608318 0.94422514 0.85273554 0.00225923]\n",
      " [0.52122603 0.55203763 0.48537741 0.76813415 0.16071675]] \n",
      "\n",
      "the dimnention of this array is:  2 \n",
      "0\n",
      "the shape of this array is:  (4, 5) \n",
      "\n",
      "the data type of this array is: float64 \n",
      "\n",
      "the type of this array is:  <class 'numpy.ndarray'> \n",
      "\n",
      "the sort list looks like: \n",
      " [[0.7400496965154048, 0.5337393933802977, 0.26331501518513467, 0.15416284237967237, 0.014574962485419674], [0.9569493362751168, 0.918747008099885, 0.9007148541170122, 0.13720932135607644, 0.03342142762634459], [0.9442251360530421, 0.852735541109285, 0.6060831843588289, 0.28382835295794584, 0.002259233518513537], [0.7681341540644223, 0.5520376332645666, 0.5212260272202929, 0.4853774136627097, 0.1607167531255701]]\n"
     ]
    },
    {
     "data": {
      "text/plain": [
       "[[True, True, False, False, False],\n",
       " [True, True, True, False, False],\n",
       " [True, True, True, False, False],\n",
       " [True, True, True, False, False]]"
      ]
     },
     "execution_count": 81,
     "metadata": {},
     "output_type": "execute_result"
    }
   ],
   "source": [
    "#Some opration in a list\n",
    "\n",
    "np.random.seed(12)\n",
    "array_ = np.random.random((4,5))\n",
    "print(\"the random array looks like: \\n\", array_,'\\n')\n",
    "print(\"the dimnention of this array is: \", array_.ndim,'\\n0')\n",
    "print(\"the shape of this array is: \", array_.shape,'\\n')\n",
    "print(\"the data type of this array is:\", array_.dtype,'\\n')\n",
    "print(\"the type of this array is: \", type(array),'\\n')\n",
    "\n",
    "#Now convert this array into 1D\n",
    "\n",
    "# array_ = np.ravel(array_)\n",
    "# print(\"after converting the array looks like: \\n\",array_,'\\n')\n",
    "# print(\"the dimnention of this array is: \", array_.ndim,'\\n')\n",
    "# print(\"the shape of this array is: \", array_.shape,'\\n')\n",
    "# print(\"the data type of this array is:\", array_.dtype,'\\n')\n",
    "# print(\"the type of this array is: \", type(array),'\\n')\n",
    "\n",
    "#Conert numpy to list; it will convert the same way as it was there in numpy, if numpy was 2D then the same way(2D) it will be..\n",
    "list_ = array_.tolist()\n",
    "\n",
    "# output:\n",
    "\n",
    "# [[0.15416284237967237,\n",
    "#   0.7400496965154048,\n",
    "#   0.26331501518513467,\n",
    "#   0.5337393933802977,\n",
    "#   0.014574962485419674],\n",
    "#  [0.918747008099885,\n",
    "#   0.9007148541170122,\n",
    "#   0.03342142762634459,\n",
    "#   0.9569493362751168,\n",
    "#   0.13720932135607644],\n",
    "#  [0.28382835295794584,\n",
    "#   0.6060831843588289,\n",
    "#   0.9442251360530421,\n",
    "#   0.852735541109285,\n",
    "#   0.002259233518513537],\n",
    "#  [0.5212260272202929,\n",
    "#   0.5520376332645666,\n",
    "#   0.4853774136627097,\n",
    "#   0.7681341540644223,\n",
    "#   0.1607167531255701]]\n",
    "\n",
    "#Now sort the list_ as Descending order\n",
    "\n",
    "sorted_ = [sorted(value_, reverse = True) for value_ in list_]\n",
    "print(\"the sort list looks like: \\n\", sorted_)\n",
    "\n",
    "#Now i want to take those value who is grater then >0.50\n",
    "\n",
    "found_ = [[(value > .50)for value in value_] for value_ in sorted_]\n",
    "found_"
   ]
  },
  {
   "cell_type": "code",
   "execution_count": 82,
   "id": "28337ff6",
   "metadata": {},
   "outputs": [
    {
     "data": {
      "text/plain": [
       "[[True, True, False, False, False],\n",
       " [True, True, True, False, False],\n",
       " [True, True, True, False, False],\n",
       " [True, True, True, False, False]]"
      ]
     },
     "execution_count": 82,
     "metadata": {},
     "output_type": "execute_result"
    }
   ],
   "source": [
    "found_"
   ]
  },
  {
   "cell_type": "code",
   "execution_count": 83,
   "id": "c31b7bfe",
   "metadata": {},
   "outputs": [],
   "source": [
    "index_ = [[(index, each_index_) for each_index_, value_ in enumerate(check_) if value_ == True] for index, check_ in enumerate(found_)]"
   ]
  },
  {
   "cell_type": "code",
   "execution_count": 84,
   "id": "fdc3fbc1",
   "metadata": {},
   "outputs": [
    {
     "data": {
      "text/plain": [
       "[[(0, 0), (0, 1)],\n",
       " [(1, 0), (1, 1), (1, 2)],\n",
       " [(2, 0), (2, 1), (2, 2)],\n",
       " [(3, 0), (3, 1), (3, 2)]]"
      ]
     },
     "execution_count": 84,
     "metadata": {},
     "output_type": "execute_result"
    }
   ],
   "source": [
    "index_"
   ]
  },
  {
   "cell_type": "code",
   "execution_count": 85,
   "id": "249aa0dd",
   "metadata": {},
   "outputs": [
    {
     "name": "stdout",
     "output_type": "stream",
     "text": [
      "list_  [[0.7400496965154048, 0.5337393933802977]]\n",
      " \n",
      "list_  [[0.7400496965154048, 0.5337393933802977], [0.9569493362751168, 0.918747008099885, 0.9007148541170122]]\n",
      " \n",
      "list_  [[0.7400496965154048, 0.5337393933802977], [0.9569493362751168, 0.918747008099885, 0.9007148541170122], [0.9442251360530421, 0.852735541109285, 0.6060831843588289]]\n",
      " \n",
      "list_  [[0.7400496965154048, 0.5337393933802977], [0.9569493362751168, 0.918747008099885, 0.9007148541170122], [0.9442251360530421, 0.852735541109285, 0.6060831843588289], [0.7681341540644223, 0.5520376332645666, 0.5212260272202929]]\n",
      " \n"
     ]
    },
    {
     "data": {
      "text/plain": [
       "[[0.7400496965154048, 0.5337393933802977],\n",
       " [0.9569493362751168, 0.918747008099885, 0.9007148541170122],\n",
       " [0.9442251360530421, 0.852735541109285, 0.6060831843588289],\n",
       " [0.7681341540644223, 0.5520376332645666, 0.5212260272202929]]"
      ]
     },
     "execution_count": 85,
     "metadata": {},
     "output_type": "execute_result"
    }
   ],
   "source": [
    "list_ = []\n",
    "dummy_ = np.zeros(10000, dtype = 'float')\n",
    "for index in index_:\n",
    "    count = 0\n",
    "    for each in index:\n",
    "#         print(each[0], each[1])\n",
    "        dummy_[count] = sorted_[each[0]][each[1]]\n",
    "#         print(sorted_[each[0]][each[1]])\n",
    "        count = count + 1\n",
    "#     print(\"dummy = \",dummy_[:count])\n",
    "    list_.append(dummy_[0:count].tolist())\n",
    "    print(\"list_ \",list_)\n",
    "#     dummy_[0:count] = 0\n",
    "    print(' ')\n",
    "list_"
   ]
  },
  {
   "cell_type": "code",
   "execution_count": 86,
   "id": "ca1f7011",
   "metadata": {},
   "outputs": [
    {
     "data": {
      "text/plain": [
       "[[0.7400496965154048, 0.5337393933802977],\n",
       " [0.9569493362751168, 0.918747008099885, 0.9007148541170122],\n",
       " [0.9442251360530421, 0.852735541109285, 0.6060831843588289],\n",
       " [0.7681341540644223, 0.5520376332645666, 0.5212260272202929]]"
      ]
     },
     "execution_count": 86,
     "metadata": {},
     "output_type": "execute_result"
    }
   ],
   "source": [
    "list_"
   ]
  },
  {
   "cell_type": "code",
   "execution_count": 87,
   "id": "655a3415",
   "metadata": {},
   "outputs": [
    {
     "data": {
      "text/plain": [
       "[[(0, 0), (0, 1)],\n",
       " [(1, 0), (1, 1), (1, 2)],\n",
       " [(2, 0), (2, 1), (2, 2)],\n",
       " [(3, 0), (3, 1), (3, 2)]]"
      ]
     },
     "execution_count": 87,
     "metadata": {},
     "output_type": "execute_result"
    }
   ],
   "source": [
    "[[(Index) for Index in index] for index in index_]"
   ]
  },
  {
   "cell_type": "code",
   "execution_count": 88,
   "id": "ec087c04",
   "metadata": {},
   "outputs": [
    {
     "data": {
      "text/plain": [
       "(0, 1)"
      ]
     },
     "execution_count": 88,
     "metadata": {},
     "output_type": "execute_result"
    }
   ],
   "source": [
    "[(0, 0), (0, 1)]\n",
    "[(1, 0), (1, 1), (1, 2)]\n",
    "\n",
    "(0, 0)\n",
    "(0, 1)"
   ]
  },
  {
   "cell_type": "code",
   "execution_count": 89,
   "id": "b0c2c184",
   "metadata": {},
   "outputs": [],
   "source": [
    "# index       check_\n",
    "# 0     [True, True, False, False, False]\n",
    "# 1     [True, True, True, False, False]\n",
    "\n",
    " \n",
    "# True- 0, True- 1, False - 2, False-3, False - 4"
   ]
  },
  {
   "cell_type": "code",
   "execution_count": 90,
   "id": "06b4cc0c",
   "metadata": {},
   "outputs": [
    {
     "name": "stdout",
     "output_type": "stream",
     "text": [
      "0.7400496965154048\n",
      "0.5337393933802977\n",
      " \n",
      "0.9569493362751168\n",
      "0.918747008099885\n",
      "0.9007148541170122\n",
      " \n",
      "0.9442251360530421\n",
      "0.852735541109285\n",
      "0.6060831843588289\n",
      " \n",
      "0.7681341540644223\n",
      "0.5520376332645666\n",
      "0.5212260272202929\n",
      " \n",
      "[100.7400496965154, 100.5337393933803]\n",
      "[100.95694933627512, 100.91874700809988, 100.90071485411701]\n",
      "[100.94422513605305, 100.85273554110928, 100.60608318435882]\n",
      "[100.76813415406443, 100.55203763326456, 100.5212260272203]\n"
     ]
    },
    {
     "data": {
      "text/plain": [
       "[[100.7400496965154, 100.5337393933803],\n",
       " [100.95694933627512, 100.91874700809988, 100.90071485411701],\n",
       " [100.94422513605305, 100.85273554110928, 100.60608318435882],\n",
       " [100.76813415406443, 100.55203763326456, 100.5212260272203]]"
      ]
     },
     "execution_count": 90,
     "metadata": {},
     "output_type": "execute_result"
    }
   ],
   "source": [
    "for value_ in list_:\n",
    "    for value in value_:\n",
    "        print(value)\n",
    "    print(' ')\n",
    "\n",
    "# output:\n",
    "# 0.7400496965154048\n",
    "# 0.5337393933802977\n",
    " \n",
    "# 0.9569493362751168\n",
    "# 0.918747008099885\n",
    "# 0.9007148541170122\n",
    " \n",
    "# 0.9442251360530421\n",
    "# 0.852735541109285\n",
    "# 0.6060831843588289\n",
    " \n",
    "# 0.7681341540644223\n",
    "# 0.5520376332645666\n",
    "# 0.5212260272202929\n",
    "\n",
    "for value_ in list_:\n",
    "    list1_ = []\n",
    "    for value in value_:\n",
    "        list1_.append(value+100)\n",
    "    print(list1_)\n",
    "    \n",
    "# output:\n",
    "# [[100.7400496965154, 100.5337393933803],\n",
    "#  [100.95694933627512, 100.91874700809988, 100.90071485411701],\n",
    "#  [100.94422513605305, 100.85273554110928, 100.60608318435882],\n",
    "#  [100.76813415406443, 100.55203763326456, 100.5212260272203]]\n",
    "\n",
    "\n",
    "#We do this in a single line\n",
    "\n",
    "[[(value+100) for value in value_] for value_ in list_]\n",
    "\n",
    "# output:\n",
    "# [[100.7400496965154, 100.5337393933803],\n",
    "#  [100.95694933627512, 100.91874700809988, 100.90071485411701],\n",
    "#  [100.94422513605305, 100.85273554110928, 100.60608318435882],\n",
    "#  [100.76813415406443, 100.55203763326456, 100.5212260272203]]"
   ]
  },
  {
   "cell_type": "markdown",
   "id": "ef32c00f",
   "metadata": {},
   "source": [
    "# Lambda \n"
   ]
  },
  {
   "cell_type": "code",
   "execution_count": 91,
   "id": "18ecf2e8",
   "metadata": {},
   "outputs": [
    {
     "name": "stdout",
     "output_type": "stream",
     "text": [
      "[1, 2, 3, 4, 5, 6, 7, 8, 9, 10]\n",
      "False means- the two lists are not same\n"
     ]
    }
   ],
   "source": [
    "##For 1D array\n",
    "\n",
    "list_ = [1,2,3,4,5,6,7,8,9,10]\n",
    "\n",
    "func_ = lambda take_: take_\n",
    "\n",
    "print(func_(list_))\n",
    "\n",
    "#if i want to take two list then\n",
    "\n",
    "list1_ = [1,2,3,4,5,6,7,8,9,10]\n",
    "list2_ = [10,9,8,7,6,5,4,3,2,1]\n",
    "\n",
    "func_ = lambda take1_, take2_ : take1_== take2_\n",
    "\n",
    "if func_(list1_, list2_) == False:\n",
    "    print('False means- the two lists are not same')\n",
    "else:\n",
    "    print('True maens- two lists are same')"
   ]
  },
  {
   "cell_type": "code",
   "execution_count": 92,
   "id": "05175378",
   "metadata": {},
   "outputs": [
    {
     "name": "stdout",
     "output_type": "stream",
     "text": [
      "the list is =  [10, 77, 88, 10, 72, 93, 73]\n"
     ]
    }
   ],
   "source": [
    "list_ = [10,77,88,10,72,93,73]\n",
    "\n",
    "print(\"the list is = \", list_)"
   ]
  },
  {
   "cell_type": "code",
   "execution_count": 93,
   "id": "53ebeda9",
   "metadata": {},
   "outputs": [
    {
     "name": "stdout",
     "output_type": "stream",
     "text": [
      "after adding the data is =  [12, 79, 90, 12, 74, 95, 75]\n"
     ]
    }
   ],
   "source": [
    "#If i want to add by 2 to all list items then\n",
    "\n",
    "def add(data_):\n",
    "    \n",
    "    return data_ + 2\n",
    "\n",
    "# list1_ = []\n",
    "\n",
    "# for value_ in list_:\n",
    "    \n",
    "#     list1_.append(value_ + 2)\n",
    "    \n",
    "# print('after adding, the list is = ', list1_)\n",
    "\n",
    "# output:\n",
    "# after adding, the list is =  [12, 79, 90, 12, 74, 95, 75]\n",
    "\n",
    "#We can do it by using \"MAP\"\n",
    "\n",
    "# func_ = list(map(add, list_))\n",
    "\n",
    "# print(\"after adding, the list_ looks like: \", func_)\n",
    "\n",
    "# output:\n",
    "# after adding, the list_ looks like:  [12, 79, 90, 12, 74, 95, 75]\n",
    "\n",
    "#We can change the function -(add) by using lambda\n",
    "\n",
    "func_ = list(map(lambda data_: data_ + 2, list_))\n",
    "print(\"after adding the data is = \", func_)\n",
    "\n",
    "# output:\n",
    "# after adding the data is =  [12, 79, 90, 12, 74, 95, 75]"
   ]
  },
  {
   "cell_type": "markdown",
   "id": "6dd72039",
   "metadata": {},
   "source": [
    "# Map and Lambda"
   ]
  },
  {
   "cell_type": "code",
   "execution_count": 94,
   "id": "47f597fa",
   "metadata": {},
   "outputs": [
    {
     "name": "stdout",
     "output_type": "stream",
     "text": [
      "after operation, the list_ looks like:  [7, 11, 15]\n"
     ]
    }
   ],
   "source": [
    "#If it possible to add two list\n",
    "\n",
    "list1_ = [1,2,3]\n",
    "list2_ = [4,5,6]\n",
    "\n",
    "\n",
    "def add_(data1_, data2_):\n",
    "    \n",
    "    return data1_ + data2_\n",
    "\n",
    "list3_ = []\n",
    "\n",
    "# for list1_, list2_ in zip(list1_, list2_):\n",
    "    \n",
    "#     print(list1_, list2_)\n",
    "    \n",
    "# output:\n",
    "# 1 4\n",
    "# 2 5\n",
    "# 3 6\n",
    "\n",
    "#Now i will add two list\n",
    "\n",
    "\n",
    "# for list1_, list2_ in zip(list1_, list2_):\n",
    "#     print(add_(list1_, list2_))\n",
    "#     list3_.append(add_(list1_, list2_))\n",
    "\n",
    "# print(\"after adding the list looks like: \",list3_)\n",
    "\n",
    "# output:\n",
    "# after adding the list looks like:  [5, 7, 9]\n",
    "\n",
    "#i will do using map\n",
    "\n",
    "# func_ = list(map(add_, list1_, list2_))\n",
    "# print(\"after adding, the list looks like: \", func_)\n",
    "\n",
    "# output:\n",
    "# after adding, the list looks like:  [5, 7, 9]\n",
    "\n",
    "#We can do it using lambda and map\n",
    "\n",
    "# func_ = tuple(map(lambda x,y: x + y, list1_, list2_))\n",
    "# print(\"after adding, the list looks like: \", func_)\n",
    "\n",
    "# output:\n",
    "# after adding, the list looks like:  (5, 7, 9)\n",
    "\n",
    "# def mul_(data1_, data2_):\n",
    "    \n",
    "#     return data1_*3, data2_*4\n",
    "\n",
    "# func_ = list(map(mul_, list1_, list2_))\n",
    "\n",
    "# print(\"after multiplying, the list looks like: \", func_)\n",
    "\n",
    "# output:\n",
    "# after multiplying, the list looks like:  [(3, 16), (6, 20), (9, 24)]\n",
    "\n",
    "#NOW, i want [3,6,9]*3 = [3,6,9], then add with list_ and the result will be like:[7,11,15]\n",
    "\n",
    "func1_ = list(map(lambda x: x*3, list1_))\n",
    "func_  = list(map(lambda x, y: x + y, func1_, list2_))\n",
    "\n",
    "print(\"after operation, the list_ looks like: \",func_)"
   ]
  },
  {
   "cell_type": "markdown",
   "id": "4f1c1e57",
   "metadata": {},
   "source": [
    "# Filter Method with Lambda"
   ]
  },
  {
   "cell_type": "code",
   "execution_count": 95,
   "id": "60022e37",
   "metadata": {},
   "outputs": [
    {
     "name": "stdout",
     "output_type": "stream",
     "text": [
      "the list_ looks like: [10, 13, 16, 20, 21, 17] \n",
      "\n",
      "the Even number list looks like:  [10, 16, 20] \n",
      "\n",
      "The list, which contains value greater than 15, is :  [16, 20, 21, 17] \n",
      "\n",
      "the Even number of this list is, after being sliced:  [16, 20] \n",
      "\n",
      "the Odd number of this list is, after being sliced :  [21, 17] \n",
      "\n",
      "after adding the list looks like:  [37, 37] \n",
      "\n",
      "after adding the total sum is =  74\n"
     ]
    }
   ],
   "source": [
    "#create a list_\n",
    "\n",
    "list_ = [10, 13, 16, 20, 21, 17]\n",
    "\n",
    "print(\"the list_ looks like:\", list_,'\\n')\n",
    "\n",
    "#i want to get even number from the list \n",
    "\n",
    "list1_ = []\n",
    "\n",
    "for value_ in list_:\n",
    "    if value_ %2 == 0:\n",
    "        list1_.append(value_)\n",
    "    else:\n",
    "        continue\n",
    "\n",
    "print(\"the Even number list looks like: \", list1_,'\\n')\n",
    "\n",
    "\n",
    "#We can do the same thing using filter method, what filter method does is return the value on the basis of \"True\"\n",
    "\n",
    "# def even_(data_):\n",
    "    \n",
    "#     if data_ %2 == 0:\n",
    "#         return True\n",
    "#     else:\n",
    "#         return False\n",
    "    \n",
    "# func_ = list(filter(even_, list_))\n",
    "\n",
    "# print(\"the Even number list looks like: \", func_)\n",
    "\n",
    "# output:\n",
    "# the Even number list looks like:  [10, 16, 20]\n",
    "\n",
    "#We can do this process using lambda\n",
    "\n",
    "# func_ = list(filter(lambda x: (x%2==0), list_))\n",
    "\n",
    "# print(\"the Even number list looks like: \", func_)\n",
    "\n",
    "# output:\n",
    "# the Even number list looks like:  [10, 16, 20]\n",
    "\n",
    "\n",
    "#now i want to print: which value > 15 and print the list; then, print the odd and even and add two list_ and print the sum\n",
    "\n",
    "func1_ = list(filter(lambda x: (x>15), list_))\n",
    "\n",
    "print(\"The list, which contains value greater than 15, is : \", func1_,'\\n')\n",
    "\n",
    "#output:\n",
    "#The list, which contains value greater than 15, is:  [16, 20, 21, 17]\n",
    "#Now print the even number from that func1_\n",
    "\n",
    "even_ = list(filter(lambda y: (y%2==0), func1_))\n",
    "\n",
    "print(\"the Even number of this list is, after being sliced: \", even_,'\\n')\n",
    "\n",
    "# output:\n",
    "# the Even number of this list is, after being sliced:  [10, 16, 20]\n",
    "\n",
    "odd_ = list(filter(lambda z: (z%2!=0), func1_))\n",
    "\n",
    "print(\"the Odd number of this list is, after being sliced : \", odd_,'\\n')\n",
    "\n",
    "# output:\n",
    "# the Odd number of this list is, after being sliced :  [21, 17] \n",
    "#Now add two list:\n",
    "\n",
    "add_ = list(map(lambda x, y: (x + y), even_, odd_))\n",
    "\n",
    "print(\"after adding the list looks like: \", add_,'\\n')\n",
    "\n",
    "# output:\n",
    "# after adding the list looks like:  [37, 37]\n",
    "\n",
    "#Get the total sum:\n",
    "\n",
    "sum_ = list(map(lambda x: x+x , add_ ))\n",
    "\n",
    "print(\"after adding the total sum is = \", sum_[0])"
   ]
  },
  {
   "cell_type": "code",
   "execution_count": 96,
   "id": "24525442",
   "metadata": {},
   "outputs": [
    {
     "name": "stdout",
     "output_type": "stream",
     "text": [
      "the list is =  [1, 2, 1, 2, 3, 4, 1, 3, 4, 5, 6, 1, 6, 3, 10, 3, 5, 1, 4, 2, 45, 1, 3, 1, 4, 1, 34] \n",
      "\n",
      "the dictonary is =  {1: 8, 2: 3, 3: 5, 4: 4, 5: 2, 6: 2, 10: 1, 45: 1, 34: 1} \n",
      "\n",
      "the sum of value is =  27 \n",
      "\n",
      "the length of list_ was =  27 \n",
      "\n",
      "the list_ looks like:  Counter({1: 8, 3: 5, 4: 4, 2: 3, 5: 2, 6: 2, 10: 1, 45: 1, 34: 1}) \n",
      "\n",
      "the keys of this counter is:  dict_keys([1, 2, 3, 4, 5, 6, 10, 45, 34]) \n",
      "\n",
      "the values of this counter is:  dict_values([8, 3, 5, 4, 2, 2, 1, 1, 1]) \n",
      "\n",
      "the most frequent value is:  [(1, 8)] \n",
      "\n",
      "the top 3 most common is:  [(1, 8), (3, 5), (4, 4)] \n",
      "\n",
      "the unique value is =  dict_keys([1, 2, 3, 4, 5, 6, 10, 45, 34])\n"
     ]
    }
   ],
   "source": [
    "#Collection Use\n",
    "\n",
    "list_ = [1,2,1,2,3,4,1,3,4,5,6,1,6,3,10,3,5,1,4,2,45,1,3,1,4,1,34]\n",
    "\n",
    "print(\"the list is = \", list_,'\\n')\n",
    "\n",
    "#find how many times the data occurs using iterative\n",
    "\n",
    "dict_ = {}\n",
    "\n",
    "count = 0\n",
    "for value_ in list_:\n",
    "    count = 0\n",
    "    for data_ in list_:\n",
    "        if value_ == data_:\n",
    "            count = count + 1\n",
    "    dict_[value_] = count\n",
    "    \n",
    "print(\"the dictonary is = \", dict_,'\\n')\n",
    "print(\"the sum of value is = \", sum(dict_.values()),'\\n')\n",
    "print(\"the length of list_ was = \", len(list_),'\\n')\n",
    "\n",
    "\n",
    "#Now we will do the same things using building function\n",
    "\n",
    "from collections import Counter\n",
    "\n",
    "list_ = Counter(list_)\n",
    "print(\"the list_ looks like: \", list_,'\\n')\n",
    "print(\"the keys of this counter is: \", list_.keys(),'\\n')\n",
    "print(\"the values of this counter is: \", list_.values(),'\\n')\n",
    "print(\"the most frequent value is: \", list_.most_common(1),'\\n')\n",
    "print(\"the top 3 most common is: \", list_.most_common(3),'\\n')\n",
    "print(\"the unique value is = \", list_.keys())\n"
   ]
  },
  {
   "cell_type": "code",
   "execution_count": 97,
   "id": "c527ad60",
   "metadata": {},
   "outputs": [
    {
     "name": "stdout",
     "output_type": "stream",
     "text": [
      "after adding 10, the list looks like =  [1, 2, 3, 4, 5, 6, 10]\n",
      "the deque is =  deque([1, 2, 3, 4, 5, 6, 10])\n"
     ]
    },
    {
     "data": {
      "text/plain": [
       "deque([10, 1, 2, 3, 4, 5, 6, 10])"
      ]
     },
     "execution_count": 97,
     "metadata": {},
     "output_type": "execute_result"
    }
   ],
   "source": [
    "#Add element in a list\n",
    "\n",
    "list_ = [1,2,3,4,5,6]\n",
    "\n",
    "#i want to add 10\n",
    "\n",
    "list_.append(10)\n",
    "print(\"after adding 10, the list looks like = \", list_)\n",
    "\n",
    "#but i want to add 10 in first index !, then use collections\n",
    "\n",
    "from collections import deque\n",
    "\n",
    "deque_ = deque(list_)\n",
    "print(\"the deque is = \", deque_)\n",
    "#now add 10 in the first\n",
    "\n",
    "deque_.appendleft(10)\n",
    "deque_"
   ]
  },
  {
   "cell_type": "code",
   "execution_count": 98,
   "id": "f8b1b6a1",
   "metadata": {},
   "outputs": [
    {
     "name": "stdout",
     "output_type": "stream",
     "text": [
      "the 2D list is =  [[1, 2, 1, 3, 4, 2], [3, 5, 3, 2, 1, 4, 5, 1]] \n",
      "\n",
      "after deleting the duplicate value, the list looks like =  [[1, 2, 3, 4], [3, 5, 2, 1, 4]] \n",
      "\n",
      "the new list_ =  [[1, 2, 3, 4], [1, 2, 3, 4, 5]]\n"
     ]
    }
   ],
   "source": [
    "#Delete Duplicate Values\n",
    "\n",
    "list_ = [[1,2,1,3,4,2], [3,5,3,2,1,4,5,1]]\n",
    "\n",
    "print(\"the 2D list is = \", list_,'\\n')\n",
    "\n",
    "# dict_.fromkeys(list_[0])\n",
    "#output\n",
    "#{1: None, 2: None, 3: None, 4: None} - it gives the dictonary but we need a list; so convert into a list\n",
    "# list(dict_.fromkeys(list_[0]))\n",
    "#output:\n",
    "#[1, 2, 3, 4] = after using list it gives the list\n",
    "\n",
    "delete_ = []\n",
    "for values_ in list_:\n",
    "    delete_.append(list(dict.fromkeys(values_)))\n",
    "\n",
    "print(\"after deleting the duplicate value, the list looks like = \",delete_,'\\n')\n",
    "\n",
    "#sort as a asceding order\n",
    "new_list_ = [sorted(values_, reverse = False) for values_ in delete_]\n",
    "\n",
    "print(\"the new list_ = \", new_list_)"
   ]
  },
  {
   "cell_type": "code",
   "execution_count": 99,
   "id": "bc8fdd52",
   "metadata": {},
   "outputs": [],
   "source": [
    "# dict_.fromkeys(list_[0])\n",
    "#{1: None, 2: None, 3: None, 4: None} - it gives the dictonary but we need a list; so convert into a list\n",
    "# list(dict_.fromkeys(list_[0]))\n",
    "#[1, 2, 3, 4] = after using list it gives the list"
   ]
  },
  {
   "cell_type": "markdown",
   "id": "603b9ef0",
   "metadata": {},
   "source": [
    "# Practise Session"
   ]
  },
  {
   "cell_type": "code",
   "execution_count": 100,
   "id": "b783cb96",
   "metadata": {},
   "outputs": [
    {
     "name": "stdout",
     "output_type": "stream",
     "text": [
      "type of this random is         =  <class 'numpy.ndarray'> \n",
      "\n",
      "the dimention of this array is =  2 \n",
      "\n",
      "the shape of this array is     =  (2, 5) \n",
      "\n",
      "the data type of this array is =  int32 \n",
      "\n",
      "--------------------------------------------------------\n",
      "the 1D numpy array is          =  [7 2 3 4 4 1 7 2 5 6] \n",
      "\n",
      "the dimention of this array is =  1 \n",
      "\n",
      "the shape of this array is     =  (10,) \n",
      "\n",
      "the data type of this array is =  int32 \n",
      "\n",
      "the length of this array is    =  10 \n",
      "\n",
      "--------------------------------------------------------\n",
      "After converting, the list looks like:  [7, 2, 3, 4, 4, 1, 7, 2, 5, 6]\n"
     ]
    }
   ],
   "source": [
    "#Create a list which contains 10 elements\n",
    "\n",
    "np.random.seed(12)\n",
    "random_ = np.random.randint(1, 10, (2,5))\n",
    "print(\"type of this random is         = \", type(random_),'\\n')\n",
    "print(\"the dimention of this array is = \", random_.ndim,'\\n')\n",
    "print(\"the shape of this array is     = \", random_.shape,'\\n')\n",
    "print(\"the data type of this array is = \", random_.dtype,'\\n')\n",
    "\n",
    "print('--------------------------------------------------------')\n",
    "\n",
    "#first, we will have to create 1D array, where 10 data will be presence\n",
    "\n",
    "random_ = np.ravel(random_)\n",
    "\n",
    "print(\"the 1D numpy array is          = \", random_,'\\n')\n",
    "print(\"the dimention of this array is = \", random_.ndim,'\\n')\n",
    "print(\"the shape of this array is     = \", random_.shape,'\\n')\n",
    "print(\"the data type of this array is = \", random_.dtype,'\\n')\n",
    "print(\"the length of this array is    = \", len(random_),'\\n')\n",
    "\n",
    "print('--------------------------------------------------------')\n",
    "#Now just convert this \" <class 'numpy.ndarray'> \" to list\n",
    "\n",
    "list1_ = random_.tolist()\n",
    "\n",
    "print(\"After converting, the list looks like: \", list1_)"
   ]
  },
  {
   "cell_type": "code",
   "execution_count": 101,
   "id": "e95d292d",
   "metadata": {},
   "outputs": [
    {
     "data": {
      "text/plain": [
       "[7, 2, 3, 4, 4, 1, 7, 2, 5, 6]"
      ]
     },
     "execution_count": 101,
     "metadata": {},
     "output_type": "execute_result"
    }
   ],
   "source": [
    "list1_"
   ]
  },
  {
   "cell_type": "code",
   "execution_count": 102,
   "id": "c0341965",
   "metadata": {},
   "outputs": [
    {
     "name": "stdout",
     "output_type": "stream",
     "text": [
      "the length after finding duplicate is =  7 \n",
      "\n",
      "the length of real list1_ is          =  10 \n",
      "\n",
      "there is some duplicate values: \n",
      "\n",
      "the unique list is =  [7, 2, 3, 4, 1, 5, 6, 128, 8, 12]\n"
     ]
    }
   ],
   "source": [
    "#Now, check the list1 contains dupdlicate value or not; if so then delete those, and put random number\n",
    "\n",
    "from collections import Counter\n",
    "\n",
    "def check_duplicate(list_):\n",
    "    \n",
    "    counter_ = Counter(list_)\n",
    "    \n",
    "    return len(counter_.keys())\n",
    "\n",
    "def fill_duplicate_(list_):\n",
    "    \n",
    "    unique_        = list(dict.fromkeys(list_))\n",
    "    unique_length_ = len(unique_)\n",
    "    list_length_   = len(list_)\n",
    "    count_         = 0\n",
    "    data_          = np.random.randint(200)\n",
    "    \n",
    "    while(unique_length_ != list_length_):\n",
    "        if data_ in unique_:\n",
    "            while True:\n",
    "                data_ = np.random.randint(20)\n",
    "                if data_ in unique_:\n",
    "                    continue\n",
    "                else:\n",
    "                    unique_.append(data_)\n",
    "                    unique_length_ = unique_length_ + 1\n",
    "                    break\n",
    "        else:\n",
    "            unique_.append(data_)\n",
    "            unique_length_ = unique_length_ + 1\n",
    "        \n",
    "    return unique_\n",
    "\n",
    "\n",
    "length_     = check_duplicate(list1_)\n",
    "real_length = len(list1_)\n",
    "\n",
    "print(\"the length after finding duplicate is = \", length_, '\\n')\n",
    "print(\"the length of real list1_ is          = \", len(list1_),'\\n')\n",
    "\n",
    "#Now, check the length is equal or not, if equal then it means - no duplicate and vice versa\n",
    "\n",
    "list_ = fill_duplicate_(list1_)\n",
    "if length_ != real_length:\n",
    "    \n",
    "    print('there is some duplicate values: \\n')\n",
    "    list_ = fill_duplicate_(list1_)\n",
    "    print(\"the unique list is = \", list_)\n",
    "else:\n",
    "    print(\"the list1_ does not have duplicate values:\")"
   ]
  },
  {
   "cell_type": "code",
   "execution_count": 103,
   "id": "e34442e7",
   "metadata": {},
   "outputs": [],
   "source": [
    "def odd_generator(list_):\n",
    "    \n",
    "    length_   = len(list_)\n",
    "    odd_list_ = []\n",
    "    \n",
    "    while(length_ != 0):\n",
    "        \n",
    "        data_ = np.random.randint(201,501)\n",
    "        \n",
    "        if data_ %2 == 0:\n",
    "            continue\n",
    "        else:\n",
    "            odd_list_.append(data_)\n",
    "            length_ = length_ -1\n",
    "    return odd_list_"
   ]
  },
  {
   "cell_type": "code",
   "execution_count": 104,
   "id": "6d02944f",
   "metadata": {},
   "outputs": [
    {
     "name": "stdout",
     "output_type": "stream",
     "text": [
      "the even list is =  [2, 4, 6, 128, 8, 12] \n",
      "\n",
      "the even list is =  [7, 3, 1, 5] \n",
      "\n",
      "the new list is =  [283, 301, 359, 347, 409, 335] \n",
      "\n",
      "the total odd list is =  [7, 3, 1, 5, 283, 301, 359, 347, 409, 335]\n"
     ]
    }
   ],
   "source": [
    "#Now, this list will be contained only odd value\n",
    "\n",
    "even_ = list(filter(lambda x: (x%2==0), list_))\n",
    "\n",
    "print(\"the even list is = \", even_,'\\n')\n",
    "\n",
    "odd_ = list(filter(lambda x: (x%2!=0), list_))\n",
    "print(\"the even list is = \", odd_,'\\n')\n",
    "\n",
    "odd_list_ = odd_generator(even_)\n",
    "print(\"the new list is = \", odd_list_,'\\n')\n",
    "\n",
    "#add the old odd and new add\n",
    "\n",
    "list_ = odd_ + odd_list_\n",
    "print(\"the total odd list is = \", list_)"
   ]
  },
  {
   "cell_type": "code",
   "execution_count": 105,
   "id": "485fc1e2",
   "metadata": {},
   "outputs": [
    {
     "name": "stdout",
     "output_type": "stream",
     "text": [
      "the array is: \n",
      "\n",
      " [[  7   3   1   5 283]\n",
      " [301 359 347 409 335]] \n",
      "\n",
      "the dimention of this array is =  2 \n",
      "\n",
      "the shape of this array is     =  (2, 5) \n",
      "\n",
      "the type of this array is      =  <class 'numpy.ndarray'> \n",
      "\n",
      "the data type of this array is =  int32\n"
     ]
    }
   ],
   "source": [
    "#Now create an numpy array with that list\n",
    "\n",
    "array_ = np.array(list_)\n",
    "array_ = array_.reshape(2,5)\n",
    "\n",
    "print(\"the array is: \\n\\n\", array_,'\\n')\n",
    "print(\"the dimention of this array is = \", array_.ndim,'\\n')\n",
    "print(\"the shape of this array is     = \", array_.shape,'\\n')\n",
    "print(\"the type of this array is      = \", type(array_),'\\n')\n",
    "print(\"the data type of this array is = \", array_.dtype)"
   ]
  },
  {
   "cell_type": "code",
   "execution_count": 106,
   "id": "f3431746",
   "metadata": {},
   "outputs": [
    {
     "name": "stdout",
     "output_type": "stream",
     "text": [
      "the second numpy array looks like: \n",
      "\n",
      " [[ 1  2  3  4  5]\n",
      " [ 6  7  8  9 10]] \n",
      "\n",
      "the dimention of this array is =  2 \n",
      "\n",
      "the shape of this array is     =  (2, 5) \n",
      "\n",
      "the type of this array is      =  <class 'numpy.ndarray'> \n",
      "\n",
      "the data type of this array is =  int32\n"
     ]
    }
   ],
   "source": [
    "#Create an another 2D array randomly with 2*5 matrix will be presence\n",
    "\n",
    "np.random.seed(12)\n",
    "array1_ = np.arange(1,11).reshape(2,5)\n",
    "\n",
    "print(\"the second numpy array looks like: \\n\\n\", array1_,'\\n')\n",
    "print(\"the dimention of this array is = \", array1_.ndim,'\\n')\n",
    "print(\"the shape of this array is     = \", array1_.shape,'\\n')\n",
    "print(\"the type of this array is      = \", type(array1_),'\\n')\n",
    "print(\"the data type of this array is = \", array1_.dtype)"
   ]
  },
  {
   "cell_type": "code",
   "execution_count": 107,
   "id": "66897d86",
   "metadata": {},
   "outputs": [
    {
     "name": "stdout",
     "output_type": "stream",
     "text": [
      "the third numpy array looks like: \n",
      "\n",
      " [[0.15416284 0.7400497  0.26331502 0.53373939 0.01457496]\n",
      " [0.91874701 0.90071485 0.03342143 0.95694934 0.13720932]] \n",
      "\n",
      "the dimention of this array is =  2 \n",
      "\n",
      "the shape of this array is     =  (2, 5) \n",
      "\n",
      "the type of this array is      =  <class 'numpy.ndarray'> \n",
      "\n",
      "the data type of this array is =  float64\n",
      "the row is    =  [0 1] \n",
      "\n",
      "the column is =   [0 1 2 3 4] \n",
      "\n",
      "the column is =   [0. 1. 2. 3. 4.] \n",
      "\n",
      "the dummy array looks like:  [1.07290985 1.64076455 0.29673644 1.49068873 0.15178428]\n"
     ]
    }
   ],
   "source": [
    "#Create an another array randomly with 2*5 matrix will be presence, but in this case we will have to take float\n",
    "\n",
    "np.random.seed(12)\n",
    "array2_ = np.random.random((2,5))\n",
    "print(\"the third numpy array looks like: \\n\\n\", array2_,'\\n')\n",
    "print(\"the dimention of this array is = \", array2_.ndim,'\\n')\n",
    "print(\"the shape of this array is     = \", array2_.shape,'\\n')\n",
    "print(\"the type of this array is      = \", type(array2_),'\\n')\n",
    "print(\"the data type of this array is = \", array2_.dtype)\n",
    "\n",
    "# what we will have to do is change the array. Ex: 0.15416284 and 0.91874701 this value will be 1.07290985 then print\n",
    "# 1.07290985 will be 107. 290985, then it will be ceiled 108 and to be continued ! \n",
    "\n",
    "row_   = np.arange(0, array2_.shape[0],dtype = 'int32')\n",
    "col_   = np.arange(0, array2_.shape[1],dtype = 'int32')\n",
    "dummy_ = np.arange(0, array2_.shape[1],dtype = 'float')\n",
    "print(\"the row is    = \", row_,'\\n')\n",
    "print(\"the column is =  \", col_,'\\n')\n",
    "print(\"the column is =  \", dummy_,'\\n')\n",
    "\n",
    "slice_ = []\n",
    "\n",
    "for value_ in col_:\n",
    "    dummy_[value_] = np.sum(array2_[:, value_])\n",
    "print(\"the dummy array looks like: \", dummy_)\n",
    "\n",
    "\n",
    "#We can do this things as easy way\n",
    "\n",
    "# np.sum(array2_, axis = 0)"
   ]
  },
  {
   "cell_type": "code",
   "execution_count": 108,
   "id": "d8896e4d",
   "metadata": {},
   "outputs": [
    {
     "name": "stdout",
     "output_type": "stream",
     "text": [
      "the third numpy array looks like: \n",
      "\n",
      " [[160 246  44 223  22]] \n",
      "\n",
      "the dimention of this array is =  2 \n",
      "\n",
      "the shape of this array is     =  (1, 5) \n",
      "\n",
      "the type of this array is      =  <class 'numpy.ndarray'> \n",
      "\n",
      "the data type of this array is =  int32\n"
     ]
    }
   ],
   "source": [
    "array2_ = np.array([dummy_])\n",
    "array2_ = array2_*150\n",
    "array2_ = array2_.astype('int32')\n",
    "print(\"the third numpy array looks like: \\n\\n\", array2_,'\\n')\n",
    "print(\"the dimention of this array is = \", array2_.ndim,'\\n')\n",
    "print(\"the shape of this array is     = \", array2_.shape,'\\n')\n",
    "print(\"the type of this array is      = \", type(array2_),'\\n')\n",
    "print(\"the data type of this array is = \", array2_.dtype)"
   ]
  },
  {
   "cell_type": "code",
   "execution_count": 109,
   "id": "6d72b2af",
   "metadata": {},
   "outputs": [
    {
     "name": "stdout",
     "output_type": "stream",
     "text": [
      "the array is: \n",
      "\n",
      " [[  7   3   1   5 283]\n",
      " [301 359 347 409 335]] \n",
      "\n",
      "the dimention of this array is =  2 \n",
      "\n",
      "the shape of this array is     =  (2, 5) \n",
      "\n",
      "the type of this array is      =  <class 'numpy.ndarray'> \n",
      "\n",
      "the data type of this array is =  int32\n",
      "--------------------------------------------------------\n",
      "the array is: \n",
      "\n",
      " [[ 1  2  3  4  5]\n",
      " [ 6  7  8  9 10]] \n",
      "\n",
      "the dimention of this array is =  2 \n",
      "\n",
      "the shape of this array is     =  (2, 5) \n",
      "\n",
      "the type of this array is      =  <class 'numpy.ndarray'> \n",
      "\n",
      "the data type of this array is =  int32\n",
      "--------------------------------------------------------\n",
      "the array is: \n",
      "\n",
      " [[160 246  44 223  22]] \n",
      "\n",
      "the dimention of this array is =  2 \n",
      "\n",
      "the shape of this array is     =  (1, 5) \n",
      "\n",
      "the type of this array is      =  <class 'numpy.ndarray'> \n",
      "\n",
      "the data type of this array is =  int32\n"
     ]
    }
   ],
   "source": [
    "print(\"the array is: \\n\\n\", array_,'\\n')\n",
    "print(\"the dimention of this array is = \", array_.ndim,'\\n')\n",
    "print(\"the shape of this array is     = \", array_.shape,'\\n')\n",
    "print(\"the type of this array is      = \", type(array_),'\\n')\n",
    "print(\"the data type of this array is = \", array_.dtype)\n",
    "\n",
    "print('--------------------------------------------------------')\n",
    "\n",
    "print(\"the array is: \\n\\n\", array1_,'\\n')\n",
    "print(\"the dimention of this array is = \", array1_.ndim,'\\n')\n",
    "print(\"the shape of this array is     = \", array1_.shape,'\\n')\n",
    "print(\"the type of this array is      = \", type(array1_),'\\n')\n",
    "print(\"the data type of this array is = \", array1_.dtype)\n",
    "\n",
    "print('--------------------------------------------------------')\n",
    "\n",
    "print(\"the array is: \\n\\n\", array2_,'\\n')\n",
    "print(\"the dimention of this array is = \", array2_.ndim,'\\n')\n",
    "print(\"the shape of this array is     = \", array2_.shape,'\\n')\n",
    "print(\"the type of this array is      = \", type(array2_),'\\n')\n",
    "print(\"the data type of this array is = \", array2_.dtype)"
   ]
  },
  {
   "cell_type": "code",
   "execution_count": 110,
   "id": "98314a51",
   "metadata": {},
   "outputs": [
    {
     "name": "stdout",
     "output_type": "stream",
     "text": [
      "the array is: \n",
      "\n",
      " [[  7   3   1   5 283]\n",
      " [301 359 347 409 335]\n",
      " [  1   2   3   4   5]\n",
      " [  6   7   8   9  10]\n",
      " [160 246  44 223  22]] \n",
      "\n",
      "the dimention of this array is =  2 \n",
      "\n",
      "the shape of this array is     =  (5, 5) \n",
      "\n",
      "the type of this array is      =  <class 'numpy.ndarray'> \n",
      "\n",
      "the data type of this array is =  int32\n"
     ]
    }
   ],
   "source": [
    "#Now Merge the array \n",
    "\n",
    "array_ = np.vstack((array_, array1_, array2_))\n",
    "\n",
    "print(\"the array is: \\n\\n\", array_,'\\n')\n",
    "print(\"the dimention of this array is = \", array_.ndim,'\\n')\n",
    "print(\"the shape of this array is     = \", array_.shape,'\\n')\n",
    "print(\"the type of this array is      = \", type(array_),'\\n')\n",
    "print(\"the data type of this array is = \", array_.dtype)"
   ]
  },
  {
   "cell_type": "code",
   "execution_count": 111,
   "id": "31839ca1",
   "metadata": {},
   "outputs": [
    {
     "data": {
      "text/plain": [
       "[array([[  7,   3,   1,   5, 283],\n",
       "        [301, 359, 347, 409, 335]]),\n",
       " array([[ 1,  2,  3,  4,  5],\n",
       "        [ 6,  7,  8,  9, 10]]),\n",
       " array([[160, 246,  44, 223,  22]])]"
      ]
     },
     "execution_count": 111,
     "metadata": {},
     "output_type": "execute_result"
    }
   ],
   "source": [
    "#Split the array_\n",
    "\n",
    "split_ = np.array_split(array_, 3, axis = 0)\n",
    "split_"
   ]
  },
  {
   "cell_type": "code",
   "execution_count": 112,
   "id": "42df91a3",
   "metadata": {},
   "outputs": [
    {
     "data": {
      "text/plain": [
       "array([[  7,   3,   1,   5, 283],\n",
       "       [301, 359, 347, 409, 335]])"
      ]
     },
     "execution_count": 112,
     "metadata": {},
     "output_type": "execute_result"
    }
   ],
   "source": [
    "list(split_)[0]"
   ]
  },
  {
   "cell_type": "code",
   "execution_count": 113,
   "id": "328ec290",
   "metadata": {},
   "outputs": [
    {
     "data": {
      "text/plain": [
       "array([[  7,   3,   1,   5, 283],\n",
       "       [301, 359, 347, 409, 335],\n",
       "       [  1,   2,   3,   4,   5],\n",
       "       [  6,   7,   8,   9,  10],\n",
       "       [160, 246,  44, 223,  22]])"
      ]
     },
     "execution_count": 113,
     "metadata": {},
     "output_type": "execute_result"
    }
   ],
   "source": [
    "np.vstack((split_[0],split_[1], split_[2]))"
   ]
  },
  {
   "cell_type": "code",
   "execution_count": 114,
   "id": "aa2a17ee",
   "metadata": {},
   "outputs": [],
   "source": [
    "def reshape_(array_):\n",
    "    \n",
    "    shape_ = np.where((array_>100), np.ceil(array_/100), array_)\n",
    "    shape_ = shape_.astype('int32')\n",
    "    return shape_.tolist()"
   ]
  },
  {
   "cell_type": "code",
   "execution_count": 115,
   "id": "ca18b0bc",
   "metadata": {},
   "outputs": [
    {
     "name": "stdout",
     "output_type": "stream",
     "text": [
      "[[  7   3   1   5 283]\n",
      " [301 359 347 409 335]]\n",
      " \n",
      "[[7, 3, 1, 5, 3], [4, 4, 4, 5, 4]]\n",
      " \n",
      "[[ 1  2  3  4  5]\n",
      " [ 6  7  8  9 10]]\n",
      " \n",
      "[[1, 2, 3, 4, 5], [6, 7, 8, 9, 10]]\n",
      " \n",
      "[[160 246  44 223  22]]\n",
      " \n",
      "[[2, 3, 44, 3, 22]]\n",
      " \n"
     ]
    },
    {
     "data": {
      "text/plain": [
       "array([[ 7,  3,  1,  5,  3],\n",
       "       [ 4,  4,  4,  5,  4],\n",
       "       [ 1,  2,  3,  4,  5],\n",
       "       [ 6,  7,  8,  9, 10],\n",
       "       [ 2,  3, 44,  3, 22]])"
      ]
     },
     "execution_count": 115,
     "metadata": {},
     "output_type": "execute_result"
    }
   ],
   "source": [
    "list_ = []\n",
    "dummy_ = np.zeros((1,5))\n",
    "for split_array_ in split_:\n",
    "    print(split_array_)\n",
    "    print(' ')\n",
    "    print(reshape_(split_array_))\n",
    "    dummy_ = np.append(dummy_,reshape_(split_array_), axis = 0 )\n",
    "    print(' ')\n",
    "    add_ = (np.vstack(reshape_(split_array_)))\n",
    "    list_.append(add_)\n",
    "    \n",
    "dummy_ = dummy_[1:]\n",
    "dummy_ = dummy_.astype('int')\n",
    "dummy_"
   ]
  },
  {
   "cell_type": "code",
   "execution_count": 116,
   "id": "b71dbf0c",
   "metadata": {},
   "outputs": [
    {
     "name": "stdout",
     "output_type": "stream",
     "text": [
      "the final array is =  [[ 7  3  1  5  3]\n",
      " [ 4  4  4  5  4]\n",
      " [ 1  2  3  4  5]\n",
      " [ 6  7  8  9 10]\n",
      " [ 2  3 44  3 22]]\n"
     ]
    }
   ],
   "source": [
    "array_ = dummy_\n",
    "print(\"the final array is = \",array_)"
   ]
  },
  {
   "cell_type": "code",
   "execution_count": 117,
   "id": "a372739c",
   "metadata": {},
   "outputs": [
    {
     "name": "stdout",
     "output_type": "stream",
     "text": [
      "the dimnetion of this array is =  2\n",
      "the array looks like:  [[1. 2. 3. 4.]]\n",
      "the array looks like: \n",
      " [[1. 2. 3. 4.]\n",
      " [5. 6. 7. 8.]]\n",
      "the array looks like: \n",
      " [[ 1.  2.  3.  4.]\n",
      " [ 5.  6.  7.  8.]\n",
      " [15. 16. 17. 18.]]\n"
     ]
    }
   ],
   "source": [
    "##Numpy append\n",
    "\n",
    "array_ = np.array([[]])\n",
    "\n",
    "print(\"the dimnetion of this array is = \", array_.ndim)\n",
    "\n",
    "array_ = np.append(array_, [[1,2,3,4]],axis = 1)\n",
    "print(\"the array looks like: \", array_)\n",
    "\n",
    "array_ = np.append(array_,[[5,6,7,8]], axis = 0)\n",
    "print(\"the array looks like: \\n\", array_)\n",
    "\n",
    "array_ = np.append(array_,[[15,16,17,18]], axis = 0)\n",
    "print(\"the array looks like: \\n\", array_)"
   ]
  },
  {
   "cell_type": "code",
   "execution_count": 118,
   "id": "30815b22",
   "metadata": {},
   "outputs": [
    {
     "data": {
      "text/plain": [
       "array([[0., 0., 0., 0., 0.],\n",
       "       [0., 0., 0., 0., 0.],\n",
       "       [0., 0., 0., 0., 0.],\n",
       "       [0., 0., 0., 0., 0.],\n",
       "       [0., 0., 0., 0., 0.]])"
      ]
     },
     "execution_count": 118,
     "metadata": {},
     "output_type": "execute_result"
    }
   ],
   "source": [
    "demo_ = np.zeros((5,5))\n",
    "demo_"
   ]
  },
  {
   "cell_type": "code",
   "execution_count": 119,
   "id": "4c94a783",
   "metadata": {},
   "outputs": [
    {
     "data": {
      "text/plain": [
       "array([[  7,   3,   1,   5, 283],\n",
       "       [301, 359, 347, 409, 335]])"
      ]
     },
     "execution_count": 119,
     "metadata": {},
     "output_type": "execute_result"
    }
   ],
   "source": [
    "split_[0]"
   ]
  },
  {
   "cell_type": "code",
   "execution_count": 120,
   "id": "74dbc988",
   "metadata": {},
   "outputs": [
    {
     "data": {
      "text/plain": [
       "array([[  0.,   0.,   0.,   0.,   0.],\n",
       "       [  0.,   0.,   0.,   0.,   0.],\n",
       "       [  0.,   0.,   0.,   0.,   0.],\n",
       "       [  0.,   0.,   0.,   0.,   0.],\n",
       "       [  0.,   0.,   0.,   0.,   0.],\n",
       "       [  7.,   3.,   1.,   5., 283.],\n",
       "       [301., 359., 347., 409., 335.]])"
      ]
     },
     "execution_count": 120,
     "metadata": {},
     "output_type": "execute_result"
    }
   ],
   "source": [
    "np.append(demo_, split_[0] , axis = 0)"
   ]
  },
  {
   "cell_type": "markdown",
   "id": "75afdd37",
   "metadata": {},
   "source": [
    "# Numpy append"
   ]
  },
  {
   "cell_type": "code",
   "execution_count": 121,
   "id": "c5dd7458",
   "metadata": {},
   "outputs": [
    {
     "name": "stdout",
     "output_type": "stream",
     "text": [
      "the empy array looks like:  [] \n",
      "\n",
      "the dimention of this array is:  2 \n",
      "\n"
     ]
    }
   ],
   "source": [
    "#Create a 2D empty numpy\n",
    "\n",
    "array_ = np.array([[]])\n",
    "\n",
    "print(\"the empy array looks like: \", array_,'\\n')\n",
    "print(\"the dimention of this array is: \", array_.ndim,'\\n')"
   ]
  },
  {
   "cell_type": "code",
   "execution_count": 122,
   "id": "bda02999",
   "metadata": {},
   "outputs": [
    {
     "name": "stdout",
     "output_type": "stream",
     "text": [
      "the empy array looks like:  [[2. 3. 4.]] \n",
      "\n",
      "the dimention of this array is:  2 \n",
      "\n",
      " \n",
      "the empy array looks like: \n",
      "\n",
      " [[0.15416284 0.7400497  0.26331502]\n",
      " [0.53373939 0.01457496 0.91874701]\n",
      " [0.90071485 0.03342143 0.95694934]] \n",
      "\n",
      "the dimention of this array is:  2 \n",
      "\n",
      " \n",
      "the array looks like:  [0.15416284 0.7400497  0.26331502]\n",
      "the dimnetion of this array is:  1\n",
      " \n",
      "the array looks like:  [0.53373939 0.01457496 0.91874701]\n",
      "the dimnetion of this array is:  1\n",
      " \n",
      "the array looks like:  [0.90071485 0.03342143 0.95694934]\n",
      "the dimnetion of this array is:  1\n",
      " \n"
     ]
    }
   ],
   "source": [
    "#Now, we want to add 2,3,4 then \n",
    "\n",
    "array_ = np.append(array_, [[2,3,4]], axis = 1)\n",
    "#we put axis = 1, because first we will insert the items as column wise\n",
    "print(\"the empy array looks like: \", array_,'\\n')\n",
    "print(\"the dimention of this array is: \", array_.ndim,'\\n')\n",
    "print(' ')\n",
    "\n",
    "#now we will put some other elements\n",
    "\n",
    "np.random.seed(12)\n",
    "random_ = np.random.random((3,3))\n",
    "print(\"the empy array looks like: \\n\\n\", random_,'\\n')\n",
    "print(\"the dimention of this array is: \", random_.ndim,'\\n')\n",
    "print(' ')\n",
    "\n",
    "#now we will insert all of these value into array_\n",
    "\n",
    "for values_ in random_:\n",
    "    print(\"the array looks like: \",values_)\n",
    "    print(\"the dimnetion of this array is: \", values_.ndim)\n",
    "    print(' ')\n",
    "    #here, we see that the dimention of these each array is 1d, but in array_ dimnetion was 2, so will have to add \"[]\"\n",
    "    array_ = np.append(array_, [values_], axis = 0)\n",
    "    #here, why have we used axis = 0, ans: now \"[0.15416284 0.7400497  0.26331502]\" will be added like row wise \n"
   ]
  },
  {
   "cell_type": "code",
   "execution_count": 123,
   "id": "0c6cc118",
   "metadata": {},
   "outputs": [
    {
     "name": "stdout",
     "output_type": "stream",
     "text": [
      "the empy array looks like: \n",
      "\n",
      " [[2.         3.         4.        ]\n",
      " [0.15416284 0.7400497  0.26331502]\n",
      " [0.53373939 0.01457496 0.91874701]\n",
      " [0.90071485 0.03342143 0.95694934]] \n",
      "\n",
      "the dimention of this array is:  2 \n",
      "\n",
      " \n"
     ]
    }
   ],
   "source": [
    "#print the array_\n",
    "print(\"the empy array looks like: \\n\\n\", array_,'\\n')\n",
    "print(\"the dimention of this array is: \", array_.ndim,'\\n')\n",
    "print(' ')"
   ]
  },
  {
   "cell_type": "code",
   "execution_count": 124,
   "id": "24dbf157",
   "metadata": {},
   "outputs": [
    {
     "name": "stdout",
     "output_type": "stream",
     "text": [
      "the dummy array looks like: \n",
      "\n",
      " [[0. 0. 0. 0. 0.]] \n",
      "\n",
      "the dimention of this array is:  2 \n",
      "\n",
      "the shape of this array is:  (1, 5) \n",
      "\n",
      "the type of this array is:  <class 'numpy.ndarray'> \n",
      "\n",
      "the data type of this array is:  float64 \n",
      "\n"
     ]
    }
   ],
   "source": [
    "#Do the same thing using np.zeros\n",
    "\n",
    "dummy_array_ = np.zeros((1,5))\n",
    "\n",
    "print(\"the dummy array looks like: \\n\\n\", dummy_array_,'\\n')\n",
    "print(\"the dimention of this array is: \", dummy_array_.ndim,'\\n')\n",
    "print(\"the shape of this array is: \", dummy_array_.shape,'\\n')\n",
    "print(\"the type of this array is: \", type(dummy_array_),'\\n')\n",
    "print(\"the data type of this array is: \", (dummy_array_.dtype),'\\n')\n"
   ]
  },
  {
   "cell_type": "code",
   "execution_count": 125,
   "id": "0980127d",
   "metadata": {},
   "outputs": [
    {
     "name": "stdout",
     "output_type": "stream",
     "text": [
      "the random_ array looks like: \n",
      "\n",
      " [[0.15416284 0.7400497  0.26331502 0.53373939 0.01457496]\n",
      " [0.91874701 0.90071485 0.03342143 0.95694934 0.13720932]\n",
      " [0.28382835 0.60608318 0.94422514 0.85273554 0.00225923]\n",
      " [0.52122603 0.55203763 0.48537741 0.76813415 0.16071675]\n",
      " [0.76456045 0.0208098  0.13521018 0.11627302 0.30989758]] \n",
      "\n",
      "the dimention of this array is:  2 \n",
      "\n",
      "the shape of this array is:  (5, 5) \n",
      "\n",
      "the type of this array is:  <class 'numpy.ndarray'> \n",
      "\n",
      "the data type of this array is:  float64 \n",
      "\n"
     ]
    }
   ],
   "source": [
    "#Create a random array with 5*5 matrix\n",
    "\n",
    "np.random.seed(12)\n",
    "random_ = np.random.random((5,5))\n",
    "\n",
    "print(\"the random_ array looks like: \\n\\n\", random_,'\\n')\n",
    "print(\"the dimention of this array is: \", random_.ndim,'\\n')\n",
    "print(\"the shape of this array is: \", random_.shape,'\\n')\n",
    "print(\"the type of this array is: \", type(random_),'\\n')\n",
    "print(\"the data type of this array is: \", (random_.dtype),'\\n')\n"
   ]
  },
  {
   "cell_type": "code",
   "execution_count": 126,
   "id": "dfbff930",
   "metadata": {},
   "outputs": [
    {
     "name": "stdout",
     "output_type": "stream",
     "text": [
      "the random_ array looks like: \n",
      "\n",
      " [0.15416284 0.7400497  0.26331502 0.53373939 0.01457496] \n",
      "\n",
      "the dimention of this array is:  1 \n",
      "\n",
      "the shape of this array is:  (5,) \n",
      "\n",
      "the type of this array is:  <class 'numpy.ndarray'> \n",
      "\n",
      "the data type of this array is:  float64 \n",
      "\n",
      "    \n",
      "the random_ array looks like: \n",
      "\n",
      " [0.91874701 0.90071485 0.03342143 0.95694934 0.13720932] \n",
      "\n",
      "the dimention of this array is:  1 \n",
      "\n",
      "the shape of this array is:  (5,) \n",
      "\n",
      "the type of this array is:  <class 'numpy.ndarray'> \n",
      "\n",
      "the data type of this array is:  float64 \n",
      "\n",
      "    \n",
      "the random_ array looks like: \n",
      "\n",
      " [0.28382835 0.60608318 0.94422514 0.85273554 0.00225923] \n",
      "\n",
      "the dimention of this array is:  1 \n",
      "\n",
      "the shape of this array is:  (5,) \n",
      "\n",
      "the type of this array is:  <class 'numpy.ndarray'> \n",
      "\n",
      "the data type of this array is:  float64 \n",
      "\n",
      "    \n",
      "the random_ array looks like: \n",
      "\n",
      " [0.52122603 0.55203763 0.48537741 0.76813415 0.16071675] \n",
      "\n",
      "the dimention of this array is:  1 \n",
      "\n",
      "the shape of this array is:  (5,) \n",
      "\n",
      "the type of this array is:  <class 'numpy.ndarray'> \n",
      "\n",
      "the data type of this array is:  float64 \n",
      "\n",
      "    \n",
      "the random_ array looks like: \n",
      "\n",
      " [0.76456045 0.0208098  0.13521018 0.11627302 0.30989758] \n",
      "\n",
      "the dimention of this array is:  1 \n",
      "\n",
      "the shape of this array is:  (5,) \n",
      "\n",
      "the type of this array is:  <class 'numpy.ndarray'> \n",
      "\n",
      "the data type of this array is:  float64 \n",
      "\n",
      "    \n"
     ]
    }
   ],
   "source": [
    "#Using loop\n",
    "\n",
    "\n",
    "for values_ in random_:\n",
    "    print(\"the random_ array looks like: \\n\\n\", values_,'\\n')\n",
    "    print(\"the dimention of this array is: \", values_.ndim,'\\n')\n",
    "    print(\"the shape of this array is: \", values_.shape,'\\n')\n",
    "    print(\"the type of this array is: \", type(values_),'\\n')\n",
    "    print(\"the data type of this array is: \", (values_.dtype),'\\n')\n",
    "    \n",
    "    print('    ')\n",
    "    \n",
    "    dummy_array_ = np.append(dummy_array_, [values_], axis = 0)\n"
   ]
  },
  {
   "cell_type": "code",
   "execution_count": 127,
   "id": "dcd54a91",
   "metadata": {},
   "outputs": [
    {
     "name": "stdout",
     "output_type": "stream",
     "text": [
      "the random_ array looks like: \n",
      "\n",
      " [[0.         0.         0.         0.         0.        ]\n",
      " [0.15416284 0.7400497  0.26331502 0.53373939 0.01457496]\n",
      " [0.91874701 0.90071485 0.03342143 0.95694934 0.13720932]\n",
      " [0.28382835 0.60608318 0.94422514 0.85273554 0.00225923]\n",
      " [0.52122603 0.55203763 0.48537741 0.76813415 0.16071675]\n",
      " [0.76456045 0.0208098  0.13521018 0.11627302 0.30989758]] \n",
      "\n",
      "the dimention of this array is:  2 \n",
      "\n",
      "the shape of this array is:  (6, 5) \n",
      "\n",
      "the type of this array is:  <class 'numpy.ndarray'> \n",
      "\n",
      "the data type of this array is:  float64 \n",
      "\n"
     ]
    }
   ],
   "source": [
    "print(\"the random_ array looks like: \\n\\n\", dummy_array_,'\\n')\n",
    "print(\"the dimention of this array is: \", dummy_array_.ndim,'\\n')\n",
    "print(\"the shape of this array is: \", dummy_array_.shape,'\\n')\n",
    "print(\"the type of this array is: \", type(dummy_array_),'\\n')\n",
    "print(\"the data type of this array is: \", (dummy_array_.dtype),'\\n')"
   ]
  },
  {
   "cell_type": "code",
   "execution_count": 128,
   "id": "dbd71deb",
   "metadata": {},
   "outputs": [
    {
     "name": "stdout",
     "output_type": "stream",
     "text": [
      "the array looks like: \n",
      "\n",
      " [[0.15416284 0.7400497  0.26331502 0.53373939 0.01457496]\n",
      " [0.91874701 0.90071485 0.03342143 0.95694934 0.13720932]\n",
      " [0.28382835 0.60608318 0.94422514 0.85273554 0.00225923]\n",
      " [0.52122603 0.55203763 0.48537741 0.76813415 0.16071675]\n",
      " [0.76456045 0.0208098  0.13521018 0.11627302 0.30989758]] \n",
      "\n",
      "the dimention of this array is:  2 \n",
      "\n",
      "the shape of this array is:  (5, 5) \n",
      "\n",
      "the type of this array is:  <class 'numpy.ndarray'> \n",
      "\n",
      "the data type of this array is:  float64 \n",
      "\n"
     ]
    }
   ],
   "source": [
    "#Here, we have created dummy_random_array_, now we will extract the array_\n",
    "\n",
    "array_ = dummy_array_[1:]\n",
    "\n",
    "print(\"the array looks like: \\n\\n\", array_,'\\n')\n",
    "print(\"the dimention of this array is: \", array_.ndim,'\\n')\n",
    "print(\"the shape of this array is: \", array_.shape,'\\n')\n",
    "print(\"the type of this array is: \", type(array_),'\\n')\n",
    "print(\"the data type of this array is: \", (array_.dtype),'\\n')"
   ]
  },
  {
   "cell_type": "code",
   "execution_count": 129,
   "id": "ded38f30",
   "metadata": {},
   "outputs": [
    {
     "name": "stdout",
     "output_type": "stream",
     "text": [
      "the array looks like: \n",
      "\n",
      " [[0.65416284 0.7400497  0.76331502 0.53373939 0.51457496]\n",
      " [0.91874701 0.90071485 0.53342143 0.95694934 0.63720932]\n",
      " [0.78382835 0.60608318 0.94422514 0.85273554 0.50225923]\n",
      " [0.52122603 0.55203763 0.98537741 0.76813415 0.66071675]\n",
      " [0.76456045 0.5208098  0.63521018 0.61627302 0.80989758]] \n",
      "\n",
      "the dimention of this array is:  2 \n",
      "\n",
      "the shape of this array is:  (5, 5) \n",
      "\n",
      "the type of this array is:  <class 'numpy.ndarray'> \n",
      "\n",
      "the data type of this array is:  float64 \n",
      "\n"
     ]
    }
   ],
   "source": [
    "# modify the array, who has value less than 0.5, then add 0.5\n",
    "array_ = np.where(array_>0.5, array_, array_ + 0.5)\n",
    "\n",
    "print(\"the array looks like: \\n\\n\", array_,'\\n')\n",
    "print(\"the dimention of this array is: \", array_.ndim,'\\n')\n",
    "print(\"the shape of this array is: \", array_.shape,'\\n')\n",
    "print(\"the type of this array is: \", type(array_),'\\n')\n",
    "print(\"the data type of this array is: \", (array_.dtype),'\\n')"
   ]
  },
  {
   "cell_type": "code",
   "execution_count": 130,
   "id": "3b99ab1f",
   "metadata": {},
   "outputs": [
    {
     "name": "stdout",
     "output_type": "stream",
     "text": [
      "row number_ =  1\n",
      "row number_ =  2\n",
      " \n",
      "the list_ contains:  [1, 2]\n"
     ]
    }
   ],
   "source": [
    "row_ = []\n",
    "\n",
    "for index_, values_ in enumerate(array_):\n",
    "    check_ = (np.round(np.sum(array_[index_,:])))\n",
    "    if check_ >= 4.0:\n",
    "        print(\"row number_ = \",index_)\n",
    "        row_.append(index_)\n",
    "    else:\n",
    "        continue\n",
    "    \n",
    "print(' ')\n",
    "print(\"the list_ contains: \", row_)"
   ]
  },
  {
   "cell_type": "code",
   "execution_count": 131,
   "id": "cbc095eb",
   "metadata": {},
   "outputs": [
    {
     "name": "stdout",
     "output_type": "stream",
     "text": [
      "the dummy array looks like: \n",
      " [[0. 0. 0. 0. 0.]] \n",
      "\n",
      "  \n",
      "after deleting, the array_ looks like: \n",
      "\n",
      " [[0.65416284 0.7400497  0.76331502 0.53373939 0.51457496]\n",
      " [0.78382835 0.60608318 0.94422514 0.85273554 0.50225923]\n",
      " [0.76456045 0.5208098  0.63521018 0.61627302 0.80989758]] \n",
      "\n",
      "the dimention of this array is:  2 \n",
      "\n",
      "the shape of this array is:  (3, 5) \n",
      "\n",
      "the type of this array is:  <class 'numpy.ndarray'> \n",
      "\n",
      "the data type of this array is:  float64 \n",
      "\n",
      "  \n",
      "the dummy_array_ array_ looks like: \n",
      "\n",
      " [[0.91874701 0.90071485 0.53342143 0.95694934 0.63720932]\n",
      " [0.52122603 0.55203763 0.98537741 0.76813415 0.66071675]] \n",
      "\n",
      "the dimention of this array is:  2 \n",
      "\n",
      "the shape of this array is:  (2, 5) \n",
      "\n",
      "the type of this array is:  <class 'numpy.ndarray'> \n",
      "\n",
      "the data type of this array is:  float64 \n",
      "\n"
     ]
    }
   ],
   "source": [
    "dummy_array_ = np.zeros((1, array_.shape[1]))\n",
    "\n",
    "print(\"the dummy array looks like: \\n\", dummy_array_, '\\n')\n",
    "\n",
    "print('  ')\n",
    "\n",
    "for values_ in row_:\n",
    "    #Store the row in dummy_array_\n",
    "    dummy_array_ = np.append(dummy_array_, [array_[values_, :]], axis = 0)\n",
    "    #now delete the array\n",
    "    array_       = np.delete(array_, values_, axis = 0)\n",
    "\n",
    "\n",
    "print(\"after deleting, the array_ looks like: \\n\\n\", array_,'\\n')\n",
    "print(\"the dimention of this array is: \", array_.ndim,'\\n')\n",
    "print(\"the shape of this array is: \", array_.shape,'\\n')\n",
    "print(\"the type of this array is: \", type(array_),'\\n')\n",
    "print(\"the data type of this array is: \", (array_.dtype),'\\n')\n",
    "\n",
    "\n",
    "print('  ')\n",
    "\n",
    "dummy_array_ = dummy_array_[1:]\n",
    "\n",
    "print(\"the dummy_array_ array_ looks like: \\n\\n\", dummy_array_,'\\n')\n",
    "print(\"the dimention of this array is: \", dummy_array_.ndim,'\\n')\n",
    "print(\"the shape of this array is: \", dummy_array_.shape,'\\n')\n",
    "print(\"the type of this array is: \", type(dummy_array_),'\\n')\n",
    "print(\"the data type of this array is: \", (dummy_array_.dtype),'\\n')"
   ]
  },
  {
   "cell_type": "code",
   "execution_count": 132,
   "id": "65767c98",
   "metadata": {},
   "outputs": [
    {
     "data": {
      "text/plain": [
       "array([[0.65416284, 0.7400497 , 0.76331502, 0.53373939, 0.51457496],\n",
       "       [0.76456045, 0.5208098 , 0.63521018, 0.61627302, 0.80989758]])"
      ]
     },
     "execution_count": 132,
     "metadata": {},
     "output_type": "execute_result"
    }
   ],
   "source": [
    "#How to delete works \n",
    "#np.delete(array_name, index, axis = 0/1)\n",
    "array1_ = array_.copy()\n",
    "\n",
    "np.delete(array1_, 1, axis = 0)"
   ]
  },
  {
   "cell_type": "code",
   "execution_count": 133,
   "id": "e51135ff",
   "metadata": {},
   "outputs": [
    {
     "name": "stdout",
     "output_type": "stream",
     "text": [
      "after adding 0.20 , the array_ looks like: \n",
      "\n",
      " [[1.11874701 1.10071485 0.73342143 1.15694934 0.83720932]\n",
      " [0.72122603 0.75203763 1.18537741 0.96813415 0.86071675]] \n",
      "\n",
      "after adding 0.20 , the array_ looks like: \n",
      "\n",
      " [[1.11874701 1.10071485 0.73342143 1.15694934 0.83720932]\n",
      " [0.72122603 0.75203763 1.18537741 0.96813415 0.86071675]] \n",
      "\n",
      "after merge, the array_ looks like: \n",
      "\n",
      " [[1.11874701 1.10071485 0.73342143 1.15694934 0.83720932]\n",
      " [0.72122603 0.75203763 1.18537741 0.96813415 0.86071675]\n",
      " [0.85416284 0.9400497  0.96331502 0.73373939 0.71457496]\n",
      " [0.98382835 0.80608318 1.14422514 1.05273554 0.70225923]\n",
      " [0.96456045 0.7208098  0.83521018 0.81627302 1.00989758]] \n",
      "\n",
      "the dimention of this array is:  2 \n",
      "\n",
      "the shape of this array is:  (5, 5) \n",
      "\n",
      "the type of this array is:  <class 'numpy.ndarray'> \n",
      "\n",
      "the data type of this array is:  float64 \n",
      "\n"
     ]
    }
   ],
   "source": [
    "#Add 0.20 in all array\n",
    "\n",
    "dummy_array_ = dummy_array_ + 0.20\n",
    "array_       = array_ + 0.20\n",
    "\n",
    "print(\"after adding 0.20 , the array_ looks like: \\n\\n\", dummy_array_,'\\n')\n",
    "print(\"after adding 0.20 , the array_ looks like: \\n\\n\", dummy_array_,'\\n')\n",
    "\n",
    "#merge the all sub array\n",
    "\n",
    "array_ = np.vstack((dummy_array_, array_))\n",
    "\n",
    "\n",
    "print(\"after merge, the array_ looks like: \\n\\n\", array_,'\\n')\n",
    "print(\"the dimention of this array is: \", array_.ndim,'\\n')\n",
    "print(\"the shape of this array is: \", array_.shape,'\\n')\n",
    "print(\"the type of this array is: \", type(array_),'\\n')\n",
    "print(\"the data type of this array is: \", (array_.dtype),'\\n')"
   ]
  },
  {
   "cell_type": "code",
   "execution_count": 134,
   "id": "9db516de",
   "metadata": {},
   "outputs": [
    {
     "data": {
      "text/plain": [
       "array(['T', 'T', 'T', 'T', 'T'], dtype='<U1')"
      ]
     },
     "execution_count": 134,
     "metadata": {},
     "output_type": "execute_result"
    }
   ],
   "source": [
    "np.where(np.round(np.sum(array_, axis = 0)) >0.4 , 'T', 'F')"
   ]
  },
  {
   "cell_type": "code",
   "execution_count": 140,
   "id": "6171adf4",
   "metadata": {},
   "outputs": [
    {
     "name": "stdout",
     "output_type": "stream",
     "text": [
      "[1, 4, 9]\n",
      "[16, 25, 36]\n",
      "[49, 64, 81]\n",
      "   \n",
      "[2]\n",
      "[4, 6]\n",
      "[8]\n",
      "   \n"
     ]
    },
    {
     "data": {
      "text/plain": [
       "[[2], [4, 6], [8]]"
      ]
     },
     "execution_count": 140,
     "metadata": {},
     "output_type": "execute_result"
    }
   ],
   "source": [
    "#check something for me\n",
    "\n",
    "list_ = [1,2,3,4,5,6,7,8,9,10]\n",
    "\n",
    "[(values_ + 10) for values_ in list_]\n",
    "\n",
    "# output:\n",
    "# [11, 12, 13, 14, 15, 16, 17, 18, 19, 20]\n",
    "\n",
    "#I want square all of those items\n",
    "\n",
    "list_ = [[1,2,3], [4,5,6], [7,8,9]]\n",
    "\n",
    "[[(value**2) for value in values_] for values_ in list_]\n",
    "\n",
    "# output:\n",
    "# [[1, 4, 9], [16, 25, 36], [49, 64, 81]]\n",
    "\n",
    "\n",
    "list_ = [1,2,3,4,5,6,7,8,9,10]\n",
    "\n",
    "func_ = list(map(lambda x: x + 10, list_))\n",
    "\n",
    "func_\n",
    "\n",
    "# output:\n",
    "# [11, 12, 13, 14, 15, 16, 17, 18, 19, 20]\n",
    "\n",
    "list_ = [[1,2,3], [4,5,6], [7,8,9]]\n",
    "\n",
    "def function_(list_):\n",
    "    func_ = list(map(lambda x: x ** 2, list_))\n",
    "    return func_\n",
    "\n",
    "list1_ = []\n",
    "for values_ in list_:\n",
    "    print(function_(values_))\n",
    "    list1_.append(function_(values_))\n",
    "\n",
    "print('   ')\n",
    "list1_\n",
    "\n",
    "# output:\n",
    "# [[1, 4, 9], [16, 25, 36], [49, 64, 81]]\n",
    "\n",
    "list_\n",
    "\n",
    "def even_function_(list_):\n",
    "    if list_%2==0:\n",
    "        return True\n",
    "    else:\n",
    "        return False\n",
    "\n",
    "list2_ = []\n",
    "\n",
    "for values_ in list_:\n",
    "    func_ = list(filter(even_function_, values_))\n",
    "    print(func_)\n",
    "    list2_.append(func_)\n",
    "\n",
    "print('   ')\n",
    "list2_"
   ]
  },
  {
   "cell_type": "markdown",
   "id": "98b03e17",
   "metadata": {},
   "source": [
    "# Numpy Choice"
   ]
  },
  {
   "cell_type": "code",
   "execution_count": 174,
   "id": "7ed309f4",
   "metadata": {},
   "outputs": [],
   "source": [
    "list_ = [1,2,3,5]"
   ]
  },
  {
   "cell_type": "code",
   "execution_count": 172,
   "id": "734e733d",
   "metadata": {},
   "outputs": [
    {
     "name": "stdout",
     "output_type": "stream",
     "text": [
      "choice =  3\n",
      "choice =  2\n",
      "choice =  1\n",
      "choice =  3\n"
     ]
    }
   ],
   "source": [
    "choice_ = np.random.choice(list_)\n",
    "\n",
    "\n",
    "condition_ = 4\n",
    "while(condition_ !=0 ):\n",
    "    print(\"choice = \", np.random.choice(list_))\n",
    "    condition_ = condition_ - 1"
   ]
  },
  {
   "cell_type": "code",
   "execution_count": 175,
   "id": "91657552",
   "metadata": {},
   "outputs": [
    {
     "data": {
      "text/plain": [
       "[3, 5]"
      ]
     },
     "execution_count": 175,
     "metadata": {},
     "output_type": "execute_result"
    }
   ],
   "source": [
    "func_ = list(filter(lambda x: x>2, list_))\n",
    "func_"
   ]
  },
  {
   "cell_type": "markdown",
   "id": "ff4027b1",
   "metadata": {},
   "source": [
    "# Reduce in List"
   ]
  },
  {
   "cell_type": "code",
   "execution_count": 180,
   "id": "bb22b458",
   "metadata": {},
   "outputs": [
    {
     "data": {
      "text/plain": [
       "15"
      ]
     },
     "execution_count": 180,
     "metadata": {},
     "output_type": "execute_result"
    }
   ],
   "source": [
    "list_ = [1, 2, 3, 4, 5]\n",
    "\n",
    "#If i want to sum then \n",
    "\n",
    "# addition_ = 0\n",
    "\n",
    "# for values_ in list_:\n",
    "    \n",
    "#     addition_ = addition_ + value_\n",
    "    \n",
    "# print(\"the addition is = \", addition_)\n",
    "\n",
    "# output:\n",
    "# the addition is =  15\n",
    "\n",
    "#We can do this same things with 'reduce'. In order to do this, we will have to import fuctools\n",
    "\n",
    "import functools\n",
    "\n",
    "func_ = functools.reduce(lambda x,y: x+y, list_)\n",
    "#here, we will have to pass two parameters in lambda(x,y)\n",
    "func_"
   ]
  },
  {
   "cell_type": "code",
   "execution_count": 181,
   "id": "94f718f3",
   "metadata": {},
   "outputs": [
    {
     "data": {
      "text/plain": [
       "15"
      ]
     },
     "execution_count": 181,
     "metadata": {},
     "output_type": "execute_result"
    }
   ],
   "source": [
    "#First we will square all the elements\n",
    "\n",
    "square_ = map(lambda x: )\n",
    "func_   = functools.reduce(lambda x, y: x*y, [1,2,3,4,5])\n",
    "func_"
   ]
  },
  {
   "cell_type": "code",
   "execution_count": null,
   "id": "d473f626",
   "metadata": {},
   "outputs": [],
   "source": []
  }
 ],
 "metadata": {
  "kernelspec": {
   "display_name": "Python 3 (ipykernel)",
   "language": "python",
   "name": "python3"
  },
  "language_info": {
   "codemirror_mode": {
    "name": "ipython",
    "version": 3
   },
   "file_extension": ".py",
   "mimetype": "text/x-python",
   "name": "python",
   "nbconvert_exporter": "python",
   "pygments_lexer": "ipython3",
   "version": "3.9.12"
  }
 },
 "nbformat": 4,
 "nbformat_minor": 5
}

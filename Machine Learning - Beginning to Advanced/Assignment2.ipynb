{
 "cells": [
  {
   "cell_type": "code",
   "execution_count": 1,
   "id": "eed80f46",
   "metadata": {},
   "outputs": [],
   "source": [
    "numbers = [ 1, 4, 6, 67, 6, 8, 23, 8, 34, 49, 67, 6, 8, 23, 37, 67, 6, 34, 19, 67, 6, 8 ]"
   ]
  },
  {
   "cell_type": "markdown",
   "id": "239c0788",
   "metadata": {},
   "source": [
    "# Print the first four numbers (use slicing)"
   ]
  },
  {
   "cell_type": "code",
   "execution_count": 2,
   "id": "419f2e32",
   "metadata": {},
   "outputs": [
    {
     "name": "stdout",
     "output_type": "stream",
     "text": [
      "the first four numbers are:  [1, 4, 6, 67] \n",
      "\n"
     ]
    }
   ],
   "source": [
    "firstFour_ = numbers[0:4]\n",
    "\n",
    "print(\"the first four numbers are: \", firstFour_,'\\n')"
   ]
  },
  {
   "cell_type": "markdown",
   "id": "ff3e5614",
   "metadata": {},
   "source": [
    "# Print the last four numbers."
   ]
  },
  {
   "cell_type": "code",
   "execution_count": 3,
   "id": "b053b030",
   "metadata": {},
   "outputs": [
    {
     "name": "stdout",
     "output_type": "stream",
     "text": [
      "the last four numbers are:  [19, 67, 6, 8] \n",
      "\n"
     ]
    }
   ],
   "source": [
    "lastFour_ = numbers[-4:]\n",
    "\n",
    "print(\"the last four numbers are: \", lastFour_, '\\n')"
   ]
  },
  {
   "cell_type": "markdown",
   "id": "454cec33",
   "metadata": {},
   "source": [
    "# Write a Python function: that computes the sum of all numbers. "
   ]
  },
  {
   "cell_type": "code",
   "execution_count": 4,
   "id": "b4fd539f",
   "metadata": {},
   "outputs": [
    {
     "name": "stdout",
     "output_type": "stream",
     "text": [
      "the total sum is:  554\n"
     ]
    }
   ],
   "source": [
    "def sum_all(numbers_):\n",
    "    \n",
    "    addition_ = 0\n",
    "    \n",
    "    for values_ in numbers_:\n",
    "        addition_ = addition_ + values_\n",
    "        \n",
    "    return addition_\n",
    "\n",
    "addition_ = sum_all(numbers)\n",
    "\n",
    "print(\"the total sum is: \", addition_)"
   ]
  },
  {
   "cell_type": "markdown",
   "id": "4be9e9c7",
   "metadata": {},
   "source": [
    "# Write a Python function:that computes the sum of all odd numbers. "
   ]
  },
  {
   "cell_type": "code",
   "execution_count": 5,
   "id": "02ada8cf",
   "metadata": {},
   "outputs": [
    {
     "name": "stdout",
     "output_type": "stream",
     "text": [
      "the sum of odd numbers is:  420\n"
     ]
    }
   ],
   "source": [
    "def sum_odd(numbers_):\n",
    "    \n",
    "    odd_ = 0\n",
    "    \n",
    "    for values_ in numbers_:\n",
    "        if values_ %2 != 0:\n",
    "            odd_ = odd_ + values_\n",
    "        else:\n",
    "            pass\n",
    "        \n",
    "    return odd_\n",
    "\n",
    "odd_ = sum_odd(numbers)\n",
    "\n",
    "print(\"the sum of odd numbers is: \", odd_)"
   ]
  },
  {
   "cell_type": "markdown",
   "id": "5d14557c",
   "metadata": {},
   "source": [
    "# Write a Python function:that computes the sum of the first four numbers and the sum of the last four numbers. Use Python’s tuple‐notation to return both values"
   ]
  },
  {
   "cell_type": "code",
   "execution_count": 6,
   "id": "4ea97486",
   "metadata": {},
   "outputs": [
    {
     "name": "stdout",
     "output_type": "stream",
     "text": [
      "the sum is:  (78, 100)\n"
     ]
    }
   ],
   "source": [
    "# def sum_four(list1_, list2_):\n",
    "    \n",
    "#     addition1_ = 0\n",
    "#     addition2_ = 0\n",
    "#     tuple_     = ('',)\n",
    "#     for values1_, values2_ in zip(list1_, list2_):\n",
    "        \n",
    "#         addition1_ = addition1_ + values1_\n",
    "#         addition2_ = addition2_ + values2_\n",
    "        \n",
    "#     tuple_ = tuple_ + (addition1_, addition2_, )\n",
    "    \n",
    "#     return tuple_[1:]\n",
    "\n",
    "# firstList_ = numbers[0:4]\n",
    "# lastList_  = numbers[-4:]\n",
    "\n",
    "# sum_four_ = sum_four(firstList_, lastList_)\n",
    "\n",
    "# print(\"the sum is: \", sum_four_)\n",
    "\n",
    "\n",
    "\n",
    "def sum_four(list1_, list2_):\n",
    "    \n",
    "    addition1_ = 0\n",
    "    addition2_ = 0\n",
    "    tuple_     = ('',)\n",
    "    for values1_ in (list1_):\n",
    "        addition1_ = addition1_ + values1_\n",
    "        \n",
    "    tuple_     = tuple_ + (addition1_, )\n",
    "    \n",
    "    for values1_ in (list2_):\n",
    "        addition2_ = addition2_ + values1_\n",
    "    \n",
    "    tuple_     = tuple_ + (addition2_, )\n",
    "    \n",
    "    return tuple_[1:]\n",
    "\n",
    "firstList_ = numbers[0:4]\n",
    "lastList_  = numbers[-4:]\n",
    "\n",
    "sum_four_ = sum_four(firstList_, lastList_)\n",
    "\n",
    "print(\"the sum is: \", sum_four_)"
   ]
  },
  {
   "cell_type": "markdown",
   "id": "ea654229",
   "metadata": {},
   "source": [
    "# Write a lambda function:  that computes the sum of all numbers, using Lambda"
   ]
  },
  {
   "cell_type": "code",
   "execution_count": 7,
   "id": "55117f78",
   "metadata": {},
   "outputs": [
    {
     "name": "stdout",
     "output_type": "stream",
     "text": [
      "Using Lambda, the sum is:  554\n"
     ]
    }
   ],
   "source": [
    "# from functools import reduce\n",
    "\n",
    "# addition_ = reduce(lambda x, y:(x + y), numbers)\n",
    "\n",
    "# print(\"Using Lambda, the sum is: \", addition_)\n",
    "\n",
    "sum_lambda = lambda x: 0 if len(x) == 0 else x[0] + sum_lambda(x[1:])\n",
    "print(\"Using Lambda, the sum is: \", sum_lambda(numbers))"
   ]
  },
  {
   "cell_type": "markdown",
   "id": "408543b3",
   "metadata": {},
   "source": [
    "# Write a lambda function: sum_lambda_odds( … ) that computes the sum of all odd numbers"
   ]
  },
  {
   "cell_type": "code",
   "execution_count": 8,
   "id": "51f5a89b",
   "metadata": {},
   "outputs": [
    {
     "name": "stdout",
     "output_type": "stream",
     "text": [
      "Using Lambda, the sum is:  420\n"
     ]
    }
   ],
   "source": [
    "# oddSum_ = reduce(lambda x, y:(x + y), list(filter(lambda x: (x %2 != 0), numbers)))\n",
    "# print(\"Using Lambda, the sum off odd numbers is: \", oddSum_)\n",
    "\n",
    "def odd_(data_):\n",
    "    if data_%2!=0:\n",
    "        return data_\n",
    "    else:\n",
    "        return 0\n",
    "    \n",
    "sum_lambda = lambda x: 0 if len(x) == 0 else odd_(x[0]) + sum_lambda(x[1:])\n",
    "print(\"Using Lambda, the sum is: \", sum_lambda(numbers))"
   ]
  },
  {
   "cell_type": "markdown",
   "id": "343a3dea",
   "metadata": {},
   "source": [
    "# Given the list contains n numbers, how many steps are needed to compute the sum of all numbers? "
   ]
  },
  {
   "cell_type": "code",
   "execution_count": 9,
   "id": "a2cf9142",
   "metadata": {},
   "outputs": [
    {
     "name": "stdout",
     "output_type": "stream",
     "text": [
      "How many numbers you want to add:\n",
      "3\n",
      "Please Enter the integer data:\n",
      "1\n",
      "Please Enter the integer data:\n",
      "2\n",
      "Please Enter the integer data:\n",
      "3\n",
      "the steps need to be calculated sum:  2\n"
     ]
    }
   ],
   "source": [
    "def sum_(list_):\n",
    "    \n",
    "    count_ = 0\n",
    "    \n",
    "    for values_ in list_:\n",
    "        count_ = count_ + 1\n",
    "    return count_\n",
    "\n",
    "condition_ = int(input(\"How many numbers you want to add:\\n\"))\n",
    "list_      = []\n",
    "\n",
    "while(condition_ != 0):\n",
    "    data_ = int(input(\"Please Enter the integer data:\\n\"))\n",
    "    list_.append(data_)\n",
    "    condition_ = condition_ - 1\n",
    "    \n",
    "step_ = sum_(list_)\n",
    "\n",
    "print(\"the steps need to be calculated sum: \", step_-1)"
   ]
  },
  {
   "cell_type": "markdown",
   "id": "1a39d2d6",
   "metadata": {},
   "source": [
    "# Question 2.1:"
   ]
  },
  {
   "cell_type": "code",
   "execution_count": 10,
   "id": "f5507c31",
   "metadata": {},
   "outputs": [
    {
     "name": "stdout",
     "output_type": "stream",
     "text": [
      "the first index is:  2\n"
     ]
    }
   ],
   "source": [
    "# def find_first(number_, list_):\n",
    "    \n",
    "#     findIndex_ = -1\n",
    "    \n",
    "#     for index_, values_ in enumerate(list_):\n",
    "#         if values_ == number_:\n",
    "#             findIndex_ = index_\n",
    "#             break\n",
    "#         else:\n",
    "#             pass\n",
    "        \n",
    "#     return findIndex_\n",
    "\n",
    "# index_ = find_first(6, numbers)\n",
    "\n",
    "# print(\"the first index is: \", index_)\n",
    "\n",
    "\n",
    "\n",
    "def find_first(number_, list_):\n",
    "    \n",
    "    findIndex_ = -1\n",
    "    length_    = len(list_)\n",
    "    \n",
    "    for index_ in range(length_):\n",
    "        if list_[index_] == number_:\n",
    "            findIndex_ = index_\n",
    "            break\n",
    "        else:\n",
    "            pass\n",
    "        \n",
    "    return findIndex_\n",
    "\n",
    "index_ = find_first(6, numbers)\n",
    "\n",
    "print(\"the first index is: \", index_)"
   ]
  },
  {
   "cell_type": "markdown",
   "id": "d4a8cc2e",
   "metadata": {},
   "source": [
    "# Question 2.2"
   ]
  },
  {
   "cell_type": "code",
   "execution_count": 11,
   "id": "768d1cf8",
   "metadata": {},
   "outputs": [
    {
     "name": "stdout",
     "output_type": "stream",
     "text": [
      "the last index_ is:  20\n"
     ]
    }
   ],
   "source": [
    "# def find_last(number_, list_):\n",
    "    \n",
    "#     lastIndex_ = -1 \n",
    "    \n",
    "#     for index_, values_ in enumerate(list_):\n",
    "        \n",
    "#         if number_ == values_:\n",
    "            \n",
    "#             lastIndex_ = index_\n",
    "#         else:\n",
    "            \n",
    "#             pass\n",
    "        \n",
    "#     return lastIndex_\n",
    "\n",
    "# lastIndex_ = find_last(6, numbers)\n",
    "\n",
    "# print(\"the last index_ is: \", lastIndex_)\n",
    "\n",
    "\n",
    "\n",
    "def find_last(number_, list_):\n",
    "    \n",
    "    lastIndex_ = -1 \n",
    "    length_    = len(list_)\n",
    "    \n",
    "    for index_ in range(length_):\n",
    "        \n",
    "        if number_ == list_[index_]:\n",
    "            \n",
    "            lastIndex_ = index_\n",
    "        else:\n",
    "            \n",
    "            pass\n",
    "        \n",
    "    return lastIndex_\n",
    "\n",
    "lastIndex_ = find_last(6, numbers)\n",
    "\n",
    "print(\"the last index_ is: \", lastIndex_)"
   ]
  },
  {
   "cell_type": "markdown",
   "id": "a1382950",
   "metadata": {},
   "source": [
    "# Question 3"
   ]
  },
  {
   "cell_type": "code",
   "execution_count": 12,
   "id": "56b90a38",
   "metadata": {},
   "outputs": [
    {
     "name": "stdout",
     "output_type": "stream",
     "text": [
      "the first two index is:  4\n"
     ]
    }
   ],
   "source": [
    "# def find_firsttwo(number1_, number2_, list_):\n",
    "    \n",
    "#     findIndex_ = -1\n",
    "    \n",
    "#     for index_, values_ in enumerate(list_):\n",
    "        \n",
    "#         if values_ == number1_:\n",
    "#             if list_[index_ + 1] == number2_:\n",
    "#                 findIndex_ = index_\n",
    "#                 break\n",
    "#         else:\n",
    "#             pass\n",
    "    \n",
    "#     return findIndex_\n",
    "        \n",
    "# index_ = find_firsttwo(6,8,numbers)\n",
    "\n",
    "# print(\"the first two index is: \", index_)\n",
    "\n",
    "\n",
    "def find_firsttwo(number1_, number2_, list_):\n",
    "    \n",
    "    findIndex_ = -1\n",
    "    length_    = len(list_)\n",
    "    \n",
    "    for index_ in range(length_):\n",
    "        if list_[index_] == number1_:\n",
    "            if list_[index_ + 1] == number2_:\n",
    "                findIndex_ = index_\n",
    "                break\n",
    "        else:\n",
    "            pass\n",
    "    \n",
    "    return findIndex_\n",
    "        \n",
    "index_ = find_firsttwo(6, 8,numbers)\n",
    "\n",
    "print(\"the first two index is: \", index_)"
   ]
  },
  {
   "cell_type": "markdown",
   "id": "a62e231c",
   "metadata": {},
   "source": [
    "# Question 4"
   ]
  },
  {
   "cell_type": "code",
   "execution_count": 13,
   "id": "6ad285a8",
   "metadata": {},
   "outputs": [
    {
     "name": "stdout",
     "output_type": "stream",
     "text": [
      "the index list is:  [3, 10, 15, 19]\n"
     ]
    }
   ],
   "source": [
    "# def find_alltwo(number1_, number2_, list_):\n",
    "    \n",
    "#     indexList_ = []\n",
    "    \n",
    "#     for index_, values_ in enumerate(list_):\n",
    "        \n",
    "#         if values_ == number1_:\n",
    "#             if list_[index_ + 1] == number2_:\n",
    "#                 indexList_.append(index_)\n",
    "                     \n",
    "#         else:\n",
    "#             pass\n",
    "        \n",
    "#     return indexList_\n",
    "\n",
    "# indexList_ = find_alltwo(67,6 , numbers)\n",
    "\n",
    "# print(\"the index list is: \", indexList_)\n",
    "\n",
    "\n",
    "\n",
    "def find_alltwo(number1_, number2_, list_):\n",
    "    \n",
    "    indexList_ = []\n",
    "    length_    = len(list_)\n",
    "    \n",
    "    for index_ in range(length_):\n",
    "        if list_[index_] == number1_:\n",
    "            if list_[index_ + 1] == number2_:\n",
    "                indexList_.append(index_)\n",
    "            else:\n",
    "                pass\n",
    "        else:\n",
    "            pass\n",
    "        \n",
    "    return indexList_\n",
    "\n",
    "indexList_ = find_alltwo(67,6 , numbers)\n",
    "\n",
    "print(\"the index list is: \", indexList_)"
   ]
  },
  {
   "cell_type": "markdown",
   "id": "a74962f1",
   "metadata": {},
   "source": [
    "# Question 5"
   ]
  },
  {
   "cell_type": "code",
   "execution_count": 14,
   "id": "e31336b9",
   "metadata": {},
   "outputs": [
    {
     "name": "stdout",
     "output_type": "stream",
     "text": [
      "the index of the first appearance of the sublist:  3\n"
     ]
    }
   ],
   "source": [
    "# def find_sub(subList_, list_):\n",
    "    \n",
    "#     length_ = len(subList_)\n",
    "#     indexFind_ = -1\n",
    "    \n",
    "#     for index_, values_ in enumerate(list_):\n",
    "#         if subList_ == list_[index_ : length_]:\n",
    "#             indexFind_ = index_\n",
    "#             break\n",
    "#             length_ = length_ + 1\n",
    "#         else:\n",
    "#             length_ = length_ + 1\n",
    "            \n",
    "#     return indexFind_\n",
    "            \n",
    "# indexFind_ = find_sub([67,6,8], numbers)\n",
    "\n",
    "# print(\"the index of the first appearance of the sublist: \", indexFind_)\n",
    "\n",
    "\n",
    "\n",
    "\n",
    "def find_sub(subList_, list_):\n",
    "    \n",
    "    length_ = len(subList_)\n",
    "    indexFind_ = -1\n",
    "    indexLength_    = len(list_)\n",
    "    \n",
    "    for index_ in range(indexLength_):\n",
    "        if subList_ == list_[index_ : length_]:\n",
    "            indexFind_ = index_\n",
    "            break\n",
    "            length_ = length_ + 1\n",
    "        else:\n",
    "            length_ = length_ + 1\n",
    "            \n",
    "    return indexFind_\n",
    "            \n",
    "indexFind_ = find_sub([67, 6, 8], numbers)\n",
    "\n",
    "print(\"the index of the first appearance of the sublist: \", indexFind_)"
   ]
  },
  {
   "cell_type": "markdown",
   "id": "a1b441e6",
   "metadata": {},
   "source": [
    "# Question 6"
   ]
  },
  {
   "cell_type": "code",
   "execution_count": 15,
   "id": "0a204804",
   "metadata": {},
   "outputs": [
    {
     "name": "stdout",
     "output_type": "stream",
     "text": [
      "the all occurrences of a given sublist in numbers is:  [3, 10, 19]\n"
     ]
    }
   ],
   "source": [
    "# def find_allsubs(subList_, list_):\n",
    "    \n",
    "#     length_ = len(subList_)\n",
    "#     indexFind_ = []\n",
    "    \n",
    "#     for index_, values_ in enumerate(list_):\n",
    "#         if subList_ == list_[index_ : length_]:\n",
    "#             indexFind_.append(index_)\n",
    "#             length_ = length_ + 1\n",
    "#         else:\n",
    "#             length_ = length_ + 1\n",
    "            \n",
    "#     return indexFind_\n",
    "    \n",
    "# indexFind_ = find_allsubs([67,6,8], numbers)\n",
    "\n",
    "# print(\"the all occurrences of a given sublist in numbers is: \", indexFind_)\n",
    "\n",
    "\n",
    "\n",
    "\n",
    "def find_allsubs(subList_, list_):\n",
    "    \n",
    "    length_ = len(subList_)\n",
    "    indexFind_ = []\n",
    "    indexLength_ = len(list_)\n",
    "    \n",
    "    for index_ in range(indexLength_):\n",
    "        if subList_ == list_[index_ : length_]:\n",
    "            indexFind_.append(index_)\n",
    "            length_ = length_ + 1\n",
    "        else:\n",
    "            length_ = length_ + 1\n",
    "            \n",
    "    return indexFind_\n",
    "    \n",
    "indexFind_ = find_allsubs([67,6,8], numbers)\n",
    "\n",
    "print(\"the all occurrences of a given sublist in numbers is: \", indexFind_)"
   ]
  },
  {
   "cell_type": "markdown",
   "id": "940ce7ce",
   "metadata": {},
   "source": [
    "# If numbers has n elements and the sublist has m elements, how many steps are needed to finds all occurrences of a sublist in the list?  "
   ]
  },
  {
   "cell_type": "code",
   "execution_count": 16,
   "id": "1b0958f6",
   "metadata": {},
   "outputs": [
    {
     "name": "stdout",
     "output_type": "stream",
     "text": [
      "Enter how many numbers, you want to create a full list: \n",
      "22\n",
      "Please Enter the integer data:\n",
      "1\n",
      "Please Enter the integer data:\n",
      "4\n",
      "Please Enter the integer data:\n",
      "6\n",
      "Please Enter the integer data:\n",
      "67\n",
      "Please Enter the integer data:\n",
      "6\n",
      "Please Enter the integer data:\n",
      "8\n",
      "Please Enter the integer data:\n",
      "23\n",
      "Please Enter the integer data:\n",
      "8\n",
      "Please Enter the integer data:\n",
      "34\n",
      "Please Enter the integer data:\n",
      "49\n",
      "Please Enter the integer data:\n",
      "67\n",
      "Please Enter the integer data:\n",
      "6\n",
      "Please Enter the integer data:\n",
      "8\n",
      "Please Enter the integer data:\n",
      "23\n",
      "Please Enter the integer data:\n",
      "37\n",
      "Please Enter the integer data:\n",
      "67\n",
      "Please Enter the integer data:\n",
      "6\n",
      "Please Enter the integer data:\n",
      "34\n",
      "Please Enter the integer data:\n",
      "19\n",
      "Please Enter the integer data:\n",
      "67\n",
      "Please Enter the integer data:\n",
      "6\n",
      "Please Enter the integer data:\n",
      "8\n",
      "Enter how many numbers, you want to create a sublist: \n",
      "3\n",
      "Please Enter the integer data:\n",
      "67\n",
      "Please Enter the integer data:\n",
      "6\n",
      "Please Enter the integer data:\n",
      "8\n",
      "steps are needed to finds all occurrences of a sublist in the list is 19\n",
      "number of all occurrences of a sublist in the list is 3\n"
     ]
    }
   ],
   "source": [
    "fullList_ = []\n",
    "subList_  = []\n",
    "\n",
    "def createList(numbers_, list_):\n",
    "    \n",
    "    condition_ = numbers_\n",
    "    \n",
    "    while(condition_ != 0):\n",
    "        data_ = int(input(\"Please Enter the integer data:\\n\"))\n",
    "        list_.append(data_)\n",
    "        condition_ = condition_ - 1\n",
    "        \n",
    "        \n",
    "def find_allsubs(subList_, list_):\n",
    "    \n",
    "    length_   = len(subList_)\n",
    "    occurance_ = 0\n",
    "    steps_     = 0\n",
    "    \n",
    "    for index_, values_ in enumerate(list_):\n",
    "        if subList_ == list_[index_ : length_]:\n",
    "            occurance_ = occurance_ + 1 \n",
    "            length_ = length_ + 1\n",
    "        else:\n",
    "            steps_ = steps_ + 1\n",
    "            length_ = length_ + 1\n",
    "            \n",
    "    return occurance_, steps_\n",
    "    \n",
    "\n",
    "condition_ = True\n",
    "flag_      = 1\n",
    "while(condition_):\n",
    "    \n",
    "    if flag_ == 1:\n",
    "        numbers_ = int(input(\"Enter how many numbers, you want to create a full list: \\n\"))\n",
    "        createList(numbers_, fullList_)\n",
    "        condition_ = True\n",
    "        flag_ = 0\n",
    "        \n",
    "    else:\n",
    "        numbers_ = int(input(\"Enter how many numbers, you want to create a sublist: \\n\"))\n",
    "        createList(numbers_, subList_)\n",
    "        condition_ = False\n",
    "        flag_ = -1\n",
    "    \n",
    "        \n",
    "fullList_, subList_\n",
    "\n",
    "occurance_,step_ = find_allsubs(subList_, fullList_)\n",
    "print(\"steps are needed to finds all occurrences of a sublist in the list is\", step_)\n",
    "print(\"number of all occurrences of a sublist in the list is\", occurance_)"
   ]
  }
 ],
 "metadata": {
  "kernelspec": {
   "display_name": "Python 3",
   "language": "python",
   "name": "python3"
  },
  "language_info": {
   "codemirror_mode": {
    "name": "ipython",
    "version": 3
   },
   "file_extension": ".py",
   "mimetype": "text/x-python",
   "name": "python",
   "nbconvert_exporter": "python",
   "pygments_lexer": "ipython3",
   "version": "3.8.8"
  }
 },
 "nbformat": 4,
 "nbformat_minor": 5
}

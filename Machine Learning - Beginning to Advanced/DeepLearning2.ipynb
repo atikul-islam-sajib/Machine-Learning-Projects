{
 "cells": [
  {
   "cell_type": "code",
   "execution_count": 1,
   "id": "7c60d2f8",
   "metadata": {},
   "outputs": [],
   "source": [
    "import pandas as pd\n",
    "import numpy  as np\n",
    "from sklearn.model_selection import train_test_split\n",
    "from sklearn.metrics import accuracy_score\n",
    "from sklearn.preprocessing import MinMaxScaler\n",
    "from sklearn.ensemble import RandomForestClassifier, GradientBoostingClassifier\n",
    "from keras.layers import Dense\n",
    "from keras.models import Sequential"
   ]
  },
  {
   "cell_type": "code",
   "execution_count": 2,
   "id": "bc5b3178",
   "metadata": {},
   "outputs": [
    {
     "data": {
      "text/html": [
       "<div>\n",
       "<style scoped>\n",
       "    .dataframe tbody tr th:only-of-type {\n",
       "        vertical-align: middle;\n",
       "    }\n",
       "\n",
       "    .dataframe tbody tr th {\n",
       "        vertical-align: top;\n",
       "    }\n",
       "\n",
       "    .dataframe thead th {\n",
       "        text-align: right;\n",
       "    }\n",
       "</style>\n",
       "<table border=\"1\" class=\"dataframe\">\n",
       "  <thead>\n",
       "    <tr style=\"text-align: right;\">\n",
       "      <th></th>\n",
       "      <th>6</th>\n",
       "      <th>148</th>\n",
       "      <th>72</th>\n",
       "      <th>35</th>\n",
       "      <th>0</th>\n",
       "      <th>33.6</th>\n",
       "      <th>0.627</th>\n",
       "      <th>50</th>\n",
       "      <th>1</th>\n",
       "    </tr>\n",
       "  </thead>\n",
       "  <tbody>\n",
       "    <tr>\n",
       "      <th>0</th>\n",
       "      <td>1</td>\n",
       "      <td>85</td>\n",
       "      <td>66</td>\n",
       "      <td>29</td>\n",
       "      <td>0</td>\n",
       "      <td>26.6</td>\n",
       "      <td>0.351</td>\n",
       "      <td>31</td>\n",
       "      <td>0</td>\n",
       "    </tr>\n",
       "    <tr>\n",
       "      <th>1</th>\n",
       "      <td>8</td>\n",
       "      <td>183</td>\n",
       "      <td>64</td>\n",
       "      <td>0</td>\n",
       "      <td>0</td>\n",
       "      <td>23.3</td>\n",
       "      <td>0.672</td>\n",
       "      <td>32</td>\n",
       "      <td>1</td>\n",
       "    </tr>\n",
       "    <tr>\n",
       "      <th>2</th>\n",
       "      <td>1</td>\n",
       "      <td>89</td>\n",
       "      <td>66</td>\n",
       "      <td>23</td>\n",
       "      <td>94</td>\n",
       "      <td>28.1</td>\n",
       "      <td>0.167</td>\n",
       "      <td>21</td>\n",
       "      <td>0</td>\n",
       "    </tr>\n",
       "    <tr>\n",
       "      <th>3</th>\n",
       "      <td>0</td>\n",
       "      <td>137</td>\n",
       "      <td>40</td>\n",
       "      <td>35</td>\n",
       "      <td>168</td>\n",
       "      <td>43.1</td>\n",
       "      <td>2.288</td>\n",
       "      <td>33</td>\n",
       "      <td>1</td>\n",
       "    </tr>\n",
       "    <tr>\n",
       "      <th>4</th>\n",
       "      <td>5</td>\n",
       "      <td>116</td>\n",
       "      <td>74</td>\n",
       "      <td>0</td>\n",
       "      <td>0</td>\n",
       "      <td>25.6</td>\n",
       "      <td>0.201</td>\n",
       "      <td>30</td>\n",
       "      <td>0</td>\n",
       "    </tr>\n",
       "  </tbody>\n",
       "</table>\n",
       "</div>"
      ],
      "text/plain": [
       "   6  148  72  35    0  33.6  0.627  50  1\n",
       "0  1   85  66  29    0  26.6  0.351  31  0\n",
       "1  8  183  64   0    0  23.3  0.672  32  1\n",
       "2  1   89  66  23   94  28.1  0.167  21  0\n",
       "3  0  137  40  35  168  43.1  2.288  33  1\n",
       "4  5  116  74   0    0  25.6  0.201  30  0"
      ]
     },
     "execution_count": 2,
     "metadata": {},
     "output_type": "execute_result"
    }
   ],
   "source": [
    "df = pd.read_csv('diabetes.csv')\n",
    "df.head()"
   ]
  },
  {
   "cell_type": "code",
   "execution_count": 3,
   "id": "f64275ed",
   "metadata": {},
   "outputs": [
    {
     "data": {
      "text/plain": [
       "(767, 9)"
      ]
     },
     "execution_count": 3,
     "metadata": {},
     "output_type": "execute_result"
    }
   ],
   "source": [
    "df.shape"
   ]
  },
  {
   "cell_type": "code",
   "execution_count": 4,
   "id": "fd7b9f98",
   "metadata": {},
   "outputs": [
    {
     "data": {
      "text/plain": [
       "(767, 9)"
      ]
     },
     "execution_count": 4,
     "metadata": {},
     "output_type": "execute_result"
    }
   ],
   "source": [
    "df.shape"
   ]
  },
  {
   "cell_type": "code",
   "execution_count": 5,
   "id": "9781bd6d",
   "metadata": {},
   "outputs": [],
   "source": [
    "X = df.iloc[:,:-1].values\n",
    "y = df.iloc[:,-1].values\n",
    "\n",
    "x_train, x_test, y_train, y_test = train_test_split(X, y, test_size = 0.30, random_state = None)"
   ]
  },
  {
   "cell_type": "code",
   "execution_count": 6,
   "id": "721fab38",
   "metadata": {},
   "outputs": [],
   "source": [
    "scaling_ = MinMaxScaler()\n",
    "x_train = scaling_.fit_transform(x_train)\n",
    "x_test  = scaling_.transform(x_test)"
   ]
  },
  {
   "cell_type": "code",
   "execution_count": 7,
   "id": "d3ba4570",
   "metadata": {},
   "outputs": [
    {
     "data": {
      "text/plain": [
       "RandomForestClassifier()"
      ]
     },
     "execution_count": 7,
     "metadata": {},
     "output_type": "execute_result"
    }
   ],
   "source": [
    "rf = RandomForestClassifier()\n",
    "rf.fit(x_train, y_train)"
   ]
  },
  {
   "cell_type": "code",
   "execution_count": 8,
   "id": "59bb6d2a",
   "metadata": {},
   "outputs": [
    {
     "data": {
      "text/plain": [
       "GradientBoostingClassifier()"
      ]
     },
     "execution_count": 8,
     "metadata": {},
     "output_type": "execute_result"
    }
   ],
   "source": [
    "gb = GradientBoostingClassifier()\n",
    "gb.fit(x_train, y_train)"
   ]
  },
  {
   "cell_type": "code",
   "execution_count": 9,
   "id": "ae1bac4a",
   "metadata": {},
   "outputs": [
    {
     "name": "stdout",
     "output_type": "stream",
     "text": [
      "The accuracy of Random forest is     =  0.7186147186147186\n",
      "The accuracy of Gradient Boosting is =  0.7359307359307359\n"
     ]
    }
   ],
   "source": [
    "print(\"The accuracy of Random forest is     = \",rf.score(x_test,y_test))\n",
    "print(\"The accuracy of Gradient Boosting is = \",gb.score(x_test,y_test))"
   ]
  },
  {
   "cell_type": "code",
   "execution_count": 10,
   "id": "c429bddf",
   "metadata": {},
   "outputs": [],
   "source": [
    "classifier = Sequential()\n",
    "#create input layer and first hidden layer\n",
    "classifier.add(Dense(units = 5, kernel_initializer = 'uniform', activation = 'relu', input_dim = 8))\n",
    "#create second hidden layer\n",
    "classifier.add(Dense(units = 5, kernel_initializer = 'uniform', activation = 'relu'))\n",
    "#create output layer\n",
    "classifier.add(Dense(units = 1, kernel_initializer = 'uniform', activation = 'sigmoid'))"
   ]
  },
  {
   "cell_type": "code",
   "execution_count": 11,
   "id": "4ed95521",
   "metadata": {},
   "outputs": [],
   "source": [
    "#compile the classifier\n",
    "classifier.compile(optimizer = 'Adam', loss = 'binary_crossentropy', metrics = ['accuracy'])"
   ]
  },
  {
   "cell_type": "code",
   "execution_count": 12,
   "id": "4b43cae2",
   "metadata": {},
   "outputs": [
    {
     "name": "stdout",
     "output_type": "stream",
     "text": [
      "Epoch 1/100\n",
      "11/11 [==============================] - 0s 2ms/step - loss: 0.6923 - accuracy: 0.6455\n",
      "Epoch 2/100\n",
      "11/11 [==============================] - 0s 1ms/step - loss: 0.6908 - accuracy: 0.6493\n",
      "Epoch 3/100\n",
      "11/11 [==============================] - 0s 1ms/step - loss: 0.6892 - accuracy: 0.6493\n",
      "Epoch 4/100\n",
      "11/11 [==============================] - 0s 1ms/step - loss: 0.6875 - accuracy: 0.6493\n",
      "Epoch 5/100\n",
      "11/11 [==============================] - 0s 2ms/step - loss: 0.6858 - accuracy: 0.6493\n",
      "Epoch 6/100\n",
      "11/11 [==============================] - 0s 1ms/step - loss: 0.6840 - accuracy: 0.6493\n",
      "Epoch 7/100\n",
      "11/11 [==============================] - 0s 1ms/step - loss: 0.6821 - accuracy: 0.6493\n",
      "Epoch 8/100\n",
      "11/11 [==============================] - 0s 1ms/step - loss: 0.6803 - accuracy: 0.6493\n",
      "Epoch 9/100\n",
      "11/11 [==============================] - 0s 2ms/step - loss: 0.6781 - accuracy: 0.6493\n",
      "Epoch 10/100\n",
      "11/11 [==============================] - 0s 1ms/step - loss: 0.6758 - accuracy: 0.6493\n",
      "Epoch 11/100\n",
      "11/11 [==============================] - 0s 2ms/step - loss: 0.6732 - accuracy: 0.6493\n",
      "Epoch 12/100\n",
      "11/11 [==============================] - 0s 2ms/step - loss: 0.6707 - accuracy: 0.6493\n",
      "Epoch 13/100\n",
      "11/11 [==============================] - 0s 1ms/step - loss: 0.6678 - accuracy: 0.6493\n",
      "Epoch 14/100\n",
      "11/11 [==============================] - 0s 2ms/step - loss: 0.6652 - accuracy: 0.6493\n",
      "Epoch 15/100\n",
      "11/11 [==============================] - 0s 2ms/step - loss: 0.6627 - accuracy: 0.6493\n",
      "Epoch 16/100\n",
      "11/11 [==============================] - 0s 2ms/step - loss: 0.6603 - accuracy: 0.6493\n",
      "Epoch 17/100\n",
      "11/11 [==============================] - 0s 2ms/step - loss: 0.6585 - accuracy: 0.6493\n",
      "Epoch 18/100\n",
      "11/11 [==============================] - 0s 2ms/step - loss: 0.6566 - accuracy: 0.6493\n",
      "Epoch 19/100\n",
      "11/11 [==============================] - 0s 2ms/step - loss: 0.6548 - accuracy: 0.6493\n",
      "Epoch 20/100\n",
      "11/11 [==============================] - 0s 1ms/step - loss: 0.6536 - accuracy: 0.6493\n",
      "Epoch 21/100\n",
      "11/11 [==============================] - 0s 2ms/step - loss: 0.6521 - accuracy: 0.6493\n",
      "Epoch 22/100\n",
      "11/11 [==============================] - 0s 2ms/step - loss: 0.6507 - accuracy: 0.6493\n",
      "Epoch 23/100\n",
      "11/11 [==============================] - 0s 2ms/step - loss: 0.6495 - accuracy: 0.6493\n",
      "Epoch 24/100\n",
      "11/11 [==============================] - 0s 2ms/step - loss: 0.6485 - accuracy: 0.6493\n",
      "Epoch 25/100\n",
      "11/11 [==============================] - 0s 2ms/step - loss: 0.6472 - accuracy: 0.6493\n",
      "Epoch 26/100\n",
      "11/11 [==============================] - 0s 1ms/step - loss: 0.6460 - accuracy: 0.6493\n",
      "Epoch 27/100\n",
      "11/11 [==============================] - 0s 2ms/step - loss: 0.6449 - accuracy: 0.6493\n",
      "Epoch 28/100\n",
      "11/11 [==============================] - 0s 2ms/step - loss: 0.6437 - accuracy: 0.6493\n",
      "Epoch 29/100\n",
      "11/11 [==============================] - 0s 2ms/step - loss: 0.6423 - accuracy: 0.6493\n",
      "Epoch 30/100\n",
      "11/11 [==============================] - 0s 1ms/step - loss: 0.6409 - accuracy: 0.6493\n",
      "Epoch 31/100\n",
      "11/11 [==============================] - 0s 2ms/step - loss: 0.6395 - accuracy: 0.6493\n",
      "Epoch 32/100\n",
      "11/11 [==============================] - 0s 2ms/step - loss: 0.6379 - accuracy: 0.6493\n",
      "Epoch 33/100\n",
      "11/11 [==============================] - 0s 2ms/step - loss: 0.6361 - accuracy: 0.6493\n",
      "Epoch 34/100\n",
      "11/11 [==============================] - 0s 1ms/step - loss: 0.6343 - accuracy: 0.6493\n",
      "Epoch 35/100\n",
      "11/11 [==============================] - 0s 1ms/step - loss: 0.6321 - accuracy: 0.6493\n",
      "Epoch 36/100\n",
      "11/11 [==============================] - 0s 1ms/step - loss: 0.6298 - accuracy: 0.6493\n",
      "Epoch 37/100\n",
      "11/11 [==============================] - 0s 1ms/step - loss: 0.6270 - accuracy: 0.6493\n",
      "Epoch 38/100\n",
      "11/11 [==============================] - 0s 1ms/step - loss: 0.6245 - accuracy: 0.6493\n",
      "Epoch 39/100\n",
      "11/11 [==============================] - 0s 2ms/step - loss: 0.6215 - accuracy: 0.6493\n",
      "Epoch 40/100\n",
      "11/11 [==============================] - 0s 2ms/step - loss: 0.6184 - accuracy: 0.6493\n",
      "Epoch 41/100\n",
      "11/11 [==============================] - 0s 2ms/step - loss: 0.6152 - accuracy: 0.6493\n",
      "Epoch 42/100\n",
      "11/11 [==============================] - 0s 1ms/step - loss: 0.6117 - accuracy: 0.6567\n",
      "Epoch 43/100\n",
      "11/11 [==============================] - 0s 1ms/step - loss: 0.6082 - accuracy: 0.6567\n",
      "Epoch 44/100\n",
      "11/11 [==============================] - 0s 2ms/step - loss: 0.6048 - accuracy: 0.6623\n",
      "Epoch 45/100\n",
      "11/11 [==============================] - 0s 2ms/step - loss: 0.6012 - accuracy: 0.6754\n",
      "Epoch 46/100\n",
      "11/11 [==============================] - 0s 1ms/step - loss: 0.5976 - accuracy: 0.6772\n",
      "Epoch 47/100\n",
      "11/11 [==============================] - 0s 2ms/step - loss: 0.5941 - accuracy: 0.6791\n",
      "Epoch 48/100\n",
      "11/11 [==============================] - 0s 2ms/step - loss: 0.5909 - accuracy: 0.6791\n",
      "Epoch 49/100\n",
      "11/11 [==============================] - 0s 2ms/step - loss: 0.5874 - accuracy: 0.6828\n",
      "Epoch 50/100\n",
      "11/11 [==============================] - 0s 1ms/step - loss: 0.5843 - accuracy: 0.6884\n",
      "Epoch 51/100\n",
      "11/11 [==============================] - 0s 2ms/step - loss: 0.5807 - accuracy: 0.6959\n",
      "Epoch 52/100\n",
      "11/11 [==============================] - 0s 1ms/step - loss: 0.5792 - accuracy: 0.6996\n",
      "Epoch 53/100\n",
      "11/11 [==============================] - 0s 1ms/step - loss: 0.5762 - accuracy: 0.6959\n",
      "Epoch 54/100\n",
      "11/11 [==============================] - 0s 2ms/step - loss: 0.5727 - accuracy: 0.6996\n",
      "Epoch 55/100\n",
      "11/11 [==============================] - 0s 1ms/step - loss: 0.5701 - accuracy: 0.7034\n",
      "Epoch 56/100\n",
      "11/11 [==============================] - 0s 2ms/step - loss: 0.5675 - accuracy: 0.7015\n",
      "Epoch 57/100\n",
      "11/11 [==============================] - 0s 1ms/step - loss: 0.5648 - accuracy: 0.7034\n",
      "Epoch 58/100\n",
      "11/11 [==============================] - 0s 1ms/step - loss: 0.5632 - accuracy: 0.6996\n",
      "Epoch 59/100\n",
      "11/11 [==============================] - 0s 1ms/step - loss: 0.5606 - accuracy: 0.7052\n",
      "Epoch 60/100\n",
      "11/11 [==============================] - 0s 1ms/step - loss: 0.5590 - accuracy: 0.7127\n",
      "Epoch 61/100\n",
      "11/11 [==============================] - 0s 1ms/step - loss: 0.5568 - accuracy: 0.7108\n",
      "Epoch 62/100\n",
      "11/11 [==============================] - 0s 1ms/step - loss: 0.5547 - accuracy: 0.7090\n",
      "Epoch 63/100\n",
      "11/11 [==============================] - 0s 1ms/step - loss: 0.5528 - accuracy: 0.7108\n",
      "Epoch 64/100\n",
      "11/11 [==============================] - 0s 1ms/step - loss: 0.5513 - accuracy: 0.7090\n",
      "Epoch 65/100\n",
      "11/11 [==============================] - 0s 996us/step - loss: 0.5491 - accuracy: 0.7071\n",
      "Epoch 66/100\n",
      "11/11 [==============================] - 0s 1ms/step - loss: 0.5479 - accuracy: 0.7071\n",
      "Epoch 67/100\n",
      "11/11 [==============================] - 0s 1ms/step - loss: 0.5462 - accuracy: 0.7108\n",
      "Epoch 68/100\n",
      "11/11 [==============================] - 0s 1000us/step - loss: 0.5444 - accuracy: 0.7090\n",
      "Epoch 69/100\n",
      "11/11 [==============================] - 0s 1000us/step - loss: 0.5428 - accuracy: 0.7071\n",
      "Epoch 70/100\n",
      "11/11 [==============================] - 0s 1ms/step - loss: 0.5413 - accuracy: 0.7090\n",
      "Epoch 71/100\n",
      "11/11 [==============================] - 0s 1ms/step - loss: 0.5400 - accuracy: 0.7127\n",
      "Epoch 72/100\n",
      "11/11 [==============================] - 0s 1ms/step - loss: 0.5385 - accuracy: 0.7164\n",
      "Epoch 73/100\n",
      "11/11 [==============================] - 0s 1ms/step - loss: 0.5370 - accuracy: 0.7127\n",
      "Epoch 74/100\n",
      "11/11 [==============================] - 0s 1ms/step - loss: 0.5356 - accuracy: 0.7090\n",
      "Epoch 75/100\n",
      "11/11 [==============================] - 0s 1ms/step - loss: 0.5343 - accuracy: 0.7108\n",
      "Epoch 76/100\n",
      "11/11 [==============================] - 0s 900us/step - loss: 0.5333 - accuracy: 0.7146\n",
      "Epoch 77/100\n",
      "11/11 [==============================] - 0s 904us/step - loss: 0.5324 - accuracy: 0.7127\n",
      "Epoch 78/100\n",
      "11/11 [==============================] - 0s 1ms/step - loss: 0.5308 - accuracy: 0.7108\n",
      "Epoch 79/100\n",
      "11/11 [==============================] - 0s 1ms/step - loss: 0.5294 - accuracy: 0.7127\n",
      "Epoch 80/100\n",
      "11/11 [==============================] - 0s 993us/step - loss: 0.5283 - accuracy: 0.7146\n",
      "Epoch 81/100\n",
      "11/11 [==============================] - 0s 1ms/step - loss: 0.5272 - accuracy: 0.7146\n",
      "Epoch 82/100\n",
      "11/11 [==============================] - 0s 925us/step - loss: 0.5265 - accuracy: 0.7146\n",
      "Epoch 83/100\n",
      "11/11 [==============================] - 0s 957us/step - loss: 0.5250 - accuracy: 0.7164\n",
      "Epoch 84/100\n",
      "11/11 [==============================] - 0s 824us/step - loss: 0.5240 - accuracy: 0.7146\n",
      "Epoch 85/100\n",
      "11/11 [==============================] - 0s 1ms/step - loss: 0.5227 - accuracy: 0.7127\n",
      "Epoch 86/100\n",
      "11/11 [==============================] - 0s 1ms/step - loss: 0.5224 - accuracy: 0.7164\n",
      "Epoch 87/100\n",
      "11/11 [==============================] - 0s 1ms/step - loss: 0.5210 - accuracy: 0.7127\n",
      "Epoch 88/100\n",
      "11/11 [==============================] - 0s 1ms/step - loss: 0.5194 - accuracy: 0.7183\n",
      "Epoch 89/100\n",
      "11/11 [==============================] - 0s 807us/step - loss: 0.5185 - accuracy: 0.7146\n",
      "Epoch 90/100\n",
      "11/11 [==============================] - 0s 1000us/step - loss: 0.5176 - accuracy: 0.7164\n",
      "Epoch 91/100\n",
      "11/11 [==============================] - 0s 1ms/step - loss: 0.5166 - accuracy: 0.7164\n",
      "Epoch 92/100\n",
      "11/11 [==============================] - 0s 1ms/step - loss: 0.5155 - accuracy: 0.7146\n",
      "Epoch 93/100\n",
      "11/11 [==============================] - 0s 1ms/step - loss: 0.5155 - accuracy: 0.7127\n",
      "Epoch 94/100\n",
      "11/11 [==============================] - 0s 1ms/step - loss: 0.5135 - accuracy: 0.7220\n",
      "Epoch 95/100\n",
      "11/11 [==============================] - 0s 1ms/step - loss: 0.5127 - accuracy: 0.7201\n",
      "Epoch 96/100\n",
      "11/11 [==============================] - 0s 900us/step - loss: 0.5116 - accuracy: 0.7257\n",
      "Epoch 97/100\n",
      "11/11 [==============================] - 0s 622us/step - loss: 0.5108 - accuracy: 0.7239\n",
      "Epoch 98/100\n",
      "11/11 [==============================] - 0s 900us/step - loss: 0.5095 - accuracy: 0.7239\n",
      "Epoch 99/100\n",
      "11/11 [==============================] - 0s 599us/step - loss: 0.5092 - accuracy: 0.7220\n",
      "Epoch 100/100\n",
      "11/11 [==============================] - 0s 1ms/step - loss: 0.5084 - accuracy: 0.7201\n"
     ]
    },
    {
     "data": {
      "text/plain": [
       "<keras.callbacks.History at 0x1a0726ac820>"
      ]
     },
     "execution_count": 12,
     "metadata": {},
     "output_type": "execute_result"
    }
   ],
   "source": [
    "classifier.fit(x_train, y_train, batch_size = 50, epochs = 100)"
   ]
  },
  {
   "cell_type": "code",
   "execution_count": 13,
   "id": "e29f9066",
   "metadata": {},
   "outputs": [
    {
     "data": {
      "text/plain": [
       "0.7575757575757576"
      ]
     },
     "execution_count": 13,
     "metadata": {},
     "output_type": "execute_result"
    }
   ],
   "source": [
    "prediction = classifier.predict(x_test)\n",
    "prediction = prediction > 0.5\n",
    "\n",
    "accuracy_score(prediction, y_test)"
   ]
  }
 ],
 "metadata": {
  "kernelspec": {
   "display_name": "Python 3 (ipykernel)",
   "language": "python",
   "name": "python3"
  },
  "language_info": {
   "codemirror_mode": {
    "name": "ipython",
    "version": 3
   },
   "file_extension": ".py",
   "mimetype": "text/x-python",
   "name": "python",
   "nbconvert_exporter": "python",
   "pygments_lexer": "ipython3",
   "version": "3.9.12"
  }
 },
 "nbformat": 4,
 "nbformat_minor": 5
}

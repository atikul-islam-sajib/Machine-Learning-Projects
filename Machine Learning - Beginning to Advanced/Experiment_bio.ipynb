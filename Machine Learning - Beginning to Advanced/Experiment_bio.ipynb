{
  "nbformat": 4,
  "nbformat_minor": 0,
  "metadata": {
    "colab": {
      "provenance": []
    },
    "kernelspec": {
      "name": "python3",
      "display_name": "Python 3"
    },
    "language_info": {
      "name": "python"
    }
  },
  "cells": [
    {
      "cell_type": "code",
      "execution_count": 2,
      "metadata": {
        "id": "Ho6s80BSBZ9e"
      },
      "outputs": [],
      "source": [
        "import pandas as pd\n",
        "import numpy as np"
      ]
    },
    {
      "cell_type": "code",
      "source": [
        "df = pd.read_csv(\"/content/final_dataset.csv\")\n",
        "df.head()"
      ],
      "metadata": {
        "colab": {
          "base_uri": "https://localhost:8080/",
          "height": 273
        },
        "id": "qlXh2Vf8BbSk",
        "outputId": "50704eff-4d3a-45ce-cddd-8e65e45687ab"
      },
      "execution_count": 3,
      "outputs": [
        {
          "output_type": "execute_result",
          "data": {
            "text/plain": [
              "   Unnamed: 0  labels                                           sequence  \\\n",
              "0           0       1  TGCTATCCTGACAGTTGTCACGCTGATTGGTGTCGTTACAATCTAA...   \n",
              "1           1       1  GTACTAGAGAACTAGTGCATTAGCTTATTTTTTTGTTATCATGCTA...   \n",
              "2           2       1  AATTGTGATGTGTATCGAAGTGTGTTGCGGAGTAGATGTTAGAATA...   \n",
              "3           3       1  TCGATAATTAACTATTGACGAAAAGCTGAAAACCACTAGAATGCGC...   \n",
              "4           4       1  AGGGGCAAGGAGGATGGAAAGAGGTTGCCGTATAAAGAAACTAGAG...   \n",
              "\n",
              "   1_GAP_KMER_di_0  1_GAP_KMER_di_1  1_GAP_KMER_di_2  1_GAP_KMER_di_3  \\\n",
              "0              0.0              0.0              0.0              0.0   \n",
              "1              0.0              0.0              0.0              0.0   \n",
              "2              0.0              0.0              0.0              0.0   \n",
              "3              0.0              0.0              0.0              1.0   \n",
              "4              0.0              0.0              0.0              0.0   \n",
              "\n",
              "   1_GAP_KMER_di_4  1_GAP_KMER_di_5  1_GAP_KMER_di_6  ...  Index48_T  \\\n",
              "0              0.0              0.0              0.0  ...          0   \n",
              "1              0.0              1.0              0.0  ...          0   \n",
              "2              0.0              0.0              0.0  ...          0   \n",
              "3              0.0              0.0              0.0  ...          0   \n",
              "4              0.0              0.0              0.0  ...          0   \n",
              "\n",
              "   Index49_T  Index50_T  Index51_T  Index52_T  Index53_T  Index54_T  \\\n",
              "0          0          1          0          0          0          0   \n",
              "1          0          0          0          0          0          0   \n",
              "2          0          0          0          0          0          0   \n",
              "3          0          0          1          0          0          1   \n",
              "4          0          1          1          1          0          0   \n",
              "\n",
              "   Index55_T  Index56_T  lables  \n",
              "0          0          0       1  \n",
              "1          0          0       1  \n",
              "2          1          0       1  \n",
              "3          0          0       1  \n",
              "4          0          1       1  \n",
              "\n",
              "[5 rows x 52936 columns]"
            ],
            "text/html": [
              "\n",
              "  <div id=\"df-0ca026c9-9e7e-4e4d-8e9a-aaff95d04aef\" class=\"colab-df-container\">\n",
              "    <div>\n",
              "<style scoped>\n",
              "    .dataframe tbody tr th:only-of-type {\n",
              "        vertical-align: middle;\n",
              "    }\n",
              "\n",
              "    .dataframe tbody tr th {\n",
              "        vertical-align: top;\n",
              "    }\n",
              "\n",
              "    .dataframe thead th {\n",
              "        text-align: right;\n",
              "    }\n",
              "</style>\n",
              "<table border=\"1\" class=\"dataframe\">\n",
              "  <thead>\n",
              "    <tr style=\"text-align: right;\">\n",
              "      <th></th>\n",
              "      <th>Unnamed: 0</th>\n",
              "      <th>labels</th>\n",
              "      <th>sequence</th>\n",
              "      <th>1_GAP_KMER_di_0</th>\n",
              "      <th>1_GAP_KMER_di_1</th>\n",
              "      <th>1_GAP_KMER_di_2</th>\n",
              "      <th>1_GAP_KMER_di_3</th>\n",
              "      <th>1_GAP_KMER_di_4</th>\n",
              "      <th>1_GAP_KMER_di_5</th>\n",
              "      <th>1_GAP_KMER_di_6</th>\n",
              "      <th>...</th>\n",
              "      <th>Index48_T</th>\n",
              "      <th>Index49_T</th>\n",
              "      <th>Index50_T</th>\n",
              "      <th>Index51_T</th>\n",
              "      <th>Index52_T</th>\n",
              "      <th>Index53_T</th>\n",
              "      <th>Index54_T</th>\n",
              "      <th>Index55_T</th>\n",
              "      <th>Index56_T</th>\n",
              "      <th>lables</th>\n",
              "    </tr>\n",
              "  </thead>\n",
              "  <tbody>\n",
              "    <tr>\n",
              "      <th>0</th>\n",
              "      <td>0</td>\n",
              "      <td>1</td>\n",
              "      <td>TGCTATCCTGACAGTTGTCACGCTGATTGGTGTCGTTACAATCTAA...</td>\n",
              "      <td>0.0</td>\n",
              "      <td>0.0</td>\n",
              "      <td>0.0</td>\n",
              "      <td>0.0</td>\n",
              "      <td>0.0</td>\n",
              "      <td>0.0</td>\n",
              "      <td>0.0</td>\n",
              "      <td>...</td>\n",
              "      <td>0</td>\n",
              "      <td>0</td>\n",
              "      <td>1</td>\n",
              "      <td>0</td>\n",
              "      <td>0</td>\n",
              "      <td>0</td>\n",
              "      <td>0</td>\n",
              "      <td>0</td>\n",
              "      <td>0</td>\n",
              "      <td>1</td>\n",
              "    </tr>\n",
              "    <tr>\n",
              "      <th>1</th>\n",
              "      <td>1</td>\n",
              "      <td>1</td>\n",
              "      <td>GTACTAGAGAACTAGTGCATTAGCTTATTTTTTTGTTATCATGCTA...</td>\n",
              "      <td>0.0</td>\n",
              "      <td>0.0</td>\n",
              "      <td>0.0</td>\n",
              "      <td>0.0</td>\n",
              "      <td>0.0</td>\n",
              "      <td>1.0</td>\n",
              "      <td>0.0</td>\n",
              "      <td>...</td>\n",
              "      <td>0</td>\n",
              "      <td>0</td>\n",
              "      <td>0</td>\n",
              "      <td>0</td>\n",
              "      <td>0</td>\n",
              "      <td>0</td>\n",
              "      <td>0</td>\n",
              "      <td>0</td>\n",
              "      <td>0</td>\n",
              "      <td>1</td>\n",
              "    </tr>\n",
              "    <tr>\n",
              "      <th>2</th>\n",
              "      <td>2</td>\n",
              "      <td>1</td>\n",
              "      <td>AATTGTGATGTGTATCGAAGTGTGTTGCGGAGTAGATGTTAGAATA...</td>\n",
              "      <td>0.0</td>\n",
              "      <td>0.0</td>\n",
              "      <td>0.0</td>\n",
              "      <td>0.0</td>\n",
              "      <td>0.0</td>\n",
              "      <td>0.0</td>\n",
              "      <td>0.0</td>\n",
              "      <td>...</td>\n",
              "      <td>0</td>\n",
              "      <td>0</td>\n",
              "      <td>0</td>\n",
              "      <td>0</td>\n",
              "      <td>0</td>\n",
              "      <td>0</td>\n",
              "      <td>0</td>\n",
              "      <td>1</td>\n",
              "      <td>0</td>\n",
              "      <td>1</td>\n",
              "    </tr>\n",
              "    <tr>\n",
              "      <th>3</th>\n",
              "      <td>3</td>\n",
              "      <td>1</td>\n",
              "      <td>TCGATAATTAACTATTGACGAAAAGCTGAAAACCACTAGAATGCGC...</td>\n",
              "      <td>0.0</td>\n",
              "      <td>0.0</td>\n",
              "      <td>0.0</td>\n",
              "      <td>1.0</td>\n",
              "      <td>0.0</td>\n",
              "      <td>0.0</td>\n",
              "      <td>0.0</td>\n",
              "      <td>...</td>\n",
              "      <td>0</td>\n",
              "      <td>0</td>\n",
              "      <td>0</td>\n",
              "      <td>1</td>\n",
              "      <td>0</td>\n",
              "      <td>0</td>\n",
              "      <td>1</td>\n",
              "      <td>0</td>\n",
              "      <td>0</td>\n",
              "      <td>1</td>\n",
              "    </tr>\n",
              "    <tr>\n",
              "      <th>4</th>\n",
              "      <td>4</td>\n",
              "      <td>1</td>\n",
              "      <td>AGGGGCAAGGAGGATGGAAAGAGGTTGCCGTATAAAGAAACTAGAG...</td>\n",
              "      <td>0.0</td>\n",
              "      <td>0.0</td>\n",
              "      <td>0.0</td>\n",
              "      <td>0.0</td>\n",
              "      <td>0.0</td>\n",
              "      <td>0.0</td>\n",
              "      <td>0.0</td>\n",
              "      <td>...</td>\n",
              "      <td>0</td>\n",
              "      <td>0</td>\n",
              "      <td>1</td>\n",
              "      <td>1</td>\n",
              "      <td>1</td>\n",
              "      <td>0</td>\n",
              "      <td>0</td>\n",
              "      <td>0</td>\n",
              "      <td>1</td>\n",
              "      <td>1</td>\n",
              "    </tr>\n",
              "  </tbody>\n",
              "</table>\n",
              "<p>5 rows × 52936 columns</p>\n",
              "</div>\n",
              "    <div class=\"colab-df-buttons\">\n",
              "\n",
              "  <div class=\"colab-df-container\">\n",
              "    <button class=\"colab-df-convert\" onclick=\"convertToInteractive('df-0ca026c9-9e7e-4e4d-8e9a-aaff95d04aef')\"\n",
              "            title=\"Convert this dataframe to an interactive table.\"\n",
              "            style=\"display:none;\">\n",
              "\n",
              "  <svg xmlns=\"http://www.w3.org/2000/svg\" height=\"24px\" viewBox=\"0 -960 960 960\">\n",
              "    <path d=\"M120-120v-720h720v720H120Zm60-500h600v-160H180v160Zm220 220h160v-160H400v160Zm0 220h160v-160H400v160ZM180-400h160v-160H180v160Zm440 0h160v-160H620v160ZM180-180h160v-160H180v160Zm440 0h160v-160H620v160Z\"/>\n",
              "  </svg>\n",
              "    </button>\n",
              "\n",
              "  <style>\n",
              "    .colab-df-container {\n",
              "      display:flex;\n",
              "      gap: 12px;\n",
              "    }\n",
              "\n",
              "    .colab-df-convert {\n",
              "      background-color: #E8F0FE;\n",
              "      border: none;\n",
              "      border-radius: 50%;\n",
              "      cursor: pointer;\n",
              "      display: none;\n",
              "      fill: #1967D2;\n",
              "      height: 32px;\n",
              "      padding: 0 0 0 0;\n",
              "      width: 32px;\n",
              "    }\n",
              "\n",
              "    .colab-df-convert:hover {\n",
              "      background-color: #E2EBFA;\n",
              "      box-shadow: 0px 1px 2px rgba(60, 64, 67, 0.3), 0px 1px 3px 1px rgba(60, 64, 67, 0.15);\n",
              "      fill: #174EA6;\n",
              "    }\n",
              "\n",
              "    .colab-df-buttons div {\n",
              "      margin-bottom: 4px;\n",
              "    }\n",
              "\n",
              "    [theme=dark] .colab-df-convert {\n",
              "      background-color: #3B4455;\n",
              "      fill: #D2E3FC;\n",
              "    }\n",
              "\n",
              "    [theme=dark] .colab-df-convert:hover {\n",
              "      background-color: #434B5C;\n",
              "      box-shadow: 0px 1px 3px 1px rgba(0, 0, 0, 0.15);\n",
              "      filter: drop-shadow(0px 1px 2px rgba(0, 0, 0, 0.3));\n",
              "      fill: #FFFFFF;\n",
              "    }\n",
              "  </style>\n",
              "\n",
              "    <script>\n",
              "      const buttonEl =\n",
              "        document.querySelector('#df-0ca026c9-9e7e-4e4d-8e9a-aaff95d04aef button.colab-df-convert');\n",
              "      buttonEl.style.display =\n",
              "        google.colab.kernel.accessAllowed ? 'block' : 'none';\n",
              "\n",
              "      async function convertToInteractive(key) {\n",
              "        const element = document.querySelector('#df-0ca026c9-9e7e-4e4d-8e9a-aaff95d04aef');\n",
              "        const dataTable =\n",
              "          await google.colab.kernel.invokeFunction('convertToInteractive',\n",
              "                                                    [key], {});\n",
              "        if (!dataTable) return;\n",
              "\n",
              "        const docLinkHtml = 'Like what you see? Visit the ' +\n",
              "          '<a target=\"_blank\" href=https://colab.research.google.com/notebooks/data_table.ipynb>data table notebook</a>'\n",
              "          + ' to learn more about interactive tables.';\n",
              "        element.innerHTML = '';\n",
              "        dataTable['output_type'] = 'display_data';\n",
              "        await google.colab.output.renderOutput(dataTable, element);\n",
              "        const docLink = document.createElement('div');\n",
              "        docLink.innerHTML = docLinkHtml;\n",
              "        element.appendChild(docLink);\n",
              "      }\n",
              "    </script>\n",
              "  </div>\n",
              "\n",
              "\n",
              "<div id=\"df-28056de1-a8b7-47d8-9852-9d7980232c37\">\n",
              "  <button class=\"colab-df-quickchart\" onclick=\"quickchart('df-28056de1-a8b7-47d8-9852-9d7980232c37')\"\n",
              "            title=\"Suggest charts\"\n",
              "            style=\"display:none;\">\n",
              "\n",
              "<svg xmlns=\"http://www.w3.org/2000/svg\" height=\"24px\"viewBox=\"0 0 24 24\"\n",
              "     width=\"24px\">\n",
              "    <g>\n",
              "        <path d=\"M19 3H5c-1.1 0-2 .9-2 2v14c0 1.1.9 2 2 2h14c1.1 0 2-.9 2-2V5c0-1.1-.9-2-2-2zM9 17H7v-7h2v7zm4 0h-2V7h2v10zm4 0h-2v-4h2v4z\"/>\n",
              "    </g>\n",
              "</svg>\n",
              "  </button>\n",
              "\n",
              "<style>\n",
              "  .colab-df-quickchart {\n",
              "      --bg-color: #E8F0FE;\n",
              "      --fill-color: #1967D2;\n",
              "      --hover-bg-color: #E2EBFA;\n",
              "      --hover-fill-color: #174EA6;\n",
              "      --disabled-fill-color: #AAA;\n",
              "      --disabled-bg-color: #DDD;\n",
              "  }\n",
              "\n",
              "  [theme=dark] .colab-df-quickchart {\n",
              "      --bg-color: #3B4455;\n",
              "      --fill-color: #D2E3FC;\n",
              "      --hover-bg-color: #434B5C;\n",
              "      --hover-fill-color: #FFFFFF;\n",
              "      --disabled-bg-color: #3B4455;\n",
              "      --disabled-fill-color: #666;\n",
              "  }\n",
              "\n",
              "  .colab-df-quickchart {\n",
              "    background-color: var(--bg-color);\n",
              "    border: none;\n",
              "    border-radius: 50%;\n",
              "    cursor: pointer;\n",
              "    display: none;\n",
              "    fill: var(--fill-color);\n",
              "    height: 32px;\n",
              "    padding: 0;\n",
              "    width: 32px;\n",
              "  }\n",
              "\n",
              "  .colab-df-quickchart:hover {\n",
              "    background-color: var(--hover-bg-color);\n",
              "    box-shadow: 0 1px 2px rgba(60, 64, 67, 0.3), 0 1px 3px 1px rgba(60, 64, 67, 0.15);\n",
              "    fill: var(--button-hover-fill-color);\n",
              "  }\n",
              "\n",
              "  .colab-df-quickchart-complete:disabled,\n",
              "  .colab-df-quickchart-complete:disabled:hover {\n",
              "    background-color: var(--disabled-bg-color);\n",
              "    fill: var(--disabled-fill-color);\n",
              "    box-shadow: none;\n",
              "  }\n",
              "\n",
              "  .colab-df-spinner {\n",
              "    border: 2px solid var(--fill-color);\n",
              "    border-color: transparent;\n",
              "    border-bottom-color: var(--fill-color);\n",
              "    animation:\n",
              "      spin 1s steps(1) infinite;\n",
              "  }\n",
              "\n",
              "  @keyframes spin {\n",
              "    0% {\n",
              "      border-color: transparent;\n",
              "      border-bottom-color: var(--fill-color);\n",
              "      border-left-color: var(--fill-color);\n",
              "    }\n",
              "    20% {\n",
              "      border-color: transparent;\n",
              "      border-left-color: var(--fill-color);\n",
              "      border-top-color: var(--fill-color);\n",
              "    }\n",
              "    30% {\n",
              "      border-color: transparent;\n",
              "      border-left-color: var(--fill-color);\n",
              "      border-top-color: var(--fill-color);\n",
              "      border-right-color: var(--fill-color);\n",
              "    }\n",
              "    40% {\n",
              "      border-color: transparent;\n",
              "      border-right-color: var(--fill-color);\n",
              "      border-top-color: var(--fill-color);\n",
              "    }\n",
              "    60% {\n",
              "      border-color: transparent;\n",
              "      border-right-color: var(--fill-color);\n",
              "    }\n",
              "    80% {\n",
              "      border-color: transparent;\n",
              "      border-right-color: var(--fill-color);\n",
              "      border-bottom-color: var(--fill-color);\n",
              "    }\n",
              "    90% {\n",
              "      border-color: transparent;\n",
              "      border-bottom-color: var(--fill-color);\n",
              "    }\n",
              "  }\n",
              "</style>\n",
              "\n",
              "  <script>\n",
              "    async function quickchart(key) {\n",
              "      const quickchartButtonEl =\n",
              "        document.querySelector('#' + key + ' button');\n",
              "      quickchartButtonEl.disabled = true;  // To prevent multiple clicks.\n",
              "      quickchartButtonEl.classList.add('colab-df-spinner');\n",
              "      try {\n",
              "        const charts = await google.colab.kernel.invokeFunction(\n",
              "            'suggestCharts', [key], {});\n",
              "      } catch (error) {\n",
              "        console.error('Error during call to suggestCharts:', error);\n",
              "      }\n",
              "      quickchartButtonEl.classList.remove('colab-df-spinner');\n",
              "      quickchartButtonEl.classList.add('colab-df-quickchart-complete');\n",
              "    }\n",
              "    (() => {\n",
              "      let quickchartButtonEl =\n",
              "        document.querySelector('#df-28056de1-a8b7-47d8-9852-9d7980232c37 button');\n",
              "      quickchartButtonEl.style.display =\n",
              "        google.colab.kernel.accessAllowed ? 'block' : 'none';\n",
              "    })();\n",
              "  </script>\n",
              "</div>\n",
              "    </div>\n",
              "  </div>\n"
            ],
            "application/vnd.google.colaboratory.intrinsic+json": {
              "type": "dataframe",
              "variable_name": "df"
            }
          },
          "metadata": {},
          "execution_count": 3
        }
      ]
    },
    {
      "cell_type": "code",
      "source": [
        "df['labels'] = df['labels'].astype('int')\n",
        "y = df.loc[:, \"labels\"].values\n",
        "df.drop(['labels'], axis = True, inplace = True)\n",
        "X = df.iloc[:, 3:].values"
      ],
      "metadata": {
        "id": "EtLtbI4ECAuA"
      },
      "execution_count": 25,
      "outputs": []
    },
    {
      "cell_type": "code",
      "source": [
        "pd.DataFrame(y).value_counts()"
      ],
      "metadata": {
        "colab": {
          "base_uri": "https://localhost:8080/"
        },
        "id": "KAprWWqiCAxp",
        "outputId": "0eedcb14-0ba7-448b-a1c3-c614562d5a9b"
      },
      "execution_count": 5,
      "outputs": [
        {
          "output_type": "execute_result",
          "data": {
            "text/plain": [
              "0    53\n",
              "1    52\n",
              "Name: count, dtype: int64"
            ]
          },
          "metadata": {},
          "execution_count": 5
        }
      ]
    },
    {
      "cell_type": "code",
      "source": [
        "X.shape"
      ],
      "metadata": {
        "colab": {
          "base_uri": "https://localhost:8080/"
        },
        "id": "MSS9EWw5CSqU",
        "outputId": "d07fc277-2080-4f52-f24d-93249a0144be"
      },
      "execution_count": 6,
      "outputs": [
        {
          "output_type": "execute_result",
          "data": {
            "text/plain": [
              "(105, 52933)"
            ]
          },
          "metadata": {},
          "execution_count": 6
        }
      ]
    },
    {
      "cell_type": "code",
      "source": [
        "# Assuming X and y are already defined\n",
        "from sklearn.model_selection import train_test_split\n",
        "\n",
        "X_train, X_test, y_train, y_test = train_test_split(X, y, test_size=0.30, random_state=42, stratify=y)\n",
        "\n",
        "X_train.shape, X_test.shape, y_train.shape, y_test.shape"
      ],
      "metadata": {
        "colab": {
          "base_uri": "https://localhost:8080/"
        },
        "id": "5hTclrrICVtL",
        "outputId": "c62ab826-11fa-4ec3-d241-768303432459"
      },
      "execution_count": 27,
      "outputs": [
        {
          "output_type": "execute_result",
          "data": {
            "text/plain": [
              "((73, 52932), (32, 52932), (73,), (32,))"
            ]
          },
          "metadata": {},
          "execution_count": 27
        }
      ]
    },
    {
      "cell_type": "code",
      "source": [
        "from sklearn.ensemble import StackingClassifier\n",
        "from sklearn.linear_model import LogisticRegression\n",
        "from xgboost import XGBClassifier\n",
        "from sklearn.ensemble import RandomForestClassifier\n",
        "from sklearn.metrics import precision_score, recall_score, f1_score, accuracy_score\n",
        "from sklearn.metrics import matthews_corrcoef, roc_auc_score, roc_curve\n",
        "import matplotlib.pyplot as plt\n",
        "\n",
        "stacking = StackingClassifier(\n",
        "    estimators=[\n",
        "        ('XGBOOST', XGBClassifier(use_label_encoder=False, eval_metric='logloss')),\n",
        "        ('ADABOOST', LogisticRegression(max_iter=500)),\n",
        "        ('RF', RandomForestClassifier())\n",
        "    ],\n",
        "    final_estimator=LogisticRegression(),\n",
        "    cv=10\n",
        ")\n",
        "\n",
        "stacking.fit(X_train, y_train)\n",
        "\n",
        "pred = stacking.predict(X_test)\n",
        "pred_proba = stacking.predict_proba(X_test)[:, 1]\n",
        "\n",
        "print(\"Accuracy:\", accuracy_score(y_test, pred))\n",
        "print(\"Precision:\", precision_score(y_test, pred))\n",
        "print(\"Recall:\", recall_score(y_test, pred))\n",
        "print(\"F1 Score:\", f1_score(y_test, pred))\n",
        "print(\"MCC:\", matthews_corrcoef(y_test, pred))\n",
        "print(\"AUC ROC Score:\", roc_auc_score(y_test, pred_proba))"
      ],
      "metadata": {
        "colab": {
          "base_uri": "https://localhost:8080/"
        },
        "id": "dozEHnkOBbUs",
        "outputId": "dbc85c3f-b7fc-450e-c79e-7ccdd9ff82d5"
      },
      "execution_count": 28,
      "outputs": [
        {
          "output_type": "stream",
          "name": "stdout",
          "text": [
            "Accuracy: 1.0\n",
            "Precision: 1.0\n",
            "Recall: 1.0\n",
            "F1 Score: 1.0\n",
            "MCC: 1.0\n",
            "AUC ROC Score: 1.0\n"
          ]
        }
      ]
    },
    {
      "cell_type": "code",
      "source": [
        "# Plotting the ROC Curve\n",
        "fpr, tpr, _ = roc_curve(y_test, pred_proba)\n",
        "plt.figure()\n",
        "plt.plot(fpr, tpr, color='darkorange', lw=2, label='ROC curve (area = %0.2f)' % roc_auc_score(y_test, pred_proba))\n",
        "plt.plot([0, 1], [0, 1], color='navy', lw=2, linestyle='--')\n",
        "plt.xlim([0.0, 1.0])\n",
        "plt.ylim([0.0, 1.05])\n",
        "plt.xlabel('False Positive Rate')\n",
        "plt.ylabel('True Positive Rate')\n",
        "plt.title('Receiver Operating Characteristic')\n",
        "plt.legend(loc=\"lower right\")\n",
        "plt.show()"
      ],
      "metadata": {
        "colab": {
          "base_uri": "https://localhost:8080/",
          "height": 472
        },
        "id": "9pfh4wmqBbYD",
        "outputId": "a145f263-f7a3-4650-d152-eed0e23fbc72"
      },
      "execution_count": 10,
      "outputs": [
        {
          "output_type": "display_data",
          "data": {
            "text/plain": [
              "<Figure size 640x480 with 1 Axes>"
            ],
            "image/png": "[encoded data removed]"
          },
          "metadata": {}
        }
      ]
    },
    {
      "cell_type": "code",
      "source": [
        "from sklearn.linear_model import LogisticRegression\n",
        "\n",
        "lR = LogisticRegression(max_iter=500)\n",
        "\n",
        "lR.fit(X_train, y_train)\n",
        "\n",
        "pred = lR.predict(X_test)\n",
        "\n",
        "pred_proba = lR.predict_proba(X_test)[:, 1]\n",
        "\n",
        "\n",
        "print(\"Precision:\", precision_score(y_test, pred))\n",
        "print(\"Recall:\", recall_score(y_test, pred))\n",
        "print(\"F1 Score:\", f1_score(y_test, pred))\n",
        "print(\"MCC:\", matthews_corrcoef(y_test, pred))\n",
        "print(\"AUC ROC Score:\", roc_auc_score(y_test, pred_proba))"
      ],
      "metadata": {
        "colab": {
          "base_uri": "https://localhost:8080/"
        },
        "id": "ZxqZ5cSxCnpx",
        "outputId": "9c18562e-46ac-4e27-c64e-584aaa5fa6df"
      },
      "execution_count": 13,
      "outputs": [
        {
          "output_type": "stream",
          "name": "stdout",
          "text": [
            "Accuracy: 1.0\n",
            "Precision: 1.0\n",
            "Recall: 1.0\n",
            "F1 Score: 1.0\n",
            "MCC: 1.0\n",
            "AUC ROC Score: 1.0\n"
          ]
        }
      ]
    },
    {
      "cell_type": "code",
      "source": [
        "from sklearn.ensemble import AdaBoostClassifier\n",
        "\n",
        "lR = AdaBoostClassifier()\n",
        "\n",
        "lR.fit(X_train, y_train)\n",
        "\n",
        "pred = lR.predict(X_test)\n",
        "\n",
        "pred_proba = lR.predict_proba(X_test)[:, 1]\n",
        "\n",
        "\n",
        "print(\"Accuracy:\", accuracy_score(y_test, pred))\n",
        "print(\"Precision:\", precision_score(y_test, pred))\n",
        "print(\"Recall:\", recall_score(y_test, pred))\n",
        "print(\"F1 Score:\", f1_score(y_test, pred))\n",
        "print(\"MCC:\", matthews_corrcoef(y_test, pred))\n",
        "print(\"AUC ROC Score:\", roc_auc_score(y_test, pred_proba))"
      ],
      "metadata": {
        "colab": {
          "base_uri": "https://localhost:8080/"
        },
        "id": "d05_1VLhDB9A",
        "outputId": "daa997a2-2915-4db4-f323-34c68c1a9faa"
      },
      "execution_count": 14,
      "outputs": [
        {
          "output_type": "stream",
          "name": "stdout",
          "text": [
            "Accuracy: 1.0\n",
            "Precision: 1.0\n",
            "Recall: 1.0\n",
            "F1 Score: 1.0\n",
            "MCC: 1.0\n",
            "AUC ROC Score: 1.0\n"
          ]
        }
      ]
    },
    {
      "cell_type": "code",
      "source": [
        "from xgboost import XGBClassifier\n",
        "\n",
        "lR = XGBClassifier()\n",
        "\n",
        "lR.fit(X_train, y_train)\n",
        "\n",
        "pred = lR.predict(X_test)\n",
        "\n",
        "pred_proba = lR.predict_proba(X_test)[:, 1]\n",
        "\n",
        "\n",
        "print(\"Accuracy:\", accuracy_score(y_test, pred))\n",
        "print(\"Precision:\", precision_score(y_test, pred))\n",
        "print(\"Recall:\", recall_score(y_test, pred))\n",
        "print(\"F1 Score:\", f1_score(y_test, pred))\n",
        "print(\"MCC:\", matthews_corrcoef(y_test, pred))\n",
        "print(\"AUC ROC Score:\", roc_auc_score(y_test, pred_proba))"
      ],
      "metadata": {
        "colab": {
          "base_uri": "https://localhost:8080/"
        },
        "id": "ess1Fwr6DOxx",
        "outputId": "109950d8-f7c3-43c9-d7e4-cbf302a2f96d"
      },
      "execution_count": 15,
      "outputs": [
        {
          "output_type": "stream",
          "name": "stdout",
          "text": [
            "Accuracy: 1.0\n",
            "Precision: 1.0\n",
            "Recall: 1.0\n",
            "F1 Score: 1.0\n",
            "MCC: 1.0\n",
            "AUC ROC Score: 1.0\n"
          ]
        }
      ]
    },
    {
      "cell_type": "code",
      "source": [
        "from sklearn.linear_model import LogisticRegression\n",
        "from sklearn.ensemble import AdaBoostClassifier\n",
        "from xgboost import XGBClassifier\n",
        "from sklearn.metrics import precision_score, recall_score, f1_score, accuracy_score\n",
        "from sklearn.metrics import matthews_corrcoef, roc_auc_score, roc_curve\n",
        "import matplotlib.pyplot as plt\n",
        "from sklearn.model_selection import train_test_split\n",
        "\n",
        "# Assuming X and y are already defined\n",
        "X_train, X_test, y_train, y_test = train_test_split(X, y, test_size=0.30, random_state=42)\n",
        "\n",
        "# Logistic Regression\n",
        "lr = LogisticRegression(max_iter=500)\n",
        "lr.fit(X_train, y_train)\n",
        "pred_lr = lr.predict(X_test)\n",
        "pred_proba_lr = lr.predict_proba(X_test)[:, 1]\n",
        "\n",
        "print(\"Logistic Regression Metrics:\")\n",
        "print(\"Precision:\", precision_score(y_test, pred_lr))\n",
        "print(\"Recall:\", recall_score(y_test, pred_lr))\n",
        "print(\"F1 Score:\", f1_score(y_test, pred_lr))\n",
        "print(\"MCC:\", matthews_corrcoef(y_test, pred_lr))\n",
        "print(\"AUC ROC Score:\", roc_auc_score(y_test, pred_proba_lr))\n",
        "\n",
        "# AdaBoost Classifier\n",
        "ada = AdaBoostClassifier()\n",
        "ada.fit(X_train, y_train)\n",
        "pred_ada = ada.predict(X_test)\n",
        "pred_proba_ada = ada.predict_proba(X_test)[:, 1]\n",
        "\n",
        "print(\"\\nAdaBoost Classifier Metrics:\")\n",
        "print(\"Accuracy:\", accuracy_score(y_test, pred_ada))\n",
        "print(\"Precision:\", precision_score(y_test, pred_ada))\n",
        "print(\"Recall:\", recall_score(y_test, pred_ada))\n",
        "print(\"F1 Score:\", f1_score(y_test, pred_ada))\n",
        "print(\"MCC:\", matthews_corrcoef(y_test, pred_ada))\n",
        "print(\"AUC ROC Score:\", roc_auc_score(y_test, pred_proba_ada))\n",
        "\n",
        "# XGBoost Classifier\n",
        "xgb = XGBClassifier(use_label_encoder=False, eval_metric='logloss')\n",
        "xgb.fit(X_train, y_train)\n",
        "pred_xgb = xgb.predict(X_test)\n",
        "pred_proba_xgb = xgb.predict_proba(X_test)[:, 1]\n",
        "\n",
        "print(\"\\nXGBoost Classifier Metrics:\")\n",
        "print(\"Accuracy:\", accuracy_score(y_test, pred_xgb))\n",
        "print(\"Precision:\", precision_score(y_test, pred_xgb))\n",
        "print(\"Recall:\", recall_score(y_test, pred_xgb))\n",
        "print(\"F1 Score:\", f1_score(y_test, pred_xgb))\n",
        "print(\"MCC:\", matthews_corrcoef(y_test, pred_xgb))\n",
        "print(\"AUC ROC Score:\", roc_auc_score(y_test, pred_proba_xgb))\n",
        "\n",
        "# Plotting the ROC Curves\n",
        "fpr_lr, tpr_lr, _ = roc_curve(y_test, pred_proba_lr)\n",
        "fpr_ada, tpr_ada, _ = roc_curve(y_test, pred_proba_ada)\n",
        "fpr_xgb, tpr_xgb, _ = roc_curve(y_test, pred_proba_xgb)\n",
        "\n",
        "plt.figure()\n",
        "\n",
        "plt.plot(fpr_lr, tpr_lr, color='blue', lw=2, label='Logistic Regression (area = %0.2f)' % roc_auc_score(y_test, pred_proba_lr))\n",
        "plt.plot(fpr_ada, tpr_ada, color='green', lw=2, label='AdaBoost (area = %0.2f)' % roc_auc_score(y_test, pred_proba_ada))\n",
        "plt.plot(fpr_xgb, tpr_xgb, color='red', lw=2, label='XGBoost (area = %0.2f)' % roc_auc_score(y_test, pred_proba_xgb))\n",
        "\n",
        "plt.plot([0, 1], [0, 1], color='navy', lw=2, linestyle='--')\n",
        "plt.xlim([0.0, 1.0])\n",
        "plt.ylim([0.0, 1.05])\n",
        "plt.xlabel('False Positive Rate')\n",
        "plt.ylabel('True Positive Rate')\n",
        "plt.title('Receiver Operating Characteristic')\n",
        "plt.legend(loc=\"lower right\")\n",
        "plt.show()"
      ],
      "metadata": {
        "colab": {
          "base_uri": "https://localhost:8080/",
          "height": 854
        },
        "id": "gMh_ma_eDXU7",
        "outputId": "245deb3c-7c3b-4cdc-d979-30ea22a3d8a9"
      },
      "execution_count": 16,
      "outputs": [
        {
          "output_type": "stream",
          "name": "stdout",
          "text": [
            "Logistic Regression Metrics:\n",
            "Precision: 1.0\n",
            "Recall: 1.0\n",
            "F1 Score: 1.0\n",
            "MCC: 1.0\n",
            "AUC ROC Score: 1.0\n",
            "\n",
            "AdaBoost Classifier Metrics:\n",
            "Accuracy: 1.0\n",
            "Precision: 1.0\n",
            "Recall: 1.0\n",
            "F1 Score: 1.0\n",
            "MCC: 1.0\n",
            "AUC ROC Score: 1.0\n",
            "\n",
            "XGBoost Classifier Metrics:\n",
            "Accuracy: 1.0\n",
            "Precision: 1.0\n",
            "Recall: 1.0\n",
            "F1 Score: 1.0\n",
            "MCC: 1.0\n",
            "AUC ROC Score: 1.0\n"
          ]
        },
        {
          "output_type": "display_data",
          "data": {
            "text/plain": [
              "<Figure size 640x480 with 1 Axes>"
            ],
            "image/png": "[encoded data removed]"
          },
          "metadata": {}
        }
      ]
    },
    {
      "cell_type": "code",
      "source": [
        "from sklearn.model_selection import cross_val_score\n",
        "import numpy as np\n",
        "\n",
        "# Cross-validation for Logistic Regression\n",
        "lr_scores = cross_val_score(lr, X, y, cv=10, scoring='roc_auc')\n",
        "print(\"Logistic Regression CV AUC:\", np.mean(lr_scores))\n",
        "\n",
        "# Cross-validation for AdaBoost\n",
        "ada_scores = cross_val_score(ada, X, y, cv=10, scoring='roc_auc')\n",
        "print(\"AdaBoost CV AUC:\", np.mean(ada_scores))\n",
        "\n",
        "# Cross-validation for XGBoost\n",
        "xgb_scores = cross_val_score(xgb, X, y, cv=10, scoring='roc_auc')\n",
        "print(\"XGBoost CV AUC:\", np.mean(xgb_scores))"
      ],
      "metadata": {
        "colab": {
          "base_uri": "https://localhost:8080/"
        },
        "id": "Juag1znqDpjV",
        "outputId": "bc87cb9d-4d95-4b4c-95f8-af8313141e49"
      },
      "execution_count": 17,
      "outputs": [
        {
          "output_type": "stream",
          "name": "stdout",
          "text": [
            "Logistic Regression CV AUC: 0.992\n",
            "AdaBoost CV AUC: 1.0\n",
            "XGBoost CV AUC: 1.0\n"
          ]
        }
      ]
    },
    {
      "cell_type": "code",
      "source": [
        "from sklearn.model_selection import train_test_split\n",
        "\n",
        "# Split off a validation set from the original data\n",
        "X_train_val, X_val, y_train_val, y_val = train_test_split(X, y, test_size=0.2, random_state=42)\n",
        "\n",
        "# Train on the remaining data\n",
        "lr.fit(X_train_val, y_train_val)\n",
        "ada.fit(X_train_val, y_train_val)\n",
        "xgb.fit(X_train_val, y_train_val)\n",
        "\n",
        "# Predict on the validation set\n",
        "pred_val_lr = lr.predict_proba(X_val)[:, 1]\n",
        "pred_val_ada = ada.predict_proba(X_val)[:, 1]\n",
        "pred_val_xgb = xgb.predict_proba(X_val)[:, 1]\n",
        "\n",
        "# Calculate AUC on validation set\n",
        "print(\"Logistic Regression Validation AUC:\", roc_auc_score(y_val, pred_val_lr))\n",
        "print(\"AdaBoost Validation AUC:\", roc_auc_score(y_val, pred_val_ada))\n",
        "print(\"XGBoost Validation AUC:\", roc_auc_score(y_val, pred_val_xgb))"
      ],
      "metadata": {
        "colab": {
          "base_uri": "https://localhost:8080/"
        },
        "id": "H3ZCZAQfD7oS",
        "outputId": "98840cf3-8cc7-4854-e72f-19a79891c91d"
      },
      "execution_count": 18,
      "outputs": [
        {
          "output_type": "stream",
          "name": "stdout",
          "text": [
            "Logistic Regression Validation AUC: 1.0\n",
            "AdaBoost Validation AUC: 1.0\n",
            "XGBoost Validation AUC: 1.0\n"
          ]
        }
      ]
    },
    {
      "cell_type": "code",
      "source": [
        "from collections import Counter\n",
        "print(Counter(y))\n"
      ],
      "metadata": {
        "colab": {
          "base_uri": "https://localhost:8080/"
        },
        "id": "MXI9xMNjETx_",
        "outputId": "0cdba8da-be8e-4304-947d-2ca7b0a4fff8"
      },
      "execution_count": 19,
      "outputs": [
        {
          "output_type": "stream",
          "name": "stdout",
          "text": [
            "Counter({0: 53, 1: 52})\n"
          ]
        }
      ]
    },
    {
      "cell_type": "code",
      "source": [
        "from sklearn.utils import shuffle\n",
        "\n",
        "# Shuffle both the features and the target together\n",
        "X_shuffled, y_shuffled = shuffle(X, y, random_state=42)\n",
        "\n",
        "# Split the shuffled data into training and test sets\n",
        "X_train_shuffled, X_test_shuffled, y_train_shuffled, y_test_shuffled = train_test_split(X_shuffled, y_shuffled, test_size=0.30, random_state=42)\n",
        "\n",
        "# Evaluate the models on the shuffled dataset\n",
        "lr.fit(X_train_shuffled, y_train_shuffled)\n",
        "ada.fit(X_train_shuffled, y_train_shuffled)\n",
        "xgb.fit(X_train_shuffled, y_train_shuffled)\n",
        "\n",
        "pred_lr_random = lr.predict_proba(X_test_shuffled)[:, 1]\n",
        "pred_ada_random = ada.predict_proba(X_test_shuffled)[:, 1]\n",
        "pred_xgb_random = xgb.predict_proba(X_test_shuffled)[:, 1]\n",
        "\n",
        "print(\"Logistic Regression Random AUC:\", roc_auc_score(y_test_shuffled, pred_lr_random))\n",
        "print(\"AdaBoost Random AUC:\", roc_auc_score(y_test_shuffled, pred_ada_random))\n",
        "print(\"XGBoost Random AUC:\", roc_auc_score(y_test_shuffled, pred_xgb_random))"
      ],
      "metadata": {
        "colab": {
          "base_uri": "https://localhost:8080/"
        },
        "id": "syaTaJnFEcnF",
        "outputId": "a23c8600-e6e6-4519-d6c8-c34a3f8f2b21"
      },
      "execution_count": 21,
      "outputs": [
        {
          "output_type": "stream",
          "name": "stdout",
          "text": [
            "Logistic Regression Random AUC: 0.9920634920634921\n",
            "AdaBoost Random AUC: 1.0\n",
            "XGBoost Random AUC: 1.0\n"
          ]
        }
      ]
    },
    {
      "cell_type": "code",
      "source": [
        "from sklearn.metrics import roc_auc_score\n",
        "import numpy as np\n",
        "\n",
        "def permutation_test(model, X, y, n_permutations=100):\n",
        "    scores = []\n",
        "    for _ in range(n_permutations):\n",
        "        y_permuted = shuffle(y, random_state=42)\n",
        "        X_train_perm, X_test_perm, y_train_perm, y_test_perm = train_test_split(X, y_permuted, test_size=0.30, random_state=42)\n",
        "        model.fit(X_train_perm, y_train_perm)\n",
        "        pred_proba_perm = model.predict_proba(X_test_perm)[:, 1]\n",
        "        score = roc_auc_score(y_test_perm, pred_proba_perm)\n",
        "        scores.append(score)\n",
        "    return np.mean(scores), np.std(scores)\n",
        "\n",
        "# Apply permutation test\n",
        "lr_mean, lr_std = permutation_test(lr, X, y)\n",
        "ada_mean, ada_std = permutation_test(ada, X, y)\n",
        "xgb_mean, xgb_std = permutation_test(xgb, X, y)\n",
        "\n",
        "print(\"Logistic Regression Permutation Test AUC: Mean =\", lr_mean, \", Std =\", lr_std)\n",
        "print(\"AdaBoost Permutation Test AUC: Mean =\", ada_mean, \", Std =\", ada_std)\n",
        "print(\"XGBoost Permutation Test AUC: Mean =\", xgb_mean, \", Std =\", xgb_std)"
      ],
      "metadata": {
        "colab": {
          "base_uri": "https://localhost:8080/"
        },
        "id": "UY7tnlpaEjNE",
        "outputId": "7480f294-365d-4a71-e153-3d2cc47990df"
      },
      "execution_count": 22,
      "outputs": [
        {
          "output_type": "stream",
          "name": "stdout",
          "text": [
            "Logistic Regression Permutation Test AUC: Mean = 0.4960317460317461 , Std = 5.551115123125783e-17\n",
            "AdaBoost Permutation Test AUC: Mean = 0.34523809523809523 , Std = 0.0\n",
            "XGBoost Permutation Test AUC: Mean = 0.5357142857142856 , Std = 1.1102230246251565e-16\n"
          ]
        }
      ]
    },
    {
      "cell_type": "code",
      "source": [
        "df.duplicated().sum().sum()"
      ],
      "metadata": {
        "colab": {
          "base_uri": "https://localhost:8080/"
        },
        "id": "iDA02cnHFJNK",
        "outputId": "2639838f-32ab-4204-e28d-1b36bc922476"
      },
      "execution_count": 24,
      "outputs": [
        {
          "output_type": "execute_result",
          "data": {
            "text/plain": [
              "0"
            ]
          },
          "metadata": {},
          "execution_count": 24
        }
      ]
    },
    {
      "cell_type": "code",
      "source": [
        "from sklearn.linear_model import LogisticRegression\n",
        "from sklearn.ensemble import AdaBoostClassifier\n",
        "from xgboost import XGBClassifier\n",
        "from sklearn.model_selection import KFold, cross_val_score, train_test_split\n",
        "from sklearn.utils import shuffle\n",
        "from sklearn.metrics import roc_auc_score\n",
        "import numpy as np\n",
        "import pandas as pd\n",
        "\n",
        "# Ensure your dataset is loaded here\n",
        "# Example:\n",
        "# X = your_feature_matrix\n",
        "# y = your_target_vector\n",
        "\n",
        "# Initialize the models\n",
        "lr = LogisticRegression(max_iter=500)\n",
        "ada = AdaBoostClassifier()\n",
        "xgb = XGBClassifier(use_label_encoder=False, eval_metric='logloss')\n",
        "\n",
        "# Setup KFold cross-validation\n",
        "kf = KFold(n_splits=10, shuffle=True, random_state=42)\n",
        "\n",
        "# Perform KFold cross-validation\n",
        "lr_scores = cross_val_score(lr, X, y, cv=kf, scoring='roc_auc')\n",
        "ada_scores = cross_val_score(ada, X, y, cv=kf, scoring='roc_auc')\n",
        "xgb_scores = cross_val_score(xgb, X, y, cv=kf, scoring='roc_auc')\n",
        "\n",
        "# Calculate mean and standard deviation of AUC scores\n",
        "results_cv = pd.DataFrame({\n",
        "    'Model': ['Logistic Regression', 'AdaBoost', 'XGBoost'],\n",
        "    'Mean AUC': [lr_scores.mean(), ada_scores.mean(), xgb_scores.mean()],\n",
        "    'Std AUC': [lr_scores.std(), ada_scores.std(), xgb_scores.std()]\n",
        "})\n",
        "\n",
        "# Permutation Test\n",
        "y_shuffled = shuffle(y, random_state=42)\n",
        "lr_perm_scores = cross_val_score(lr, X, y_shuffled, cv=kf, scoring='roc_auc')\n",
        "ada_perm_scores = cross_val_score(ada, X, y_shuffled, cv=kf, scoring='roc_auc')\n",
        "xgb_perm_scores = cross_val_score(xgb, X, y_shuffled, cv=kf, scoring='roc_auc')\n",
        "\n",
        "# Calculate mean and standard deviation of permutation AUC scores\n",
        "results_perm = pd.DataFrame({\n",
        "    'Model': ['Logistic Regression', 'AdaBoost', 'XGBoost'],\n",
        "    'Mean Permuted AUC': [lr_perm_scores.mean(), ada_perm_scores.mean(), xgb_perm_scores.mean()],\n",
        "    'Std Permuted AUC': [lr_perm_scores.std(), ada_perm_scores.std(), xgb_perm_scores.std()]\n",
        "})\n",
        "\n",
        "# Add random noise features\n",
        "noise = np.random.normal(0, 1, (X.shape[0], 5))  # Adding 5 random noise features\n",
        "X_noise = np.hstack((X, noise))\n",
        "\n",
        "# Perform KFold cross-validation on data with noise\n",
        "lr_noise_scores = cross_val_score(lr, X_noise, y, cv=kf, scoring='roc_auc')\n",
        "ada_noise_scores = cross_val_score(ada, X_noise, y, cv=kf, scoring='roc_auc')\n",
        "xgb_noise_scores = cross_val_score(xgb, X_noise, y, cv=kf, scoring='roc_auc')\n",
        "\n",
        "# Calculate mean and standard deviation of noise AUC scores\n",
        "results_noise = pd.DataFrame({\n",
        "    'Model': ['Logistic Regression', 'AdaBoost', 'XGBoost'],\n",
        "    'Mean Noise AUC': [lr_noise_scores.mean(), ada_noise_scores.mean(), xgb_noise_scores.mean()],\n",
        "    'Std Noise AUC': [lr_noise_scores.std(), ada_noise_scores.std(), xgb_noise_scores.std()]\n",
        "})\n",
        "\n",
        "# Display the results\n",
        "print(\"Cross-Validation AUC Scores:\")\n",
        "print(results_cv)\n",
        "print(\"\\nPermutation Test AUC Scores:\")\n",
        "print(results_perm)\n",
        "print(\"\\nNoise Features Test AUC Scores:\")\n",
        "print(results_noise)"
      ],
      "metadata": {
        "colab": {
          "base_uri": "https://localhost:8080/"
        },
        "id": "BeUeAulvIJLD",
        "outputId": "8df8b57a-d9ac-4e98-e995-c8a9b5a260a5"
      },
      "execution_count": 29,
      "outputs": [
        {
          "output_type": "stream",
          "name": "stdout",
          "text": [
            "Cross-Validation AUC Scores:\n",
            "                 Model  Mean AUC   Std AUC\n",
            "0  Logistic Regression  0.995238  0.014286\n",
            "1             AdaBoost  1.000000  0.000000\n",
            "2              XGBoost  1.000000  0.000000\n",
            "\n",
            "Permutation Test AUC Scores:\n",
            "                 Model  Mean Permuted AUC  Std Permuted AUC\n",
            "0  Logistic Regression           0.388254          0.170338\n",
            "1             AdaBoost           0.277976          0.173506\n",
            "2              XGBoost           0.412738          0.150891\n",
            "\n",
            "Noise Features Test AUC Scores:\n",
            "                 Model  Mean Noise AUC  Std Noise AUC\n",
            "0  Logistic Regression        0.985714       0.042857\n",
            "1             AdaBoost        1.000000       0.000000\n",
            "2              XGBoost        1.000000       0.000000\n"
          ]
        }
      ]
    },
    {
      "cell_type": "code",
      "source": [
        "from sklearn.linear_model import LogisticRegression\n",
        "from sklearn.ensemble import AdaBoostClassifier\n",
        "from xgboost import XGBClassifier\n",
        "from sklearn.model_selection import KFold, cross_val_score\n",
        "import numpy as np\n",
        "import pandas as pd\n",
        "import matplotlib.pyplot as plt\n",
        "\n",
        "# Ensure your dataset is loaded here\n",
        "# Example:\n",
        "# X = your_feature_matrix\n",
        "# y = your_target_vector\n",
        "\n",
        "# Initialize the models\n",
        "lr = LogisticRegression(max_iter=500)\n",
        "ada = AdaBoostClassifier()\n",
        "xgb = XGBClassifier(use_label_encoder=False, eval_metric='logloss')\n",
        "\n",
        "# Setup KFold cross-validation\n",
        "kf = KFold(n_splits=10, shuffle=True, random_state=42)\n",
        "\n",
        "# Perform KFold cross-validation\n",
        "lr_scores = cross_val_score(lr, X, y, cv=kf, scoring='roc_auc')\n",
        "ada_scores = cross_val_score(ada, X, y, cv=kf, scoring='roc_auc')\n",
        "xgb_scores = cross_val_score(xgb, X, y, cv=kf, scoring='roc_auc')\n",
        "\n",
        "# Calculate mean and standard deviation of AUC scores\n",
        "results_cv = pd.DataFrame({\n",
        "    'Model': ['Logistic Regression', 'AdaBoost', 'XGBoost'],\n",
        "    'Mean AUC': [lr_scores.mean(), ada_scores.mean(), xgb_scores.mean()],\n",
        "    'Std AUC': [lr_scores.std(), ada_scores.std(), xgb_scores.std()]\n",
        "})\n",
        "\n",
        "# Fit models to the whole dataset for feature importance extraction\n",
        "lr.fit(X, y)\n",
        "ada.fit(X, y)\n",
        "xgb.fit(X, y)\n",
        "\n",
        "# Feature importance extraction\n",
        "importance_lr = np.abs(lr.coef_[0])\n",
        "importance_ada = ada.feature_importances_\n",
        "importance_xgb = xgb.feature_importances_\n",
        "\n",
        "# Plot feature importances\n",
        "plt.figure(figsize=(15, 5))\n",
        "\n",
        "plt.subplot(1, 3, 1)\n",
        "plt.barh(range(len(importance_lr)), importance_lr, align='center')\n",
        "plt.title('Logistic Regression Feature Importances')\n",
        "\n",
        "plt.subplot(1, 3, 2)\n",
        "plt.barh(range(len(importance_ada)), importance_ada, align='center')\n",
        "plt.title('AdaBoost Feature Importances')\n",
        "\n",
        "plt.subplot(1, 3, 3)\n",
        "plt.barh(range(len(importance_xgb)), importance_xgb, align='center')\n",
        "plt.title('XGBoost Feature Importances')\n",
        "\n",
        "plt.show()\n",
        "\n",
        "# Display the results\n",
        "print(\"Cross-Validation AUC Scores:\")\n",
        "print(results_cv)"
      ],
      "metadata": {
        "colab": {
          "base_uri": "https://localhost:8080/",
          "height": 510
        },
        "id": "gi8HpKIKKRAp",
        "outputId": "d4d200ad-2e37-4a9e-b765-5eb6ab4cb183"
      },
      "execution_count": 31,
      "outputs": [
        {
          "output_type": "display_data",
          "data": {
            "text/plain": [
              "<Figure size 1500x500 with 3 Axes>"
            ],
            "image/png": "[encoded data removed]"
          },
          "metadata": {}
        },
        {
          "output_type": "stream",
          "name": "stdout",
          "text": [
            "Cross-Validation AUC Scores:\n",
            "                 Model  Mean AUC   Std AUC\n",
            "0  Logistic Regression  0.995238  0.014286\n",
            "1             AdaBoost  1.000000  0.000000\n",
            "2              XGBoost  1.000000  0.000000\n"
          ]
        }
      ]
    },
    {
      "cell_type": "code",
      "source": [
        "import pandas as pd\n",
        "\n",
        "# Assuming your data is in a DataFrame df\n",
        "df = pd.DataFrame(X)  # Replace with your actual feature data\n",
        "df['target'] = y\n",
        "\n",
        "# Check for duplicates\n",
        "duplicates = df.duplicated().sum()\n",
        "print(f\"Number of duplicate rows: {duplicates}\")"
      ],
      "metadata": {
        "colab": {
          "base_uri": "https://localhost:8080/"
        },
        "id": "xyg62PAQLirD",
        "outputId": "cc0528e7-8cc1-4922-e156-f7ce843603d9"
      },
      "execution_count": 32,
      "outputs": [
        {
          "output_type": "stream",
          "name": "stdout",
          "text": [
            "Number of duplicate rows: 0\n"
          ]
        }
      ]
    },
    {
      "cell_type": "code",
      "source": [
        "from sklearn.model_selection import train_test_split\n",
        "\n",
        "# Split the data\n",
        "X_train, X_test, y_train, y_test = train_test_split(X, y, test_size=0.3, random_state=42)\n",
        "\n",
        "# Check if there is any overlap between train and test sets\n",
        "overlap = set(pd.util.hash_pandas_object(pd.DataFrame(X_train)).values) & set(pd.util.hash_pandas_object(pd.DataFrame(X_test)).values)\n",
        "print(f\"Number of overlapping rows between train and test sets: {len(overlap)}\")"
      ],
      "metadata": {
        "colab": {
          "base_uri": "https://localhost:8080/"
        },
        "id": "SczWJe9JOoM2",
        "outputId": "17714266-7b80-4d6d-bdd8-bcfaac823243"
      },
      "execution_count": 33,
      "outputs": [
        {
          "output_type": "stream",
          "name": "stdout",
          "text": [
            "Number of overlapping rows between train and test sets: 0\n"
          ]
        }
      ]
    },
    {
      "cell_type": "code",
      "source": [
        "from sklearn.preprocessing import StandardScaler\n",
        "from sklearn.pipeline import Pipeline\n",
        "\n",
        "# Create a preprocessing and modeling pipeline for Logistic Regression\n",
        "lr_pipeline = Pipeline([\n",
        "    ('scaler', StandardScaler()),\n",
        "    ('model', LogisticRegression(max_iter=500))\n",
        "])\n",
        "\n",
        "# Create a preprocessing and modeling pipeline for AdaBoost\n",
        "ada_pipeline = Pipeline([\n",
        "    ('scaler', StandardScaler()),\n",
        "    ('model', AdaBoostClassifier())\n",
        "])\n",
        "\n",
        "# Create a preprocessing and modeling pipeline for XGBoost\n",
        "xgb_pipeline = Pipeline([\n",
        "    ('scaler', StandardScaler()),\n",
        "    ('model', XGBClassifier(use_label_encoder=False, eval_metric='logloss'))\n",
        "])\n",
        "\n",
        "# Fit the models using the pipeline\n",
        "lr_pipeline.fit(X_train, y_train)\n",
        "ada_pipeline.fit(X_train, y_train)\n",
        "xgb_pipeline.fit(X_train, y_train)\n",
        "\n",
        "# Evaluate the models\n",
        "lr_cv_scores = cross_val_score(lr_pipeline, X, y, cv=kf, scoring='roc_auc')\n",
        "ada_cv_scores = cross_val_score(ada_pipeline, X, y, cv=kf, scoring='roc_auc')\n",
        "xgb_cv_scores = cross_val_score(xgb_pipeline, X, y, cv=kf, scoring='roc_auc')\n",
        "\n",
        "# Calculate mean and standard deviation of AUC scores\n",
        "results_cv = pd.DataFrame({\n",
        "    'Model': ['Logistic Regression', 'AdaBoost', 'XGBoost'],\n",
        "    'Mean AUC': [lr_cv_scores.mean(), ada_cv_scores.mean(), xgb_cv_scores.mean()],\n",
        "    'Std AUC': [lr_cv_scores.std(), ada_cv_scores.std(), xgb_cv_scores.std()]\n",
        "})\n",
        "\n",
        "print(\"Cross-Validation AUC Scores with Preprocessing:\")\n",
        "print(results_cv)"
      ],
      "metadata": {
        "colab": {
          "base_uri": "https://localhost:8080/"
        },
        "id": "SfMq1gz1OqD6",
        "outputId": "d01282c6-248f-437f-f7c5-ea7a6fea202d"
      },
      "execution_count": 34,
      "outputs": [
        {
          "output_type": "stream",
          "name": "stdout",
          "text": [
            "Cross-Validation AUC Scores with Preprocessing:\n",
            "                 Model  Mean AUC   Std AUC\n",
            "0  Logistic Regression   0.95619  0.066113\n",
            "1             AdaBoost   1.00000  0.000000\n",
            "2              XGBoost   1.00000  0.000000\n"
          ]
        }
      ]
    },
    {
      "cell_type": "code",
      "source": [],
      "metadata": {
        "id": "tcdmA_2zO_vS"
      },
      "execution_count": null,
      "outputs": []
    }
  ]
}
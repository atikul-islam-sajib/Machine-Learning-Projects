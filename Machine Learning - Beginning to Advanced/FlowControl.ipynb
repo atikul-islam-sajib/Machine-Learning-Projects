{
 "cells": [
  {
   "cell_type": "code",
   "execution_count": 1,
   "id": "f1b51f9c",
   "metadata": {},
   "outputs": [
    {
     "data": {
      "text/plain": [
       "True"
      ]
     },
     "execution_count": 1,
     "metadata": {},
     "output_type": "execute_result"
    }
   ],
   "source": [
    "#Check \n",
    "10 == 10"
   ]
  },
  {
   "cell_type": "code",
   "execution_count": 2,
   "id": "51802231",
   "metadata": {},
   "outputs": [
    {
     "data": {
      "text/plain": [
       "True"
      ]
     },
     "execution_count": 2,
     "metadata": {},
     "output_type": "execute_result"
    }
   ],
   "source": [
    "#Check\n",
    "10 != 5"
   ]
  },
  {
   "cell_type": "code",
   "execution_count": 3,
   "id": "53abece4",
   "metadata": {},
   "outputs": [
    {
     "data": {
      "text/plain": [
       "True"
      ]
     },
     "execution_count": 3,
     "metadata": {},
     "output_type": "execute_result"
    }
   ],
   "source": [
    "#Check\n",
    "10>=5"
   ]
  },
  {
   "cell_type": "code",
   "execution_count": 4,
   "id": "fcc1967d",
   "metadata": {},
   "outputs": [
    {
     "data": {
      "text/plain": [
       "False"
      ]
     },
     "execution_count": 4,
     "metadata": {},
     "output_type": "execute_result"
    }
   ],
   "source": [
    "#Check\n",
    "10<=5"
   ]
  },
  {
   "cell_type": "code",
   "execution_count": 5,
   "id": "7f689f72",
   "metadata": {},
   "outputs": [
    {
     "data": {
      "text/plain": [
       "[1, 2, 3, 4, 500, 6, 8, 9, 10]"
      ]
     },
     "execution_count": 5,
     "metadata": {},
     "output_type": "execute_result"
    }
   ],
   "source": [
    "#If Else statement: do the update\n",
    "\n",
    "list_ = [1,2,3,4,5,6,8,9,10]\n",
    "\n",
    "for index_, data_ in enumerate(list_):\n",
    "    if data_ == 5:\n",
    "        list_[index_] = data_ * 100\n",
    "    else:\n",
    "        continue\n",
    "list_"
   ]
  },
  {
   "cell_type": "code",
   "execution_count": 6,
   "id": "f5fed776",
   "metadata": {},
   "outputs": [
    {
     "name": "stdout",
     "output_type": "stream",
     "text": [
      "Not Found keys =  1\n",
      "Not Found keys =  2\n",
      "Found keys =  3\n",
      "Found keys =  4\n"
     ]
    },
    {
     "data": {
      "text/plain": [
       "[[3, 300], [4, 400]]"
      ]
     },
     "execution_count": 6,
     "metadata": {},
     "output_type": "execute_result"
    }
   ],
   "source": [
    "import numpy as np\n",
    "\n",
    "list_ = []\n",
    "dic_  = {1: 100, 2: 200, 3:300, 4:400}\n",
    "\n",
    "mean_ = np.mean(list(dic_.values()))\n",
    "#Above we used list(dic_.values())- the reason behind it gives list with some string point\n",
    "\n",
    "for keys_, values_ in dic_.items():\n",
    "    if values_ > mean_:\n",
    "        print('Found keys = ', keys_)\n",
    "        list_.append([keys_, values_])\n",
    "    else:\n",
    "        print(\"Not Found keys = \",keys_)\n",
    "list_"
   ]
  },
  {
   "cell_type": "code",
   "execution_count": 7,
   "id": "a2e70bfb",
   "metadata": {},
   "outputs": [
    {
     "name": "stdout",
     "output_type": "stream",
     "text": [
      "the value is =  300\n",
      "the value is =  400\n"
     ]
    }
   ],
   "source": [
    "#Print the dictonary Value\n",
    "for value_ in list_:\n",
    "    print(\"the value is = \", dic_[value_[0]])\n",
    "    "
   ]
  },
  {
   "cell_type": "code",
   "execution_count": 8,
   "id": "7caac151",
   "metadata": {},
   "outputs": [
    {
     "name": "stdout",
     "output_type": "stream",
     "text": [
      "Fail\n",
      "Pass but grade is D\n",
      "Pass but grade is C\n",
      "Pass with good score\n",
      "Pass with better score\n",
      "Excellent result\n"
     ]
    },
    {
     "data": {
      "text/plain": [
       "{55: 'F', 60: 'D', 70: 'C', 80: 'B', 90: 'A-', 100: 'A'}"
      ]
     },
     "execution_count": 8,
     "metadata": {},
     "output_type": "execute_result"
    }
   ],
   "source": [
    "#if elif else\n",
    "marks_ = [55, 60, 70, 80, 90, 100]\n",
    "grade_ = ['F', 'D', 'C', 'B','A-', 'A']\n",
    "\n",
    "dict_ = {}\n",
    "\n",
    "for grade_, marks_ in zip(grade_, marks_):\n",
    "    if marks_ == 55:\n",
    "        print('Fail')\n",
    "        dict_[marks_] = grade_\n",
    "    elif marks_ == 60:\n",
    "        print('Pass but grade is D')\n",
    "        dict_[marks_] = grade_\n",
    "    elif marks_ == 70:\n",
    "        print('Pass but grade is C')\n",
    "        dict_[marks_] = grade_\n",
    "    elif marks_ == 80:\n",
    "        print('Pass with good score')\n",
    "        dict_[marks_] = grade_\n",
    "    elif marks_ == 90:\n",
    "        print('Pass with better score')\n",
    "        dict_[marks_] = grade_\n",
    "    else:\n",
    "        print('Excellent result')\n",
    "        dict_[marks_] = grade_\n",
    "dict_"
   ]
  },
  {
   "cell_type": "code",
   "execution_count": 9,
   "id": "73ffba3a",
   "metadata": {},
   "outputs": [
    {
     "name": "stdout",
     "output_type": "stream",
     "text": [
      "old dictonary is =  {55: 'F', 60: 'D', 70: 'C', 80: 'B', 90: 'A-', 100: 'A'}\n",
      "new dictonary is =  ['D', 'C', 'B', 'A-', 'A', 'A+']\n",
      "keys =  [55, 60, 70, 80, 90, 100]\n",
      "New sheet =  {55: 'D', 60: 'C', 70: 'B', 80: 'A-', 90: 'A', 100: 'A+'}\n"
     ]
    }
   ],
   "source": [
    "#Update\n",
    "\n",
    "print(\"old dictonary is = \",dict_)\n",
    "\n",
    "old_ = list(dict_.values())[1:]\n",
    "old_.append('A+')\n",
    "print('new dictonary is = ', old_)\n",
    "\n",
    "keys_ = list(dict_)\n",
    "print('keys = ',keys_)\n",
    "\n",
    "for keys_, values_ in zip(keys_, old_):\n",
    "    dict_[keys_] = values_\n",
    "    \n",
    "print(\"New sheet = \", dict_)"
   ]
  },
  {
   "cell_type": "code",
   "execution_count": 10,
   "id": "470b34f1",
   "metadata": {},
   "outputs": [
    {
     "name": "stdout",
     "output_type": "stream",
     "text": [
      "old            =  {55: 'D', 60: 'C', 70: 'B', 80: 'A-', 90: 'A', 100: 'A+'}\n",
      "new            =  {55: 'D+', 60: 'C+', 70: 'B-', 80: 'A', 90: 'A+', 100: 'Excellent'}\n",
      "New after done =  {55: 'D+', 60: 'C+', 70: 'B-', 80: 'A', 90: 'A+', 100: 'Excellent'}\n"
     ]
    }
   ],
   "source": [
    "#Update with using 'update' function\n",
    "#Keep in mind that in this case - they will take a whole dictonary as parameter\n",
    "\n",
    "print(\"old            = \",dict_)\n",
    "dict1_ = {\n",
    "    55: 'D+',\n",
    "    60: 'C+',\n",
    "    70: 'B-',\n",
    "    80: 'A',\n",
    "    90: 'A+',\n",
    "    100: 'Excellent'\n",
    "}\n",
    "print(\"new            = \", dict1_)\n",
    "#Now we can use 'update'\n",
    "\n",
    "dict_.update(dict1_)\n",
    "print(\"New after done = \",dict_)"
   ]
  },
  {
   "cell_type": "markdown",
   "id": "881dbb9c",
   "metadata": {},
   "source": [
    "# While Condition"
   ]
  },
  {
   "cell_type": "code",
   "execution_count": 11,
   "id": "bd358b5a",
   "metadata": {},
   "outputs": [
    {
     "data": {
      "text/plain": [
       "[1, 3, 5, 7, 9, 1, 3, 5, 7, 9, 1, 3, 5, 7, 9]"
      ]
     },
     "execution_count": 11,
     "metadata": {},
     "output_type": "execute_result"
    }
   ],
   "source": [
    "list_ = []\n",
    "condition_ = 0\n",
    "while(condition_ != 3):\n",
    "    for i in range(1,10, 2):\n",
    "        list_.append(i)\n",
    "    condition_+= 1\n",
    "list_"
   ]
  },
  {
   "cell_type": "code",
   "execution_count": 12,
   "id": "d3bb34a3",
   "metadata": {},
   "outputs": [],
   "source": [
    "#practise !\n",
    "\n",
    "list_  = [1,2,3,4,5]\n",
    "value_ = [10,20,30,40,50]\n",
    "dict_ = {}\n",
    "\n",
    "length_ = len(list_)\n",
    "\n",
    "while(length_ != 0):\n",
    "    dict_[length_] = value_[length_-1]\n",
    "    length_ = length_ - 1\n",
    "\n",
    "#print the dict_\n",
    "data_ = [(keys_, values) for keys_, values in dict_.items()]"
   ]
  },
  {
   "cell_type": "code",
   "execution_count": 13,
   "id": "8619d14f",
   "metadata": {},
   "outputs": [
    {
     "name": "stdout",
     "output_type": "stream",
     "text": [
      "[55, 44, 33, 22, 11]\n"
     ]
    }
   ],
   "source": [
    "list_ = []\n",
    "# print(data_)\n",
    "# print(data_[0])\n",
    "# print(data_[1])\n",
    "# print(data_[2])\n",
    "# print(data_[3])\n",
    "# print(data_[4])\n",
    "# print('-----------------------------------')\n",
    "for values in data_:\n",
    "    list_.append(values[0] + values[1])\n",
    "print(list_)"
   ]
  },
  {
   "cell_type": "code",
   "execution_count": 24,
   "id": "0f015ec6",
   "metadata": {},
   "outputs": [
    {
     "data": {
      "text/plain": [
       "17"
      ]
     },
     "execution_count": 24,
     "metadata": {},
     "output_type": "execute_result"
    }
   ],
   "source": [
    "import random as rd\n",
    "rd.randint(1,20)"
   ]
  }
 ],
 "metadata": {
  "kernelspec": {
   "display_name": "Python 3 (ipykernel)",
   "language": "python",
   "name": "python3"
  },
  "language_info": {
   "codemirror_mode": {
    "name": "ipython",
    "version": 3
   },
   "file_extension": ".py",
   "mimetype": "text/x-python",
   "name": "python",
   "nbconvert_exporter": "python",
   "pygments_lexer": "ipython3",
   "version": "3.9.12"
  }
 },
 "nbformat": 4,
 "nbformat_minor": 5
}

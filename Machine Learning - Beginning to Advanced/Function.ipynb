{
 "cells": [
  {
   "cell_type": "code",
   "execution_count": 1,
   "id": "096ab881",
   "metadata": {},
   "outputs": [
    {
     "name": "stdout",
     "output_type": "stream",
     "text": [
      "hello world\n"
     ]
    }
   ],
   "source": [
    "#Call a function without parameter and return value\n",
    "\n",
    "def function_():\n",
    "    print('hello world')\n",
    "function_()"
   ]
  },
  {
   "cell_type": "code",
   "execution_count": 2,
   "id": "75005ee0",
   "metadata": {},
   "outputs": [
    {
     "name": "stdout",
     "output_type": "stream",
     "text": [
      "Found\n"
     ]
    }
   ],
   "source": [
    "#call a function without a parameter but not return value\n",
    "import random as rd\n",
    "\n",
    "def function_(list_):\n",
    "    if rd.randint(1,5) in list_:\n",
    "        print('Found')\n",
    "    else:\n",
    "        print('Not Found')\n",
    "    \n",
    "list_ = [1,2,3,4,5]\n",
    "function_(list_)"
   ]
  },
  {
   "cell_type": "code",
   "execution_count": 3,
   "id": "396645ab",
   "metadata": {},
   "outputs": [
    {
     "name": "stdout",
     "output_type": "stream",
     "text": [
      "Not Found\n"
     ]
    },
    {
     "data": {
      "text/plain": [
       "14"
      ]
     },
     "execution_count": 3,
     "metadata": {},
     "output_type": "execute_result"
    }
   ],
   "source": [
    "#call a function without a parameter and return value\n",
    "\n",
    "import random as rd\n",
    "\n",
    "def function_(list_):\n",
    "    data_ = rd.randint(1,50)\n",
    "    if data_ in list_:\n",
    "        print('Found')\n",
    "    else:\n",
    "        print('Not Found')\n",
    "    return data_\n",
    "    \n",
    "list_ = [1,2,3,4,5]\n",
    "function_(list_)"
   ]
  },
  {
   "cell_type": "code",
   "execution_count": 4,
   "id": "762e4da0",
   "metadata": {},
   "outputs": [
    {
     "name": "stdout",
     "output_type": "stream",
     "text": [
      "{1: 10, 2: 9, 3: 8, 4: 7, 5: 6, 6: 5, 7: 4, 8: 3, 9: 2, 10: 1}\n",
      "list =  [[1, 10], [3, 8], [5, 6], [7, 4], [9, 2]]\n",
      "dictonary =  {1: 10, 3: 8, 5: 6, 7: 4, 9: 2}\n"
     ]
    }
   ],
   "source": [
    "def function_(list1_, list2_):\n",
    "    dict_ = {}\n",
    "    \n",
    "    for keys_, values_ in zip(list1_, list2_):\n",
    "        dict_[keys_] = values_\n",
    "    \n",
    "    return dict_\n",
    "\n",
    "def EvenlistDict_(dict_):\n",
    "    \n",
    "    list_  = []\n",
    "    dict1_ = {}\n",
    "    \n",
    "    for keys_, values_ in dict_.items():\n",
    "        \n",
    "        if values_%2 == 0:\n",
    "            \n",
    "            list_.append([keys_, values_])\n",
    "            dict1_[keys_] = values_\n",
    "        else:\n",
    "            continue\n",
    "    return list_, dict1_\n",
    "\n",
    "list1_ = [1,2,3,4,5,6,7,8,9,10]\n",
    "list2_ = [10,9,8,7,6,5,4,3,2,1]\n",
    "\n",
    "dict_ = function_(list1_, list2_)\n",
    "\n",
    "print(dict_)\n",
    "\n",
    "list_, dict_ = EvenlistDict_(dict_)\n",
    "\n",
    "print('list = ', list_)\n",
    "print('dictonary = ',dict_)"
   ]
  },
  {
   "cell_type": "code",
   "execution_count": 5,
   "id": "1c728677",
   "metadata": {},
   "outputs": [
    {
     "data": {
      "text/plain": [
       "2"
      ]
     },
     "execution_count": 5,
     "metadata": {},
     "output_type": "execute_result"
    }
   ],
   "source": [
    "def function1_(data_):\n",
    "    if data_ == 1:\n",
    "        return data_\n",
    "    elif data_ == 2:\n",
    "        return data_\n",
    "    elif data_ == 3:\n",
    "        return data_\n",
    "    elif data_ == 4:\n",
    "        return data_\n",
    "    else:\n",
    "        print('Not Found')\n",
    "\n",
    "data_ = rd.randint(1,20)\n",
    "function1_(data_)"
   ]
  }
 ],
 "metadata": {
  "kernelspec": {
   "display_name": "Python 3 (ipykernel)",
   "language": "python",
   "name": "python3"
  },
  "language_info": {
   "codemirror_mode": {
    "name": "ipython",
    "version": 3
   },
   "file_extension": ".py",
   "mimetype": "text/x-python",
   "name": "python",
   "nbconvert_exporter": "python",
   "pygments_lexer": "ipython3",
   "version": "3.9.12"
  }
 },
 "nbformat": 4,
 "nbformat_minor": 5
}

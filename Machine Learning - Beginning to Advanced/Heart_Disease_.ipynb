{
 "cells": [
  {
   "cell_type": "code",
   "execution_count": 29,
   "id": "b2751566",
   "metadata": {},
   "outputs": [],
   "source": [
    "import pandas as pd\n",
    "import numpy  as np\n",
    "from sklearn.model_selection import train_test_split,GridSearchCV,RandomizedSearchCV\n",
    "from sklearn.metrics import confusion_matrix,accuracy_score\n",
    "from sklearn.tree import DecisionTreeClassifier"
   ]
  },
  {
   "cell_type": "code",
   "execution_count": 30,
   "id": "e7cd05f1",
   "metadata": {},
   "outputs": [],
   "source": [
    "df = pd.read_csv('heart-deasease.csv')"
   ]
  },
  {
   "cell_type": "code",
   "execution_count": 36,
   "id": "3bf9374b",
   "metadata": {},
   "outputs": [
    {
     "data": {
      "text/plain": [
       "0.7472527472527473"
      ]
     },
     "execution_count": 36,
     "metadata": {},
     "output_type": "execute_result"
    }
   ],
   "source": [
    "X = df.iloc[:,:-1].values\n",
    "y = df.iloc[:,-1].values\n",
    "\n",
    "x_train, x_test, y_train, y_test = train_test_split(X,y, test_size=0.30, random_state=42,shuffle=True)\n",
    "\n",
    "dt = DecisionTreeClassifier()\n",
    "dt.fit(x_train,y_train)\n",
    "dt.score(x_test,y_test)"
   ]
  },
  {
   "cell_type": "code",
   "execution_count": 37,
   "id": "cc62b44b",
   "metadata": {},
   "outputs": [],
   "source": [
    "param_grid = {\n",
    "    'criterion': ['gini', 'entropy'],\n",
    "    'splitter' : ['best', 'random'],\n",
    "    'max_depth': [int(x) for x in np.linspace(start=2, stop=100, num = 10)],\n",
    "    'min_samples_leaf':[int(x) for x in np.linspace(start=1, stop=20, num=10)],\n",
    "    'max_features': ['auto','sqrt','log2'],\n",
    "    'min_samples_split': [int(x) for x in np.linspace(start=1, stop=40, num=10)]\n",
    "}"
   ]
  },
  {
   "cell_type": "code",
   "execution_count": 38,
   "id": "4910852a",
   "metadata": {},
   "outputs": [
    {
     "name": "stdout",
     "output_type": "stream",
     "text": [
      "Fitting 5 folds for each of 12000 candidates, totalling 60000 fits\n"
     ]
    },
    {
     "name": "stderr",
     "output_type": "stream",
     "text": [
      "C:\\ProgramData\\Anaconda3\\lib\\site-packages\\sklearn\\model_selection\\_search.py:918: UserWarning: One or more of the test scores are non-finite: [       nan        nan 0.80965675 ... 0.81210526 0.82287185 0.78012586]\n",
      "  warnings.warn(\n"
     ]
    },
    {
     "data": {
      "text/plain": [
       "GridSearchCV(cv=5, estimator=DecisionTreeClassifier(), n_jobs=-1,\n",
       "             param_grid={'criterion': ['gini', 'entropy'],\n",
       "                         'max_depth': [2, 12, 23, 34, 45, 56, 67, 78, 89, 100],\n",
       "                         'max_features': ['auto', 'sqrt', 'log2'],\n",
       "                         'min_samples_leaf': [1, 3, 5, 7, 9, 11, 13, 15, 17,\n",
       "                                              20],\n",
       "                         'min_samples_split': [1, 5, 9, 14, 18, 22, 27, 31, 35,\n",
       "                                               40],\n",
       "                         'splitter': ['best', 'random']},\n",
       "             scoring='roc_auc', verbose=2)"
      ]
     },
     "execution_count": 38,
     "metadata": {},
     "output_type": "execute_result"
    }
   ],
   "source": [
    "grid = GridSearchCV(estimator=dt,param_grid=param_grid,verbose=2, n_jobs=-1,cv=5, scoring='roc_auc')\n",
    "grid.fit(x_train,y_train)"
   ]
  },
  {
   "cell_type": "code",
   "execution_count": 39,
   "id": "d3017b73",
   "metadata": {},
   "outputs": [
    {
     "data": {
      "text/plain": [
       "0.898421052631579"
      ]
     },
     "execution_count": 39,
     "metadata": {},
     "output_type": "execute_result"
    }
   ],
   "source": [
    "grid.best_score_"
   ]
  },
  {
   "cell_type": "code",
   "execution_count": 40,
   "id": "cc5e983f",
   "metadata": {},
   "outputs": [
    {
     "data": {
      "text/plain": [
       "0.7692307692307693"
      ]
     },
     "execution_count": 40,
     "metadata": {},
     "output_type": "execute_result"
    }
   ],
   "source": [
    "accuracy_score(y_test,grid.predict(x_test))"
   ]
  },
  {
   "cell_type": "code",
   "execution_count": 41,
   "id": "bd9b3e7e",
   "metadata": {},
   "outputs": [
    {
     "data": {
      "text/plain": [
       "0.7802197802197802"
      ]
     },
     "execution_count": 41,
     "metadata": {},
     "output_type": "execute_result"
    }
   ],
   "source": [
    "from sklearn.ensemble import GradientBoostingClassifier\n",
    "gb = GradientBoostingClassifier()\n",
    "gb.fit(x_train,y_train)\n",
    "gb.score(x_test,y_test)"
   ]
  },
  {
   "cell_type": "code",
   "execution_count": 42,
   "id": "66a8651d",
   "metadata": {},
   "outputs": [
    {
     "data": {
      "text/plain": [
       "0.8241758241758241"
      ]
     },
     "execution_count": 42,
     "metadata": {},
     "output_type": "execute_result"
    }
   ],
   "source": [
    "from sklearn.ensemble import RandomForestClassifier\n",
    "rf = RandomForestClassifier()\n",
    "rf.fit(x_train,y_train)\n",
    "rf.score(x_test,y_test)"
   ]
  },
  {
   "cell_type": "code",
   "execution_count": 43,
   "id": "5cb8da94",
   "metadata": {},
   "outputs": [
    {
     "data": {
      "text/plain": [
       "0.8558536585365853"
      ]
     },
     "execution_count": 43,
     "metadata": {},
     "output_type": "execute_result"
    }
   ],
   "source": [
    "grid.score(x_test,y_test)"
   ]
  },
  {
   "cell_type": "code",
   "execution_count": 11,
   "id": "26fb0c93",
   "metadata": {},
   "outputs": [],
   "source": [
    "param_grid = {\n",
    "    'n_estimators': [int(x) for x in np.linspace(start = 100, stop = 500, num = 10)],\n",
    "    'criterion': ['gini', 'entropy'],\n",
    "    'max_depth': [int(x) for x in np.linspace(start=2, stop=100, num = 10)],\n",
    "    'min_samples_leaf':[int(x) for x in np.linspace(start=1, stop=20, num=10)],\n",
    "    'max_features': ['auto','sqrt','log2'],\n",
    "    'min_samples_split': [int(x) for x in np.linspace(start=1, stop=15, num=10)]\n",
    "}"
   ]
  },
  {
   "cell_type": "code",
   "execution_count": null,
   "id": "e52805a8",
   "metadata": {},
   "outputs": [
    {
     "name": "stdout",
     "output_type": "stream",
     "text": [
      "Fitting 5 folds for each of 60000 candidates, totalling 300000 fits\n"
     ]
    }
   ],
   "source": [
    "grid = GridSearchCV(estimator=rf,param_grid=param_grid,verbose=2, n_jobs=-1,cv=5, scoring='roc_auc')\n",
    "grid.fit(x_train,y_train)"
   ]
  },
  {
   "cell_type": "code",
   "execution_count": null,
   "id": "f9a48aca",
   "metadata": {},
   "outputs": [],
   "source": [
    "grid.best_score_"
   ]
  },
  {
   "cell_type": "code",
   "execution_count": null,
   "id": "91e6c29a",
   "metadata": {},
   "outputs": [],
   "source": [
    "grid.best_estimator_"
   ]
  },
  {
   "cell_type": "code",
   "execution_count": null,
   "id": "2adac814",
   "metadata": {},
   "outputs": [],
   "source": [
    "grid.best_params_"
   ]
  },
  {
   "cell_type": "code",
   "execution_count": null,
   "id": "9c6bb4ed",
   "metadata": {},
   "outputs": [],
   "source": [
    "grid.score(x_test,y_test)"
   ]
  },
  {
   "cell_type": "code",
   "execution_count": null,
   "id": "066942e7",
   "metadata": {},
   "outputs": [],
   "source": [
    "predict = grid.predict(x_test)\n",
    "accuracy_score(predict,y_test)"
   ]
  },
  {
   "cell_type": "code",
   "execution_count": null,
   "id": "77cd987a",
   "metadata": {},
   "outputs": [],
   "source": [
    "from sklearn.ensemble import VotingClassifier\n",
    "from sklearn.svm import SVC\n",
    "from xgboost import XGBClassifier\n",
    "svc = SVC()\n",
    "xgb = XGBClassifier()\n",
    "vt = VotingClassifier([('dt',xgb),('rf',rf),('svc',svc)],voting='hard')"
   ]
  },
  {
   "cell_type": "code",
   "execution_count": null,
   "id": "2713e4af",
   "metadata": {},
   "outputs": [],
   "source": [
    "vt.fit(x_train,y_train)"
   ]
  },
  {
   "cell_type": "code",
   "execution_count": null,
   "id": "7aaadca4",
   "metadata": {},
   "outputs": [],
   "source": [
    "predict = vt.predict(x_test)\n",
    "accuracy_score(predict,y_test)"
   ]
  },
  {
   "cell_type": "code",
   "execution_count": 44,
   "id": "d413d534",
   "metadata": {},
   "outputs": [],
   "source": [
    "from xgboost import XGBClassifier\n",
    "xgb = XGBClassifier()\n",
    "\n",
    "param_grid = {\n",
    "    'max_depth' : [int(x) for x in np.linspace(start=2, stop=100, num = 10)],\n",
    "    'learning_rate': [float(x) for x in np.linspace(start=0.1, stop=1.0, num=10)],\n",
    "    'min_child_weight': [int(x) for x in np.linspace(start=1, stop=10, num=7)],\n",
    "    'gamma':[float(x) for x in np.linspace(start=0.1, stop=0.7, num=5)],\n",
    "    'colsample_bytree': [float(x) for x in np.linspace(start=0.1, stop=0.8, num=5)]\n",
    "    \n",
    "}"
   ]
  },
  {
   "cell_type": "code",
   "execution_count": null,
   "id": "c9c07704",
   "metadata": {},
   "outputs": [
    {
     "name": "stdout",
     "output_type": "stream",
     "text": [
      "Fitting 3 folds for each of 17500 candidates, totalling 52500 fits\n"
     ]
    }
   ],
   "source": [
    "grid = GridSearchCV(estimator=xgb,param_grid=param_grid,verbose=2, n_jobs=-1,cv=3, scoring='roc_auc')\n",
    "grid.fit(x_train,y_train)"
   ]
  },
  {
   "cell_type": "code",
   "execution_count": null,
   "id": "d4981dd8",
   "metadata": {},
   "outputs": [],
   "source": [
    "grid.best_score_"
   ]
  },
  {
   "cell_type": "code",
   "execution_count": null,
   "id": "00418b74",
   "metadata": {},
   "outputs": [],
   "source": [
    "grid.best_estimator_"
   ]
  },
  {
   "cell_type": "code",
   "execution_count": null,
   "id": "b86d142e",
   "metadata": {},
   "outputs": [],
   "source": [
    "grid.best_params_"
   ]
  },
  {
   "cell_type": "code",
   "execution_count": null,
   "id": "814a4120",
   "metadata": {},
   "outputs": [],
   "source": [
    "grid.score(x_test,y_test)"
   ]
  },
  {
   "cell_type": "code",
   "execution_count": null,
   "id": "be83e871",
   "metadata": {},
   "outputs": [],
   "source": [
    "predict = grid.predict(x_test)\n",
    "accuracy_score(predict,y_test)"
   ]
  }
 ],
 "metadata": {
  "kernelspec": {
   "display_name": "Python 3 (ipykernel)",
   "language": "python",
   "name": "python3"
  },
  "language_info": {
   "codemirror_mode": {
    "name": "ipython",
    "version": 3
   },
   "file_extension": ".py",
   "mimetype": "text/x-python",
   "name": "python",
   "nbconvert_exporter": "python",
   "pygments_lexer": "ipython3",
   "version": "3.9.12"
  }
 },
 "nbformat": 4,
 "nbformat_minor": 5
}

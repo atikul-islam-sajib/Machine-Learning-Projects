{
 "cells": [
  {
   "cell_type": "code",
   "execution_count": null,
   "metadata": {
    "id": "JxYxMT2iopPe"
   },
   "outputs": [],
   "source": [
    "!nvidia-smi"
   ]
  },
  {
   "cell_type": "code",
   "execution_count": null,
   "metadata": {
    "id": "45nAEKsMouKY"
   },
   "outputs": [],
   "source": [
    "from google.colab import drive\n",
    "drive.mount('/content/drive',force_remount=True)"
   ]
  },
  {
   "cell_type": "code",
   "execution_count": null,
   "metadata": {
    "id": "-WvsIg8LouQ6"
   },
   "outputs": [],
   "source": [
    "import zipfile\n",
    "zip_ref = zipfile.ZipFile(\"/content/drive/MyDrive/StrawberryLeaf.zip\", 'r')\n",
    "zip_ref.extractall()\n",
    "zip_ref.close()"
   ]
  },
  {
   "cell_type": "code",
   "execution_count": null,
   "metadata": {
    "id": "ndlYfUisouZL"
   },
   "outputs": [],
   "source": [
    "!pip install -q keras"
   ]
  },
  {
   "cell_type": "code",
   "execution_count": null,
   "metadata": {
    "id": "VktejQQyqiFa"
   },
   "outputs": [],
   "source": [
    "import os\n",
    "import random\n",
    "import zipfile\n",
    "import cv2\n",
    "import pandas as pd\n",
    "import numpy as np\n",
    "from sklearn.model_selection import train_test_split\n",
    "from sklearn.metrics import accuracy_score, confusion_matrix\n",
    "#Import All imperative function for \"Tensorflow\", CNN\n",
    "from tensorflow import keras\n",
    "from keras import Sequential\n",
    "from keras.layers import Conv2D, MaxPool2D, Flatten, Dense, Dropout, BatchNormalization"
   ]
  },
  {
   "cell_type": "code",
   "execution_count": null,
   "metadata": {
    "id": "H7Sd-Wrooueg"
   },
   "outputs": [],
   "source": [
    "directory = '/content/StrawberryLeaf'\n",
    "\n",
    "#now we want to extract the cat and dog folder\n",
    "\n",
    "data = []\n",
    "categories = ['Strawberry___healthy', 'Strawberry___Leaf_scorch']\n",
    "\n",
    "for i in categories:\n",
    "    \n",
    "    folder_path = os.path.join(directory,i)\n",
    "    \n",
    "    for image in os.listdir(folder_path):\n",
    "        label = categories.index(i)\n",
    "        filepath_ = os.path.join(folder_path, image)\n",
    "        img_arr_  = cv2.imread(filepath_)\n",
    "        img_arr_  = cv2.resize(img_arr_, (100,100))\n",
    "        data.append([img_arr_, label])\n",
    "\n",
    "\n",
    "random.shuffle(data)"
   ]
  },
  {
   "cell_type": "code",
   "execution_count": null,
   "metadata": {
    "id": "suizaL9erNg4"
   },
   "outputs": [],
   "source": [
    "X = []\n",
    "y = []\n",
    "\n",
    "for features, label in data:\n",
    "    X.append(features)\n",
    "    y.append(label)"
   ]
  },
  {
   "cell_type": "code",
   "execution_count": null,
   "metadata": {
    "id": "tBWGv5GerSr6"
   },
   "outputs": [],
   "source": [
    "X = np.array(X)\n",
    "y = np.array(y)\n",
    "\n",
    "X = X/255"
   ]
  },
  {
   "cell_type": "code",
   "execution_count": null,
   "metadata": {
    "id": "3-A29yALrUAj"
   },
   "outputs": [],
   "source": [
    "model = Sequential()\n",
    "\n",
    "model.add(Conv2D(64, (3,3), activation = 'relu', input_shape = (X.shape[1:])))\n",
    "model.add(MaxPool2D(2,2))\n",
    "model.add(BatchNormalization())\n",
    "\n",
    "model.add(Conv2D(64, (3,3), activation = 'relu'))\n",
    "model.add(MaxPool2D(2,2))\n",
    "model.add(BatchNormalization())\n",
    "\n",
    "model.add(Conv2D(64, (3,3), activation = 'relu'))\n",
    "model.add(MaxPool2D(2,2))\n",
    "model.add(BatchNormalization())\n",
    "\n",
    "model.add(Flatten())\n",
    "\n",
    "model.add(Dense(128, activation = 'relu'))\n",
    "model.add(Dropout(0.4))\n",
    "model.add(BatchNormalization())\n",
    "model.add(Dense(128, activation = 'relu'))\n",
    "model.add(Dropout(0.4))\n",
    "model.add(BatchNormalization())\n",
    "model.add(Dense(1, activation = 'sigmoid'))"
   ]
  },
  {
   "cell_type": "code",
   "execution_count": null,
   "metadata": {
    "id": "3Gw7-NoGrXod"
   },
   "outputs": [],
   "source": [
    "model.summary()"
   ]
  },
  {
   "cell_type": "code",
   "execution_count": null,
   "metadata": {
    "id": "UwNydR9Qregv"
   },
   "outputs": [],
   "source": [
    "model.compile(optimizer = 'Adamax', loss = 'binary_crossentropy', metrics = ['accuracy'])"
   ]
  },
  {
   "cell_type": "code",
   "execution_count": null,
   "metadata": {
    "id": "Zfj45BeOrkRK"
   },
   "outputs": [],
   "source": [
    "model.fit(X, y, epochs = 20,batch_size = 32, validation_split = 0.20)"
   ]
  },
  {
   "cell_type": "markdown",
   "metadata": {
    "id": "3tMKA8jiskBa"
   },
   "source": [
    "Hyper Parameter Tuning"
   ]
  },
  {
   "cell_type": "code",
   "execution_count": null,
   "metadata": {
    "id": "x_96So85ruVK"
   },
   "outputs": [],
   "source": [
    "!pip install -q -U keras-tuner"
   ]
  },
  {
   "cell_type": "code",
   "execution_count": null,
   "metadata": {
    "id": "NiqRQrFAs9Oq"
   },
   "outputs": [],
   "source": [
    "import keras_tuner as kt"
   ]
  },
  {
   "cell_type": "code",
   "execution_count": null,
   "metadata": {
    "id": "XJl2G_uetCw9"
   },
   "outputs": [],
   "source": [
    "def build_model(hp):\n",
    "\n",
    "  model = Sequential()\n",
    "\n",
    "  #Create first convulation layer with MaxPool2D\n",
    "  model.add(Conv2D(64, (3,3), activation = 'relu', input_shape = (X.shape[1:])))\n",
    "  model.add(MaxPool2D(2,2))\n",
    "  model.add(BatchNormalization())\n",
    "\n",
    "  #Create second Convolation layer with MaxPool2d\n",
    "  model.add(Conv2D(64, (3,3), activation = 'relu'))\n",
    "  model.add(MaxPool2D(2,2))\n",
    "  model.add(BatchNormalization())\n",
    "  \n",
    "  #Create kernel_initializer\n",
    "  kernel_initializer_ = ['uniform', 'he_uniform', 'he_normal', 'glorot_uniform', 'glorot_normal']\n",
    "  \n",
    "  #Create Third covlulation layer with maxPool2D\n",
    "  model.add(Conv2D(64, (3,3), activation = 'relu'))\n",
    "  model.add(MaxPool2D(2,2))\n",
    "  model.add(BatchNormalization())\n",
    "  \n",
    "  #Flatten the whole convulation\n",
    "  model.add(Flatten())\n",
    "  \n",
    "  #Fully connected layer or ANN\n",
    "  model.add(Dense(128, activation = 'relu', kernel_initializer = hp.Choice('kernel1_', values = kernel_initializer_)))\n",
    "  model.add(Dropout(hp.Choice('dropoutLayer1_',values = [0.1, 0.2, 0.3, 0.4, 0.5, 0.6, 0.7, 0.8, 0.9])))\n",
    "  model.add(BatchNormalization())\n",
    "\n",
    "  #Fully Connected Layer or ANN\n",
    "  model.add(Dense(128, activation = 'relu', kernel_initializer = hp.Choice('Kernel2_', values = kernel_initializer_)))\n",
    "  model.add(Dropout(hp.Choice('dropoutLayer2_',values = [0.1, 0.2, 0.3, 0.4, 0.5, 0.6, 0.7, 0.8, 0.9])))\n",
    "  model.add(BatchNormalization())\n",
    "\n",
    "  #Output Layer\n",
    "  model.add(Dense(1, activation = 'sigmoid'))\n",
    "\n",
    "  #Compile\n",
    "  optimizer_ = hp.Choice('optimizer_', values = ['RMSprop', 'Adam', 'Adadelta', 'Adagrad', 'Adamax', 'Nadam'])\n",
    "  model.compile(optimizer = optimizer_, loss = 'binary_crossentropy', metrics = ['accuracy'])\n",
    "\n",
    "  return model"
   ]
  },
  {
   "cell_type": "code",
   "execution_count": null,
   "metadata": {
    "id": "sUoETWc5upco"
   },
   "outputs": [],
   "source": [
    "tunner_ = kt.RandomSearch(hypermodel   = build_model, \n",
    "                          objective    = 'val_accuracy',\n",
    "                          max_trials   = 5,\n",
    "                          directory   = 'lealf3_'\n",
    "                         )"
   ]
  },
  {
   "cell_type": "code",
   "execution_count": null,
   "metadata": {
    "id": "HlpxFiBUuzws"
   },
   "outputs": [],
   "source": [
    "tunner_.search(X, y, epochs = 5, validation_split = 0.2)"
   ]
  },
  {
   "cell_type": "code",
   "execution_count": null,
   "metadata": {
    "id": "p1PClYbnvEt_"
   },
   "outputs": [],
   "source": [
    "tunner_.get_best_hyperparameters()[0].values"
   ]
  },
  {
   "cell_type": "code",
   "execution_count": null,
   "metadata": {
    "id": "t5KljslAwr-c"
   },
   "outputs": [],
   "source": [
    "x_train, x_test, y_train, y_test = train_test_split(X, y, test_size = 0.20, random_state = 42)"
   ]
  },
  {
   "cell_type": "code",
   "execution_count": null,
   "metadata": {
    "id": "Ig7CnjgJvJJC"
   },
   "outputs": [],
   "source": [
    "tuneModel = tunner_.get_best_models(num_models=1)[0]\n",
    "tuneModel.fit(X, y, batch_size = 32, epochs= 55, initial_epoch = 6, validation_split = 0.2, validation_data=(x_test, y_test))"
   ]
  },
  {
   "cell_type": "code",
   "execution_count": null,
   "metadata": {
    "id": "17ALBsAe1lDD"
   },
   "outputs": [],
   "source": [
    "print('accuracy is = ', tuneModel.evaluate(x_test, y_test)[1]*100,'%')"
   ]
  },
  {
   "cell_type": "code",
   "execution_count": null,
   "metadata": {
    "id": "535GR2Ve2CEy"
   },
   "outputs": [],
   "source": []
  }
 ],
 "metadata": {
  "accelerator": "GPU",
  "colab": {
   "machine_shape": "hm",
   "name": "LeafDiseaseImageClassification.ipynb",
   "private_outputs": true,
   "provenance": []
  },
  "kernelspec": {
   "display_name": "Python 3 (ipykernel)",
   "language": "python",
   "name": "python3"
  },
  "language_info": {
   "codemirror_mode": {
    "name": "ipython",
    "version": 3
   },
   "file_extension": ".py",
   "mimetype": "text/x-python",
   "name": "python",
   "nbconvert_exporter": "python",
   "pygments_lexer": "ipython3",
   "version": "3.9.12"
  }
 },
 "nbformat": 4,
 "nbformat_minor": 1
}

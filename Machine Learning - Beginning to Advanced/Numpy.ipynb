{
 "cells": [
  {
   "cell_type": "code",
   "execution_count": 1,
   "id": "8d4e899a",
   "metadata": {},
   "outputs": [],
   "source": [
    "import numpy as np"
   ]
  },
  {
   "cell_type": "code",
   "execution_count": 2,
   "id": "c8cbc43f",
   "metadata": {},
   "outputs": [
    {
     "data": {
      "text/plain": [
       "array([[1, 2, 3],\n",
       "       [4, 5, 6],\n",
       "       [7, 8, 9]])"
      ]
     },
     "execution_count": 2,
     "metadata": {},
     "output_type": "execute_result"
    }
   ],
   "source": [
    "#create a numpy array\n",
    "array_ = np.array([[1,2,3],[4,5,6],[7,8,9]])\n",
    "array_"
   ]
  },
  {
   "cell_type": "code",
   "execution_count": 3,
   "id": "7f813cea",
   "metadata": {},
   "outputs": [
    {
     "data": {
      "text/plain": [
       "numpy.ndarray"
      ]
     },
     "execution_count": 3,
     "metadata": {},
     "output_type": "execute_result"
    }
   ],
   "source": [
    "#Find the type\n",
    "type(array_)"
   ]
  },
  {
   "cell_type": "code",
   "execution_count": 4,
   "id": "caf593fb",
   "metadata": {},
   "outputs": [
    {
     "data": {
      "text/plain": [
       "(3, 3)"
      ]
     },
     "execution_count": 4,
     "metadata": {},
     "output_type": "execute_result"
    }
   ],
   "source": [
    "#fine the shape\n",
    "array_.shape\n",
    "# outout: (3,3)"
   ]
  },
  {
   "cell_type": "code",
   "execution_count": 5,
   "id": "23ed44aa",
   "metadata": {},
   "outputs": [
    {
     "name": "stdout",
     "output_type": "stream",
     "text": [
      "the value is =  5\n",
      "the values are =  [8 9]\n",
      "the values are =  [8 9]\n",
      "the values are =  [[1 2 3]\n",
      " [4 5 6]]\n",
      "the values are =  [[1 2 3]\n",
      " [4 5 6]]\n",
      "the value is =  9\n"
     ]
    }
   ],
   "source": [
    "#Slicing \n",
    "array_\n",
    "\n",
    "# array([[1, 2, 3],\n",
    "#        [4, 5, 6],\n",
    "#        [7, 8, 9]])\n",
    "\n",
    "#if i want to retrieve 5 then \n",
    "\n",
    "print(\"the value is = \",array_[1,1])\n",
    "\n",
    "#If i want to retrieve 8,9 then \n",
    "\n",
    "print(\"the values are = \",array_[2,1:])\n",
    "#OR\n",
    "print(\"the values are = \",array_[2,[1,2]])\n",
    "\n",
    "#If i want to take 1,2,3 and 4,5,6 then\n",
    "\n",
    "print(\"the values are = \",array_[:2, :])\n",
    "\n",
    "#OR\n",
    "print(\"the values are = \",array_[[0,1],:])\n",
    "\n",
    "#If i want to take just 9 then\n",
    "\n",
    "print(\"the value is = \",array_[2,2])"
   ]
  },
  {
   "cell_type": "code",
   "execution_count": 6,
   "id": "ed740418",
   "metadata": {},
   "outputs": [
    {
     "name": "stdout",
     "output_type": "stream",
     "text": [
      "[[0.29255751 0.01451849 0.55566965 0.25027309]\n",
      " [0.40599394 0.5336012  0.71310306 0.63800011]\n",
      " [0.46186936 0.74213717 0.57555082 0.18154785]]\n",
      "(3, 4)\n",
      "the vales are =  [[0.40599394 0.5336012  0.71310306 0.63800011]\n",
      " [0.46186936 0.74213717 0.57555082 0.18154785]]\n",
      "<class 'numpy.ndarray'>\n",
      "the data type is =  float64\n",
      "the dimention is =  2\n"
     ]
    }
   ],
   "source": [
    "#Slicing continued\n",
    "\n",
    "import random as rd\n",
    "#in 'np.random.rand(row,column)'\n",
    "array_ = np.random.rand(3,4)\n",
    "print(array_)\n",
    "print(array_.shape)\n",
    "\n",
    "#If i want to print last two row\n",
    "\n",
    "print(\"the vales are = \",array_[1:,:])\n",
    "print(type(array_[1:,:]))\n",
    "\n",
    "# list_ = list(array_[1:,:])\n",
    "# print(list_[0])\n",
    "\n",
    "#If i want to print data type then 'dtype'\n",
    "print(\"the data type is = \",array_.dtype)\n",
    "\n",
    "#If i want to print 'dimention' then use ndim\n",
    "\n",
    "print(\"the dimention is = \",array_.ndim)"
   ]
  },
  {
   "cell_type": "code",
   "execution_count": 7,
   "id": "880d3028",
   "metadata": {},
   "outputs": [
    {
     "data": {
      "text/plain": [
       "array([[0, 0, 0, 0],\n",
       "       [0, 0, 0, 0],\n",
       "       [0, 0, 0, 0]], dtype=int64)"
      ]
     },
     "execution_count": 7,
     "metadata": {},
     "output_type": "execute_result"
    }
   ],
   "source": [
    "#np.zeros\n",
    "array_ = np.zeros(10)\n",
    "array_\n",
    "#If i just give one parameter then it will take that one as a 'row'\n",
    "\n",
    "array_ = np.zeros((3,4), dtype = 'int64')\n",
    "#It means 3 row and 4 columns\n",
    "array_"
   ]
  },
  {
   "cell_type": "code",
   "execution_count": 8,
   "id": "23031656",
   "metadata": {},
   "outputs": [
    {
     "name": "stdout",
     "output_type": "stream",
     "text": [
      "the array is: \n",
      " [[0.45839137 0.72892914 0.77094606 0.53717392]\n",
      " [0.67064682 0.24205727 0.8235363  0.19477005]\n",
      " [0.08544711 0.71793648 0.8955558  0.20121506]]\n",
      "the shape is: (3, 4)\n",
      "the dimention is =  2\n",
      "zeros_ values are:\n",
      " [[0. 0. 0.]\n",
      " [0. 0. 0.]]\n"
     ]
    },
    {
     "data": {
      "text/plain": [
       "array([[0.72892914, 0.77094606, 0.53717392],\n",
       "       [0.08544711, 0.71793648, 0.53717392]])"
      ]
     },
     "execution_count": 8,
     "metadata": {},
     "output_type": "execute_result"
    }
   ],
   "source": [
    "#Create a numpy array where 3 rows and 4 columns\n",
    "\n",
    "array_ = np.random.rand(3,4)\n",
    "print(\"the array is: \\n\",array_)\n",
    "print(\"the shape is:\", array_.shape)\n",
    "print(\"the dimention is = \",array_.ndim)\n",
    "\n",
    "#create a numpy zeros where we will save the slicing data\n",
    "\n",
    "zeros_ = np.zeros((2,3), dtype = 'float')\n",
    "print('zeros_ values are:\\n', zeros_)\n",
    "\n",
    "#i want to put this \"0.15817498\" value into zeros\n",
    "\n",
    "zeros_[0,0] = array_[0,1]\n",
    "# zeros_\n",
    "zeros_[0,1:] = array_[0,2:]\n",
    "# zeros_\n",
    "zeros_[1,-1] = array_[0,-1]\n",
    "# zeros_\n",
    "zeros_[1,:2] = array_[2,0:2]\n",
    "zeros_"
   ]
  },
  {
   "cell_type": "code",
   "execution_count": 9,
   "id": "82226685",
   "metadata": {},
   "outputs": [
    {
     "name": "stdout",
     "output_type": "stream",
     "text": [
      "the array is: \n",
      " [[0 1 2 3 4]\n",
      " [5 6 7 8 9]]\n",
      "the data type is =  int32\n",
      "the shape of this =  (2, 5)\n",
      "the dimention of this is =  2\n",
      "the copy array is :\n",
      " [[0 1 2 3 4]\n",
      " [5 6 7 8 9]]\n"
     ]
    }
   ],
   "source": [
    "np.arange(10)\n",
    "\n",
    "#output: array([0, 1, 2, 3, 4, 5, 6, 7, 8, 9])\n",
    "\n",
    "#but i want to take 2 rows and 5 columns then how to do in this case. just use 'reshape(row, column)'\n",
    "array_ = np.arange(10).reshape(2,5)\n",
    "print(\"the array is: \\n\",array_)\n",
    "print(\"the data type is = \",array_.dtype)\n",
    "print(\"the shape of this = \", array_.shape)\n",
    "print(\"the dimention of this is = \", array_.ndim)\n",
    "#if i want to save this same data into another np array then \n",
    "\n",
    "copy_ = np.zeros((2,5))\n",
    "copy_ = array_\n",
    "\n",
    "print(\"the copy array is :\\n\", copy_)"
   ]
  },
  {
   "cell_type": "code",
   "execution_count": 10,
   "id": "39d10ca9",
   "metadata": {},
   "outputs": [
    {
     "name": "stdout",
     "output_type": "stream",
     "text": [
      "[[0.10963536 0.48363084 0.29094788 0.64993863 0.58860834]\n",
      " [0.80471601 0.55138087 0.28945153 0.36730899 0.45627878]]\n",
      "float64\n"
     ]
    },
    {
     "data": {
      "text/plain": [
       "array([[0, 0, 0, 0, 0],\n",
       "       [0, 0, 0, 0, 0]])"
      ]
     },
     "execution_count": 10,
     "metadata": {},
     "output_type": "execute_result"
    }
   ],
   "source": [
    "array_ = np.random.rand(2,5)\n",
    "print(array_)\n",
    "print(array_.dtype)\n",
    "#but i want to change the type\n",
    "array_ = array_.astype('int32')\n",
    "array_"
   ]
  },
  {
   "cell_type": "code",
   "execution_count": 11,
   "id": "33f46e92",
   "metadata": {},
   "outputs": [
    {
     "name": "stdout",
     "output_type": "stream",
     "text": [
      "[2.9  3.87 5.78]\n"
     ]
    },
    {
     "data": {
      "text/plain": [
       "array([2, 3, 5], dtype=int64)"
      ]
     },
     "execution_count": 11,
     "metadata": {},
     "output_type": "execute_result"
    }
   ],
   "source": [
    "array_ = np.array([2.90, 3.87, 5.78])\n",
    "print(array_)\n",
    "#now change the data type\n",
    "\n",
    "array_ = array_.astype('int64')\n",
    "array_ "
   ]
  },
  {
   "cell_type": "code",
   "execution_count": 12,
   "id": "82550c37",
   "metadata": {},
   "outputs": [
    {
     "name": "stdout",
     "output_type": "stream",
     "text": [
      "the array is \n",
      " [[[1 2 3]\n",
      "  [4 5 6]\n",
      "  [7 8 9]]]\n",
      "the dimention is =  3\n",
      "the shape is =  (1, 3, 3)\n",
      "the data is =  5\n"
     ]
    }
   ],
   "source": [
    "#Created 3D data\n",
    "\n",
    "array_ = np.array([\n",
    "    [\n",
    "        [1,2,3],\n",
    "        [4,5,6],\n",
    "        [7,8,9]\n",
    "    ]\n",
    "])\n",
    "print(\"the array is \\n\",array_)\n",
    "print('the dimention is = ', array_.ndim)\n",
    "print('the shape is = ', array_.shape)\n",
    "\n",
    "#if i want to take 5 data then\n",
    "\n",
    "print('the data is = ',array_[0,1][1])"
   ]
  },
  {
   "cell_type": "code",
   "execution_count": 13,
   "id": "992ac03e",
   "metadata": {},
   "outputs": [
    {
     "name": "stdout",
     "output_type": "stream",
     "text": [
      "3\n"
     ]
    }
   ],
   "source": [
    "#Using Np.where - it only work in numpy array\n",
    "\n",
    "list_ = [1,2,3]\n",
    "list_ = np.array(list_)\n",
    "list1_ = np.where(list_>2, 'T', 'F')\n",
    "for index, value in enumerate(list1_):\n",
    "    if value == 'T':\n",
    "        print(list_[index])\n",
    "    else:\n",
    "        continue"
   ]
  },
  {
   "cell_type": "code",
   "execution_count": 14,
   "id": "ff195191",
   "metadata": {},
   "outputs": [
    {
     "name": "stdout",
     "output_type": "stream",
     "text": [
      "the array is: \n",
      " [[0 1 2 3 4]\n",
      " [5 6 7 8 9]]\n",
      "the boolean is:\n",
      " [[ True False  True False  True]\n",
      " [ True False False  True False]]\n",
      "the dimention of array is =  2\n",
      "the dimention of bool_ is =  2\n",
      "the data_ is: \n",
      " [['0' 'false' '2' 'false' '4']\n",
      " ['5' 'false' 'false' '8' 'false']]\n"
     ]
    }
   ],
   "source": [
    "#Boolean Indexing\n",
    "\n",
    "array_ = np.arange(0,10).reshape(2,5)\n",
    "print(\"the array is: \\n\",array_)\n",
    "\n",
    "bool_ = [True, False, True, False, True, True, False, False, True, False]\n",
    "bool_ = np.array(bool_).reshape(2,5)\n",
    "print(\"the boolean is:\\n\",bool_)\n",
    "\n",
    "print(\"the dimention of array is = \", array_.ndim)\n",
    "print(\"the dimention of bool_ is = \",bool_.ndim)\n",
    "\n",
    "# array_[bool_ == True]\n",
    "\n",
    "# for array, bool_ in zip(array_,bool_):\n",
    "\n",
    "data_ = np.where(bool_ == True, array_,'false')\n",
    "print(\"the data_ is: \\n\",data_)\n"
   ]
  },
  {
   "cell_type": "code",
   "execution_count": 15,
   "id": "e24fa81c",
   "metadata": {},
   "outputs": [
    {
     "name": "stdout",
     "output_type": "stream",
     "text": [
      "[[ 0  1  2  3  4]\n",
      " [ 5  6  7  8  9]\n",
      " [10 11 12 13 14]\n",
      " [15 16 17 18 19]]\n"
     ]
    },
    {
     "data": {
      "text/plain": [
       "array([ 5,  6,  7,  8,  9, 10, 11, 12, 13, 14, 15, 16, 17, 18, 19])"
      ]
     },
     "execution_count": 15,
     "metadata": {},
     "output_type": "execute_result"
    }
   ],
   "source": [
    "array_ = np.arange(0,20).reshape(4,5)\n",
    "print(array_)\n",
    "np.delete(array_, np.where(array_%2==0))"
   ]
  },
  {
   "cell_type": "code",
   "execution_count": 16,
   "id": "1fe75bcd",
   "metadata": {},
   "outputs": [
    {
     "data": {
      "text/plain": [
       "[array([1, 3]), array([5, 7, 9]), array([11, 13]), array([15, 17, 19])]"
      ]
     },
     "execution_count": 16,
     "metadata": {},
     "output_type": "execute_result"
    }
   ],
   "source": [
    "array_\n",
    "list_ =  []\n",
    "for i in array_:\n",
    "    list_.append(np.delete(i, np.where(i%2==0)))\n",
    "list_"
   ]
  },
  {
   "cell_type": "code",
   "execution_count": 17,
   "id": "07ce3f61",
   "metadata": {},
   "outputs": [
    {
     "data": {
      "text/plain": [
       "[array([1, 3]), array([5, 7, 9]), array([11, 13]), array([15, 17, 19])]"
      ]
     },
     "execution_count": 17,
     "metadata": {},
     "output_type": "execute_result"
    }
   ],
   "source": [
    "list(list_)"
   ]
  },
  {
   "cell_type": "code",
   "execution_count": 18,
   "id": "6588cbb2",
   "metadata": {},
   "outputs": [
    {
     "name": "stdout",
     "output_type": "stream",
     "text": [
      "dim =  1\n",
      "shape =  (10,)\n",
      "after deleting the value is =  [ 1  2  3  5  6  7  8  9 10]\n",
      "after deeleting the index 0, 1, 2 :  [ 4  5  6  7  8  9 10]\n",
      "after deleting the value is =  [ 1  2  3  7  8  9 10]\n"
     ]
    }
   ],
   "source": [
    "#Delete the data in numpy: 1D array\n",
    "\n",
    "array_ = np.array([1,2,3,4,5,6,7,8,9,10])\n",
    "array_\n",
    "print('dim = ',array_.ndim)\n",
    "print('shape = ', array_.shape)\n",
    "\n",
    "#if i want to delete 4 then \n",
    "\n",
    "print(\"after deleting the value is = \",np.delete(array_, 3))\n",
    "\n",
    "#here, np.delete(array, index, axis = 0/1)\n",
    "#if i want to multiple data:\n",
    "\n",
    "print(\"after deeleting the index 0, 1, 2 : \",np.delete(array_,[0,1,2]))\n",
    "\n",
    "#it's time consuming, so we should use loop\n",
    "\n",
    "array_\n",
    "\n",
    "# for index_, value_ in enumerate(array_):\n",
    "#     print(index_, value_)\n",
    "\n",
    "indexList_ = []\n",
    "for index_, value_ in enumerate(array_):\n",
    "    if value_ == 4:\n",
    "        indexList_.append(index_)\n",
    "    elif value_ == 5:\n",
    "        indexList_.append(index_)\n",
    "    elif value_ == 6:\n",
    "        indexList_.append(index_)\n",
    "    else:\n",
    "        continue\n",
    "indexList_\n",
    "\n",
    "print(\"after deleting the value is = \",np.delete(array_,indexList_))\n"
   ]
  },
  {
   "cell_type": "code",
   "execution_count": 19,
   "id": "07ad1581",
   "metadata": {},
   "outputs": [
    {
     "name": "stdout",
     "output_type": "stream",
     "text": [
      "the array is: \n",
      " [[ 0  1  2  3  4]\n",
      " [ 5  6  7  8  9]\n",
      " [10 11 12 13 14]\n",
      " [15 16 17 18 19]]\n",
      "the dimention is:  2\n",
      "the shape is: (4, 5)\n",
      "after deleting the fisrt and second row: \n",
      " [[10 11 12 13 14]\n",
      " [15 16 17 18 19]]\n",
      "after deleting the last 3 columns: \n",
      " [[ 0]\n",
      " [ 5]\n",
      " [10]\n",
      " [15]]\n"
     ]
    }
   ],
   "source": [
    "#Delete in 2D array\n",
    "\n",
    "array_ = np.arange(0,20).reshape(4,5)\n",
    "print(\"the array is: \\n\",array_)\n",
    "print(\"the dimention is: \", array_.ndim)\n",
    "print('the shape is:', array_.shape)\n",
    "\n",
    "#if i want to delete first two rows then\n",
    "\n",
    "print(\"after deleting the fisrt and second row: \\n\",np.delete(array_, [0,1], axis = 0))\n",
    "\n",
    "#if i want to delete last 3 columns\n",
    "\n",
    "print(\"after deleting the last 3 columns: \\n\",np.delete(array_, [1,2,3,4], axis = 1))"
   ]
  },
  {
   "cell_type": "code",
   "execution_count": 20,
   "id": "d3eaa6e5",
   "metadata": {},
   "outputs": [
    {
     "name": "stdout",
     "output_type": "stream",
     "text": [
      "the array is: \n",
      "\n",
      " [[0.47099763 0.12586475 0.53347071 0.91232057 0.43037897]\n",
      " [0.51618139 0.69285829 0.8308664  0.2891784  0.73226046]\n",
      " [0.96445581 0.5348438  0.18992495 0.22052744 0.22118184]\n",
      " [0.58386188 0.05403938 0.43145181 0.20255498 0.35486133]] \n",
      "\n",
      "the dimention of this array is: 2 \n",
      "\n",
      "the data type of this array is: float64 \n",
      "\n",
      "the shape of this array is    : (4, 5) \n",
      "\n",
      "the num of rows in this array : 4 \n",
      "\n",
      "the num of col in this array  : 5 \n",
      "\n",
      "row index are   :  [0 1 2 3] \n",
      "\n",
      "column index are: [0 1 2 3 4] \n",
      "\n",
      "0.4709976269982299 \n",
      "\n",
      "0.12586474571950856 \n",
      "\n",
      "0.5334707077051077 \n",
      "\n",
      "0.9123205691620963 \n",
      "\n",
      "0.43037897057249197 \n",
      "\n",
      "-----------------------------------------------------\n",
      "0.5161813894773942 \n",
      "\n",
      "0.6928582937490858 \n",
      "\n",
      "0.8308664002422798 \n",
      "\n",
      "0.28917839773239273 \n",
      "\n",
      "0.7322604647070858 \n",
      "\n",
      "-----------------------------------------------------\n",
      "0.9644558056638771 \n",
      "\n",
      "0.5348438027499443 \n",
      "\n",
      "0.18992494910297475 \n",
      "\n",
      "0.22052743702086364 \n",
      "\n",
      "0.22118183940475744 \n",
      "\n",
      "-----------------------------------------------------\n",
      "0.5838618804229811 \n",
      "\n",
      "0.054039378366507185 \n",
      "\n",
      "0.43145180887876666 \n",
      "\n",
      "0.20255498193989485 \n",
      "\n",
      "0.3548613290991648 \n",
      "\n",
      "-----------------------------------------------------\n",
      "Zero array is:\n",
      " [[0. 0. 0. 0. 0.]\n",
      " [0. 0. 0. 0. 0.]\n",
      " [0. 0. 0. 0. 0.]\n",
      " [0. 0. 0. 0. 0.]] \n",
      "\n",
      "Index are =  [0, 1, 2, 3] \n",
      "\n",
      "values are = \n",
      " [array([0.47099763, 0.12586475, 0.53347071, 0.91232057, 0.43037897]), array([0.51618139, 0.69285829, 0.8308664 , 0.2891784 , 0.73226046]), array([0.96445581, 0.5348438 , 0.18992495, 0.22052744, 0.22118184]), array([0.58386188, 0.05403938, 0.43145181, 0.20255498, 0.35486133])] \n",
      "\n",
      "after store the array looks like :\n",
      " [[0.47099763 0.12586475 0.53347071 0.91232057 0.43037897]\n",
      " [0.51618139 0.69285829 0.8308664  0.2891784  0.73226046]\n",
      " [0.96445581 0.5348438  0.18992495 0.22052744 0.22118184]\n",
      " [0.58386188 0.05403938 0.43145181 0.20255498 0.35486133]] \n",
      "\n",
      "In dictonary the value is =  {0: [0.4709976269982299, 0.12586474571950856, 0.5334707077051077, 0.9123205691620963, 0.43037897057249197], 1: [0.5161813894773942, 0.6928582937490858, 0.8308664002422798, 0.28917839773239273, 0.7322604647070858], 2: [0.9644558056638771, 0.5348438027499443, 0.18992494910297475, 0.22052743702086364, 0.22118183940475744], 3: [0.5838618804229811, 0.054039378366507185, 0.43145180887876666, 0.20255498193989485, 0.3548613290991648]}\n"
     ]
    }
   ],
   "source": [
    "#Practise So far\n",
    "\n",
    "def function_(array_):\n",
    "    print(\"the array is: \\n\\n\",array_,'\\n')\n",
    "    print('the dimention of this array is:',array_.ndim,'\\n')\n",
    "    print('the data type of this array is:',array_.dtype,'\\n')\n",
    "    print('the shape of this array is    :',array_.shape,'\\n')\n",
    "    print('the num of rows in this array :',array_.shape[0],'\\n')\n",
    "    print('the num of col in this array  :',array_.shape[1],'\\n')\n",
    "    \n",
    "    rowIndex_    = np.arange(array_.shape[0])\n",
    "    columnIndex_ = np.arange(array_.shape[1])\n",
    "    \n",
    "    print(\"row index are   : \",rowIndex_,'\\n')\n",
    "    print(\"column index are:\", columnIndex_,'\\n')\n",
    "    \n",
    "    for row_ in rowIndex_:\n",
    "        for column_ in columnIndex_:\n",
    "            print(array_[row_, column_],'\\n')\n",
    "        print('-----------------------------------------------------')\n",
    "    \n",
    "    store_ = np.zeros((array_.shape[0], array_.shape[1]))\n",
    "    print('Zero array is:\\n', store_,'\\n')\n",
    "    \n",
    "    index = []\n",
    "    value_ = []\n",
    "    dict_  = {}\n",
    "    for index_, values_ in enumerate(array_):\n",
    "        index.append(index_)\n",
    "        value_.append(values_)\n",
    "    print(\"Index are = \",index,'\\n')\n",
    "    print(\"values are = \\n\", value_,'\\n')\n",
    "    \n",
    "    for i in index:\n",
    "        store_[i,:] = value_[i] \n",
    "        dict_[i]    = list(value_[i])\n",
    "    print(\"after store the array looks like :\\n\",store_,'\\n')\n",
    "    print(\"In dictonary the value is = \",dict_)\n",
    "    \n",
    "    return store_, dict_\n",
    "array_ = np.random.rand(4,5)\n",
    "array_, dict_ = function_(array_)"
   ]
  },
  {
   "cell_type": "code",
   "execution_count": 21,
   "id": "b973bf2d",
   "metadata": {},
   "outputs": [
    {
     "name": "stdout",
     "output_type": "stream",
     "text": [
      "[[0.47099763 0.12586475 0.53347071 0.91232057 0.43037897]\n",
      " [0.51618139 0.69285829 0.8308664  0.2891784  0.73226046]\n",
      " [0.96445581 0.5348438  0.18992495 0.22052744 0.22118184]\n",
      " [0.58386188 0.05403938 0.43145181 0.20255498 0.35486133]]\n"
     ]
    }
   ],
   "source": [
    "#The array is\n",
    "print(array_)"
   ]
  },
  {
   "cell_type": "code",
   "execution_count": 22,
   "id": "4c6f6487",
   "metadata": {},
   "outputs": [
    {
     "name": "stdout",
     "output_type": "stream",
     "text": [
      "{0: [0.4709976269982299, 0.12586474571950856, 0.5334707077051077, 0.9123205691620963, 0.43037897057249197], 1: [0.5161813894773942, 0.6928582937490858, 0.8308664002422798, 0.28917839773239273, 0.7322604647070858], 2: [0.9644558056638771, 0.5348438027499443, 0.18992494910297475, 0.22052743702086364, 0.22118183940475744], 3: [0.5838618804229811, 0.054039378366507185, 0.43145180887876666, 0.20255498193989485, 0.3548613290991648]}\n"
     ]
    }
   ],
   "source": [
    "#The dictonary is\n",
    "print(dict_)"
   ]
  },
  {
   "cell_type": "code",
   "execution_count": 23,
   "id": "d8887032",
   "metadata": {},
   "outputs": [
    {
     "name": "stdout",
     "output_type": "stream",
     "text": [
      "max value is =  0.9644558056638771\n",
      "Min value is =  0.054039378366507185\n",
      "The index of max is =  10\n",
      "the index of min is =  16\n"
     ]
    }
   ],
   "source": [
    "#Find the max\n",
    "print(\"max value is = \",array_.max())\n",
    "#Find the min\n",
    "print(\"Min value is = \",array_.min())\n",
    "#Find the argmax - it will return index\n",
    "print(\"The index of max is = \", array_.argmax())\n",
    "#Find the argmin - it will return the index\n",
    "print(\"the index of min is = \", array_.argmin())"
   ]
  },
  {
   "cell_type": "code",
   "execution_count": 24,
   "id": "a341e6ff",
   "metadata": {},
   "outputs": [
    {
     "name": "stdout",
     "output_type": "stream",
     "text": [
      "after deleting the array looks like: \n",
      " [[0.53347071 0.91232057 0.43037897]\n",
      " [0.8308664  0.2891784  0.73226046]\n",
      " [0.18992495 0.22052744 0.22118184]\n",
      " [0.43145181 0.20255498 0.35486133]] \n",
      "\n"
     ]
    }
   ],
   "source": [
    "#Delete the first two columns\n",
    "\n",
    "array_ = np.delete(array_, [0,1], axis = 1)\n",
    "\n",
    "print(\"after deleting the array looks like: \\n\", array_,'\\n')"
   ]
  },
  {
   "cell_type": "code",
   "execution_count": 25,
   "id": "07500e9d",
   "metadata": {},
   "outputs": [
    {
     "name": "stdout",
     "output_type": "stream",
     "text": [
      "after deleting the rows the array looks like: \n",
      " [[0.53347071 0.91232057 0.43037897]\n",
      " [0.8308664  0.2891784  0.73226046]] \n",
      "\n"
     ]
    }
   ],
   "source": [
    "#Delete the last two rows\n",
    "\n",
    "array_ = np.delete(array_,[-1,-2], axis = 0)\n",
    "\n",
    "print(\"after deleting the rows the array looks like: \\n\", array_,'\\n')"
   ]
  },
  {
   "cell_type": "code",
   "execution_count": 26,
   "id": "a47978f5",
   "metadata": {},
   "outputs": [
    {
     "name": "stdout",
     "output_type": "stream",
     "text": [
      "[['T' 'T' 'F']\n",
      " ['T' 'F' 'T']]\n"
     ]
    }
   ],
   "source": [
    "#Modilfy something(Update)\n",
    "\n",
    "bool_ = np.where(array_>0.50, 'T','F')\n",
    "print(bool_)"
   ]
  },
  {
   "cell_type": "code",
   "execution_count": 27,
   "id": "04dd55e8",
   "metadata": {},
   "outputs": [
    {
     "name": "stdout",
     "output_type": "stream",
     "text": [
      "[['0.5334707077051077' '0.9123205691620963' ' ']\n",
      " ['0.8308664002422798' ' ' '0.7322604647070858']]\n"
     ]
    }
   ],
   "source": [
    "new_ = np.where(bool_ == 'T', array_,' ')\n",
    "print(new_)"
   ]
  },
  {
   "cell_type": "code",
   "execution_count": 28,
   "id": "ca98a697",
   "metadata": {},
   "outputs": [
    {
     "data": {
      "text/plain": [
       "array([['0.5334707077051077', '0.9123205691620963', 'False'],\n",
       "       ['0.8308664002422798', 'False', '0.7322604647070858']],\n",
       "      dtype='<U32')"
      ]
     },
     "execution_count": 28,
     "metadata": {},
     "output_type": "execute_result"
    }
   ],
   "source": [
    "np.where(new_ != ' ', new_, 'False')"
   ]
  },
  {
   "cell_type": "code",
   "execution_count": 29,
   "id": "30f0d120",
   "metadata": {},
   "outputs": [
    {
     "name": "stdout",
     "output_type": "stream",
     "text": [
      "the array =  [0.53347071 0.91232057 0.8308664  0.73226046]\n"
     ]
    }
   ],
   "source": [
    "print(\"the array = \",array_[array_>0.5])"
   ]
  },
  {
   "cell_type": "code",
   "execution_count": 30,
   "id": "e449383b",
   "metadata": {},
   "outputs": [
    {
     "name": "stdout",
     "output_type": "stream",
     "text": [
      "the int array is =  [0 0 0 0]\n"
     ]
    }
   ],
   "source": [
    "intArray_ = array_[array_>0.5].astype('int64')\n",
    "print(\"the int array is = \", intArray_)"
   ]
  },
  {
   "cell_type": "code",
   "execution_count": 31,
   "id": "9f42c944",
   "metadata": {},
   "outputs": [
    {
     "data": {
      "text/plain": [
       "array([1, 2])"
      ]
     },
     "execution_count": 31,
     "metadata": {},
     "output_type": "execute_result"
    }
   ],
   "source": [
    "array_ = np.array([1,2,1,2])\n",
    "array_\n",
    "\n",
    "#Find the unique \n",
    "\n",
    "np.unique(array_)"
   ]
  },
  {
   "cell_type": "code",
   "execution_count": 32,
   "id": "3e60c904",
   "metadata": {},
   "outputs": [
    {
     "name": "stdout",
     "output_type": "stream",
     "text": [
      "[ 1  2  5 25] [5 3 1 1]\n"
     ]
    },
    {
     "data": {
      "text/plain": [
       "array([[ 1,  5],\n",
       "       [ 2,  3],\n",
       "       [ 1,  5],\n",
       "       [ 1, 25]], dtype=int64)"
      ]
     },
     "execution_count": 32,
     "metadata": {},
     "output_type": "execute_result"
    }
   ],
   "source": [
    "array_ = np.array([1,1,1,2,2,2,5,25,1,1])\n",
    "unique, counts = np.unique(array_, return_counts=True)\n",
    "\n",
    "print(unique, counts)\n",
    "hello = np.asarray((unique,counts)).T\n",
    "\n",
    "hello.sort()\n",
    "\n",
    "hello"
   ]
  },
  {
   "cell_type": "code",
   "execution_count": 33,
   "id": "fcbbb9c8",
   "metadata": {},
   "outputs": [
    {
     "name": "stdout",
     "output_type": "stream",
     "text": [
      "1 5\n",
      "2 6\n",
      "3 7\n",
      "4 8\n"
     ]
    }
   ],
   "source": [
    "list_ = [1,2,3,4]\n",
    "list1_ = [5,6,7,8]\n",
    "\n",
    "for value1_, value2_ in zip(list_,list1_):\n",
    "    print(value1_,value2_)"
   ]
  },
  {
   "cell_type": "code",
   "execution_count": 34,
   "id": "705c7df4",
   "metadata": {},
   "outputs": [
    {
     "data": {
      "text/plain": [
       "{1: 10, 2: 20, 3: 30}"
      ]
     },
     "execution_count": 34,
     "metadata": {},
     "output_type": "execute_result"
    }
   ],
   "source": [
    "dict_ = {1:10, 2:20, 3:30}\n",
    "dict_"
   ]
  },
  {
   "cell_type": "code",
   "execution_count": 35,
   "id": "0b71d7dc",
   "metadata": {},
   "outputs": [
    {
     "data": {
      "text/plain": [
       "{1: 10, 2: 20, 3: 40}"
      ]
     },
     "execution_count": 35,
     "metadata": {},
     "output_type": "execute_result"
    }
   ],
   "source": [
    "dict_[3] = 40\n",
    "dict_"
   ]
  },
  {
   "cell_type": "code",
   "execution_count": 36,
   "id": "5bb5a0d0",
   "metadata": {},
   "outputs": [
    {
     "data": {
      "text/plain": [
       "{1: 10, 2: 20, 3: 1000}"
      ]
     },
     "execution_count": 36,
     "metadata": {},
     "output_type": "execute_result"
    }
   ],
   "source": [
    "upadate_ = {3:1000}\n",
    "\n",
    "dict_.update(upadate_)\n",
    "dict_"
   ]
  },
  {
   "cell_type": "code",
   "execution_count": 37,
   "id": "ad29a7a0",
   "metadata": {},
   "outputs": [
    {
     "name": "stdout",
     "output_type": "stream",
     "text": [
      "{1: 10, 2: 20, 3: 1000}\n"
     ]
    }
   ],
   "source": [
    "array_ = np.array(dict_)\n",
    "print(array_)"
   ]
  },
  {
   "cell_type": "code",
   "execution_count": 38,
   "id": "4b0cb792",
   "metadata": {},
   "outputs": [
    {
     "name": "stdout",
     "output_type": "stream",
     "text": [
      "1 10\n",
      "2 20\n",
      "3 1000\n"
     ]
    },
    {
     "data": {
      "text/plain": [
       "[1, 2, 3]"
      ]
     },
     "execution_count": 38,
     "metadata": {},
     "output_type": "execute_result"
    }
   ],
   "source": [
    "keys = []\n",
    "items = []\n",
    "for keys_, items_ in dict_.items():\n",
    "    print(keys_, items_)\n",
    "    keys.append(keys_)\n",
    "    items.append(items_)\n",
    "keys"
   ]
  },
  {
   "cell_type": "code",
   "execution_count": 39,
   "id": "59d7588b",
   "metadata": {},
   "outputs": [
    {
     "name": "stdout",
     "output_type": "stream",
     "text": [
      "(1, 10)\n",
      "(2, 20)\n",
      "(3, 1000)\n"
     ]
    }
   ],
   "source": [
    "for keys_, values_ in zip(keys,items):\n",
    "    print((keys_, values_))"
   ]
  },
  {
   "cell_type": "code",
   "execution_count": 40,
   "id": "468d825c",
   "metadata": {},
   "outputs": [],
   "source": [
    "array_ = np.array([\n",
    "    [1,2,3,4],\n",
    "    [5,6,7,8],\n",
    "    [9,10,11,12]])"
   ]
  },
  {
   "cell_type": "code",
   "execution_count": 41,
   "id": "f198cddd",
   "metadata": {},
   "outputs": [
    {
     "data": {
      "text/plain": [
       "array([[ 1,  2,  3,  4],\n",
       "       [ 5,  6,  7,  8],\n",
       "       [ 9, 10, 11, 12]])"
      ]
     },
     "execution_count": 41,
     "metadata": {},
     "output_type": "execute_result"
    }
   ],
   "source": [
    "array_"
   ]
  },
  {
   "cell_type": "code",
   "execution_count": 42,
   "id": "7c67767e",
   "metadata": {},
   "outputs": [],
   "source": [
    "array_ = array_.T"
   ]
  },
  {
   "cell_type": "code",
   "execution_count": 43,
   "id": "9787a44e",
   "metadata": {},
   "outputs": [
    {
     "data": {
      "text/plain": [
       "array([10, 26, 42])"
      ]
     },
     "execution_count": 43,
     "metadata": {},
     "output_type": "execute_result"
    }
   ],
   "source": [
    "array_\n",
    "array_.sum(axis = 0)"
   ]
  },
  {
   "cell_type": "code",
   "execution_count": 44,
   "id": "182a070d",
   "metadata": {},
   "outputs": [
    {
     "data": {
      "text/plain": [
       "array([15, 18, 21, 24])"
      ]
     },
     "execution_count": 44,
     "metadata": {},
     "output_type": "execute_result"
    }
   ],
   "source": [
    "array_.sum(axis = 1)"
   ]
  },
  {
   "cell_type": "code",
   "execution_count": 45,
   "id": "a3eb0140",
   "metadata": {},
   "outputs": [
    {
     "data": {
      "text/plain": [
       "array([[ 1,  5,  9],\n",
       "       [ 2,  6, 10],\n",
       "       [ 3,  7, 11],\n",
       "       [ 4,  8, 12]])"
      ]
     },
     "execution_count": 45,
     "metadata": {},
     "output_type": "execute_result"
    }
   ],
   "source": [
    "array_.sort(0)\n",
    "array_"
   ]
  },
  {
   "cell_type": "code",
   "execution_count": 46,
   "id": "81f42a50",
   "metadata": {},
   "outputs": [
    {
     "data": {
      "text/plain": [
       "array([ 7, 11, 12])"
      ]
     },
     "execution_count": 46,
     "metadata": {},
     "output_type": "execute_result"
    }
   ],
   "source": [
    "array_[np.in1d(array_, [12,7,11]).reshape(4,3)]"
   ]
  },
  {
   "cell_type": "code",
   "execution_count": 47,
   "id": "3eb44cc0",
   "metadata": {},
   "outputs": [
    {
     "name": "stdout",
     "output_type": "stream",
     "text": [
      "(array([3], dtype=int64), array([2], dtype=int64))\n"
     ]
    }
   ],
   "source": [
    "data_ = np.where(array_ == 12)\n",
    "print(data_)"
   ]
  },
  {
   "cell_type": "code",
   "execution_count": 48,
   "id": "e7b6d1c1",
   "metadata": {},
   "outputs": [
    {
     "data": {
      "text/plain": [
       "12"
      ]
     },
     "execution_count": 48,
     "metadata": {},
     "output_type": "execute_result"
    }
   ],
   "source": [
    "array_[3][2]"
   ]
  },
  {
   "cell_type": "code",
   "execution_count": 49,
   "id": "ad0297f7",
   "metadata": {},
   "outputs": [
    {
     "data": {
      "text/plain": [
       "(array([ 6,  9, 10], dtype=int64),)"
      ]
     },
     "execution_count": 49,
     "metadata": {},
     "output_type": "execute_result"
    }
   ],
   "source": [
    "data_ = np.where(np.in1d(array_, [3,4,8]))\n",
    "data_"
   ]
  },
  {
   "cell_type": "code",
   "execution_count": 50,
   "id": "39cab5ae",
   "metadata": {},
   "outputs": [
    {
     "name": "stdout",
     "output_type": "stream",
     "text": [
      "4 3\n"
     ]
    }
   ],
   "source": [
    "row_= array_.shape[0]\n",
    "col_ = array_.shape[1]\n",
    "\n",
    "print(row_, col_)"
   ]
  },
  {
   "cell_type": "code",
   "execution_count": 51,
   "id": "023189a0",
   "metadata": {},
   "outputs": [
    {
     "name": "stdout",
     "output_type": "stream",
     "text": [
      "{0: [0, 0], 1: [0, 1], 2: [0, 2], 3: [1, 0], 4: [1, 1], 5: [1, 2], 6: [2, 0], 7: [2, 1], 8: [2, 2], 9: [3, 0], 10: [3, 1], 11: [3, 2]}\n",
      "That search value is =  [2, 0]\n"
     ]
    },
    {
     "data": {
      "text/plain": [
       "3"
      ]
     },
     "execution_count": 51,
     "metadata": {},
     "output_type": "execute_result"
    }
   ],
   "source": [
    "row = np.arange(4, dtype = 'int64')\n",
    "col = np.arange(3, dtype = 'int64')\n",
    "\n",
    "dict_ = {}\n",
    "count = 0\n",
    "for i in row:\n",
    "    for j in col:\n",
    "        dict_[count] = [i,j]\n",
    "        count = count + 1\n",
    "print(dict_)\n",
    "\n",
    "retrive = dict_[6]\n",
    "print(\"That search value is = \",retrive)\n",
    "\n",
    "row = retrive[0]\n",
    "col = retrive[1]\n",
    "array_[row][col]"
   ]
  },
  {
   "cell_type": "code",
   "execution_count": 52,
   "id": "c13e3194",
   "metadata": {},
   "outputs": [],
   "source": [
    "def function_(value_):\n",
    "    \n",
    "    row_= array_.shape[0]\n",
    "    col_ = array_.shape[1]\n",
    "    \n",
    "    row = np.arange(4, dtype = 'int64')\n",
    "    col = np.arange(3, dtype = 'int64')\n",
    "\n",
    "    dict_ = {}\n",
    "    count = 0\n",
    "    for i in row:\n",
    "        for j in col:\n",
    "            dict_[count] = [i,j]\n",
    "            count = count + 1\n",
    "    return dict_[value_]"
   ]
  },
  {
   "cell_type": "code",
   "execution_count": 53,
   "id": "58d060e2",
   "metadata": {},
   "outputs": [
    {
     "name": "stdout",
     "output_type": "stream",
     "text": [
      "The array is: \n",
      " [[ 1  5  9]\n",
      " [ 2  6 10]\n",
      " [ 3  7 11]\n",
      " [ 4  8 12]] \n",
      "\n",
      "(array([ 0,  1, 10], dtype=int64),)\n",
      "the value of  0 ,and its index is =  [0, 0]\n",
      "the value of  1 ,and its index is =  [0, 1]\n",
      "the value of  10 ,and its index is =  [3, 1]\n"
     ]
    }
   ],
   "source": [
    "print(\"The array is: \\n\",array_,'\\n')\n",
    "\n",
    "#Find the value is presence or not\n",
    "\n",
    "Index_ = np.where(np.in1d(array_, [5,8,1]))\n",
    "\n",
    "print(Index_)\n",
    "# Index_\n",
    "# for value in range(3):\n",
    "#     print(\"Index is = \", function_(Index_[0][value]))\n",
    "\n",
    "# Index_\n",
    "#when we will call it then this kind of output will be occured, in that case if we convert it to a list then nothing can be changed\n",
    "#so, what we will have to do is Index[0], then we will convert to it as a list then we will get solution\n",
    "# output: (array([ 0,  1, 10], dtype=int64),)\n",
    "\n",
    "list_ = list(Index_[0])\n",
    "length_ = len(list_)\n",
    "\n",
    "for i in (list_):\n",
    "    print(\"the value of \",i,',and its index is = ',function_(i))\n",
    "    "
   ]
  },
  {
   "cell_type": "code",
   "execution_count": 54,
   "id": "bb7d7fee",
   "metadata": {},
   "outputs": [
    {
     "data": {
      "text/plain": [
       "3"
      ]
     },
     "execution_count": 54,
     "metadata": {},
     "output_type": "execute_result"
    }
   ],
   "source": [
    "list_ = list(Index_[0])\n",
    "len(list_)"
   ]
  },
  {
   "cell_type": "code",
   "execution_count": 1,
   "id": "3a6cd7e9",
   "metadata": {},
   "outputs": [],
   "source": [
    "import numpy as np"
   ]
  },
  {
   "cell_type": "code",
   "execution_count": 2,
   "id": "dadff5e0",
   "metadata": {},
   "outputs": [
    {
     "data": {
      "text/plain": [
       "array([[1, 2, 3],\n",
       "       [4, 5, 6]])"
      ]
     },
     "execution_count": 2,
     "metadata": {},
     "output_type": "execute_result"
    }
   ],
   "source": [
    "array_ = np.array([[1,2,3],[4,5,6]])\n",
    "array_"
   ]
  },
  {
   "cell_type": "code",
   "execution_count": 4,
   "id": "af79cf43",
   "metadata": {},
   "outputs": [
    {
     "name": "stdout",
     "output_type": "stream",
     "text": [
      "[1 2 3]\n",
      "[4 5 6]\n"
     ]
    }
   ],
   "source": [
    "# for i in array_:\n",
    "#     print(i)\n",
    "  \n",
    "#if i run this code then the output will be:\n",
    "# output:\n",
    "# [1 2 3]\n",
    "# [4 5 6]"
   ]
  },
  {
   "cell_type": "code",
   "execution_count": 8,
   "id": "2763de8b",
   "metadata": {},
   "outputs": [
    {
     "name": "stdout",
     "output_type": "stream",
     "text": [
      "1\n",
      "2\n",
      "3\n",
      "4\n",
      "5\n",
      "6\n"
     ]
    }
   ],
   "source": [
    "for i in np.nditer(array_):\n",
    "    print(i)"
   ]
  },
  {
   "cell_type": "code",
   "execution_count": 17,
   "id": "ecaa6aba",
   "metadata": {},
   "outputs": [
    {
     "name": "stdout",
     "output_type": "stream",
     "text": [
      "[1, 2, 3, 4, 5, 6]\n",
      "[[1 4]\n",
      " [2 5]\n",
      " [3 6]]\n"
     ]
    }
   ],
   "source": [
    "#asarray(input - (tuple, list, any combination), dtype, order = (c - row, F- column))\n",
    "\n",
    "list_ = [1,2,3,4,5,6]\n",
    "\n",
    "print(list_)\n",
    "\n",
    "array_ = np.asarray(list_, dtype = 'int64').reshape(2,3).T\n",
    "\n",
    "print(array_)"
   ]
  },
  {
   "cell_type": "code",
   "execution_count": 34,
   "id": "722dd9f6",
   "metadata": {},
   "outputs": [
    {
     "name": "stdout",
     "output_type": "stream",
     "text": [
      "[[1 2 3]\n",
      " [1 2 3]\n",
      " [4 5 1]]\n",
      "------------------------------------------\n",
      "[1 2 3 4 5]\n",
      "------------------------------------------\n",
      "[3 2 2 1 1]\n",
      "------------------------------------------\n",
      "[[1 3]\n",
      " [2 2]\n",
      " [3 2]\n",
      " [4 1]\n",
      " [5 1]]\n"
     ]
    }
   ],
   "source": [
    "array1_ = np.array([[1,2,3],[1,2,3],[4,5,1]])\n",
    "print(array1_)\n",
    "print('------------------------------------------')\n",
    "\n",
    "unique, counts_ = np.unique(array1_, return_counts=True)\n",
    "print(unique)\n",
    "print('------------------------------------------')\n",
    "print(counts_)\n",
    "print('------------------------------------------')\n",
    "\n",
    "array_ = np.asarray((unique,counts_)).T\n",
    "print(array_)"
   ]
  },
  {
   "cell_type": "code",
   "execution_count": 43,
   "id": "7845d822",
   "metadata": {},
   "outputs": [
    {
     "data": {
      "text/plain": [
       "[1,\n",
       " 2,\n",
       " 3,\n",
       " 4,\n",
       " 5,\n",
       " 6,\n",
       " 7,\n",
       " 8,\n",
       " 9,\n",
       " 10,\n",
       " 11,\n",
       " 12,\n",
       " 13,\n",
       " 14,\n",
       " 15,\n",
       " 16,\n",
       " 17,\n",
       " 18,\n",
       " 19,\n",
       " 20,\n",
       " 21,\n",
       " 22,\n",
       " 23,\n",
       " 24,\n",
       " 25,\n",
       " 26,\n",
       " 27,\n",
       " 28,\n",
       " 29,\n",
       " 30,\n",
       " 31,\n",
       " 32,\n",
       " 33,\n",
       " 34,\n",
       " 35,\n",
       " 36,\n",
       " 37,\n",
       " 38,\n",
       " 39,\n",
       " 40,\n",
       " 41,\n",
       " 42,\n",
       " 43,\n",
       " 44,\n",
       " 45,\n",
       " 46,\n",
       " 47,\n",
       " 48,\n",
       " 49,\n",
       " 50]"
      ]
     },
     "execution_count": 43,
     "metadata": {},
     "output_type": "execute_result"
    }
   ],
   "source": [
    "#Linspace\n",
    "\n",
    "[int(data_) for data_ in np.linspace(start = 1, stop = 50, num = 50)]"
   ]
  },
  {
   "cell_type": "code",
   "execution_count": 52,
   "id": "8e241515",
   "metadata": {},
   "outputs": [
    {
     "data": {
      "text/plain": [
       "array([[0, 1],\n",
       "       [2, 3]])"
      ]
     },
     "execution_count": 52,
     "metadata": {},
     "output_type": "execute_result"
    }
   ],
   "source": [
    "#array_split\n",
    "array_ = np.arange(10).reshape(5,2)\n",
    "array_\n",
    "\n",
    "data_ = np.array_split(array_,3)\n",
    "data_[0]"
   ]
  },
  {
   "cell_type": "code",
   "execution_count": 53,
   "id": "cc614e92",
   "metadata": {},
   "outputs": [
    {
     "data": {
      "text/plain": [
       "array([[ 0,  1,  2,  3,  4],\n",
       "       [ 5,  6,  7,  8,  9],\n",
       "       [10, 11, 12, 13, 14],\n",
       "       [15, 16, 17, 18, 19],\n",
       "       [20, 21, 22, 23, 24],\n",
       "       [25, 26, 27, 28, 29],\n",
       "       [30, 31, 32, 33, 34],\n",
       "       [35, 36, 37, 38, 39],\n",
       "       [40, 41, 42, 43, 44],\n",
       "       [45, 46, 47, 48, 49],\n",
       "       [50, 51, 52, 53, 54],\n",
       "       [55, 56, 57, 58, 59],\n",
       "       [60, 61, 62, 63, 64],\n",
       "       [65, 66, 67, 68, 69],\n",
       "       [70, 71, 72, 73, 74],\n",
       "       [75, 76, 77, 78, 79],\n",
       "       [80, 81, 82, 83, 84],\n",
       "       [85, 86, 87, 88, 89],\n",
       "       [90, 91, 92, 93, 94],\n",
       "       [95, 96, 97, 98, 99]])"
      ]
     },
     "execution_count": 53,
     "metadata": {},
     "output_type": "execute_result"
    }
   ],
   "source": [
    "array_ = np.arange(100).reshape(20,5)\n",
    "array_"
   ]
  },
  {
   "cell_type": "code",
   "execution_count": 54,
   "id": "ba290d97",
   "metadata": {},
   "outputs": [],
   "source": [
    "#Now split this array into 5 parts\n",
    "\n",
    "split_ = np.array_split(array_, 5)"
   ]
  },
  {
   "cell_type": "code",
   "execution_count": 57,
   "id": "20ec33e6",
   "metadata": {},
   "outputs": [
    {
     "name": "stdout",
     "output_type": "stream",
     "text": [
      "first split value is: \n",
      " [[ 0  1  2  3  4]\n",
      " [ 5  6  7  8  9]\n",
      " [10 11 12 13 14]\n",
      " [15 16 17 18 19]] \n",
      "\n",
      "second split value is: \n",
      " [[20 21 22 23 24]\n",
      " [25 26 27 28 29]\n",
      " [30 31 32 33 34]\n",
      " [35 36 37 38 39]] \n",
      "\n",
      "third split value is: \n",
      " [[40 41 42 43 44]\n",
      " [45 46 47 48 49]\n",
      " [50 51 52 53 54]\n",
      " [55 56 57 58 59]] \n",
      "\n",
      "fourth split value is: \n",
      " [[60 61 62 63 64]\n",
      " [65 66 67 68 69]\n",
      " [70 71 72 73 74]\n",
      " [75 76 77 78 79]] \n",
      "\n",
      "fifth split value is: \n",
      " [[80 81 82 83 84]\n",
      " [85 86 87 88 89]\n",
      " [90 91 92 93 94]\n",
      " [95 96 97 98 99]] \n",
      "\n"
     ]
    }
   ],
   "source": [
    "print(\"first split value is: \\n\",split_[0],'\\n')\n",
    "print(\"second split value is: \\n\",split_[1],'\\n')\n",
    "print(\"third split value is: \\n\",split_[2],'\\n')\n",
    "print(\"fourth split value is: \\n\",split_[3],'\\n')\n",
    "print(\"fifth split value is: \\n\",split_[4],'\\n')"
   ]
  },
  {
   "cell_type": "code",
   "execution_count": 63,
   "id": "d33e94be",
   "metadata": {},
   "outputs": [
    {
     "data": {
      "text/plain": [
       "array([[ 0,  1,  2,  3,  4],\n",
       "       [ 5,  6,  7,  8,  9],\n",
       "       [10, 11, 12, 13, 14],\n",
       "       [15, 16, 17, 18, 19],\n",
       "       [20, 21, 22, 23, 24],\n",
       "       [25, 26, 27, 28, 29],\n",
       "       [30, 31, 32, 33, 34],\n",
       "       [35, 36, 37, 38, 39],\n",
       "       [40, 41, 42, 43, 44],\n",
       "       [45, 46, 47, 48, 49],\n",
       "       [50, 51, 52, 53, 54],\n",
       "       [55, 56, 57, 58, 59],\n",
       "       [60, 61, 62, 63, 64],\n",
       "       [65, 66, 67, 68, 69],\n",
       "       [70, 71, 72, 73, 74],\n",
       "       [75, 76, 77, 78, 79],\n",
       "       [80, 81, 82, 83, 84],\n",
       "       [85, 86, 87, 88, 89],\n",
       "       [90, 91, 92, 93, 94],\n",
       "       [95, 96, 97, 98, 99]])"
      ]
     },
     "execution_count": 63,
     "metadata": {},
     "output_type": "execute_result"
    }
   ],
   "source": [
    "#Now join this\n",
    "\n",
    "join_ = np.vstack([split_[0], split_[1], split_[2], split_[3],split_[4]])\n",
    "join_"
   ]
  },
  {
   "cell_type": "code",
   "execution_count": 64,
   "id": "71647a1c",
   "metadata": {},
   "outputs": [
    {
     "data": {
      "text/plain": [
       "array([[ 0,  1,  2,  3,  4],\n",
       "       [ 5,  6,  7,  8,  9],\n",
       "       [10, 11, 12, 13, 14],\n",
       "       [15, 16, 17, 18, 19],\n",
       "       [20, 21, 22, 23, 24],\n",
       "       [25, 26, 27, 28, 29],\n",
       "       [30, 31, 32, 33, 34],\n",
       "       [35, 36, 37, 38, 39],\n",
       "       [40, 41, 42, 43, 44],\n",
       "       [45, 46, 47, 48, 49],\n",
       "       [50, 51, 52, 53, 54],\n",
       "       [55, 56, 57, 58, 59],\n",
       "       [60, 61, 62, 63, 64],\n",
       "       [65, 66, 67, 68, 69],\n",
       "       [70, 71, 72, 73, 74],\n",
       "       [75, 76, 77, 78, 79],\n",
       "       [80, 81, 82, 83, 84],\n",
       "       [85, 86, 87, 88, 89],\n",
       "       [90, 91, 92, 93, 94],\n",
       "       [95, 96, 97, 98, 99]])"
      ]
     },
     "execution_count": 64,
     "metadata": {},
     "output_type": "execute_result"
    }
   ],
   "source": [
    "array_"
   ]
  },
  {
   "cell_type": "code",
   "execution_count": 66,
   "id": "bc9bd0eb",
   "metadata": {},
   "outputs": [
    {
     "data": {
      "text/plain": [
       "True"
      ]
     },
     "execution_count": 66,
     "metadata": {},
     "output_type": "execute_result"
    }
   ],
   "source": [
    "array_ in join_"
   ]
  },
  {
   "cell_type": "code",
   "execution_count": 69,
   "id": "c66c0652",
   "metadata": {},
   "outputs": [
    {
     "name": "stdout",
     "output_type": "stream",
     "text": [
      "[25 26 27 28]\n"
     ]
    }
   ],
   "source": [
    "check_ = array_[5,:4]\n",
    "print(check_)"
   ]
  },
  {
   "cell_type": "code",
   "execution_count": 81,
   "id": "75e4934b",
   "metadata": {},
   "outputs": [
    {
     "data": {
      "text/plain": [
       "array([ 1,  2,  3, 55, 99])"
      ]
     },
     "execution_count": 81,
     "metadata": {},
     "output_type": "execute_result"
    }
   ],
   "source": [
    "array_[np.in1d(array_, [99,1,2,3,55]).reshape(20,5)]"
   ]
  },
  {
   "cell_type": "code",
   "execution_count": 87,
   "id": "ef3aa0a3",
   "metadata": {},
   "outputs": [],
   "source": [
    "def function_(value_):\n",
    "    \n",
    "    row_= array_.shape[0]\n",
    "    col_ = array_.shape[1]\n",
    "    \n",
    "    row = np.arange(row_, dtype = 'int64')\n",
    "    col = np.arange(col_, dtype = 'int64')\n",
    "\n",
    "    dict_ = {}\n",
    "    count = 0\n",
    "    for i in row:\n",
    "        for j in col:\n",
    "            dict_[count] = [i,j]\n",
    "            count = count + 1\n",
    "    return dict_[value_]\n"
   ]
  },
  {
   "cell_type": "code",
   "execution_count": 91,
   "id": "7f535b75",
   "metadata": {},
   "outputs": [
    {
     "name": "stdout",
     "output_type": "stream",
     "text": [
      "[0, 1]\n",
      "[0, 2]\n",
      "[0, 3]\n",
      "[11, 0]\n",
      "[19, 4]\n"
     ]
    }
   ],
   "source": [
    "index_ = np.where(np.in1d(array_, [99,1,2,3,55]))\n",
    "index_ = list(index_[0])\n",
    "\n",
    "for i in index_:\n",
    "    print(function_(i))"
   ]
  },
  {
   "cell_type": "code",
   "execution_count": 103,
   "id": "c5b90f45",
   "metadata": {},
   "outputs": [
    {
     "name": "stdout",
     "output_type": "stream",
     "text": [
      "[[10 20 30]\n",
      " [40 50 60]]\n",
      "[[10 20]\n",
      " [40 50]]\n",
      "[[100 100]\n",
      " [100 100]]\n",
      "[[100 100  30]\n",
      " [100 100  60]]\n",
      "[[100 100]\n",
      " [100 100]]\n",
      "[[-1 -1]\n",
      " [-1 -1]]\n",
      "[[100 100  30]\n",
      " [100 100  60]]\n"
     ]
    }
   ],
   "source": [
    "#Difference between view and copy\n",
    "\n",
    "\n",
    "array_ = np.array([[10,20,30],[40,50,60]])\n",
    "print(array_)\n",
    "\n",
    "take_ = array_[:,:2]\n",
    "print(take_)\n",
    "\n",
    "#now modify the array\n",
    "\n",
    "take_[:] = 100\n",
    "print(take_)\n",
    "\n",
    "#now print the real array_\n",
    "print(array_)\n",
    "#it just changed the whole array:\n",
    "\n",
    "#In order to prevent this, what we will have to do is using '.copy()'\n",
    "\n",
    "take_ = array_[:,:2].copy()\n",
    "\n",
    "print(take_)\n",
    "\n",
    "take_[:] = -1\n",
    "\n",
    "print(take_)\n",
    "#now print the real array; it will not be changed\n",
    "print(array_)"
   ]
  },
  {
   "cell_type": "markdown",
   "id": "10f3e456",
   "metadata": {},
   "source": [
    "# Numpy\n",
    "1. How to find Data Type\n",
    "2. How to find Dimention\n",
    "3. How to Find Shape\n",
    "4. How to Slice\n",
    "5. How to Use np.(Zeros, ones, random.rand, arange, shape)\n",
    "6. How to store Data Using (5)\n",
    "7. How to Update Value, Delete from 1D, 2D\n",
    "8. How to Find the data and index using (np.in1D and np.where)\n",
    "9. Using np.where()\n",
    "10. Using np.in1d\n",
    "11. Using asarray\n",
    "12. Using unique\n",
    "12.1 Using linspace\n",
    "13. Using Vstack, hstack\n",
    "14. How to Split the whole dataset into sub dataset"
   ]
  }
 ],
 "metadata": {
  "kernelspec": {
   "display_name": "Python 3 (ipykernel)",
   "language": "python",
   "name": "python3"
  },
  "language_info": {
   "codemirror_mode": {
    "name": "ipython",
    "version": 3
   },
   "file_extension": ".py",
   "mimetype": "text/x-python",
   "name": "python",
   "nbconvert_exporter": "python",
   "pygments_lexer": "ipython3",
   "version": "3.9.12"
  }
 },
 "nbformat": 4,
 "nbformat_minor": 5
}

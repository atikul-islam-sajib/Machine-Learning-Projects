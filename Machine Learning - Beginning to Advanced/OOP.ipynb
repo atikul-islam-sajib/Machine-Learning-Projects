{
 "cells": [
  {
   "cell_type": "code",
   "execution_count": 1,
   "id": "e9037c46",
   "metadata": {},
   "outputs": [
    {
     "name": "stdout",
     "output_type": "stream",
     "text": [
      "Hello World:\n"
     ]
    }
   ],
   "source": [
    "class hello:\n",
    "    def helloWorld_(self):\n",
    "        return \"Hello World:\"\n",
    "\n",
    "object_ = hello()\n",
    "print(object_.helloWorld_())"
   ]
  },
  {
   "cell_type": "code",
   "execution_count": 2,
   "id": "edd8d1ea",
   "metadata": {},
   "outputs": [
    {
     "name": "stdout",
     "output_type": "stream",
     "text": [
      "hello world:\n"
     ]
    }
   ],
   "source": [
    "class hello:\n",
    "    \n",
    "    def __init__(self):\n",
    "        print(\"hello world:\")\n",
    "\n",
    "object_ = hello()"
   ]
  },
  {
   "cell_type": "code",
   "execution_count": 3,
   "id": "d74cdd53",
   "metadata": {},
   "outputs": [
    {
     "name": "stdout",
     "output_type": "stream",
     "text": [
      "55\n"
     ]
    }
   ],
   "source": [
    "from functools import reduce\n",
    "class hello:\n",
    "    \n",
    "    def __init__(self, list_):\n",
    "        self.list_ = list_\n",
    "    \n",
    "    def addList_(self):\n",
    "        func_ = reduce(lambda x, y:(x+y), self.list_)\n",
    "        return func_\n",
    "\n",
    "object_ = hello([1,2,3,4,5,6,7,8,9,10])\n",
    "\n",
    "print(object_.addList_())"
   ]
  },
  {
   "cell_type": "code",
   "execution_count": 4,
   "id": "ba9eb80c",
   "metadata": {},
   "outputs": [
    {
     "name": "stdout",
     "output_type": "stream",
     "text": [
      "[1, 2, 3]\n"
     ]
    }
   ],
   "source": [
    "class hello:\n",
    "    \n",
    "    list_ = [1,2,3,4]\n",
    "    \n",
    "    addList_ = [1,2,3]\n",
    "    \n",
    "    def addList(self):\n",
    "        return self.addList_\n",
    "    \n",
    "object_ = hello()\n",
    "print(object_.addList())"
   ]
  },
  {
   "cell_type": "code",
   "execution_count": 5,
   "id": "0656828b",
   "metadata": {},
   "outputs": [
    {
     "name": "stdout",
     "output_type": "stream",
     "text": [
      "[3, 4, 5, 6, 7, 8, 9, 10, 11, 12]\n",
      "[2, 4, 6, 8, 10]\n",
      "[1, 3, 5, 7, 9]\n",
      "55\n"
     ]
    }
   ],
   "source": [
    "class functools_:\n",
    "    \n",
    "    def __init__(self, list_):\n",
    "        self.list_ = list_\n",
    "        \n",
    "    def addByTwo_(self):\n",
    "        return list(map(lambda x:(x+2),self.list_))\n",
    "\n",
    "    def evenNumber(self):\n",
    "        return list(filter(lambda x: x%2==0, self.list_))\n",
    "\n",
    "    def oddNumber(self):\n",
    "        return list(filter(lambda x: x%2!=0, self.list_))\n",
    "    \n",
    "    def allAdd_(self):\n",
    "        return reduce(lambda x, y:(x+y), self.list_)\n",
    "\n",
    "list_ = [1,2,3,4,5,6,7,8,9,10]\n",
    "object_ = functools_(list_)\n",
    "\n",
    "print(object_.addByTwo_())\n",
    "print(object_.evenNumber())\n",
    "print(object_.oddNumber())\n",
    "print(object_.allAdd_())"
   ]
  },
  {
   "cell_type": "code",
   "execution_count": 6,
   "id": "102f57e3",
   "metadata": {},
   "outputs": [
    {
     "data": {
      "text/plain": [
       "{'a': 1, 'b': 2, 'c': 3, 'd': 4, 'e': 5}"
      ]
     },
     "execution_count": 6,
     "metadata": {},
     "output_type": "execute_result"
    }
   ],
   "source": [
    "class hello:\n",
    "    \n",
    "    def dictPrint_(self):\n",
    "        \n",
    "        list1_ = ['a','b','c','d','e']\n",
    "        list2_ = [1, 2, 3, 4, 5]\n",
    "        dict_ =  {keys_ : values_ for keys_, values_ in zip(list1_, list2_)}\n",
    "        \n",
    "        return dict_\n",
    "    \n",
    "hello().dictPrint_()"
   ]
  },
  {
   "cell_type": "code",
   "execution_count": 7,
   "id": "8138db57",
   "metadata": {},
   "outputs": [
    {
     "name": "stdout",
     "output_type": "stream",
     "text": [
      "dict_keys(['a', 'b', 'c', 'd', 'e'])\n",
      "dict_values([1, 2, 3, 4, 5])\n"
     ]
    }
   ],
   "source": [
    "class studentDetails:\n",
    "    \n",
    "    def __init__(self, dict_):\n",
    "        self.dict_ = dict_\n",
    "        \n",
    "    def studentID_(self):\n",
    "        return self.dict_.keys()\n",
    "    def studentName(self):\n",
    "        return self.dict_.values()\n",
    "\n",
    "object_ = studentDetails({'a': 1, 'b': 2, 'c': 3, 'd': 4, 'e': 5})\n",
    "print(object_.studentID_())\n",
    "print(object_.studentName())"
   ]
  },
  {
   "cell_type": "code",
   "execution_count": 8,
   "id": "857bd692",
   "metadata": {},
   "outputs": [
    {
     "data": {
      "text/plain": [
       "'ODD'"
      ]
     },
     "execution_count": 8,
     "metadata": {},
     "output_type": "execute_result"
    }
   ],
   "source": [
    "class hello:\n",
    "    \n",
    "    nameList_ = ['a', 'b', 'c', 'd', 'e']\n",
    "    \n",
    "    def merge_(self, list_):\n",
    "        return reduce(lambda x, y:(x+y), list_)\n",
    "    \n",
    "#     def __init__(self, nameList_):\n",
    "#         self.nameList_ = nameList_\n",
    "#     def nameList(self):\n",
    "#         return self.nameList_\n",
    "\n",
    "\n",
    "class world(hello):\n",
    "    def __init__(self, resultList_):\n",
    "        self.resultList_ = resultList_\n",
    "        \n",
    "    def createDict_(self):\n",
    "        dict_ = {keys_: values_ for keys_, values_ in zip(self.resultList_, self.nameList_)}\n",
    "        return dict_\n",
    "    def oddFind_(self):\n",
    "        return \"EVEN\" if (super().merge_(self.resultList_))%2==0 else \"ODD\"\n",
    "\n",
    "nameList_ = ['a', 'b', 'c', 'd', 'e']\n",
    "object1_  = hello()  \n",
    "\n",
    "object2_  = world([1, 2, 3, 4, 5])\n",
    "object2_.createDict_()\n",
    "object2_.oddFind_()"
   ]
  },
  {
   "cell_type": "code",
   "execution_count": 9,
   "id": "3b73ec70",
   "metadata": {},
   "outputs": [
    {
     "data": {
      "text/plain": [
       "80"
      ]
     },
     "execution_count": 9,
     "metadata": {},
     "output_type": "execute_result"
    }
   ],
   "source": [
    "class operationWithList_:\n",
    "    \n",
    "    def add_(self, list_):\n",
    "        return list(map(lambda x: x+10, list_))\n",
    "    \n",
    "    def fullAdd_(self, list_):\n",
    "        return reduce(lambda x,y:(x+y), list_)\n",
    "\n",
    "class FindEvenOdd_(operationWithList_):\n",
    "    \n",
    "    def findEven_(self, list_):\n",
    "        return self.fullAdd_(self.add_(list(filter(lambda x: x%2==0, list_))))\n",
    "\n",
    "\n",
    "child_ = FindEvenOdd_()\n",
    "child_.findEven_([1,2,3,4,5,6,7,8,9,10])"
   ]
  },
  {
   "cell_type": "code",
   "execution_count": 10,
   "id": "a4cc6348",
   "metadata": {},
   "outputs": [
    {
     "data": {
      "text/plain": [
       "('I want to', 'sleep')"
      ]
     },
     "execution_count": 10,
     "metadata": {},
     "output_type": "execute_result"
    }
   ],
   "source": [
    "\n",
    "class sleep:\n",
    "    \n",
    "    def __init__(self, str_):\n",
    "        self.str_ = str_\n",
    "        \n",
    "    def print_(self):\n",
    "        return self.str_\n",
    "\n",
    "class execute(sleep):\n",
    "    def __init__(self, str1_):\n",
    "        self.str1_ = str1_\n",
    "        super().__init__(\"sleep\")\n",
    "    def sentence_(self):\n",
    "        return self.str1_, self.print_()\n",
    "    \n",
    "execute(\"I want to\").sentence_()"
   ]
  },
  {
   "cell_type": "markdown",
   "id": "ff5966e4",
   "metadata": {},
   "source": [
    "# Create Object, Class and Method"
   ]
  },
  {
   "cell_type": "code",
   "execution_count": 11,
   "id": "08cb921a",
   "metadata": {},
   "outputs": [
    {
     "data": {
      "text/plain": [
       "'Hello World From Class:'"
      ]
     },
     "execution_count": 11,
     "metadata": {},
     "output_type": "execute_result"
    }
   ],
   "source": [
    "#Create a class without constructor\n",
    "class hello:\n",
    "    \n",
    "    def helloWorld(self):\n",
    "        return \"Hello World From Class:\"\n",
    "    \n",
    "hello_ = hello()\n",
    "hello_.helloWorld()"
   ]
  },
  {
   "cell_type": "code",
   "execution_count": 12,
   "id": "365b3a6d",
   "metadata": {},
   "outputs": [
    {
     "data": {
      "text/plain": [
       "'Hello World:'"
      ]
     },
     "execution_count": 12,
     "metadata": {},
     "output_type": "execute_result"
    }
   ],
   "source": [
    "#Create an another class with two method and call from one method from another\n",
    "\n",
    "class hello:\n",
    "    \n",
    "    def hello_(self):\n",
    "        return \"Hello\"\n",
    "    def world_(self):\n",
    "        return self.hello_()+\" World:\"\n",
    "\n",
    "hello_ = hello()\n",
    "hello_.world_()"
   ]
  },
  {
   "cell_type": "code",
   "execution_count": 13,
   "id": "905ec9a6",
   "metadata": {},
   "outputs": [
    {
     "name": "stdout",
     "output_type": "stream",
     "text": [
      "['True', 'False', 'True', 'False', 'True', 'True', 'False', 'False', 'True']\n",
      "[1, 0, 1, 0, 1, 1, 0, 0, 1]\n"
     ]
    }
   ],
   "source": [
    "#Create a class and do the same thing for a list and dict_\n",
    "\n",
    "class listClass_:\n",
    "    \n",
    "    def list_(self, list_):\n",
    "        return [(\"True\") if (values_ > 0) else \"False\" for values_ in list_]\n",
    "    def replace_(self):\n",
    "         return [1 if (values_ == \"True\") else 0 for values_ in self.list_([1,-2,3,-5,6,7,-8,-9,10])]\n",
    "    \n",
    "print(listClass_().list_([1,-2,3,-5,6,7,-8,-9,10]))\n",
    "print(listClass_().replace_())"
   ]
  },
  {
   "cell_type": "code",
   "execution_count": 14,
   "id": "c1844d46",
   "metadata": {},
   "outputs": [
    {
     "data": {
      "text/plain": [
       "[0, 1, 2, 3, 4, 5, 6, 7, 8, 9]"
      ]
     },
     "execution_count": 14,
     "metadata": {},
     "output_type": "execute_result"
    }
   ],
   "source": [
    "#Create a class with a constructor\n",
    "import numpy as np\n",
    "class listCreator:\n",
    "    \n",
    "    def __init__(self, number_):\n",
    "        self.number_ = number_\n",
    "    \n",
    "    def listGenerator(self):\n",
    "        data_ =  np.arange(self.number_)\n",
    "        return [values_ for values_ in data_]\n",
    "    \n",
    "listCreator(10).listGenerator()"
   ]
  },
  {
   "cell_type": "code",
   "execution_count": 15,
   "id": "df48b9e6",
   "metadata": {},
   "outputs": [
    {
     "name": "stdout",
     "output_type": "stream",
     "text": [
      "the list looks like:  [0, 1, 2, 3, 4, 5, 6, 7, 8, 9]\n",
      "the dict looks like:  {0: 0, 1: 1, 2: 2, 3: 3, 4: 4, 5: 5, 6: 6, 7: 7, 8: 8, 9: 9}\n"
     ]
    }
   ],
   "source": [
    "import numpy as np\n",
    "class listCreator:\n",
    "    \n",
    "    def __init__(self, number_):\n",
    "        self.number_ = number_\n",
    "    \n",
    "    def listGenerator(self):\n",
    "        data_ =  np.arange(self.number_)\n",
    "        return [values_ for values_ in data_]\n",
    "\n",
    "class dictCreator(listCreator):\n",
    "    \n",
    "    def __init__(self):\n",
    "        super().__init__(10)\n",
    "    def dictGenerator(self):\n",
    "        return {index_:values_ for index_, values_ in enumerate(self.listGenerator())}\n",
    "    \n",
    "print(\"the list looks like: \", dictCreator().listGenerator())\n",
    "print(\"the dict looks like: \", dictCreator().dictGenerator())"
   ]
  },
  {
   "cell_type": "code",
   "execution_count": 16,
   "id": "e6899d3a",
   "metadata": {},
   "outputs": [
    {
     "name": "stdout",
     "output_type": "stream",
     "text": [
      "the list looks like:  [0, 1, 2, 3, 4, 5, 6, 7, 8, 9]\n",
      "the dict looks like:  {0: 0, 1: 1, 2: 2, 3: 3, 4: 4, 5: 5, 6: 6, 7: 7, 8: 8, 9: 9}\n"
     ]
    }
   ],
   "source": [
    "import numpy as np\n",
    "\n",
    "class listCreator:  \n",
    "    def listGenerator(self):\n",
    "        number_ = 10\n",
    "        data_ =  np.arange(number_)\n",
    "        return [values_ for values_ in data_]\n",
    "\n",
    "class dictCreator(listCreator):\n",
    "            \n",
    "    def dictGenerator(self):\n",
    "        return {index_:values_ for index_, values_ in enumerate(self.listGenerator())}\n",
    "    \n",
    "print(\"the list looks like: \", dictCreator().listGenerator())\n",
    "print(\"the dict looks like: \", dictCreator().dictGenerator())"
   ]
  },
  {
   "cell_type": "code",
   "execution_count": 17,
   "id": "c82ca898",
   "metadata": {},
   "outputs": [
    {
     "data": {
      "text/html": [
       "<div>\n",
       "<style scoped>\n",
       "    .dataframe tbody tr th:only-of-type {\n",
       "        vertical-align: middle;\n",
       "    }\n",
       "\n",
       "    .dataframe tbody tr th {\n",
       "        vertical-align: top;\n",
       "    }\n",
       "\n",
       "    .dataframe thead th {\n",
       "        text-align: right;\n",
       "    }\n",
       "</style>\n",
       "<table border=\"1\" class=\"dataframe\">\n",
       "  <thead>\n",
       "    <tr style=\"text-align: right;\">\n",
       "      <th></th>\n",
       "      <th>A</th>\n",
       "      <th>B</th>\n",
       "      <th>C</th>\n",
       "      <th>D</th>\n",
       "    </tr>\n",
       "  </thead>\n",
       "  <tbody>\n",
       "    <tr>\n",
       "      <th>0</th>\n",
       "      <td>0.951968</td>\n",
       "      <td>0.840969</td>\n",
       "      <td>0.250798</td>\n",
       "      <td>0.108685</td>\n",
       "    </tr>\n",
       "    <tr>\n",
       "      <th>1</th>\n",
       "      <td>0.860080</td>\n",
       "      <td>0.894337</td>\n",
       "      <td>0.194304</td>\n",
       "      <td>0.139838</td>\n",
       "    </tr>\n",
       "    <tr>\n",
       "      <th>2</th>\n",
       "      <td>0.406400</td>\n",
       "      <td>0.759957</td>\n",
       "      <td>0.146195</td>\n",
       "      <td>0.720315</td>\n",
       "    </tr>\n",
       "  </tbody>\n",
       "</table>\n",
       "</div>"
      ],
      "text/plain": [
       "          A         B         C         D\n",
       "0  0.951968  0.840969  0.250798  0.108685\n",
       "1  0.860080  0.894337  0.194304  0.139838\n",
       "2  0.406400  0.759957  0.146195  0.720315"
      ]
     },
     "execution_count": 17,
     "metadata": {},
     "output_type": "execute_result"
    }
   ],
   "source": [
    "import pandas as pd\n",
    "class numpyArray:\n",
    "    \n",
    "    def createNumpy(self):\n",
    "        random_ = np.random.random((3,4))\n",
    "        return random_\n",
    "class pandas(numpyArray):\n",
    "    def createPandas_(self):\n",
    "        return pd.DataFrame(self.createNumpy(), columns = [\"A\",\"B\",\"C\",\"D\"])\n",
    "    def check_(self):\n",
    "        return self.createPandas_().query('A>0.4' and 'B>0.4')\n",
    "\n",
    "pandas().check_()"
   ]
  },
  {
   "cell_type": "code",
   "execution_count": 18,
   "id": "7931e4ae",
   "metadata": {},
   "outputs": [
    {
     "name": "stdout",
     "output_type": "stream",
     "text": [
      "  0  1  2  3  4  5  6  7  8  9  10 11 12\n",
      "0  A  B  C  D  E  F  G  H  I  J  K  L  M\n",
      "1  N  O  P  Q  R  S  T  U  V  W  X  Y  Z\n"
     ]
    },
    {
     "data": {
      "text/html": [
       "<div>\n",
       "<style scoped>\n",
       "    .dataframe tbody tr th:only-of-type {\n",
       "        vertical-align: middle;\n",
       "    }\n",
       "\n",
       "    .dataframe tbody tr th {\n",
       "        vertical-align: top;\n",
       "    }\n",
       "\n",
       "    .dataframe thead th {\n",
       "        text-align: right;\n",
       "    }\n",
       "</style>\n",
       "<table border=\"1\" class=\"dataframe\">\n",
       "  <thead>\n",
       "    <tr style=\"text-align: right;\">\n",
       "      <th></th>\n",
       "      <th>a</th>\n",
       "      <th>b</th>\n",
       "      <th>c</th>\n",
       "      <th>d</th>\n",
       "      <th>e</th>\n",
       "      <th>f</th>\n",
       "      <th>g</th>\n",
       "      <th>h</th>\n",
       "      <th>i</th>\n",
       "      <th>j</th>\n",
       "      <th>k</th>\n",
       "      <th>a_</th>\n",
       "      <th>b_</th>\n",
       "      <th>vowel_</th>\n",
       "    </tr>\n",
       "  </thead>\n",
       "  <tbody>\n",
       "    <tr>\n",
       "      <th>0</th>\n",
       "      <td>A</td>\n",
       "      <td>B</td>\n",
       "      <td>C</td>\n",
       "      <td>D</td>\n",
       "      <td>E</td>\n",
       "      <td>F</td>\n",
       "      <td>G</td>\n",
       "      <td>H</td>\n",
       "      <td>I</td>\n",
       "      <td>J</td>\n",
       "      <td>K</td>\n",
       "      <td>L</td>\n",
       "      <td>M</td>\n",
       "      <td>AEI</td>\n",
       "    </tr>\n",
       "    <tr>\n",
       "      <th>1</th>\n",
       "      <td>N</td>\n",
       "      <td>O</td>\n",
       "      <td>P</td>\n",
       "      <td>Q</td>\n",
       "      <td>R</td>\n",
       "      <td>S</td>\n",
       "      <td>T</td>\n",
       "      <td>U</td>\n",
       "      <td>V</td>\n",
       "      <td>W</td>\n",
       "      <td>X</td>\n",
       "      <td>Y</td>\n",
       "      <td>Z</td>\n",
       "      <td>OU</td>\n",
       "    </tr>\n",
       "  </tbody>\n",
       "</table>\n",
       "</div>"
      ],
      "text/plain": [
       "   a  b  c  d  e  f  g  h  i  j  k a_ b_ vowel_\n",
       "0  A  B  C  D  E  F  G  H  I  J  K  L  M    AEI\n",
       "1  N  O  P  Q  R  S  T  U  V  W  X  Y  Z     OU"
      ]
     },
     "execution_count": 18,
     "metadata": {},
     "output_type": "execute_result"
    }
   ],
   "source": [
    "from collections import Counter\n",
    "class numpyArray:\n",
    "    \n",
    "    def createNumpy(self):\n",
    "        \n",
    "        np.random.seed(12)\n",
    "        random_ = np.random.randint(65, 90, size = 26).reshape(2,13)\n",
    "        return random_\n",
    "    \n",
    "    def findDuplicate_(self):\n",
    "        data_ = Counter(np.ravel(self.createNumpy()))\n",
    "        return list(data_.keys())\n",
    "    \n",
    "    def uniqueData(self):\n",
    "        uniqueValue_ = self.findDuplicate_()\n",
    "        length_      = len(uniqueValue_)\n",
    "        condition_   = 26 - length_\n",
    "        generateData_= np.arange(65,90)\n",
    "        list_        = []\n",
    "        \n",
    "        while(condition_ !=0):\n",
    "            if condition_ <0:\n",
    "                break\n",
    "            else:\n",
    "                createData_ = np.random.choice(generateData_)\n",
    "                if createData_ in (uniqueValue_):\n",
    "                    pass\n",
    "                else:\n",
    "                    print(createData_)\n",
    "                    uniqueValue_.append(createData_)\n",
    "                    print(uniqueValue_)\n",
    "                    if condition_ == 0:\n",
    "                        break\n",
    "                    else:\n",
    "                        condition_ = condition_ - 1\n",
    "        return uniqueValue_\n",
    "    \n",
    "    def create2D(self):\n",
    "        \n",
    "        list_ = [76, 71, 82, 67, 68, 77, 81, 87, 85, 70, 78, 75, 65, 86, 73, 83, 69, 66, 88, 74, 79, 89, 80, 84, 72,90]\n",
    "        list_ = sorted(list_, reverse = False)\n",
    "        array_ = np.array(list_)\n",
    "        return array_.reshape(2,13)\n",
    "    \n",
    "    def createPandas(self):\n",
    "        return pd.DataFrame(self.create2D())\n",
    "    \n",
    "    def convertChar(self):\n",
    "        df = self.createPandas()\n",
    "        df = df.applymap(lambda x: chr(x))\n",
    "        return df\n",
    "    def findVowel(self):\n",
    "        string_ = \"AEIOU\"\n",
    "        string_ = list(string_)\n",
    "        df = self.convertChar()\n",
    "        df = df.rename(columns= {0:'a',1:'b',2:'c',3:'d',4:'e',5:'f',6:'g',7:'h',8:'i',9:'j',10:'k',11:'a_',12:'b_'})\n",
    "        vowel_ =  df.apply(lambda x: list(filter(lambda x: x in string_, x)), axis = 1)\n",
    "        for index_, value_ in zip(vowel_.index, vowel_.values):\n",
    "            value_ = reduce(lambda x, y:(x+y), value_)\n",
    "            df.loc[index_, 'vowel_'] = value_\n",
    "        return df\n",
    "# print(numpyArray().findDuplicate_())\n",
    "# print(numpyArray().uniqueData())\n",
    "# print(numpyArray().create2D())\n",
    "# print(numpyArray().createPandas())\n",
    "print(numpyArray().convertChar())\n",
    "numpyArray().findVowel()"
   ]
  },
  {
   "cell_type": "code",
   "execution_count": 334,
   "id": "8359ffc4",
   "metadata": {},
   "outputs": [],
   "source": [
    "import numpy as np\n",
    "import pandas as pd"
   ]
  },
  {
   "cell_type": "code",
   "execution_count": 335,
   "id": "e7cf3a20",
   "metadata": {},
   "outputs": [
    {
     "data": {
      "text/html": [
       "<div>\n",
       "<style scoped>\n",
       "    .dataframe tbody tr th:only-of-type {\n",
       "        vertical-align: middle;\n",
       "    }\n",
       "\n",
       "    .dataframe tbody tr th {\n",
       "        vertical-align: top;\n",
       "    }\n",
       "\n",
       "    .dataframe thead th {\n",
       "        text-align: right;\n",
       "    }\n",
       "</style>\n",
       "<table border=\"1\" class=\"dataframe\">\n",
       "  <thead>\n",
       "    <tr style=\"text-align: right;\">\n",
       "      <th></th>\n",
       "      <th>PassengerId</th>\n",
       "      <th>Survived</th>\n",
       "      <th>Pclass</th>\n",
       "      <th>Name</th>\n",
       "      <th>Sex</th>\n",
       "      <th>Age</th>\n",
       "      <th>SibSp</th>\n",
       "      <th>Parch</th>\n",
       "      <th>Ticket</th>\n",
       "      <th>Fare</th>\n",
       "      <th>Cabin</th>\n",
       "      <th>Embarked</th>\n",
       "    </tr>\n",
       "  </thead>\n",
       "  <tbody>\n",
       "    <tr>\n",
       "      <th>0</th>\n",
       "      <td>1</td>\n",
       "      <td>0</td>\n",
       "      <td>3</td>\n",
       "      <td>Braund, Mr. Owen Harris</td>\n",
       "      <td>male</td>\n",
       "      <td>22.0</td>\n",
       "      <td>1</td>\n",
       "      <td>0</td>\n",
       "      <td>A/5 21171</td>\n",
       "      <td>7.2500</td>\n",
       "      <td>NaN</td>\n",
       "      <td>S</td>\n",
       "    </tr>\n",
       "    <tr>\n",
       "      <th>1</th>\n",
       "      <td>2</td>\n",
       "      <td>1</td>\n",
       "      <td>1</td>\n",
       "      <td>Cumings, Mrs. John Bradley (Florence Briggs Th...</td>\n",
       "      <td>female</td>\n",
       "      <td>38.0</td>\n",
       "      <td>1</td>\n",
       "      <td>0</td>\n",
       "      <td>PC 17599</td>\n",
       "      <td>71.2833</td>\n",
       "      <td>C85</td>\n",
       "      <td>C</td>\n",
       "    </tr>\n",
       "    <tr>\n",
       "      <th>2</th>\n",
       "      <td>3</td>\n",
       "      <td>1</td>\n",
       "      <td>3</td>\n",
       "      <td>Heikkinen, Miss. Laina</td>\n",
       "      <td>female</td>\n",
       "      <td>26.0</td>\n",
       "      <td>0</td>\n",
       "      <td>0</td>\n",
       "      <td>STON/O2. 3101282</td>\n",
       "      <td>7.9250</td>\n",
       "      <td>NaN</td>\n",
       "      <td>S</td>\n",
       "    </tr>\n",
       "    <tr>\n",
       "      <th>3</th>\n",
       "      <td>4</td>\n",
       "      <td>1</td>\n",
       "      <td>1</td>\n",
       "      <td>Futrelle, Mrs. Jacques Heath (Lily May Peel)</td>\n",
       "      <td>female</td>\n",
       "      <td>35.0</td>\n",
       "      <td>1</td>\n",
       "      <td>0</td>\n",
       "      <td>113803</td>\n",
       "      <td>53.1000</td>\n",
       "      <td>C123</td>\n",
       "      <td>S</td>\n",
       "    </tr>\n",
       "    <tr>\n",
       "      <th>4</th>\n",
       "      <td>5</td>\n",
       "      <td>0</td>\n",
       "      <td>3</td>\n",
       "      <td>Allen, Mr. William Henry</td>\n",
       "      <td>male</td>\n",
       "      <td>35.0</td>\n",
       "      <td>0</td>\n",
       "      <td>0</td>\n",
       "      <td>373450</td>\n",
       "      <td>8.0500</td>\n",
       "      <td>NaN</td>\n",
       "      <td>S</td>\n",
       "    </tr>\n",
       "  </tbody>\n",
       "</table>\n",
       "</div>"
      ],
      "text/plain": [
       "   PassengerId  Survived  Pclass  \\\n",
       "0            1         0       3   \n",
       "1            2         1       1   \n",
       "2            3         1       3   \n",
       "3            4         1       1   \n",
       "4            5         0       3   \n",
       "\n",
       "                                                Name     Sex   Age  SibSp  \\\n",
       "0                            Braund, Mr. Owen Harris    male  22.0      1   \n",
       "1  Cumings, Mrs. John Bradley (Florence Briggs Th...  female  38.0      1   \n",
       "2                             Heikkinen, Miss. Laina  female  26.0      0   \n",
       "3       Futrelle, Mrs. Jacques Heath (Lily May Peel)  female  35.0      1   \n",
       "4                           Allen, Mr. William Henry    male  35.0      0   \n",
       "\n",
       "   Parch            Ticket     Fare Cabin Embarked  \n",
       "0      0         A/5 21171   7.2500   NaN        S  \n",
       "1      0          PC 17599  71.2833   C85        C  \n",
       "2      0  STON/O2. 3101282   7.9250   NaN        S  \n",
       "3      0            113803  53.1000  C123        S  \n",
       "4      0            373450   8.0500   NaN        S  "
      ]
     },
     "execution_count": 335,
     "metadata": {},
     "output_type": "execute_result"
    }
   ],
   "source": [
    "df = pd.read_csv('titanic.csv')\n",
    "df.head()"
   ]
  },
  {
   "cell_type": "code",
   "execution_count": 336,
   "id": "42db990f",
   "metadata": {},
   "outputs": [],
   "source": [
    "target_ = df.loc[:, 'Survived']"
   ]
  },
  {
   "cell_type": "code",
   "execution_count": 337,
   "id": "365d1484",
   "metadata": {},
   "outputs": [],
   "source": [
    "#target_ = df.loc[:, 'Survived']\n",
    "df.drop('Survived', inplace = True, axis = 1)\n",
    "df.drop('Name', inplace = True, axis = 1)\n",
    "df.drop('PassengerId', inplace = True, axis = 1)"
   ]
  },
  {
   "cell_type": "code",
   "execution_count": 338,
   "id": "f50dc4ec",
   "metadata": {},
   "outputs": [
    {
     "data": {
      "text/plain": [
       "0    0\n",
       "1    1\n",
       "Name: Survived, dtype: int64"
      ]
     },
     "execution_count": 338,
     "metadata": {},
     "output_type": "execute_result"
    }
   ],
   "source": [
    "target_.head(2)"
   ]
  },
  {
   "cell_type": "code",
   "execution_count": 339,
   "id": "e79148f1",
   "metadata": {},
   "outputs": [],
   "source": [
    "df['Age'].fillna(df['Age'].value_counts().sort_values(ascending = False).index[0], inplace = True)"
   ]
  },
  {
   "cell_type": "code",
   "execution_count": 340,
   "id": "04f30c37",
   "metadata": {},
   "outputs": [
    {
     "data": {
      "text/plain": [
       "0"
      ]
     },
     "execution_count": 340,
     "metadata": {},
     "output_type": "execute_result"
    }
   ],
   "source": [
    "df['Age'].isnull().sum().sum()"
   ]
  },
  {
   "cell_type": "code",
   "execution_count": 341,
   "id": "bc512b7b",
   "metadata": {},
   "outputs": [],
   "source": [
    "df['Embarked'].fillna(df['Embarked'].value_counts().sort_values(ascending = False).index[0], inplace = True)"
   ]
  },
  {
   "cell_type": "code",
   "execution_count": 342,
   "id": "52a020e3",
   "metadata": {},
   "outputs": [
    {
     "data": {
      "text/plain": [
       "0"
      ]
     },
     "execution_count": 342,
     "metadata": {},
     "output_type": "execute_result"
    }
   ],
   "source": [
    "df['Embarked'].isnull().sum().sum()"
   ]
  },
  {
   "cell_type": "code",
   "execution_count": 343,
   "id": "789f14b4",
   "metadata": {},
   "outputs": [],
   "source": [
    "df['Cabin'].fillna(df['Cabin'].value_counts().sort_values(ascending = False).index[0], inplace = True)"
   ]
  },
  {
   "cell_type": "code",
   "execution_count": 344,
   "id": "5ab20308",
   "metadata": {},
   "outputs": [
    {
     "data": {
      "text/plain": [
       "0"
      ]
     },
     "execution_count": 344,
     "metadata": {},
     "output_type": "execute_result"
    }
   ],
   "source": [
    "df['Cabin'].isnull().sum().sum()"
   ]
  },
  {
   "cell_type": "code",
   "execution_count": 345,
   "id": "f2b7d8dc",
   "metadata": {},
   "outputs": [
    {
     "data": {
      "text/plain": [
       "0"
      ]
     },
     "execution_count": 345,
     "metadata": {},
     "output_type": "execute_result"
    }
   ],
   "source": [
    "df.isnull().sum().sum()"
   ]
  },
  {
   "cell_type": "code",
   "execution_count": 346,
   "id": "051b326e",
   "metadata": {},
   "outputs": [
    {
     "data": {
      "text/html": [
       "<div>\n",
       "<style scoped>\n",
       "    .dataframe tbody tr th:only-of-type {\n",
       "        vertical-align: middle;\n",
       "    }\n",
       "\n",
       "    .dataframe tbody tr th {\n",
       "        vertical-align: top;\n",
       "    }\n",
       "\n",
       "    .dataframe thead th {\n",
       "        text-align: right;\n",
       "    }\n",
       "</style>\n",
       "<table border=\"1\" class=\"dataframe\">\n",
       "  <thead>\n",
       "    <tr style=\"text-align: right;\">\n",
       "      <th></th>\n",
       "      <th>Pclass</th>\n",
       "      <th>Sex</th>\n",
       "      <th>Age</th>\n",
       "      <th>SibSp</th>\n",
       "      <th>Parch</th>\n",
       "      <th>Ticket</th>\n",
       "      <th>Fare</th>\n",
       "      <th>Cabin</th>\n",
       "      <th>Embarked</th>\n",
       "    </tr>\n",
       "  </thead>\n",
       "  <tbody>\n",
       "    <tr>\n",
       "      <th>0</th>\n",
       "      <td>3</td>\n",
       "      <td>male</td>\n",
       "      <td>22.0</td>\n",
       "      <td>1</td>\n",
       "      <td>0</td>\n",
       "      <td>A/5 21171</td>\n",
       "      <td>7.2500</td>\n",
       "      <td>G6</td>\n",
       "      <td>S</td>\n",
       "    </tr>\n",
       "    <tr>\n",
       "      <th>1</th>\n",
       "      <td>1</td>\n",
       "      <td>female</td>\n",
       "      <td>38.0</td>\n",
       "      <td>1</td>\n",
       "      <td>0</td>\n",
       "      <td>PC 17599</td>\n",
       "      <td>71.2833</td>\n",
       "      <td>C85</td>\n",
       "      <td>C</td>\n",
       "    </tr>\n",
       "    <tr>\n",
       "      <th>2</th>\n",
       "      <td>3</td>\n",
       "      <td>female</td>\n",
       "      <td>26.0</td>\n",
       "      <td>0</td>\n",
       "      <td>0</td>\n",
       "      <td>STON/O2. 3101282</td>\n",
       "      <td>7.9250</td>\n",
       "      <td>G6</td>\n",
       "      <td>S</td>\n",
       "    </tr>\n",
       "    <tr>\n",
       "      <th>3</th>\n",
       "      <td>1</td>\n",
       "      <td>female</td>\n",
       "      <td>35.0</td>\n",
       "      <td>1</td>\n",
       "      <td>0</td>\n",
       "      <td>113803</td>\n",
       "      <td>53.1000</td>\n",
       "      <td>C123</td>\n",
       "      <td>S</td>\n",
       "    </tr>\n",
       "    <tr>\n",
       "      <th>4</th>\n",
       "      <td>3</td>\n",
       "      <td>male</td>\n",
       "      <td>35.0</td>\n",
       "      <td>0</td>\n",
       "      <td>0</td>\n",
       "      <td>373450</td>\n",
       "      <td>8.0500</td>\n",
       "      <td>G6</td>\n",
       "      <td>S</td>\n",
       "    </tr>\n",
       "  </tbody>\n",
       "</table>\n",
       "</div>"
      ],
      "text/plain": [
       "   Pclass     Sex   Age  SibSp  Parch            Ticket     Fare Cabin  \\\n",
       "0       3    male  22.0      1      0         A/5 21171   7.2500    G6   \n",
       "1       1  female  38.0      1      0          PC 17599  71.2833   C85   \n",
       "2       3  female  26.0      0      0  STON/O2. 3101282   7.9250    G6   \n",
       "3       1  female  35.0      1      0            113803  53.1000  C123   \n",
       "4       3    male  35.0      0      0            373450   8.0500    G6   \n",
       "\n",
       "  Embarked  \n",
       "0        S  \n",
       "1        C  \n",
       "2        S  \n",
       "3        S  \n",
       "4        S  "
      ]
     },
     "execution_count": 346,
     "metadata": {},
     "output_type": "execute_result"
    }
   ],
   "source": [
    "df.head()"
   ]
  },
  {
   "cell_type": "code",
   "execution_count": 347,
   "id": "3fb57c68",
   "metadata": {},
   "outputs": [
    {
     "data": {
      "text/html": [
       "<div>\n",
       "<style scoped>\n",
       "    .dataframe tbody tr th:only-of-type {\n",
       "        vertical-align: middle;\n",
       "    }\n",
       "\n",
       "    .dataframe tbody tr th {\n",
       "        vertical-align: top;\n",
       "    }\n",
       "\n",
       "    .dataframe thead th {\n",
       "        text-align: right;\n",
       "    }\n",
       "</style>\n",
       "<table border=\"1\" class=\"dataframe\">\n",
       "  <thead>\n",
       "    <tr style=\"text-align: right;\">\n",
       "      <th></th>\n",
       "      <th>Pclass</th>\n",
       "      <th>Age</th>\n",
       "      <th>SibSp</th>\n",
       "      <th>Parch</th>\n",
       "      <th>Fare</th>\n",
       "      <th>Sex_male</th>\n",
       "      <th>Ticket_110413</th>\n",
       "      <th>Ticket_110465</th>\n",
       "      <th>Ticket_110564</th>\n",
       "      <th>Ticket_110813</th>\n",
       "      <th>...</th>\n",
       "      <th>Cabin_F G63</th>\n",
       "      <th>Cabin_F G73</th>\n",
       "      <th>Cabin_F2</th>\n",
       "      <th>Cabin_F33</th>\n",
       "      <th>Cabin_F38</th>\n",
       "      <th>Cabin_F4</th>\n",
       "      <th>Cabin_G6</th>\n",
       "      <th>Cabin_T</th>\n",
       "      <th>Embarked_Q</th>\n",
       "      <th>Embarked_S</th>\n",
       "    </tr>\n",
       "  </thead>\n",
       "  <tbody>\n",
       "    <tr>\n",
       "      <th>0</th>\n",
       "      <td>3</td>\n",
       "      <td>22.0</td>\n",
       "      <td>1</td>\n",
       "      <td>0</td>\n",
       "      <td>7.2500</td>\n",
       "      <td>1</td>\n",
       "      <td>0</td>\n",
       "      <td>0</td>\n",
       "      <td>0</td>\n",
       "      <td>0</td>\n",
       "      <td>...</td>\n",
       "      <td>0</td>\n",
       "      <td>0</td>\n",
       "      <td>0</td>\n",
       "      <td>0</td>\n",
       "      <td>0</td>\n",
       "      <td>0</td>\n",
       "      <td>1</td>\n",
       "      <td>0</td>\n",
       "      <td>0</td>\n",
       "      <td>1</td>\n",
       "    </tr>\n",
       "    <tr>\n",
       "      <th>1</th>\n",
       "      <td>1</td>\n",
       "      <td>38.0</td>\n",
       "      <td>1</td>\n",
       "      <td>0</td>\n",
       "      <td>71.2833</td>\n",
       "      <td>0</td>\n",
       "      <td>0</td>\n",
       "      <td>0</td>\n",
       "      <td>0</td>\n",
       "      <td>0</td>\n",
       "      <td>...</td>\n",
       "      <td>0</td>\n",
       "      <td>0</td>\n",
       "      <td>0</td>\n",
       "      <td>0</td>\n",
       "      <td>0</td>\n",
       "      <td>0</td>\n",
       "      <td>0</td>\n",
       "      <td>0</td>\n",
       "      <td>0</td>\n",
       "      <td>0</td>\n",
       "    </tr>\n",
       "    <tr>\n",
       "      <th>2</th>\n",
       "      <td>3</td>\n",
       "      <td>26.0</td>\n",
       "      <td>0</td>\n",
       "      <td>0</td>\n",
       "      <td>7.9250</td>\n",
       "      <td>0</td>\n",
       "      <td>0</td>\n",
       "      <td>0</td>\n",
       "      <td>0</td>\n",
       "      <td>0</td>\n",
       "      <td>...</td>\n",
       "      <td>0</td>\n",
       "      <td>0</td>\n",
       "      <td>0</td>\n",
       "      <td>0</td>\n",
       "      <td>0</td>\n",
       "      <td>0</td>\n",
       "      <td>1</td>\n",
       "      <td>0</td>\n",
       "      <td>0</td>\n",
       "      <td>1</td>\n",
       "    </tr>\n",
       "    <tr>\n",
       "      <th>3</th>\n",
       "      <td>1</td>\n",
       "      <td>35.0</td>\n",
       "      <td>1</td>\n",
       "      <td>0</td>\n",
       "      <td>53.1000</td>\n",
       "      <td>0</td>\n",
       "      <td>0</td>\n",
       "      <td>0</td>\n",
       "      <td>0</td>\n",
       "      <td>0</td>\n",
       "      <td>...</td>\n",
       "      <td>0</td>\n",
       "      <td>0</td>\n",
       "      <td>0</td>\n",
       "      <td>0</td>\n",
       "      <td>0</td>\n",
       "      <td>0</td>\n",
       "      <td>0</td>\n",
       "      <td>0</td>\n",
       "      <td>0</td>\n",
       "      <td>1</td>\n",
       "    </tr>\n",
       "    <tr>\n",
       "      <th>4</th>\n",
       "      <td>3</td>\n",
       "      <td>35.0</td>\n",
       "      <td>0</td>\n",
       "      <td>0</td>\n",
       "      <td>8.0500</td>\n",
       "      <td>1</td>\n",
       "      <td>0</td>\n",
       "      <td>0</td>\n",
       "      <td>0</td>\n",
       "      <td>0</td>\n",
       "      <td>...</td>\n",
       "      <td>0</td>\n",
       "      <td>0</td>\n",
       "      <td>0</td>\n",
       "      <td>0</td>\n",
       "      <td>0</td>\n",
       "      <td>0</td>\n",
       "      <td>1</td>\n",
       "      <td>0</td>\n",
       "      <td>0</td>\n",
       "      <td>1</td>\n",
       "    </tr>\n",
       "  </tbody>\n",
       "</table>\n",
       "<p>5 rows × 834 columns</p>\n",
       "</div>"
      ],
      "text/plain": [
       "   Pclass   Age  SibSp  Parch     Fare  Sex_male  Ticket_110413  \\\n",
       "0       3  22.0      1      0   7.2500         1              0   \n",
       "1       1  38.0      1      0  71.2833         0              0   \n",
       "2       3  26.0      0      0   7.9250         0              0   \n",
       "3       1  35.0      1      0  53.1000         0              0   \n",
       "4       3  35.0      0      0   8.0500         1              0   \n",
       "\n",
       "   Ticket_110465  Ticket_110564  Ticket_110813  ...  Cabin_F G63  Cabin_F G73  \\\n",
       "0              0              0              0  ...            0            0   \n",
       "1              0              0              0  ...            0            0   \n",
       "2              0              0              0  ...            0            0   \n",
       "3              0              0              0  ...            0            0   \n",
       "4              0              0              0  ...            0            0   \n",
       "\n",
       "   Cabin_F2  Cabin_F33  Cabin_F38  Cabin_F4  Cabin_G6  Cabin_T  Embarked_Q  \\\n",
       "0         0          0          0         0         1        0           0   \n",
       "1         0          0          0         0         0        0           0   \n",
       "2         0          0          0         0         1        0           0   \n",
       "3         0          0          0         0         0        0           0   \n",
       "4         0          0          0         0         1        0           0   \n",
       "\n",
       "   Embarked_S  \n",
       "0           1  \n",
       "1           0  \n",
       "2           1  \n",
       "3           1  \n",
       "4           1  \n",
       "\n",
       "[5 rows x 834 columns]"
      ]
     },
     "execution_count": 347,
     "metadata": {},
     "output_type": "execute_result"
    }
   ],
   "source": [
    "df = pd.get_dummies(df, drop_first = True)\n",
    "df.head()"
   ]
  },
  {
   "cell_type": "code",
   "execution_count": 348,
   "id": "e871952c",
   "metadata": {},
   "outputs": [],
   "source": [
    "from sklearn.model_selection import train_test_split\n",
    "from sklearn.metrics import accuracy_score\n",
    "from sklearn.ensemble import GradientBoostingClassifier"
   ]
  },
  {
   "cell_type": "code",
   "execution_count": 349,
   "id": "980060d4",
   "metadata": {},
   "outputs": [],
   "source": [
    "# from sklearn.model_selection import train_test_split\n",
    "# from sklearn.metrics import accuracy_score\n",
    "# from sklearn.tree import DecisionTreeClassifier\n",
    "X = df.iloc[:,:].values\n",
    "y = target_\n",
    "\n",
    "x_train, x_test, y_train, y_test = train_test_split(X, y, test_size = 0.33, random_state = 142)\n",
    "# dt = DecisionTreeClassifier()\n",
    "# dt.fit(x_train, y_train)\n",
    "# predict_ = dt.predict(x_test)\n",
    "# accuracy_score(predict_, y_test)"
   ]
  },
  {
   "cell_type": "code",
   "execution_count": 350,
   "id": "fc5bcb23",
   "metadata": {},
   "outputs": [
    {
     "data": {
      "text/plain": [
       "0.8305084745762712"
      ]
     },
     "execution_count": 350,
     "metadata": {},
     "output_type": "execute_result"
    }
   ],
   "source": [
    "dt = GradientBoostingClassifier()\n",
    "dt.fit(x_train, y_train)\n",
    "predict_ = dt.predict(x_test)\n",
    "accuracy_score(predict_, y_test)"
   ]
  },
  {
   "cell_type": "code",
   "execution_count": 351,
   "id": "eb72dd5b",
   "metadata": {},
   "outputs": [
    {
     "data": {
      "text/plain": [
       "0.8406779661016949"
      ]
     },
     "execution_count": 351,
     "metadata": {},
     "output_type": "execute_result"
    }
   ],
   "source": [
    "from sklearn.model_selection import train_test_split\n",
    "from sklearn.metrics import accuracy_score, f1_score\n",
    "from sklearn.ensemble import RandomForestClassifier\n",
    "\n",
    "\n",
    "X = df.iloc[:,:].values\n",
    "y = target_\n",
    "\n",
    "x_train, x_test, y_train, y_test = train_test_split(X, y, test_size = 0.33, random_state = 142)\n",
    "\n",
    "\n",
    "dt = RandomForestClassifier( criterion='entropy')\n",
    "dt.fit(x_train, y_train)\n",
    "predict_ = dt.predict(x_test)\n",
    "accuracy_score(predict_, y_test)"
   ]
  },
  {
   "cell_type": "code",
   "execution_count": 352,
   "id": "54f964ef",
   "metadata": {},
   "outputs": [
    {
     "data": {
      "text/plain": [
       "0.8542372881355932"
      ]
     },
     "execution_count": 352,
     "metadata": {},
     "output_type": "execute_result"
    }
   ],
   "source": [
    "from sklearn.model_selection import train_test_split\n",
    "from sklearn.metrics import accuracy_score\n",
    "from sklearn.tree import DecisionTreeClassifier\n",
    "X = df.iloc[:,:].values\n",
    "y = target_\n",
    "\n",
    "x_train, x_test, y_train, y_test = train_test_split(X, y, test_size = 0.33, random_state = 142)\n",
    "dt = DecisionTreeClassifier()\n",
    "dt.fit(x_train, y_train)\n",
    "predict_ = dt.predict(x_test)\n",
    "accuracy_score(predict_, y_test)"
   ]
  },
  {
   "cell_type": "code",
   "execution_count": null,
   "id": "88a53c54",
   "metadata": {},
   "outputs": [],
   "source": []
  },
  {
   "cell_type": "code",
   "execution_count": null,
   "id": "92467876",
   "metadata": {},
   "outputs": [],
   "source": []
  },
  {
   "cell_type": "code",
   "execution_count": null,
   "id": "d2918b03",
   "metadata": {},
   "outputs": [],
   "source": []
  },
  {
   "cell_type": "code",
   "execution_count": null,
   "id": "6c01c450",
   "metadata": {},
   "outputs": [],
   "source": []
  },
  {
   "cell_type": "code",
   "execution_count": null,
   "id": "24a531bb",
   "metadata": {},
   "outputs": [],
   "source": []
  },
  {
   "cell_type": "code",
   "execution_count": null,
   "id": "71911569",
   "metadata": {},
   "outputs": [],
   "source": []
  },
  {
   "cell_type": "code",
   "execution_count": null,
   "id": "bdcd41f9",
   "metadata": {},
   "outputs": [],
   "source": []
  }
 ],
 "metadata": {
  "kernelspec": {
   "display_name": "Python 3 (ipykernel)",
   "language": "python",
   "name": "python3"
  },
  "language_info": {
   "codemirror_mode": {
    "name": "ipython",
    "version": 3
   },
   "file_extension": ".py",
   "mimetype": "text/x-python",
   "name": "python",
   "nbconvert_exporter": "python",
   "pygments_lexer": "ipython3",
   "version": "3.9.12"
  }
 },
 "nbformat": 4,
 "nbformat_minor": 5
}

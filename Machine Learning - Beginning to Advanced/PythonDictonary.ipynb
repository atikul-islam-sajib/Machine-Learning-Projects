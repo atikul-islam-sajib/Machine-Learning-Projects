{
 "cells": [
  {
   "cell_type": "code",
   "execution_count": 1,
   "id": "9135b841",
   "metadata": {},
   "outputs": [
    {
     "data": {
      "text/plain": [
       "{'name': 'Atikul Islam Sajib', 'Designation': 'PhD', 'University': 'TUB'}"
      ]
     },
     "execution_count": 1,
     "metadata": {},
     "output_type": "execute_result"
    }
   ],
   "source": [
    "#Create a dictonary\n",
    "\n",
    "dict_ = {\n",
    "    'name'        : 'Atikul Islam Sajib',\n",
    "    'Designation' : 'PhD',\n",
    "    'University'  : 'TUB'\n",
    "}\n",
    "\n",
    "dict_"
   ]
  },
  {
   "cell_type": "code",
   "execution_count": 2,
   "id": "14598d31",
   "metadata": {},
   "outputs": [
    {
     "data": {
      "text/plain": [
       "dict_keys(['name', 'Designation', 'University'])"
      ]
     },
     "execution_count": 2,
     "metadata": {},
     "output_type": "execute_result"
    }
   ],
   "source": [
    "#Find keys\n",
    "dict_.keys()"
   ]
  },
  {
   "cell_type": "code",
   "execution_count": 3,
   "id": "0a3451e4",
   "metadata": {},
   "outputs": [
    {
     "data": {
      "text/plain": [
       "dict_values(['Atikul Islam Sajib', 'PhD', 'TUB'])"
      ]
     },
     "execution_count": 3,
     "metadata": {},
     "output_type": "execute_result"
    }
   ],
   "source": [
    "#Find Values\n",
    "dict_.values()"
   ]
  },
  {
   "cell_type": "code",
   "execution_count": 4,
   "id": "83fcfbd4",
   "metadata": {},
   "outputs": [
    {
     "data": {
      "text/plain": [
       "3"
      ]
     },
     "execution_count": 4,
     "metadata": {},
     "output_type": "execute_result"
    }
   ],
   "source": [
    "#Find Length\n",
    "len(dict_)"
   ]
  },
  {
   "cell_type": "code",
   "execution_count": 5,
   "id": "ec1b294f",
   "metadata": {},
   "outputs": [
    {
     "name": "stdout",
     "output_type": "stream",
     "text": [
      "Atikul Islam Sajib\n",
      "PhD\n",
      "TUB\n"
     ]
    }
   ],
   "source": [
    "#Print data\n",
    "print(dict_['name'])\n",
    "print(dict_['Designation'])\n",
    "print(dict_['University'])"
   ]
  },
  {
   "cell_type": "code",
   "execution_count": 6,
   "id": "37c0edd3",
   "metadata": {},
   "outputs": [
    {
     "name": "stdout",
     "output_type": "stream",
     "text": [
      "name                 Atikul Islam Sajib\n",
      "-----------------------------------------------------------------------------------\n",
      "Designation                 PhD\n",
      "-----------------------------------------------------------------------------------\n",
      "University                 TUB\n",
      "-----------------------------------------------------------------------------------\n"
     ]
    },
    {
     "data": {
      "text/plain": [
       "['Atikul Islam Sajib', 'PhD', 'TUB']"
      ]
     },
     "execution_count": 6,
     "metadata": {},
     "output_type": "execute_result"
    }
   ],
   "source": [
    "#Using Loop how to print\n",
    "\n",
    "#We know that there are three data is availabe, so we create a loop with condition 3\n",
    "# for i in range(len(dict_)):\n",
    "#     print(i)\n",
    "#But how to access the data; to do that, we should make a list of keys\n",
    "# print(dict_.keys())\n",
    "\n",
    "#if i do this then i get \"dict_keys(['name', 'Designation', 'University'])\", but we should need just their items. \n",
    "\n",
    "keys = list(dict_)\n",
    "# print(keys)\n",
    "#Now we get the keys, which are in a list\n",
    "\n",
    "for i in range(len(dict_)):\n",
    "    print(keys[i], '               ', dict_[keys[i]])\n",
    "    print('-----------------------------------------------------------------------------------')\n",
    "\n",
    "#Do the same thing using inside loop\n",
    "[(dict_[i]) for i in keys]\n"
   ]
  },
  {
   "cell_type": "code",
   "execution_count": 7,
   "id": "29bf04d8",
   "metadata": {},
   "outputs": [
    {
     "name": "stdout",
     "output_type": "stream",
     "text": [
      "name\n",
      "Designation\n",
      "University\n",
      "-----------------------------------------------------------------------\n",
      "Atikul Islam Sajib\n",
      "PhD\n",
      "TUB\n",
      "-----------------------------------------------------------------------\n",
      "name                        Atikul Islam Sajib\n",
      "Designation                        PhD\n",
      "University                        TUB\n"
     ]
    }
   ],
   "source": [
    "#It's time consuming. so we should think out of the box\n",
    "\n",
    "for keys in dict_.keys():\n",
    "    print(keys)\n",
    "print('-----------------------------------------------------------------------')\n",
    "#WOW, we get the keys\n",
    "\n",
    "\n",
    "#What about the values\n",
    "for values_ in dict_.values():\n",
    "    print(values_)\n",
    "print('-----------------------------------------------------------------------')  \n",
    "\n",
    "#What about we will two at a time\n",
    "for keys_, values_ in dict_.items():\n",
    "    print(keys_,'                      ', values_)\n",
    "\n",
    "#It works well"
   ]
  },
  {
   "cell_type": "code",
   "execution_count": 8,
   "id": "dd654156",
   "metadata": {},
   "outputs": [
    {
     "data": {
      "text/plain": [
       "{'name': 'Atikul Islam Sajib',\n",
       " 'Designation': 'PhD',\n",
       " 'University': 'TUB',\n",
       " 'BSC': 'UIU'}"
      ]
     },
     "execution_count": 8,
     "metadata": {},
     "output_type": "execute_result"
    }
   ],
   "source": [
    "#How to add data in a dictonary\n",
    "\n",
    "#first print the dictonary\n",
    "dict_\n",
    "\n",
    "#If we want to add his BSC university then how will we do\n",
    "\n",
    "dict_['BSC'] = 'UIU'\n",
    "\n",
    "dict_"
   ]
  },
  {
   "cell_type": "code",
   "execution_count": 9,
   "id": "4224be07",
   "metadata": {},
   "outputs": [
    {
     "data": {
      "text/plain": [
       "{'name': 'Atikul Islam Sajib',\n",
       " 'Designation': 'PhD',\n",
       " 'University': 'TUB',\n",
       " 'BSC': 'UIU'}"
      ]
     },
     "execution_count": 9,
     "metadata": {},
     "output_type": "execute_result"
    }
   ],
   "source": [
    "#If we will want to add multiple data then --\n",
    "\n",
    "# list1_ = ['passing Year', 'IELTS']\n",
    "# list2_ = [2020, 7.5]\n",
    "\n",
    "# for keys_, value_ in zip(list1_, list2_):\n",
    "#     print(keys_, value_)\n",
    "\n",
    "# output:passing Year 2020\n",
    "# IELTS 7.5\n",
    "\n",
    "#Now write a code:\n",
    "\n",
    "# for keys_, value_ in zip(list1_, list2_):\n",
    "#     dict_['keys'] = value_\n",
    "# dict_\n",
    "\n",
    "# output: \n",
    "# {'name': 'Atikul Islam Sajib',\n",
    "#  'Designation': 'PhD',\n",
    "#  'University': 'TUB',\n",
    "#  'BSC': 'UIU',\n",
    "#  'keys': 7.5}\n",
    "\n",
    "#Does the same thing can be done by inside loop\n",
    "# list1_ = ['Hobby','Reaseach']\n",
    "# list2_ = ['Movies', 'Yes']\n",
    "# [(keys_, value_) for keys_, value_ in zip(list1_, list2_)]\n",
    "\n",
    "# output:[('Hobby', 'Movies'), ('Reaseach', 'Yes')]\n",
    "\n",
    "# [(dict_['keys_'] = value_) for keys_, value_ in zip(list1_, list2_)]\n",
    "\n",
    "# output:\n",
    "# File \"<ipython-input-30-df81458ed8e7>\", line 32\n",
    "#     [(dict_['keys_'] = value_) for keys_, value_ in zip(list1_, list2_)]\n",
    "#                      ^\n",
    "# SyntaxError: invalid syntax\n",
    "\n",
    "dict_\n",
    "\n",
    "#Add Something\n",
    "\n",
    "# if 'hobby' not in dict_:\n",
    "#     dict_['hobby'] = 'Watching Movies'\n",
    "# dict_\n"
   ]
  },
  {
   "cell_type": "code",
   "execution_count": 10,
   "id": "e1b5d0fc",
   "metadata": {},
   "outputs": [
    {
     "data": {
      "text/plain": [
       "True"
      ]
     },
     "execution_count": 10,
     "metadata": {},
     "output_type": "execute_result"
    }
   ],
   "source": [
    "#Key Exists or not\n",
    "\n",
    "'name' in dict_.keys()"
   ]
  },
  {
   "cell_type": "code",
   "execution_count": 11,
   "id": "333b0ef1",
   "metadata": {},
   "outputs": [
    {
     "data": {
      "text/plain": [
       "True"
      ]
     },
     "execution_count": 11,
     "metadata": {},
     "output_type": "execute_result"
    }
   ],
   "source": [
    "#Value exists or not\n",
    "\n",
    "'Atikul Islam Sajib' in dict_.values()"
   ]
  },
  {
   "cell_type": "code",
   "execution_count": 12,
   "id": "d356329e",
   "metadata": {},
   "outputs": [
    {
     "data": {
      "text/plain": [
       "{'name': 'Radit Rahaman',\n",
       " 'Designation': 'PhD',\n",
       " 'University': 'TUB',\n",
       " 'BSC': 'UIU'}"
      ]
     },
     "execution_count": 12,
     "metadata": {},
     "output_type": "execute_result"
    }
   ],
   "source": [
    "#How to update the Value\n",
    "\n",
    "dict_['name'] = 'Radit Rahaman'\n",
    "\n",
    "dict_"
   ]
  },
  {
   "cell_type": "code",
   "execution_count": 15,
   "id": "f7460171",
   "metadata": {},
   "outputs": [
    {
     "ename": "KeyError",
     "evalue": "'BSC'",
     "output_type": "error",
     "traceback": [
      "\u001b[1;31m---------------------------------------------------------------------------\u001b[0m",
      "\u001b[1;31mKeyError\u001b[0m                                  Traceback (most recent call last)",
      "\u001b[1;32m<ipython-input-15-8c7f82a90db5>\u001b[0m in \u001b[0;36m<module>\u001b[1;34m\u001b[0m\n\u001b[0;32m      1\u001b[0m \u001b[1;31m#How to Delete the data\u001b[0m\u001b[1;33m\u001b[0m\u001b[1;33m\u001b[0m\u001b[1;33m\u001b[0m\u001b[0m\n\u001b[0;32m      2\u001b[0m \u001b[1;33m\u001b[0m\u001b[0m\n\u001b[1;32m----> 3\u001b[1;33m \u001b[0mdict_\u001b[0m\u001b[1;33m.\u001b[0m\u001b[0mpop\u001b[0m\u001b[1;33m(\u001b[0m\u001b[1;34m'BSC'\u001b[0m\u001b[1;33m)\u001b[0m\u001b[1;33m\u001b[0m\u001b[1;33m\u001b[0m\u001b[0m\n\u001b[0m\u001b[0;32m      4\u001b[0m \u001b[0mdict_\u001b[0m\u001b[1;33m\u001b[0m\u001b[1;33m\u001b[0m\u001b[0m\n",
      "\u001b[1;31mKeyError\u001b[0m: 'BSC'"
     ]
    }
   ],
   "source": [
    "#How to Delete the data\n",
    "\n",
    "dict_.pop('BSC')\n",
    "dict_"
   ]
  },
  {
   "cell_type": "markdown",
   "id": "2569e28b",
   "metadata": {},
   "source": [
    "# Practise Problems\n",
    "\n",
    "1. Create a dictonary where keys will be(1,2,3) and their items will be ([1,2,3],[4,5,6],[7,8,9])\n",
    "2. add the values and create another keys name 'Addition' with that result\n",
    "3. add some data, like (4,5,6) with their values [[1,2,3],[4,5,6], [-10,-20,30],[100,100,100]]\n",
    "4. then find the mean using these recent keys and add them into dictonary\n",
    "5. the, update the value by + "
   ]
  },
  {
   "cell_type": "code",
   "execution_count": 16,
   "id": "4ce22c75",
   "metadata": {},
   "outputs": [
    {
     "data": {
      "text/plain": [
       "{1: [1, 2, 3], 2: [4, 5, 6], 3: [7, 8, 9]}"
      ]
     },
     "execution_count": 16,
     "metadata": {},
     "output_type": "execute_result"
    }
   ],
   "source": [
    "#Create the dictonary\n",
    "dict_ = {\n",
    "    1: [1,2,3],\n",
    "    2: [4,5,6],\n",
    "    3: [7,8,9]\n",
    "}\n",
    "#print\n",
    "dict_"
   ]
  },
  {
   "cell_type": "code",
   "execution_count": 17,
   "id": "059f594c",
   "metadata": {},
   "outputs": [
    {
     "name": "stdout",
     "output_type": "stream",
     "text": [
      "dict_keys([1, 2, 3])\n",
      "dict_values([[1, 2, 3], [4, 5, 6], [7, 8, 9]])\n",
      "dict_items([(1, [1, 2, 3]), (2, [4, 5, 6]), (3, [7, 8, 9])])\n"
     ]
    }
   ],
   "source": [
    "#print keys\n",
    "print(dict_.keys())\n",
    "#print values\n",
    "print(dict_.values())\n",
    "#print keys with values\n",
    "print(dict_.items())"
   ]
  },
  {
   "cell_type": "code",
   "execution_count": 18,
   "id": "0dac50b9",
   "metadata": {},
   "outputs": [
    {
     "name": "stdout",
     "output_type": "stream",
     "text": [
      "1\n",
      "2\n",
      "3\n"
     ]
    }
   ],
   "source": [
    "#Using Loop print keys\n",
    "for keys_ in dict_.keys():\n",
    "    print(keys_)"
   ]
  },
  {
   "cell_type": "code",
   "execution_count": 19,
   "id": "f2434f0a",
   "metadata": {},
   "outputs": [
    {
     "name": "stdout",
     "output_type": "stream",
     "text": [
      "[1, 2, 3]\n",
      "[4, 5, 6]\n",
      "[7, 8, 9]\n"
     ]
    }
   ],
   "source": [
    "#Using Loop, print values\n",
    "for values_ in dict_.values():\n",
    "    print(values_)"
   ]
  },
  {
   "cell_type": "code",
   "execution_count": 20,
   "id": "71940457",
   "metadata": {},
   "outputs": [
    {
     "name": "stdout",
     "output_type": "stream",
     "text": [
      "1       [7, 8, 9]\n",
      "2       [7, 8, 9]\n",
      "3       [7, 8, 9]\n"
     ]
    }
   ],
   "source": [
    "#Using Loop, print keys with values\n",
    "for keys_, values in dict_.items():\n",
    "    print(keys_,\"     \",values_)"
   ]
  },
  {
   "cell_type": "code",
   "execution_count": 21,
   "id": "e4d5cf6b",
   "metadata": {},
   "outputs": [
    {
     "data": {
      "text/plain": [
       "[1, 2, 3]"
      ]
     },
     "execution_count": 21,
     "metadata": {},
     "output_type": "execute_result"
    }
   ],
   "source": [
    "#Using inside loop \n",
    "[keys_ for keys_ in dict_.keys()]"
   ]
  },
  {
   "cell_type": "code",
   "execution_count": 22,
   "id": "ef6f213e",
   "metadata": {},
   "outputs": [
    {
     "data": {
      "text/plain": [
       "[[7, 8, 9], [7, 8, 9], [7, 8, 9]]"
      ]
     },
     "execution_count": 22,
     "metadata": {},
     "output_type": "execute_result"
    }
   ],
   "source": [
    "#Using inside loop, print values\n",
    "[values_ for values in dict_.values()]"
   ]
  },
  {
   "cell_type": "code",
   "execution_count": 23,
   "id": "29c55d46",
   "metadata": {},
   "outputs": [
    {
     "data": {
      "text/plain": [
       "[(1, [1, 2, 3]), (2, [4, 5, 6]), (3, [7, 8, 9])]"
      ]
     },
     "execution_count": 23,
     "metadata": {},
     "output_type": "execute_result"
    }
   ],
   "source": [
    "#Using inside loop, print keys with values\n",
    "[(keys_, items_) for keys_, items_ in dict_.items()]"
   ]
  },
  {
   "cell_type": "code",
   "execution_count": 24,
   "id": "f2b76463",
   "metadata": {},
   "outputs": [
    {
     "data": {
      "text/plain": [
       "{1: [1, 2, 3], 2: [4, 5, 6], 3: [7, 8, 9], 'Addition_': 45}"
      ]
     },
     "execution_count": 24,
     "metadata": {},
     "output_type": "execute_result"
    }
   ],
   "source": [
    "import numpy as np\n",
    "sum_ = np.sum([np.sum(values_) for values_ in dict_.values()])\n",
    "\n",
    "dict_['Addition_'] = sum_\n",
    "dict_"
   ]
  },
  {
   "cell_type": "code",
   "execution_count": 25,
   "id": "47d05d9a",
   "metadata": {},
   "outputs": [
    {
     "name": "stdout",
     "output_type": "stream",
     "text": [
      "4 [1, 2, 3]\n",
      "5 [4, 5, 6]\n",
      "6 [7, 8, 9]\n"
     ]
    },
    {
     "data": {
      "text/plain": [
       "{1: [1, 2, 3],\n",
       " 2: [4, 5, 6],\n",
       " 3: [7, 8, 9],\n",
       " 'Addition_': 45,\n",
       " 4: [1, 2, 3],\n",
       " 5: [4, 5, 6],\n",
       " 6: [7, 8, 9]}"
      ]
     },
     "execution_count": 25,
     "metadata": {},
     "output_type": "execute_result"
    }
   ],
   "source": [
    "list2_ = [[1,2,3],[4,5,6],[7,8,9]]\n",
    "keys_  = [4,5,6]\n",
    "\n",
    "for keys_, values_ in zip(keys_, list2_):\n",
    "    print(keys_, values_)\n",
    "    dict_[keys_] = values_\n",
    "dict_"
   ]
  },
  {
   "cell_type": "code",
   "execution_count": 26,
   "id": "bbd463a4",
   "metadata": {},
   "outputs": [
    {
     "data": {
      "text/plain": [
       "{1: [1, 2, 3],\n",
       " 2: [4, 5, 6],\n",
       " 3: [7, 8, 9],\n",
       " 4: [1, 2, 3],\n",
       " 5: [4, 5, 6],\n",
       " 6: [7, 8, 9]}"
      ]
     },
     "execution_count": 26,
     "metadata": {},
     "output_type": "execute_result"
    }
   ],
   "source": [
    "#Delete the addition\n",
    "\n",
    "if 'Addition_' in dict_.keys():\n",
    "    dict_.pop('Addition_')\n",
    "dict_"
   ]
  },
  {
   "cell_type": "code",
   "execution_count": 27,
   "id": "bcefa58e",
   "metadata": {},
   "outputs": [
    {
     "name": "stdout",
     "output_type": "stream",
     "text": [
      "1.5 3.5\n"
     ]
    },
    {
     "data": {
      "text/plain": [
       "{1: [1, 2, 3],\n",
       " 2: [4, 5, 6],\n",
       " 3: [7, 8, 9],\n",
       " 4: [1, 2, 3],\n",
       " 5: [4, 5, 6],\n",
       " 6: [7, 8, 9],\n",
       " 1.5: 3.5}"
      ]
     },
     "execution_count": 27,
     "metadata": {},
     "output_type": "execute_result"
    }
   ],
   "source": [
    "#Find mean \n",
    "import numpy as np\n",
    "data_ = ([(np.mean(keys_), np.mean(values_)) for keys_, values_ in dict_.items()])\n",
    "data_\n",
    "\n",
    "\n",
    "# for value_ in data_:\n",
    "#     print(value_[0])\n",
    "#     print(value_[1])\n",
    "    \n",
    "keys_  = np.mean(data_[0])\n",
    "value_ = np.mean(data_[1])\n",
    "print(keys_, value_)\n",
    "\n",
    "dict_[1.5] = 3.5\n",
    "\n",
    "dict_"
   ]
  },
  {
   "cell_type": "code",
   "execution_count": 28,
   "id": "ef2e31c5",
   "metadata": {},
   "outputs": [],
   "source": [
    "del dict_"
   ]
  },
  {
   "cell_type": "code",
   "execution_count": null,
   "id": "655f55fd",
   "metadata": {},
   "outputs": [],
   "source": []
  },
  {
   "cell_type": "code",
   "execution_count": null,
   "id": "12451c4c",
   "metadata": {},
   "outputs": [],
   "source": []
  },
  {
   "cell_type": "code",
   "execution_count": null,
   "id": "27f6680d",
   "metadata": {},
   "outputs": [],
   "source": []
  },
  {
   "cell_type": "code",
   "execution_count": null,
   "id": "5b2c4e4d",
   "metadata": {},
   "outputs": [],
   "source": []
  }
 ],
 "metadata": {
  "kernelspec": {
   "display_name": "Python 3 (ipykernel)",
   "language": "python",
   "name": "python3"
  },
  "language_info": {
   "codemirror_mode": {
    "name": "ipython",
    "version": 3
   },
   "file_extension": ".py",
   "mimetype": "text/x-python",
   "name": "python",
   "nbconvert_exporter": "python",
   "pygments_lexer": "ipython3",
   "version": "3.9.12"
  }
 },
 "nbformat": 4,
 "nbformat_minor": 5
}

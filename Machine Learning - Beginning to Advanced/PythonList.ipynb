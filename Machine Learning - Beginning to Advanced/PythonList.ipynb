{
 "cells": [
  {
   "cell_type": "code",
   "execution_count": 1,
   "id": "70847205",
   "metadata": {},
   "outputs": [
    {
     "name": "stdout",
     "output_type": "stream",
     "text": [
      "[1, 2, 3, 4, 5]\n"
     ]
    }
   ],
   "source": [
    "list_ = [1,2,3,4,5]\n",
    "\n",
    "print(list_)"
   ]
  },
  {
   "cell_type": "code",
   "execution_count": 2,
   "id": "ba88d77a",
   "metadata": {},
   "outputs": [
    {
     "name": "stdout",
     "output_type": "stream",
     "text": [
      "[[1, 2, 3, 4], [[4, 5, 6, 7], [8, 9, 10]], [11, 12, 13]]\n"
     ]
    }
   ],
   "source": [
    "#Using multidimentonal List\n",
    "\n",
    "list_ =[\n",
    "    [1,2,3,4],\n",
    "    [[4,5,6,7],[8,9,10]],\n",
    "    [11,12,13]\n",
    "]\n",
    "\n",
    "print(list_)"
   ]
  },
  {
   "cell_type": "code",
   "execution_count": 3,
   "id": "e31fffed",
   "metadata": {},
   "outputs": [
    {
     "name": "stdout",
     "output_type": "stream",
     "text": [
      "[1, 2, 3, 4]\n",
      "[[4, 5, 6, 7], [8, 9, 10]]\n",
      "[11, 12, 13]\n"
     ]
    }
   ],
   "source": [
    "#Using Loop print all data from List_\n",
    "\n",
    "for value_ in list_:\n",
    "    print(value_)"
   ]
  },
  {
   "cell_type": "code",
   "execution_count": 4,
   "id": "aca1e958",
   "metadata": {},
   "outputs": [],
   "source": [
    "#Add some value into the list\n",
    "\n",
    "addValue_ = [-1, -2, -3]\n",
    "\n",
    "data_ = [value for value in addValue_]"
   ]
  },
  {
   "cell_type": "code",
   "execution_count": 5,
   "id": "131c6a06",
   "metadata": {},
   "outputs": [],
   "source": [
    "list_[1].append(data_)"
   ]
  },
  {
   "cell_type": "code",
   "execution_count": 6,
   "id": "b5e8d509",
   "metadata": {},
   "outputs": [
    {
     "data": {
      "text/plain": [
       "[[1, 2, 3, 4], [[4, 5, 6, 7], [8, 9, 10], [-1, -2, -3]], [11, 12, 13]]"
      ]
     },
     "execution_count": 6,
     "metadata": {},
     "output_type": "execute_result"
    }
   ],
   "source": [
    "list_"
   ]
  },
  {
   "cell_type": "code",
   "execution_count": 7,
   "id": "d6cdee8d",
   "metadata": {},
   "outputs": [
    {
     "data": {
      "text/plain": [
       "[[1, 2, 3, 4], [[4, 5, 6, 7], [8, 9, 10], [-1, -2, -3]], [11, 12, 13]]"
      ]
     },
     "execution_count": 7,
     "metadata": {},
     "output_type": "execute_result"
    }
   ],
   "source": [
    "[value for value in list_]"
   ]
  },
  {
   "cell_type": "code",
   "execution_count": 8,
   "id": "2003a68a",
   "metadata": {},
   "outputs": [
    {
     "data": {
      "text/plain": [
       "3"
      ]
     },
     "execution_count": 8,
     "metadata": {},
     "output_type": "execute_result"
    }
   ],
   "source": [
    "#Find the length\n",
    "len(list_)"
   ]
  },
  {
   "cell_type": "code",
   "execution_count": 9,
   "id": "cef351cd",
   "metadata": {},
   "outputs": [
    {
     "data": {
      "text/plain": [
       "6"
      ]
     },
     "execution_count": 9,
     "metadata": {},
     "output_type": "execute_result"
    }
   ],
   "source": [
    "list_\n",
    "#If i access the value 6 then\n",
    "list_[1][0][2]"
   ]
  },
  {
   "cell_type": "code",
   "execution_count": 10,
   "id": "8c4cfbc5",
   "metadata": {},
   "outputs": [
    {
     "data": {
      "text/plain": [
       "[[1, 2, 3, 4], [[4, 5, 600, 7], [8, 9, 10], [-1, -2, -3]], [11, 12, 13]]"
      ]
     },
     "execution_count": 10,
     "metadata": {},
     "output_type": "execute_result"
    }
   ],
   "source": [
    "list_\n",
    "\n",
    "#Change the value\n",
    "# list_[1] = 10\n",
    "# list_\n",
    "\n",
    "#but i want to change specific value: from 6 to 600\n",
    "\n",
    "list_[1][0][2] = 600\n",
    "list_"
   ]
  },
  {
   "cell_type": "code",
   "execution_count": 11,
   "id": "9d1a5283",
   "metadata": {},
   "outputs": [
    {
     "data": {
      "text/plain": [
       "[[1, 2, 3, 4],\n",
       " [[4, 5, 600, 7], [8, 9, 10], [-1, -2, -3]],\n",
       " [11, 12, 13],\n",
       " 'a',\n",
       " 'b',\n",
       " 'c',\n",
       " [[1, 2, 3]]]"
      ]
     },
     "execution_count": 11,
     "metadata": {},
     "output_type": "execute_result"
    }
   ],
   "source": [
    "#concat two different list\n",
    "\n",
    "list1_ = ['a','b','c', [[1,2,3]]]\n",
    "\n",
    "list_+list1_"
   ]
  },
  {
   "cell_type": "code",
   "execution_count": 12,
   "id": "7a4bc628",
   "metadata": {},
   "outputs": [
    {
     "data": {
      "text/plain": [
       "[[1, 2, 3, 4], [[4, 5, 600, 7], [8, 9, 10], [-1, -2, -3]]]"
      ]
     },
     "execution_count": 12,
     "metadata": {},
     "output_type": "execute_result"
    }
   ],
   "source": [
    "#Remove data from list: takes a index\n",
    "\n",
    "list_\n",
    "del list_[-1]\n",
    "list_\n",
    "#By doing this it will be removed"
   ]
  },
  {
   "cell_type": "code",
   "execution_count": 13,
   "id": "b7330e39",
   "metadata": {},
   "outputs": [
    {
     "data": {
      "text/plain": [
       "True"
      ]
     },
     "execution_count": 13,
     "metadata": {},
     "output_type": "execute_result"
    }
   ],
   "source": [
    "#Check a data is presence or not in a list: it returns boolean\n",
    "\n",
    "1 in list_[0]"
   ]
  },
  {
   "cell_type": "code",
   "execution_count": 14,
   "id": "edced73e",
   "metadata": {},
   "outputs": [
    {
     "name": "stdout",
     "output_type": "stream",
     "text": [
      "Index -  0 : Value is =  [1, 2, 3, 4]\n",
      "Index -  1 : Value is =  [[4, 5, 600, 7], [8, 9, 10], [-1, -2, -3]]\n"
     ]
    }
   ],
   "source": [
    "##Using enumerate: it will return 1. index and 2. value at a time\n",
    "\n",
    "for index, value in enumerate(list_):\n",
    "    print(\"Index - \", + index, \": Value is = \", value)"
   ]
  },
  {
   "cell_type": "code",
   "execution_count": 15,
   "id": "6c1cac00",
   "metadata": {},
   "outputs": [
    {
     "data": {
      "text/plain": [
       "[1, 2, 3, 4]"
      ]
     },
     "execution_count": 15,
     "metadata": {},
     "output_type": "execute_result"
    }
   ],
   "source": [
    "#Using random\n",
    "\n",
    "import random\n",
    "random.choice(list_)"
   ]
  },
  {
   "cell_type": "code",
   "execution_count": 16,
   "id": "9bba90f7",
   "metadata": {},
   "outputs": [
    {
     "data": {
      "text/plain": [
       "[1, 2, 3, 4]"
      ]
     },
     "execution_count": 16,
     "metadata": {},
     "output_type": "execute_result"
    }
   ],
   "source": [
    "import random\n",
    "random.choice(list_)"
   ]
  },
  {
   "cell_type": "code",
   "execution_count": 17,
   "id": "35d8c7d8",
   "metadata": {},
   "outputs": [
    {
     "data": {
      "text/plain": [
       "[[[4, 5, 600, 7], [8, 9, 10], [-1, -2, -3]], [1, 2, 3, 4]]"
      ]
     },
     "execution_count": 17,
     "metadata": {},
     "output_type": "execute_result"
    }
   ],
   "source": [
    "#Random Shuffle\n",
    "\n",
    "random.shuffle(list_)\n",
    "list_"
   ]
  },
  {
   "cell_type": "code",
   "execution_count": 18,
   "id": "676eb915",
   "metadata": {},
   "outputs": [
    {
     "data": {
      "text/plain": [
       "[[1, 2, 3, 4], [[4, 5, 600, 7], [8, 9, 10], [-1, -2, -3]]]"
      ]
     },
     "execution_count": 18,
     "metadata": {},
     "output_type": "execute_result"
    }
   ],
   "source": [
    "random.shuffle(list_)\n",
    "list_"
   ]
  },
  {
   "cell_type": "code",
   "execution_count": 21,
   "id": "f7cac018",
   "metadata": {},
   "outputs": [],
   "source": [
    "#Find index: it takes \"value\" as a parameter and return index\n",
    "\n",
    "# list_[1].index(1)"
   ]
  },
  {
   "cell_type": "code",
   "execution_count": 22,
   "id": "5d2f392e",
   "metadata": {},
   "outputs": [
    {
     "data": {
      "text/plain": [
       "3"
      ]
     },
     "execution_count": 22,
     "metadata": {},
     "output_type": "execute_result"
    }
   ],
   "source": [
    "list1_ = [1,2,3,4]\n",
    "\n",
    "list1_.index(4)"
   ]
  },
  {
   "cell_type": "code",
   "execution_count": 23,
   "id": "469f7b4d",
   "metadata": {},
   "outputs": [
    {
     "ename": "ValueError",
     "evalue": "list.remove(x): x not in list",
     "output_type": "error",
     "traceback": [
      "\u001b[1;31m---------------------------------------------------------------------------\u001b[0m",
      "\u001b[1;31mValueError\u001b[0m                                Traceback (most recent call last)",
      "\u001b[1;32m<ipython-input-23-329feccbb994>\u001b[0m in \u001b[0;36m<module>\u001b[1;34m\u001b[0m\n\u001b[0;32m      3\u001b[0m \u001b[0mlist_\u001b[0m\u001b[1;33m\u001b[0m\u001b[1;33m\u001b[0m\u001b[0m\n\u001b[0;32m      4\u001b[0m \u001b[1;33m\u001b[0m\u001b[0m\n\u001b[1;32m----> 5\u001b[1;33m \u001b[0mlist_\u001b[0m\u001b[1;33m[\u001b[0m\u001b[1;36m1\u001b[0m\u001b[1;33m]\u001b[0m\u001b[1;33m.\u001b[0m\u001b[0mremove\u001b[0m\u001b[1;33m(\u001b[0m\u001b[1;36m4\u001b[0m\u001b[1;33m)\u001b[0m\u001b[1;33m\u001b[0m\u001b[1;33m\u001b[0m\u001b[0m\n\u001b[0m\u001b[0;32m      6\u001b[0m \u001b[0mlist_\u001b[0m\u001b[1;33m\u001b[0m\u001b[1;33m\u001b[0m\u001b[0m\n",
      "\u001b[1;31mValueError\u001b[0m: list.remove(x): x not in list"
     ]
    }
   ],
   "source": [
    "#Removing value from list: it takes data and remove\n",
    "\n",
    "list_\n",
    "\n",
    "list_[1].remove(4)\n",
    "list_"
   ]
  },
  {
   "cell_type": "code",
   "execution_count": 24,
   "id": "4ea77838",
   "metadata": {},
   "outputs": [
    {
     "ename": "AttributeError",
     "evalue": "'int' object has no attribute 'remove'",
     "output_type": "error",
     "traceback": [
      "\u001b[1;31m---------------------------------------------------------------------------\u001b[0m",
      "\u001b[1;31mAttributeError\u001b[0m                            Traceback (most recent call last)",
      "\u001b[1;32m<ipython-input-24-c59dfa6dae05>\u001b[0m in \u001b[0;36m<module>\u001b[1;34m\u001b[0m\n\u001b[1;32m----> 1\u001b[1;33m \u001b[0mlist_\u001b[0m\u001b[1;33m[\u001b[0m\u001b[1;36m0\u001b[0m\u001b[1;33m]\u001b[0m\u001b[1;33m[\u001b[0m\u001b[1;36m0\u001b[0m\u001b[1;33m]\u001b[0m\u001b[1;33m.\u001b[0m\u001b[0mremove\u001b[0m\u001b[1;33m(\u001b[0m\u001b[1;36m600\u001b[0m\u001b[1;33m)\u001b[0m\u001b[1;33m\u001b[0m\u001b[1;33m\u001b[0m\u001b[0m\n\u001b[0m",
      "\u001b[1;31mAttributeError\u001b[0m: 'int' object has no attribute 'remove'"
     ]
    }
   ],
   "source": [
    "list_[0][0].remove(600)"
   ]
  },
  {
   "cell_type": "code",
   "execution_count": 25,
   "id": "091e2df7",
   "metadata": {},
   "outputs": [
    {
     "data": {
      "text/plain": [
       "[[1, 2, 3, 4], [[4, 5, 600, 7], [8, 9, 10], [-1, -2, -3]]]"
      ]
     },
     "execution_count": 25,
     "metadata": {},
     "output_type": "execute_result"
    }
   ],
   "source": [
    "list_"
   ]
  },
  {
   "cell_type": "code",
   "execution_count": 26,
   "id": "2ed84faf",
   "metadata": {},
   "outputs": [
    {
     "data": {
      "text/plain": [
       "[[4, 3, 2, 1], [[4, 5, 600, 7], [8, 9, 10], [-1, -2, -3]]]"
      ]
     },
     "execution_count": 26,
     "metadata": {},
     "output_type": "execute_result"
    }
   ],
   "source": [
    "#sorting \n",
    "\n",
    "list_[0].sort(reverse=True)\n",
    "list_"
   ]
  },
  {
   "cell_type": "code",
   "execution_count": 27,
   "id": "b593587e",
   "metadata": {},
   "outputs": [],
   "source": [
    "#Practise Now"
   ]
  },
  {
   "cell_type": "code",
   "execution_count": 28,
   "id": "31f866c3",
   "metadata": {},
   "outputs": [
    {
     "ename": "SyntaxError",
     "evalue": "invalid syntax (<ipython-input-28-46f970336c7b>, line 1)",
     "output_type": "error",
     "traceback": [
      "\u001b[1;36m  File \u001b[1;32m\"<ipython-input-28-46f970336c7b>\"\u001b[1;36m, line \u001b[1;32m1\u001b[0m\n\u001b[1;33m    1. Create a list\u001b[0m\n\u001b[1;37m       ^\u001b[0m\n\u001b[1;31mSyntaxError\u001b[0m\u001b[1;31m:\u001b[0m invalid syntax\n"
     ]
    }
   ],
   "source": [
    "1. Create a list \n",
    "2. Using Loop append value from 1 to 100\n",
    "3. Then add 2 in each element\n",
    "4. then remove "
   ]
  },
  {
   "cell_type": "code",
   "execution_count": 29,
   "id": "32d7559f",
   "metadata": {},
   "outputs": [],
   "source": [
    "list_ = []\n",
    "for i in range(100):\n",
    "    list_.append(i)"
   ]
  },
  {
   "cell_type": "code",
   "execution_count": 30,
   "id": "c6b75b84",
   "metadata": {},
   "outputs": [
    {
     "data": {
      "text/plain": [
       "[80,\n",
       " 81,\n",
       " 82,\n",
       " 83,\n",
       " 84,\n",
       " 85,\n",
       " 86,\n",
       " 87,\n",
       " 88,\n",
       " 89,\n",
       " 90,\n",
       " 91,\n",
       " 92,\n",
       " 93,\n",
       " 94,\n",
       " 95,\n",
       " 96,\n",
       " 97,\n",
       " 98,\n",
       " 99]"
      ]
     },
     "execution_count": 30,
     "metadata": {},
     "output_type": "execute_result"
    }
   ],
   "source": [
    "list_[80:100]"
   ]
  },
  {
   "cell_type": "code",
   "execution_count": 31,
   "id": "5fc45beb",
   "metadata": {},
   "outputs": [],
   "source": [
    "list_ = [value+2 for value in list_]"
   ]
  },
  {
   "cell_type": "code",
   "execution_count": 32,
   "id": "15445929",
   "metadata": {},
   "outputs": [
    {
     "name": "stdout",
     "output_type": "stream",
     "text": [
      "0 2\n",
      "1 3\n",
      "2 4\n",
      "3 5\n",
      "4 6\n",
      "5 7\n",
      "6 8\n",
      "7 9\n",
      "8 10\n",
      "9 11\n",
      "10 12\n",
      "11 13\n",
      "12 14\n",
      "13 15\n",
      "14 16\n",
      "15 17\n",
      "16 18\n",
      "17 19\n",
      "18 20\n",
      "19 21\n",
      "20 22\n",
      "21 23\n",
      "22 24\n",
      "23 25\n",
      "24 26\n",
      "25 27\n",
      "26 28\n",
      "27 29\n",
      "28 30\n",
      "29 31\n",
      "30 32\n",
      "31 33\n",
      "32 34\n",
      "33 35\n",
      "34 36\n",
      "35 37\n",
      "36 38\n",
      "37 39\n",
      "38 40\n",
      "39 41\n",
      "40 42\n",
      "41 43\n",
      "42 44\n",
      "43 45\n",
      "44 46\n",
      "45 47\n",
      "46 48\n",
      "47 49\n",
      "48 50\n",
      "49 51\n",
      "50 52\n",
      "51 53\n",
      "52 54\n",
      "53 55\n",
      "54 56\n",
      "55 57\n",
      "56 58\n",
      "57 59\n",
      "58 60\n",
      "59 61\n",
      "60 62\n",
      "61 63\n",
      "62 64\n",
      "63 65\n",
      "64 66\n",
      "65 67\n",
      "66 68\n",
      "67 69\n",
      "68 70\n",
      "69 71\n",
      "70 72\n",
      "71 73\n",
      "72 74\n",
      "73 75\n",
      "74 76\n",
      "75 77\n",
      "76 78\n",
      "77 79\n",
      "78 80\n",
      "79 81\n",
      "80 82\n",
      "81 83\n",
      "82 84\n",
      "83 85\n",
      "84 86\n",
      "85 87\n",
      "86 88\n",
      "87 89\n",
      "88 90\n",
      "89 91\n",
      "90 92\n",
      "91 93\n",
      "92 94\n",
      "93 95\n",
      "94 96\n",
      "95 97\n",
      "96 98\n",
      "97 99\n",
      "98 100\n",
      "99 101\n"
     ]
    }
   ],
   "source": [
    "for index, value in enumerate(list_):\n",
    "    print(index, value)"
   ]
  },
  {
   "cell_type": "code",
   "execution_count": 33,
   "id": "52b28682",
   "metadata": {},
   "outputs": [
    {
     "data": {
      "text/plain": [
       "[101,\n",
       " 100,\n",
       " 99,\n",
       " 98,\n",
       " 97,\n",
       " 96,\n",
       " 95,\n",
       " 94,\n",
       " 93,\n",
       " 92,\n",
       " 91,\n",
       " 90,\n",
       " 89,\n",
       " 88,\n",
       " 87,\n",
       " 86,\n",
       " 85,\n",
       " 84,\n",
       " 83,\n",
       " 82,\n",
       " 81,\n",
       " 80,\n",
       " 79,\n",
       " 78,\n",
       " 77,\n",
       " 76,\n",
       " 75,\n",
       " 74,\n",
       " 73,\n",
       " 72,\n",
       " 71,\n",
       " 70,\n",
       " 69,\n",
       " 68,\n",
       " 67,\n",
       " 66,\n",
       " 65,\n",
       " 64,\n",
       " 63,\n",
       " 62,\n",
       " 61,\n",
       " 60,\n",
       " 59,\n",
       " 58,\n",
       " 57,\n",
       " 56,\n",
       " 55,\n",
       " 54,\n",
       " 53,\n",
       " 52,\n",
       " 51,\n",
       " 50,\n",
       " 49,\n",
       " 48,\n",
       " 47,\n",
       " 46,\n",
       " 45,\n",
       " 44,\n",
       " 43,\n",
       " 42,\n",
       " 41,\n",
       " 40,\n",
       " 39,\n",
       " 38,\n",
       " 37,\n",
       " 36,\n",
       " 35,\n",
       " 34,\n",
       " 33,\n",
       " 32,\n",
       " 31,\n",
       " 30,\n",
       " 29,\n",
       " 28,\n",
       " 27,\n",
       " 26,\n",
       " 25,\n",
       " 24,\n",
       " 23,\n",
       " 22,\n",
       " 21,\n",
       " 20,\n",
       " 19,\n",
       " 18,\n",
       " 17,\n",
       " 16,\n",
       " 15,\n",
       " 14,\n",
       " 13,\n",
       " 12,\n",
       " 11,\n",
       " 10,\n",
       " 9,\n",
       " 8,\n",
       " 7,\n",
       " 6,\n",
       " 5,\n",
       " 4,\n",
       " 3,\n",
       " 2]"
      ]
     },
     "execution_count": 33,
     "metadata": {},
     "output_type": "execute_result"
    }
   ],
   "source": [
    "list_.sort(reverse=True)\n",
    "list_"
   ]
  },
  {
   "cell_type": "code",
   "execution_count": 34,
   "id": "38c5bd3f",
   "metadata": {},
   "outputs": [],
   "source": [
    "list1 = [ elem for elem in list_ if elem % 2 != 0]"
   ]
  },
  {
   "cell_type": "code",
   "execution_count": 35,
   "id": "33330942",
   "metadata": {},
   "outputs": [
    {
     "data": {
      "text/plain": [
       "[101,\n",
       " 100,\n",
       " 99,\n",
       " 98,\n",
       " 97,\n",
       " 96,\n",
       " 95,\n",
       " 94,\n",
       " 93,\n",
       " 92,\n",
       " 91,\n",
       " 90,\n",
       " 89,\n",
       " 88,\n",
       " 87,\n",
       " 86,\n",
       " 85,\n",
       " 84,\n",
       " 83,\n",
       " 82,\n",
       " 81,\n",
       " 80,\n",
       " 79,\n",
       " 78,\n",
       " 77,\n",
       " 76,\n",
       " 75,\n",
       " 74,\n",
       " 73,\n",
       " 72,\n",
       " 71,\n",
       " 70,\n",
       " 69,\n",
       " 68,\n",
       " 67,\n",
       " 66,\n",
       " 65,\n",
       " 64,\n",
       " 63,\n",
       " 62,\n",
       " 61,\n",
       " 60,\n",
       " 59,\n",
       " 58,\n",
       " 57,\n",
       " 56,\n",
       " 55,\n",
       " 54,\n",
       " 53,\n",
       " 52,\n",
       " 51,\n",
       " 50,\n",
       " 49,\n",
       " 48,\n",
       " 47,\n",
       " 46,\n",
       " 45,\n",
       " 44,\n",
       " 43,\n",
       " 42,\n",
       " 41,\n",
       " 40,\n",
       " 39,\n",
       " 38,\n",
       " 37,\n",
       " 36,\n",
       " 35,\n",
       " 34,\n",
       " 33,\n",
       " 32,\n",
       " 31,\n",
       " 30,\n",
       " 29,\n",
       " 28,\n",
       " 27,\n",
       " 26,\n",
       " 25,\n",
       " 24,\n",
       " 23,\n",
       " 22,\n",
       " 21,\n",
       " 20,\n",
       " 19,\n",
       " 18,\n",
       " 17,\n",
       " 16,\n",
       " 15,\n",
       " 14,\n",
       " 13,\n",
       " 12,\n",
       " 11,\n",
       " 10,\n",
       " 9,\n",
       " 8,\n",
       " 7,\n",
       " 6,\n",
       " 5,\n",
       " 4,\n",
       " 3,\n",
       " 2]"
      ]
     },
     "execution_count": 35,
     "metadata": {},
     "output_type": "execute_result"
    }
   ],
   "source": [
    "list_"
   ]
  },
  {
   "cell_type": "code",
   "execution_count": 36,
   "id": "ce9aab79",
   "metadata": {},
   "outputs": [
    {
     "data": {
      "text/plain": [
       "100"
      ]
     },
     "execution_count": 36,
     "metadata": {},
     "output_type": "execute_result"
    }
   ],
   "source": [
    "len(list_)"
   ]
  },
  {
   "cell_type": "code",
   "execution_count": 37,
   "id": "dd68a45f",
   "metadata": {},
   "outputs": [],
   "source": [
    "list_ = [elements for elements in list_ if elements %2 == 0]"
   ]
  },
  {
   "cell_type": "code",
   "execution_count": 38,
   "id": "50e6f9ca",
   "metadata": {},
   "outputs": [
    {
     "data": {
      "text/plain": [
       "[100,\n",
       " 98,\n",
       " 96,\n",
       " 94,\n",
       " 92,\n",
       " 90,\n",
       " 88,\n",
       " 86,\n",
       " 84,\n",
       " 82,\n",
       " 80,\n",
       " 78,\n",
       " 76,\n",
       " 74,\n",
       " 72,\n",
       " 70,\n",
       " 68,\n",
       " 66,\n",
       " 64,\n",
       " 62,\n",
       " 60,\n",
       " 58,\n",
       " 56,\n",
       " 54,\n",
       " 52,\n",
       " 50,\n",
       " 48,\n",
       " 46,\n",
       " 44,\n",
       " 42,\n",
       " 40,\n",
       " 38,\n",
       " 36,\n",
       " 34,\n",
       " 32,\n",
       " 30,\n",
       " 28,\n",
       " 26,\n",
       " 24,\n",
       " 22,\n",
       " 20,\n",
       " 18,\n",
       " 16,\n",
       " 14,\n",
       " 12,\n",
       " 10,\n",
       " 8,\n",
       " 6,\n",
       " 4,\n",
       " 2]"
      ]
     },
     "execution_count": 38,
     "metadata": {},
     "output_type": "execute_result"
    }
   ],
   "source": [
    "list_"
   ]
  },
  {
   "cell_type": "code",
   "execution_count": 39,
   "id": "12752dc4",
   "metadata": {},
   "outputs": [
    {
     "data": {
      "text/plain": [
       "[100, 98, 96, 94, 92, 90]"
      ]
     },
     "execution_count": 39,
     "metadata": {},
     "output_type": "execute_result"
    }
   ],
   "source": [
    "list_ = [elements for elements in list_ if (elements >=90 and elements<=100)]\n",
    "list_"
   ]
  },
  {
   "cell_type": "code",
   "execution_count": 40,
   "id": "8c5c245f",
   "metadata": {},
   "outputs": [
    {
     "data": {
      "text/plain": [
       "[100, 98, 96, 94, 92, 90]"
      ]
     },
     "execution_count": 40,
     "metadata": {},
     "output_type": "execute_result"
    }
   ],
   "source": [
    "[elements for elements in list_ if sum(list_[2:]) != 182] "
   ]
  },
  {
   "cell_type": "markdown",
   "id": "8584e5c2",
   "metadata": {},
   "source": [
    "# Practise Using List"
   ]
  },
  {
   "cell_type": "code",
   "execution_count": 41,
   "id": "e4672ee5",
   "metadata": {},
   "outputs": [
    {
     "name": "stdout",
     "output_type": "stream",
     "text": [
      "[1, 2, 3, 4, 5, 6, 7, 8, 9, 10]\n"
     ]
    }
   ],
   "source": [
    "#Create a list\n",
    "list_ = [1,2,3,4,5,6,7,8,9,10]\n",
    "#print the list\n",
    "print(list_)"
   ]
  },
  {
   "cell_type": "code",
   "execution_count": 42,
   "id": "112a72ab",
   "metadata": {},
   "outputs": [
    {
     "data": {
      "text/plain": [
       "10"
      ]
     },
     "execution_count": 42,
     "metadata": {},
     "output_type": "execute_result"
    }
   ],
   "source": [
    "#Find the length\n",
    "len(list_)\n",
    "#it means there are 10 elements"
   ]
  },
  {
   "cell_type": "code",
   "execution_count": 43,
   "id": "83f00f60",
   "metadata": {},
   "outputs": [],
   "source": [
    "#using loop print the list: iterative\n",
    "\n",
    "# for i in range(len(list_)):\n",
    "#     print(i)\n",
    "# output:\n",
    "# 0\n",
    "# 1\n",
    "# 2\n",
    "# 3\n",
    "# 4\n",
    "# 5\n",
    "# 6\n",
    "# 7\n",
    "# 8\n",
    "# 9\n",
    "\n",
    "#Using length: it will return the value of list\n",
    "# for i in range(len(list_)):\n",
    "#     print(list_[i])\n",
    "\n",
    "#If i want to store those items into an another list then what will i have to do: \n",
    "\n",
    "# create_ = []\n",
    "\n",
    "# for i in range(len(list_)):\n",
    "#     #using append we will easily be stored items \n",
    "#     create_.append(list_[i])\n",
    "\n",
    "# create_\n",
    "\n",
    "#Using in operation:\n",
    "\n",
    "# create_ = []\n",
    "# for value_ in list_:\n",
    "#     #Using list in for loop: it will give me the value easily\n",
    "#     print(value_)\n",
    "#     create_.append(value_)\n",
    "# create_\n",
    "\n",
    "#Using for loop inside of list we can access the data:\n",
    "\n",
    "# [value_ for value_ in list_]\n",
    "#output: [1, 2, 3, 4, 5, 6, 7, 8, 9, 10]\n",
    "\n",
    "#in 'enumerate' we will get the index and value as well\n",
    "\n",
    "# for index_, value_ in enumerate(list_):\n",
    "#     print(\"Index \",+ index_,\"has the value = \",value_)\n",
    "\n",
    "#Using 'enumerate' inside of a list\n",
    "\n",
    "# [(\"Index \",index_,\", has value = \", value_) for index_, value_ in enumerate(list_)]\n",
    "\n",
    "\n",
    "#how to sort the value of a list\n",
    "\n",
    "# list_.sort(reverse=True)\n",
    "# output:[10, 9, 8, 7, 6, 5, 4, 3, 2, 1]\n",
    "\n",
    "# list_.sort(reverse=False)\n",
    "# outout:[1, 2, 3, 4, 5, 6, 7, 8, 9, 10]\n",
    "\n",
    "#How to shuffle\n",
    "# import random\n",
    "# random.shuffle(list_)\n",
    "\n",
    "# list_\n",
    "\n",
    "# output:\n",
    "# [4, 9, 5, 2, 7, 10, 1, 3, 8, 6]\n",
    "\n",
    "#Index find: it will take the 'value' as a parameter and return index\n",
    "\n",
    "# list_.index(6,5)\n",
    "\n",
    "#Want to multiple index\n",
    "\n",
    "# value_ = [10, 1, 8, 4]\n",
    "# [list_.index(i) for i in value_]\n",
    "# index = [list_.index(i) for i in value_]\n",
    "#  output: [5, 6, 8, 0]\n",
    "\n",
    "#If i want to get back value\n",
    "# [list_[index_] for index_ in index]\n",
    "\n",
    "# output:[10, 1, 8, 4]\n",
    "\n",
    "#Want to add value\n",
    "# sum(list_)\n",
    "# output: 55\n",
    "\n",
    "#Mean find\n",
    "# import numpy as np\n",
    "# np.mean(list_)\n",
    "# output: 5.5\n",
    "\n",
    "#Change the 10 value to 100\n",
    "# import pandas as pd\n",
    "# index_ = [index_ for index_, value_ in enumerate(list_) if value_ == 10]\n",
    "# index_ = pd.Series(index_)\n",
    "# # list_[index_[0]] = 100\n",
    "\n",
    "\n",
    "#Remove a particular data. in 'remove' it takes the index\n",
    "\n",
    "# list_.remove(4)\n",
    "# list_\n",
    "# len(list_)\n",
    "\n",
    "#Want to remove more than 1 data\n",
    "# del list_[3:]\n",
    "# list_\n",
    "# output:[1, 2, 3]"
   ]
  },
  {
   "cell_type": "code",
   "execution_count": 44,
   "id": "819ba95c",
   "metadata": {},
   "outputs": [
    {
     "data": {
      "text/plain": [
       "[[1, 2, 3], [[4, 5, 6], [7, 8, 9]], 10]"
      ]
     },
     "execution_count": 44,
     "metadata": {},
     "output_type": "execute_result"
    }
   ],
   "source": [
    "#Using multiple \n",
    "\n",
    "list_ = [[1,2,3],[[4,5,6],[7,8,9]],10]\n",
    "list_"
   ]
  },
  {
   "cell_type": "code",
   "execution_count": 45,
   "id": "9384ed59",
   "metadata": {},
   "outputs": [
    {
     "data": {
      "text/plain": [
       "[[1, 2, 3], [[4, 5, 6], [7, 8, 9]], 10]"
      ]
     },
     "execution_count": 45,
     "metadata": {},
     "output_type": "execute_result"
    }
   ],
   "source": [
    "#Using Loop print all\n",
    "\n",
    "# for i in range(len(list_)):\n",
    "#     print(\"First index \"+str(i), 'has the value = ', list_[i])\n",
    "    \n",
    "# for i in list_:\n",
    "#     print('value is ', i)\n",
    "    \n",
    "# for index_, value_ in enumerate(list_):\n",
    "#     print(index, value_)\n",
    "\n",
    "# [value_ for value_ in list_]\n",
    "\n",
    "#Random Shuffle\n",
    "# import random \n",
    "\n",
    "# random.shuffle(list_)\n",
    "# list_\n",
    "\n",
    "\n",
    "#Sorting use: if i use .sort() now it will not work, because there are multi dimentation data\n",
    "\n",
    "# list_\n",
    "# output:[[[4, 5, 6], [7, 8, 9]], 10, [3, 2, 1]]\n",
    "\n",
    "# list_[0].sort(reverse=True)\n",
    "# list_\n",
    "\n",
    "# for i in range(len(list_)):\n",
    "#     if i == 1:\n",
    "#         print('hello')\n",
    "#     else:\n",
    "#         list_[i].sort(reverse=False)\n",
    "# list_\n",
    "# output:[[[4, 5, 6], [7, 8, 9]], 10, [1, 2, 3]]\n",
    "\n",
    "list_\n",
    "\n",
    "#Change \n",
    "\n",
    "# ten_ = [value for value in list_ if value == 10]\n",
    "# list_[1] = ten_\n",
    "# list_\n",
    "\n",
    "# output:[[[4, 5, 6], [7, 8, 9]], [10], [1, 2, 3]]\n",
    "\n",
    "# import random\n",
    "# random.shuffle(list_)\n",
    "# list_\n",
    "\n",
    "# output:[[1, 2, 3], [[4, 5, 6], [7, 8, 9]], [10]]\n",
    "\n",
    "#Add data in \n",
    "\n",
    "# value = [-1,-2,-3]\n",
    "# [list_.insert(1, value_) for value_ in value]\n",
    "# [list_.insert(2, [-100])]"
   ]
  },
  {
   "cell_type": "code",
   "execution_count": null,
   "id": "de424db6",
   "metadata": {},
   "outputs": [],
   "source": []
  },
  {
   "cell_type": "code",
   "execution_count": null,
   "id": "69a46c47",
   "metadata": {},
   "outputs": [],
   "source": []
  },
  {
   "cell_type": "code",
   "execution_count": null,
   "id": "d0599516",
   "metadata": {},
   "outputs": [],
   "source": []
  },
  {
   "cell_type": "code",
   "execution_count": null,
   "id": "c9ffd18e",
   "metadata": {},
   "outputs": [],
   "source": []
  }
 ],
 "metadata": {
  "kernelspec": {
   "display_name": "Python 3 (ipykernel)",
   "language": "python",
   "name": "python3"
  },
  "language_info": {
   "codemirror_mode": {
    "name": "ipython",
    "version": 3
   },
   "file_extension": ".py",
   "mimetype": "text/x-python",
   "name": "python",
   "nbconvert_exporter": "python",
   "pygments_lexer": "ipython3",
   "version": "3.9.12"
  }
 },
 "nbformat": 4,
 "nbformat_minor": 5
}

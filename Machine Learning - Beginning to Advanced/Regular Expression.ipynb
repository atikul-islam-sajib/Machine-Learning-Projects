{
 "cells": [
  {
   "cell_type": "code",
   "execution_count": 1,
   "id": "b9932b04",
   "metadata": {},
   "outputs": [],
   "source": [
    "import re"
   ]
  },
  {
   "cell_type": "code",
   "execution_count": 2,
   "id": "2a323c85",
   "metadata": {},
   "outputs": [
    {
     "name": "stdout",
     "output_type": "stream",
     "text": [
      "the string list is:  ['a', 'a', 'a', 'a', 'a', 'a', 'a', 'a']\n"
     ]
    }
   ],
   "source": [
    "string_ = \"Radadit Rahaman dittad moni advocate\"\n",
    "\n",
    "find_ = re.findall(\"a\", string_)\n",
    "\n",
    "print(\"the string list is: \", find_)"
   ]
  },
  {
   "cell_type": "code",
   "execution_count": 3,
   "id": "6fe74d49",
   "metadata": {},
   "outputs": [
    {
     "name": "stdout",
     "output_type": "stream",
     "text": [
      "[]\n",
      "['dit', 'dit']\n",
      "['ad', 'ad', 'ad', 'ad']\n"
     ]
    }
   ],
   "source": [
    "#Can i use double or tripple character together ?\n",
    "\n",
    "find_ = re.findall(\"aa\", string_)\n",
    "#it will not print anything\n",
    "print(find_)\n",
    "find_ = re.findall(\"dit\", string_)\n",
    "#it will print [\"dit\", \"dit\"]\n",
    "print(find_)\n",
    "find_ = re.findall(\"ad\", string_)\n",
    "#it will print [\"ad\",\"ad\",\"ad\",\"ad\"]\n",
    "print(find_)"
   ]
  },
  {
   "cell_type": "code",
   "execution_count": 4,
   "id": "364ab880",
   "metadata": {},
   "outputs": [
    {
     "name": "stdout",
     "output_type": "stream",
     "text": [
      "['a', 'a', 'i', 'a', 'a', 'a', 'i', 'a', 'o', 'i', 'a', 'o', 'a', 'e']\n"
     ]
    }
   ],
   "source": [
    "find_ = re.findall(\"[AEIOUaeiou]\", string_)\n",
    "print(find_)"
   ]
  },
  {
   "cell_type": "code",
   "execution_count": 5,
   "id": "437b4b02",
   "metadata": {},
   "outputs": [
    {
     "data": {
      "text/plain": [
       "['E', 'u', 'a', 'i', 'o', 'a']"
      ]
     },
     "execution_count": 5,
     "metadata": {},
     "output_type": "execute_result"
    }
   ],
   "source": [
    "string_ = \"Educational\"\n",
    "find_ = re.findall(\"[AEIOUaeiou]\", string_)\n",
    "find_"
   ]
  },
  {
   "cell_type": "code",
   "execution_count": 6,
   "id": "22f4e03e",
   "metadata": {},
   "outputs": [
    {
     "data": {
      "text/plain": [
       "['1', '2', '1', '1', '1', '2', '4', '1', '3', '1', '1', '1', '1', '1']"
      ]
     },
     "execution_count": 6,
     "metadata": {},
     "output_type": "execute_result"
    }
   ],
   "source": [
    "string_ = \"Hello12      1   he11 24World 1311111!\"\n",
    "\n",
    "re.findall(\"\\d\", string_)"
   ]
  },
  {
   "cell_type": "code",
   "execution_count": 7,
   "id": "1fba2bdb",
   "metadata": {},
   "outputs": [
    {
     "data": {
      "text/plain": [
       "['2.3', '24', '25']"
      ]
     },
     "execution_count": 7,
     "metadata": {},
     "output_type": "execute_result"
    }
   ],
   "source": [
    "string_ = \"Math 2.3, Bangla 24, OPP 25\"\n",
    "\n",
    "re.findall(\"[0-9]\\.?\\d{0,2}\", string_)"
   ]
  },
  {
   "cell_type": "code",
   "execution_count": 8,
   "id": "26dbd63a",
   "metadata": {},
   "outputs": [
    {
     "name": "stdout",
     "output_type": "stream",
     "text": [
      "Hello Word !\n"
     ]
    }
   ],
   "source": [
    "print(\"Hello Word !\")"
   ]
  },
  {
   "cell_type": "code",
   "execution_count": 9,
   "id": "ecef49a2",
   "metadata": {},
   "outputs": [],
   "source": [
    "email_ = \"asajib@bscse.uiu.ac.bd\"\n",
    "\n",
    "#raditrahman142099@icloud.com"
   ]
  },
  {
   "cell_type": "code",
   "execution_count": 10,
   "id": "142fdcd9",
   "metadata": {},
   "outputs": [
    {
     "data": {
      "text/plain": [
       "['@', '.', '.', '.']"
      ]
     },
     "execution_count": 10,
     "metadata": {},
     "output_type": "execute_result"
    }
   ],
   "source": [
    "re.findall(\"[@\\.]{1}\", email_)"
   ]
  },
  {
   "cell_type": "code",
   "execution_count": 11,
   "id": "40d61d7b",
   "metadata": {},
   "outputs": [
    {
     "data": {
      "text/plain": [
       "<re.Match object; span=(5, 7), match='12'>"
      ]
     },
     "execution_count": 11,
     "metadata": {},
     "output_type": "execute_result"
    }
   ],
   "source": [
    "string_ = \"radit12  32 rahman453\"\n",
    "\n",
    "re.search(\"\\d{2}\", string_)"
   ]
  },
  {
   "cell_type": "code",
   "execution_count": 12,
   "id": "2ff247b6",
   "metadata": {},
   "outputs": [
    {
     "data": {
      "text/plain": [
       "[110, 125, 133, 146, 158, 172, 187, 196, 210]"
      ]
     },
     "execution_count": 12,
     "metadata": {},
     "output_type": "execute_result"
    }
   ],
   "source": [
    "list_ = [110, 125, 133, 146, 158, 172, 187, 196, 210]\n",
    "list_"
   ]
  },
  {
   "cell_type": "code",
   "execution_count": 13,
   "id": "4ba1e06b",
   "metadata": {},
   "outputs": [
    {
     "name": "stdout",
     "output_type": "stream",
     "text": [
      " 0   110\n",
      " 1   125\n",
      " 2   133\n",
      " 3   146\n",
      " 4   158\n",
      " 5   172\n",
      " 6   187\n",
      " 7   196\n",
      " 8   210\n"
     ]
    }
   ],
   "source": [
    "take_ = 3\n",
    "\n",
    "for index_, values_ in enumerate(list_):\n",
    "    print(f'{index_: {0}} {values_: {5}}')"
   ]
  },
  {
   "cell_type": "code",
   "execution_count": 26,
   "id": "ababb53a",
   "metadata": {},
   "outputs": [],
   "source": [
    "XtimeSeries_ = []\n",
    "ytimeSeris_  = []\n",
    "for index_, values_ in enumerate(list_):\n",
    "    end_ = take_ + index_\n",
    "    if end_>=len(list_):\n",
    "        break\n",
    "    else:\n",
    "        ytimeSeris_.append(list_[end_])\n",
    "        XtimeSeries_.append(list_[index_: end_])"
   ]
  },
  {
   "cell_type": "code",
   "execution_count": 27,
   "id": "178ae8dc",
   "metadata": {},
   "outputs": [
    {
     "name": "stdout",
     "output_type": "stream",
     "text": [
      "[[110, 125, 133], [125, 133, 146], [133, 146, 158], [146, 158, 172], [158, 172, 187], [172, 187, 196]]\n",
      "[146, 158, 172, 187, 196, 210]\n"
     ]
    }
   ],
   "source": [
    "print(XtimeSeries_)\n",
    "print(ytimeSeris_)"
   ]
  },
  {
   "cell_type": "code",
   "execution_count": null,
   "id": "50f3c82b",
   "metadata": {},
   "outputs": [],
   "source": []
  },
  {
   "cell_type": "code",
   "execution_count": null,
   "id": "c3016d7a",
   "metadata": {},
   "outputs": [],
   "source": []
  },
  {
   "cell_type": "code",
   "execution_count": null,
   "id": "60243008",
   "metadata": {},
   "outputs": [],
   "source": []
  },
  {
   "cell_type": "code",
   "execution_count": null,
   "id": "aa79855c",
   "metadata": {},
   "outputs": [],
   "source": []
  },
  {
   "cell_type": "code",
   "execution_count": null,
   "id": "f43259a3",
   "metadata": {},
   "outputs": [],
   "source": []
  },
  {
   "cell_type": "code",
   "execution_count": null,
   "id": "5bb80763",
   "metadata": {},
   "outputs": [],
   "source": []
  },
  {
   "cell_type": "code",
   "execution_count": null,
   "id": "ad1e7028",
   "metadata": {},
   "outputs": [],
   "source": []
  }
 ],
 "metadata": {
  "kernelspec": {
   "display_name": "Python 3 (ipykernel)",
   "language": "python",
   "name": "python3"
  },
  "language_info": {
   "codemirror_mode": {
    "name": "ipython",
    "version": 3
   },
   "file_extension": ".py",
   "mimetype": "text/x-python",
   "name": "python",
   "nbconvert_exporter": "python",
   "pygments_lexer": "ipython3",
   "version": "3.9.12"
  }
 },
 "nbformat": 4,
 "nbformat_minor": 5
}

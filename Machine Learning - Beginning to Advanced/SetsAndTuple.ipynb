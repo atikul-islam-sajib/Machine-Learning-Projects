{
 "cells": [
  {
   "cell_type": "code",
   "execution_count": 1,
   "id": "0cb2d1bf",
   "metadata": {},
   "outputs": [],
   "source": [
    "#import all necessary built-in function\n",
    "from functools   import reduce\n",
    "from collections import Counter\n",
    "from itertools   import permutations, combinations, chain\n",
    "import pandas as pd\n",
    "import numpy  as np\n",
    "import string\n",
    "import ast"
   ]
  },
  {
   "cell_type": "markdown",
   "id": "e5e08f4d",
   "metadata": {},
   "source": [
    "# Impletens Set"
   ]
  },
  {
   "cell_type": "code",
   "execution_count": 2,
   "id": "39ab03ab",
   "metadata": {},
   "outputs": [
    {
     "name": "stdout",
     "output_type": "stream",
     "text": [
      "The sets looks likes is   :  {1, 2, 3, 4, 5, 6, 7, 8, 9, 10} \n",
      "\n",
      "The length of this sets is:  10 \n",
      "\n"
     ]
    }
   ],
   "source": [
    "#create a set with ten elements\n",
    "sets_ = {1,2,3,4,5,6,7,8,9,10}\n",
    "#print the set\n",
    "print(\"the sets looks likes is   : \".capitalize(), sets_,'\\n')\n",
    "#print the length of this sets_\n",
    "print(\"the length of this sets is: \".capitalize(), len(sets_),'\\n')"
   ]
  },
  {
   "cell_type": "code",
   "execution_count": 3,
   "id": "ee7cdea3",
   "metadata": {},
   "outputs": [
    {
     "name": "stdout",
     "output_type": "stream",
     "text": [
      "After adding 11, the sets looks like:  {1, 2, 3, 4, 5, 6, 7, 8, 9, 10, 11} \n",
      "\n",
      "After adding 12, 13 using update function, the sets_ looks like:  {1, 2, 3, 4, 5, 6, 7, 8, 9, 10, 11, 12, 13} \n",
      "\n"
     ]
    }
   ],
   "source": [
    "#Now, i want to add some value, suppose 11 then how will i do ? using \"add\"\n",
    "value_ = 11\n",
    "sets_.add(value_)\n",
    "print(\"after adding 11, the sets looks like: \".capitalize(), sets_,'\\n')\n",
    "#now i want to add two elements(12,13) then \n",
    "\n",
    "# If i do the below step, then error will be occured. because, i passed a list[12,13] and it will not be possible using \"add\"\n",
    "#Instead of add() - what we will have to do is to use \"update\", let's see what will be happened\n",
    "\n",
    "# values_ = [12,13]\n",
    "# sets_.add(values_)\n",
    "# print(\"after adding 12, 13: the sets looks :\".capitalize(), sets(),'\\n')\n",
    "\n",
    "\n",
    "#TypeError                                 Traceback (most recent call last)\n",
    "# <ipython-input-5-b4c3d77f2c0d> in <module>\n",
    "#       5 #now i want to add two elements(12,13) then\n",
    "#       6 values_ = [12,13]\n",
    "# ----> 7 sets_.add(values_)\n",
    "#       8 print(\"after adding 12, 13: the sets looks :\".capitalize(), sets(),'\\n')\n",
    "\n",
    "# TypeError: unhashable type: 'list'\n",
    "\n",
    "\n",
    "values_ = [12,13]\n",
    "sets_.update(values_)\n",
    "print(\"After adding 12, 13 using update function, the sets_ looks like: \", sets_,'\\n')\n",
    "#Wow, the problem is solved."
   ]
  },
  {
   "cell_type": "code",
   "execution_count": 4,
   "id": "c28d147a",
   "metadata": {},
   "outputs": [
    {
     "name": "stdout",
     "output_type": "stream",
     "text": [
      "The value, which we want to add into the sets_ is:  [1, 2, 3] \n",
      "\n",
      "After adding the 1,2,3: the sets looks like      :  {1, 2, 3, 4, 5, 6, 7, 8, 9, 10, 11, 12, 13} \n",
      "\n"
     ]
    }
   ],
   "source": [
    "#Now, we will add a duplicate value like 1,2,3 then it will not be added\n",
    "values_ = [1,2,3]\n",
    "print(\"The value, which we want to add into the sets_ is: \", values_,'\\n')\n",
    "sets_.update(values_)\n",
    "print(\"After adding the 1,2,3: the sets looks like      : \", sets_,'\\n')\n",
    "#See it hasn't added, just print the previous value"
   ]
  },
  {
   "cell_type": "code",
   "execution_count": 5,
   "id": "c0e3a7ef",
   "metadata": {},
   "outputs": [
    {
     "name": "stdout",
     "output_type": "stream",
     "text": [
      "After deleting the 10, the sets looks like:  {1, 2, 3, 4, 5, 6, 7, 8, 9, 11, 12, 13} \n",
      "\n"
     ]
    }
   ],
   "source": [
    "#Now, i want to delete 10 from the sets then how will we do. \n",
    "#In point of fact, there are two possible options are presence\n",
    "#1. remove(element name) - if element is presence, then it will deleted, if not error show\n",
    "#2. discard(element name) - if element is presence, as usual it will delete and if not then just do nothing. no error show\n",
    "\n",
    "deleteValue_ = 10\n",
    "sets_.remove(deleteValue_)\n",
    "print(\"After deleting the 10, the sets looks like: \", sets_,'\\n')"
   ]
  },
  {
   "cell_type": "code",
   "execution_count": 6,
   "id": "c9d30946",
   "metadata": {},
   "outputs": [],
   "source": [
    "#If run the same code then the error will show, because 10 is already deleted. lets do this: \n",
    "\n",
    "\n",
    "# deleteValue_ = 10\n",
    "# sets_.remove(deleteValue_)\n",
    "# print(\"After deleting the 10, the sets looks like: \", sets_,'\\n')\n",
    "\n",
    "\n",
    "\n",
    "# KeyError                                  Traceback (most recent call last)\n",
    "# <ipython-input-6-f4dab717753c> in <module>\n",
    "#       1 #If run the same code then the error will show, because 10 is already deleted. lets do this:\n",
    "#       2 deleteValue_ = 10\n",
    "# ----> 3 sets_.remove(deleteValue_)\n",
    "#       4 print(\"After deleting the 10, the sets looks like: \", sets_,'\\n')\n",
    "\n",
    "# KeyError: 10"
   ]
  },
  {
   "cell_type": "code",
   "execution_count": 7,
   "id": "76f9d037",
   "metadata": {},
   "outputs": [
    {
     "name": "stdout",
     "output_type": "stream",
     "text": [
      "After deleting the 10, the sets looks like:  {1, 2, 3, 4, 5, 6, 7, 8, 9, 11, 12, 13} \n",
      "\n"
     ]
    }
   ],
   "source": [
    "#Now, do the same thing using discard()\n",
    "deleteValue_ = 10\n",
    "sets_.discard(deleteValue_)\n",
    "print(\"After deleting the 10, the sets looks like: \", sets_,'\\n')\n",
    "#We see that it will not show any error meassage. That's the main differnce between \"remove and discard\""
   ]
  },
  {
   "cell_type": "code",
   "execution_count": 8,
   "id": "deeda80a",
   "metadata": {},
   "outputs": [
    {
     "name": "stdout",
     "output_type": "stream",
     "text": [
      "Done  1\n",
      "Done  2\n",
      "Done  3\n",
      "Done  4\n",
      "Done  5\n",
      "Done  6\n",
      "Done  7\n",
      "Done  8\n",
      "Done  9\n",
      "Done  11\n",
      "Done  12\n",
      "Done  13\n",
      " \n",
      "The total sum is:  81 \n",
      "\n"
     ]
    }
   ],
   "source": [
    "#If we want to do sum then \n",
    "\n",
    "# for values_ in sets_:\n",
    "#     print(values_, end = \" \")\n",
    "    \n",
    "# output:\n",
    "# 1 2 3 4 5 6 7 8 9 11 12 13\n",
    "\n",
    "sum_ = 0\n",
    "for values_ in sets_:\n",
    "    sum_ = sum_ + values_\n",
    "    print(\"Done \", values_)\n",
    "    \n",
    "print(\" \")\n",
    "print(\"The total sum is: \", sum_,\"\\n\")"
   ]
  },
  {
   "cell_type": "code",
   "execution_count": 9,
   "id": "e2e3cfd9",
   "metadata": {},
   "outputs": [
    {
     "name": "stdout",
     "output_type": "stream",
     "text": [
      "The total sum is:  81 \n",
      "\n",
      "The max value of this set_ is:  13 \n",
      "\n",
      "The mean value of this set_ is:  1 \n",
      "\n"
     ]
    }
   ],
   "source": [
    "#Can i do the same things with \"sum()\" function, let's see\n",
    "sum_ = sum(sets_)\n",
    "print(\"The total sum is: \", sum_,'\\n')\n",
    "#Similarly, we can do max, min\n",
    "max_ = max(sets_)\n",
    "min_ = min(sets_)\n",
    "print(\"The max value of this set_ is: \", max_,\"\\n\")\n",
    "print(\"The mean value of this set_ is: \", min_,\"\\n\")"
   ]
  },
  {
   "cell_type": "code",
   "execution_count": 10,
   "id": "30a4241a",
   "metadata": {},
   "outputs": [
    {
     "name": "stdout",
     "output_type": "stream",
     "text": [
      "the sets looks like:  set()\n"
     ]
    }
   ],
   "source": [
    "#We can delete the whole sets also, just using \"clear\"\n",
    "sets_.clear()\n",
    "print(\"the sets looks like: \", sets_)"
   ]
  },
  {
   "cell_type": "code",
   "execution_count": 11,
   "id": "f1437681",
   "metadata": {},
   "outputs": [],
   "source": [
    "#Advanced sets\n",
    "# sets_ = {[1,2,3,4],[4,3,2,1]}\n",
    "# print(\"The sets looks like: \", sets_,'\\n')\n",
    "#It cannot be possible\n",
    "\n",
    "# TypeError                                 Traceback (most recent call last)\n",
    "# <ipython-input-11-c2151f6313ef> in <module>\n",
    "#       1 #Advanced sets\n",
    "# ----> 2 sets_ = {[1,2,3,4],[4,3,2,1]}\n",
    "#       3 print(\"The sets looks like: \", sets_,'\\n')\n",
    "\n",
    "# TypeError: unhashable type: 'list'\n"
   ]
  },
  {
   "cell_type": "code",
   "execution_count": 12,
   "id": "c9f1db39",
   "metadata": {},
   "outputs": [
    {
     "name": "stdout",
     "output_type": "stream",
     "text": [
      "the list looks like                 :  [1, 2, 3, 4, 5, 6, 7, 8, 9, 4, 6, 8, 12, 1, 10, 9, 10, 11] \n",
      "\n",
      "The length of the list_ is          :  18 \n",
      "\n",
      "After using set, the unique value is:  {1, 2, 3, 4, 5, 6, 7, 8, 9, 10, 11, 12} \n",
      "\n",
      "The length of th list_ is           :  12 \n",
      "\n"
     ]
    }
   ],
   "source": [
    "list_ = [1,2,3,4,5,6,7,8,9,4,6,8,12,1,10,9,10,11]\n",
    "print(\"the list looks like                 : \", list_,'\\n')\n",
    "print(\"The length of the list_ is          : \", len(list_),'\\n')\n",
    "#now, my task is to print the unique() value from the list;\n",
    "list_ = set(list_)\n",
    "print(\"After using set, the unique value is: \", list_,'\\n')\n",
    "print(\"The length of th list_ is           : \", len(list_),'\\n')"
   ]
  },
  {
   "cell_type": "code",
   "execution_count": 13,
   "id": "ee4e6ec6",
   "metadata": {},
   "outputs": [
    {
     "name": "stdout",
     "output_type": "stream",
     "text": [
      "the length of the list is:  1000 \n",
      "\n",
      "0 1 2 3 4 5 6 7 8 9 10 11 12 13 14 15 16 17 18 19 20 21 22 23 24 25 26 27 28 29 30 31 32 33 34 35 36 37 38 39 40 41 42 43 44 45 46 47 48 49 50 51 52 53 54 55 56 57 58 59 60 61 62 63 64 65 66 67 68 69 70 71 72 73 74 75 76 77 78 79 80 81 82 83 84 85 86 87 88 89 90 91 92 93 94 95 96 97 98 99 100 101 102 103 104 105 106 107 108 109 110 111 112 113 114 115 116 117 118 119 120 121 122 123 124 125 126 127 128 129 130 131 132 133 134 135 136 137 138 139 140 141 142 143 144 145 146 147 148 149 150 151 152 153 154 155 156 157 158 159 160 161 162 163 164 165 166 167 168 169 170 171 172 173 174 175 176 177 178 179 180 181 182 183 184 185 186 187 188 189 190 191 192 193 194 195 196 197 198 199 200 201 202 203 204 205 206 207 208 209 210 211 212 213 214 215 216 217 218 219 220 221 222 223 224 225 226 227 228 229 230 231 232 233 234 235 236 237 238 239 240 241 242 243 244 245 246 247 248 249 250 251 252 253 254 255 256 257 258 259 260 261 262 263 264 265 266 267 268 269 270 271 272 273 274 275 276 277 278 279 280 281 282 283 284 285 286 287 288 289 290 291 292 293 294 295 296 297 298 299 300 301 302 303 304 305 306 307 308 309 310 311 312 313 314 315 316 317 318 319 320 321 322 323 324 325 326 327 328 329 330 331 332 333 334 335 336 337 338 339 340 341 342 343 344 345 346 347 348 349 350 351 352 353 354 355 356 357 358 359 360 361 362 363 364 365 366 367 368 369 370 371 372 373 374 375 376 377 378 379 380 381 382 383 384 385 386 387 388 389 390 391 392 393 394 395 396 397 398 399 400 401 402 403 404 405 406 407 408 409 410 411 412 413 414 415 416 417 418 419 420 421 422 423 424 425 426 427 428 429 430 431 432 433 434 435 436 437 438 439 440 441 442 443 444 445 446 447 448 449 450 451 452 453 454 455 456 457 458 459 460 461 462 463 464 465 466 467 468 469 470 471 472 473 474 475 476 477 478 479 480 481 482 483 484 485 486 487 488 489 490 491 492 493 494 495 496 497 498 499 500 501 502 503 504 505 506 507 508 509 510 511 512 513 514 515 516 517 518 519 520 521 522 523 524 525 526 527 528 529 530 531 532 533 534 535 536 537 538 539 540 541 542 543 544 545 546 547 548 549 550 551 552 553 554 555 556 557 558 559 560 561 562 563 564 565 566 567 568 569 570 571 572 573 574 575 576 577 578 579 580 581 582 583 584 585 586 587 588 589 590 591 592 593 594 595 596 597 598 599 600 601 602 603 604 605 606 607 608 609 610 611 612 613 614 615 616 617 618 619 620 621 622 623 624 625 626 627 628 629 630 631 632 633 634 635 636 637 638 639 640 641 642 643 644 645 646 647 648 649 650 651 652 653 654 655 656 657 658 659 660 661 662 663 664 665 666 667 668 669 670 671 672 673 674 675 676 677 678 679 680 681 682 683 684 685 686 687 688 689 690 691 692 693 694 695 696 697 698 699 700 701 702 703 704 705 706 707 708 709 710 711 712 713 714 715 716 717 718 719 720 721 722 723 724 725 726 727 728 729 730 731 732 733 734 735 736 737 738 739 740 741 742 743 744 745 746 747 748 749 750 751 752 753 754 755 756 757 758 759 760 761 762 763 764 765 766 767 768 769 770 771 772 773 774 775 776 777 778 779 780 781 782 783 784 785 786 787 788 789 790 791 792 793 794 795 796 797 798 799 800 801 802 803 804 805 806 807 808 809 810 811 812 813 814 815 816 817 818 819 820 821 822 823 824 825 826 827 828 829 830 831 832 833 834 835 836 837 838 839 840 841 842 843 844 845 846 847 848 849 850 851 852 853 854 855 856 857 858 859 860 861 862 863 864 865 866 867 868 869 870 871 872 873 874 875 876 877 878 879 880 881 882 883 884 885 886 887 888 889 890 891 892 893 894 895 896 897 898 899 900 901 902 903 904 905 906 907 908 909 910 911 912 913 914 915 916 917 918 919 920 921 922 923 924 925 926 927 928 929 930 931 932 933 934 935 936 937 938 939 940 941 942 943 944 945 946 947 948 949 950 951 952 953 954 955 956 957 958 959 960 961 962 963 964 965 966 967 968 969 970 971 972 973 974 975 976 977 978 979 980 981 982 983 984 985 986 987 988 989 990 991 992 993 994 995 996 997 998 999             \n"
     ]
    }
   ],
   "source": [
    "#Suppose we have 1000 elements in a list\n",
    "list_ = list(range(0,1000))\n",
    "print(\"the length of the list is: \", len(list_),'\\n')\n",
    "for values_ in list_:\n",
    "    print(values_, end = \" \")\n",
    "print(\"            \")"
   ]
  },
  {
   "cell_type": "code",
   "execution_count": 14,
   "id": "b387c332",
   "metadata": {},
   "outputs": [
    {
     "name": "stdout",
     "output_type": "stream",
     "text": [
      "The total sum is:  499500 \n",
      "\n",
      "After using set :  499500 \n",
      "\n"
     ]
    }
   ],
   "source": [
    "#Now if i want to do sum in this list then either we will have to use \"reduce\" or \"loop\" to perform sum\n",
    "print(\"The total sum is: \", reduce(lambda x, y:(x+y), list_),'\\n')\n",
    "#We can do another way to perform this using set_\n",
    "totalSum_ = sum(set(list_))\n",
    "print(\"After using set : \", totalSum_,'\\n')"
   ]
  },
  {
   "cell_type": "code",
   "execution_count": 15,
   "id": "8184199a",
   "metadata": {},
   "outputs": [
    {
     "name": "stdout",
     "output_type": "stream",
     "text": [
      "The set1 is:  {1, 2, 3, 4} \n",
      "\n",
      "The set1 is:  {1, 3, 4, 5} \n",
      "\n",
      "The set1 is:  {3, 10, 11, 4} \n",
      "\n",
      "The common values are:  {3, 4} \n",
      "\n",
      "The unique values are:  {2} \n",
      "\n",
      "The combine sets are:  {1, 2, 3, 4, 5, 10, 11}\n"
     ]
    }
   ],
   "source": [
    "#Do Union, difference, intersection operation\n",
    "\n",
    "set1_ = {1,2,3,4}\n",
    "set2_ = {3,4,5,1}\n",
    "set3_ = {10,11,3,4}\n",
    "\n",
    "print(\"The set1 is: \", set1_,'\\n')\n",
    "print(\"The set1 is: \", set2_,'\\n')\n",
    "print(\"The set1 is: \", set3_,'\\n')\n",
    "\n",
    "#Now, i want to print the common values between three sets:\n",
    "common_ = set1_.intersection(set2_, set3_)\n",
    "print(\"The common values are: \", common_,'\\n')\n",
    "#Now, i want to print the unique value from three sets:\n",
    "unique_ = set1_.difference(set2_)\n",
    "print(\"The unique values are: \", unique_,'\\n')\n",
    "#Now, i want to combine the sets:\n",
    "combine_ = set1_.union(set2_, set3_)\n",
    "print(\"The combine sets are: \", combine_)"
   ]
  },
  {
   "cell_type": "code",
   "execution_count": 16,
   "id": "d71c2ce5",
   "metadata": {},
   "outputs": [
    {
     "name": "stdout",
     "output_type": "stream",
     "text": [
      "The list1_ looks like  :  [[1, 2, 3, 4], [4, 5, 1, 7]] \n",
      "\n",
      "The list2_ looks like  :  [[8, 9, 4, 1], [1, 4, 5, 2]] \n",
      "\n",
      "The length of set1_ is :  6 \n",
      "\n",
      "The length of set2_ is :  6 \n",
      "\n",
      "The set1_ looks like   :  {1, 2, 3, 4, 5, 7} \n",
      "\n",
      "The set2_ looks like   :  {1, 2, 4, 5, 8, 9} \n",
      "\n",
      "The common values are  :  {1, 2, 4, 5}\n"
     ]
    }
   ],
   "source": [
    "list1_ = [[1,2,3,4],[4,5,1,7]]\n",
    "list2_ = [[8,9,4,1],[1,4,5,2]]\n",
    "\n",
    "print(\"The list1_ looks like  : \", list1_,'\\n')\n",
    "print(\"The list2_ looks like  : \", list2_, '\\n')\n",
    "\n",
    "#Now my task is to find the common values from two list: the expected output will be: [1,2, 4, 5]\n",
    "\n",
    "set1_ = set()\n",
    "set2_ = set()\n",
    "\n",
    "for i in range(2):\n",
    "    if i == 0:\n",
    "        set1_.update(chain.from_iterable(list1_))\n",
    "    else:\n",
    "        set2_.update(chain.from_iterable(list2_))\n",
    "        \n",
    "print(\"The length of set1_ is : \", len(set1_),'\\n')\n",
    "print(\"The length of set2_ is : \", len(set2_),'\\n')\n",
    "print(\"The set1_ looks like   : \", set1_, '\\n')\n",
    "print(\"The set2_ looks like   : \", set2_, '\\n')\n",
    "common_ = set1_.intersection(set2_)\n",
    "print(\"The common values are  : \", common_)"
   ]
  },
  {
   "cell_type": "markdown",
   "id": "728bddad",
   "metadata": {},
   "source": [
    "# Practise session"
   ]
  },
  {
   "cell_type": "code",
   "execution_count": 17,
   "id": "6294fb49",
   "metadata": {},
   "outputs": [
    {
     "name": "stdout",
     "output_type": "stream",
     "text": [
      "The vowel_ is        :  ['eo', 'Euaio', 'o'] \n",
      "\n",
      "The set1_ looks like :  {'e', 'o'} \n",
      "\n",
      "The set2_ looks like :  {'a', 'u', 'i', 'E', 'o'} \n",
      "\n",
      "The set3_ looks like :  {'o'} \n",
      "\n",
      "The unique values are:  {'a', 'u', 'E', 'e', 'i', 'o'} \n",
      "\n",
      "The common values are:  {'o'} \n",
      "\n"
     ]
    }
   ],
   "source": [
    "#Find the vowels and the unique values with common values_:\n",
    "class vowelFind:\n",
    "    def __init__(self, setOfString_):\n",
    "        self.setOfString_ = setOfString_\n",
    "        self.vowel_ = \"AEIOUaeiou\"\n",
    "        \n",
    "    def vowelFindFunction(self):\n",
    "        list_ = []\n",
    "        flag_ = -1\n",
    "        for string_ in self.setOfString_:\n",
    "            flag_ = 1\n",
    "            vowelString_ = \"\"\n",
    "            if flag_ == 1:\n",
    "                for eachChar_ in string_:\n",
    "                    if eachChar_ in self.vowel_:\n",
    "                        vowelString_ = vowelString_ + eachChar_\n",
    "                    else:\n",
    "                        pass\n",
    "                list_.append(vowelString_)\n",
    "                flag_ = -1\n",
    "            else:\n",
    "                pass\n",
    "        return list_\n",
    "    \n",
    "sets_ = {\"Hello\", \"World\", \"Education\"}\n",
    "object_ = vowelFind(sets_)\n",
    "vowelList_ = object_.vowelFindFunction()\n",
    "print(\"The vowel_ is        : \", vowelList_,'\\n')\n",
    "#Now my task is find the unique and common values of that vowel_\n",
    "set1_ = set(vowelList_[0])\n",
    "set2_ = set(vowelList_[1])\n",
    "set3_ = set(vowelList_[2])\n",
    "print(\"The set1_ looks like : \", set1_, '\\n')\n",
    "print(\"The set2_ looks like : \", set2_, '\\n')\n",
    "print(\"The set3_ looks like : \", set3_, '\\n')\n",
    "#Now find the unique and common words from the sets:\n",
    "unique_ = set1_.union(set2_, set3_)\n",
    "common_ = set1_.intersection(set2_, set3_)\n",
    "print(\"The unique values are: \", unique_,'\\n')\n",
    "print(\"The common values are: \", common_, '\\n')"
   ]
  },
  {
   "cell_type": "markdown",
   "id": "aa0f5be0",
   "metadata": {},
   "source": [
    "# Tuples Implementation"
   ]
  },
  {
   "cell_type": "code",
   "execution_count": 18,
   "id": "056d40e6",
   "metadata": {},
   "outputs": [
    {
     "name": "stdout",
     "output_type": "stream",
     "text": [
      "The tuple looks like       :  (1, 2, 3, 4, 5) \n",
      "\n",
      "The length of this tuple is:  5 \n",
      "\n"
     ]
    }
   ],
   "source": [
    "#Create a tuple with 5 elements\n",
    "tuple_ = (1,2,3,4,5)\n",
    "print(\"The tuple looks like       : \", tuple_,'\\n')\n",
    "print(\"The length of this tuple is: \", len(tuple_),'\\n')"
   ]
  },
  {
   "cell_type": "code",
   "execution_count": 19,
   "id": "5c391cba",
   "metadata": {},
   "outputs": [
    {
     "data": {
      "text/plain": [
       "['__add__',\n",
       " '__class__',\n",
       " '__contains__',\n",
       " '__delattr__',\n",
       " '__dir__',\n",
       " '__doc__',\n",
       " '__eq__',\n",
       " '__format__',\n",
       " '__ge__',\n",
       " '__getattribute__',\n",
       " '__getitem__',\n",
       " '__getnewargs__',\n",
       " '__gt__',\n",
       " '__hash__',\n",
       " '__init__',\n",
       " '__init_subclass__',\n",
       " '__iter__',\n",
       " '__le__',\n",
       " '__len__',\n",
       " '__lt__',\n",
       " '__mul__',\n",
       " '__ne__',\n",
       " '__new__',\n",
       " '__reduce__',\n",
       " '__reduce_ex__',\n",
       " '__repr__',\n",
       " '__rmul__',\n",
       " '__setattr__',\n",
       " '__sizeof__',\n",
       " '__str__',\n",
       " '__subclasshook__',\n",
       " 'count',\n",
       " 'index']"
      ]
     },
     "execution_count": 19,
     "metadata": {},
     "output_type": "execute_result"
    }
   ],
   "source": [
    "dir(tuple_)"
   ]
  },
  {
   "cell_type": "code",
   "execution_count": 20,
   "id": "1bf45582",
   "metadata": {},
   "outputs": [],
   "source": [
    "#In the tuple there is some restrictions:\n",
    "#1. we cannot add the elements\n",
    "#2. we cannot delete the elements\n",
    "#3. We cannot update the elements\n",
    "#4. We cannot do sum operation"
   ]
  },
  {
   "cell_type": "code",
   "execution_count": 21,
   "id": "eb574b6b",
   "metadata": {},
   "outputs": [],
   "source": [
    "#If we will want to add elements then\n",
    "\n",
    "# tuple_.add(5)\n",
    "\n",
    "# output:\n",
    "\n",
    "# AttributeError                            Traceback (most recent call last)\n",
    "# <ipython-input-21-f6e560e57697> in <module>\n",
    "#       1 #If we will want to add elements then\n",
    "#       2 \n",
    "# ----> 3 tuple_.add(5)\n",
    "\n",
    "# AttributeError: 'tuple' object has no attribute 'add'\n",
    "\n",
    "\n",
    "# tuple_.append(5)\n",
    "\n",
    "# AttributeError                            Traceback (most recent call last)\n",
    "# <ipython-input-21-f6e560e57697> in <module>\n",
    "#       1 #If we will want to add elements then\n",
    "#       2 \n",
    "# ----> 3 tuple_.add(5)\n",
    "\n",
    "# AttributeError: 'tuple' object has no attribute 'add'\n",
    "\n",
    "\n",
    "\n",
    "#So, there is no any \"append\", \"extend\", \"insert\", \"add\" method in tuple. it cannot be possible\n",
    "\n",
    "#If we want to update any data like: 2 to 2.1 then \n",
    "\n",
    "# tuple_[1] = 2.1\n",
    "\n",
    "# TypeError                                 Traceback (most recent call last)\n",
    "# <ipython-input-26-0d70456abfe7> in <module>\n",
    "#      30 #If we want to update any data like: 2 to 2.1 then\n",
    "#      31 \n",
    "# ---> 32 tuple_[1] = 2.1\n",
    "\n",
    "# TypeError: 'tuple' object does not support item assignment"
   ]
  },
  {
   "cell_type": "code",
   "execution_count": 22,
   "id": "fb6d3c2b",
   "metadata": {},
   "outputs": [
    {
     "name": "stdout",
     "output_type": "stream",
     "text": [
      "The old tuple_ looks like:  (1, 2, 3, 4, 5) \n",
      "\n",
      "The length of this tupple:  5 \n",
      "\n",
      "The new tuple looks like :  (6, 7, 8, 9, 10, 11, 12) \n",
      "\n",
      "The new tuple looks like :  (1, 2, 3, 4, 5, 6, 7, 8, 9, 10, 11, 12) \n",
      "\n",
      "The length of this tuple :  12 \n",
      "\n"
     ]
    }
   ],
   "source": [
    "print(\"The old tuple_ looks like: \", tuple_,'\\n')\n",
    "print(\"The length of this tupple: \", len(tuple_),'\\n')\n",
    "tuple1_ = (6,7,8,9,10,11,12)\n",
    "print(\"The new tuple looks like : \", tuple1_,'\\n')\n",
    "#Now we can concatenate two tuples in another\n",
    "newTuple_ = tuple_ + tuple1_\n",
    "print(\"The new tuple looks like : \", newTuple_,'\\n')\n",
    "print(\"The length of this tuple : \", len(newTuple_),'\\n')"
   ]
  },
  {
   "cell_type": "code",
   "execution_count": 23,
   "id": "acb8c6e3",
   "metadata": {},
   "outputs": [
    {
     "name": "stdout",
     "output_type": "stream",
     "text": [
      "The maximum number of this tuple is:  12 \n",
      "\n",
      "The minimum number of this tuple is:  1 \n",
      "\n"
     ]
    }
   ],
   "source": [
    "#Find the maximum number of this newTuple_\n",
    "print(\"The maximum number of this tuple is: \", max(newTuple_),\"\\n\")\n",
    "#Find the minimum number of this newTuple_\n",
    "print(\"The minimum number of this tuple is: \", min(newTuple_),'\\n')"
   ]
  },
  {
   "cell_type": "code",
   "execution_count": 24,
   "id": "0e0284dc",
   "metadata": {},
   "outputs": [
    {
     "name": "stdout",
     "output_type": "stream",
     "text": [
      "the total sum of this newTuple_ is:  78\n"
     ]
    }
   ],
   "source": [
    "#Add all numbers:\n",
    "addition_ = 0\n",
    "for values_ in newTuple_:\n",
    "    addition_ = addition_ + values_\n",
    "print(\"the total sum of this newTuple_ is: \", addition_)"
   ]
  },
  {
   "cell_type": "code",
   "execution_count": 25,
   "id": "90816de4",
   "metadata": {},
   "outputs": [],
   "source": [
    "#delete the entire tuple_\n",
    "del newTuple_\n",
    "# print(\"After deleting, the tuple looks like: \", newTuple_)\n",
    "# output:\n",
    "# NameError                                 Traceback (most recent call last)\n",
    "# <ipython-input-24-8b7e855c7dd7> in <module>\n",
    "#       1 #delete the entire tuple_\n",
    "#       2 del newTuple_\n",
    "# ----> 3 print(\"After deleting, the tuple looks like: \", newTuple_)\n",
    "\n",
    "# NameError: name 'newTuple_' is not defined"
   ]
  },
  {
   "cell_type": "code",
   "execution_count": 26,
   "id": "81c6a629",
   "metadata": {},
   "outputs": [
    {
     "name": "stdout",
     "output_type": "stream",
     "text": [
      "The tuple_ looks like      :  (1, 2, 3, 4, 5, 4, 3, 2, 1, 6, 7, 8, 9, 10, 10, 9, 7) \n",
      "\n",
      "The length of this tuple is:  17 \n",
      "\n",
      "The unique values are      :  {1, 2, 3, 4, 5, 6, 7, 8, 9, 10} \n",
      "\n",
      "The real tuple looks like  :  (1, 2, 3, 4, 5, 4, 3, 2, 1, 6, 7, 8, 9, 10, 10, 9, 7) \n",
      "\n",
      "1 occurs 2 times.\n",
      "2 occurs 2 times.\n",
      "3 occurs 2 times.\n",
      "4 occurs 2 times.\n",
      "5 occurs 1 times.\n",
      "6 occurs 1 times.\n",
      "7 occurs 2 times.\n",
      "8 occurs 1 times.\n",
      "9 occurs 2 times.\n",
      "10 occurs 2 times.\n"
     ]
    }
   ],
   "source": [
    "#Create an another tuple with duplicate values:\n",
    "tuple_ = (1,2,3,4,5,4,3,2,1,6,7,8,9,10,10,9,7)\n",
    "print(\"The tuple_ looks like      : \", tuple_,'\\n')\n",
    "print(\"The length of this tuple is: \", len(tuple_),'\\n')\n",
    "#Now find out the duplicate values_\n",
    "unique_ = set(tuple_)\n",
    "print(\"The unique values are      : \", unique_,'\\n')\n",
    "print(\"The real tuple looks like  : \", tuple_,'\\n')\n",
    "#Find the occurace values:\n",
    "occurance_ = Counter(tuple_)\n",
    "for values_, occurs_ in occurance_.items():\n",
    "    print(f'{values_} occurs {occurs_} times.')"
   ]
  },
  {
   "cell_type": "markdown",
   "id": "bb0ead86",
   "metadata": {},
   "source": [
    "# Practise Session"
   ]
  },
  {
   "cell_type": "code",
   "execution_count": 27,
   "id": "e30623d4",
   "metadata": {},
   "outputs": [
    {
     "name": "stdout",
     "output_type": "stream",
     "text": [
      "The tupple looks like               :  ((1, 2, 3, 4, 5), (6, 7, 8, 9, 10)) \n",
      "\n",
      "The EVEN number looks like in a list:  [[2, 4], [6, 8, 10]] \n",
      "\n",
      "The EVEN number looks like in  tuple:  ((2, 4), (6, 8, 10)) \n",
      "\n"
     ]
    }
   ],
   "source": [
    "tuple_ = ((1,2,3,4,5),(6,7,8,9,10))\n",
    "print(\"The tupple looks like               : \", tuple_,'\\n')\n",
    "#Now Find the even number and save into the list\n",
    "evenNumber_ = [list(filter(lambda x: x%2 == 0, values_)) for values_ in tuple_]\n",
    "print(\"The EVEN number looks like in a list: \", evenNumber_,'\\n')\n",
    "#Now Find the even number and save into the tuple\n",
    "evenNumber_ = tuple(tuple(filter(lambda x: x%2 == 0,values_)) for values_ in tuple_)\n",
    "print(\"The EVEN number looks like in  tuple: \", evenNumber_,'\\n')"
   ]
  },
  {
   "cell_type": "code",
   "execution_count": 28,
   "id": "74e31e60",
   "metadata": {},
   "outputs": [
    {
     "name": "stdout",
     "output_type": "stream",
     "text": [
      "The list of tuple loos like:\n",
      " [('Atikul Islam Sajib', '011142099', 'CSE', '3.98', 'ML'), ('Thasin Sahabuddin', '011181150', 'CSE', '3.67', 'NE'), ('Shahriar Sabbir', '011142098', 'CSEE', '3.50', 'NE'), ('Z S Tamim Hossain', '011152216', 'CSE', '3.78', 'AI'), ('ABC', '011152215', 'CSE', '4.00', 'AI'), ('DEF', '011152214', 'CSE', '3.99', 'Adv AI')] \n",
      "\n",
      "The length of this list of tuple_ is:  6 \n",
      "\n"
     ]
    }
   ],
   "source": [
    "#Create the list of tuples in here \n",
    "list_ = [('Atikul Islam Sajib','011142099','CSE','3.98', 'ML'),\n",
    "         ('Thasin Sahabuddin' , '011181150','CSE','3.67','NE'),\n",
    "         ('Shahriar Sabbir','011142098','CSEE','3.50','NE'),\n",
    "         ('Z S Tamim Hossain','011152216','CSE','3.78','AI'),\n",
    "         ('ABC','011152215','CSE','4.00','AI'),\n",
    "         ('DEF','011152214','CSE','3.99','Adv AI')]\n",
    "\n",
    "print(\"The list of tuple loos like:\\n\", list_,'\\n')\n",
    "print(\"The length of this list of tuple_ is: \", len(list_),'\\n')"
   ]
  },
  {
   "cell_type": "code",
   "execution_count": 29,
   "id": "ce43ef7e",
   "metadata": {},
   "outputs": [
    {
     "name": "stdout",
     "output_type": "stream",
     "text": [
      "The max CGPA is     :  4.0 \n",
      "\n",
      "The index of this is:  4 \n",
      "\n",
      "The information of that HIGHEST CGPA is:  ('ABC', '011152215', 'CSE', '4.00', 'AI')\n"
     ]
    }
   ],
   "source": [
    "#Now the task is to print, the max CGPA holder\n",
    "# for tuples_ in list_:\n",
    "#     print(type(tuples_[3]))\n",
    "    \n",
    "# output:\n",
    "# <class 'str'>\n",
    "# <class 'str'>\n",
    "# <class 'str'>\n",
    "# <class 'str'>\n",
    "\n",
    "#Be carefull, these all are string types. \n",
    "\n",
    "\n",
    "# for index_, tuples_ in enumerate(list_):\n",
    "#     print(f'{index_} {tuples_}')\n",
    "    \n",
    "# output:\n",
    "# 0 ('Atikul Islam Sajib', '011142099', 'CSE', '3.98', 'ML')\n",
    "# 1 ('Thasin Sahabuddin', '011181150', 'CSE', '3.67', 'NE')\n",
    "# 2 ('Shahriar Sabbir', '011142098', 'CSEE', '3.50', 'NE')\n",
    "# 3 ('Z S Tamim Hossain', '011152216', 'CSE', '3.78', 'AI')\n",
    "\n",
    "\n",
    "# indexValue_ = -1\n",
    "# maxValue_   = -1\n",
    "# for index_, tuples_ in enumerate(list_):\n",
    "#     values_ = float(tuples_[3])\n",
    "#     print(type(values_))\n",
    "    \n",
    "# output:\n",
    "# <class 'float'>\n",
    "# <class 'float'>\n",
    "# <class 'float'>\n",
    "# <class 'float'>\n",
    "\n",
    "indexValue_ = -1\n",
    "maxValue_   = -1\n",
    "for index_, tuples_ in enumerate(list_):\n",
    "    values_ = float(tuples_[3])\n",
    "    if values_>maxValue_:\n",
    "        maxValue_   = values_\n",
    "        indexValue_ = index_\n",
    "    else:\n",
    "        pass\n",
    "    \n",
    "print(\"The max CGPA is     : \", maxValue_,'\\n')\n",
    "print(\"The index of this is: \", indexValue_,'\\n')\n",
    "print(\"The information of that HIGHEST CGPA is: \", list_[indexValue_])"
   ]
  },
  {
   "cell_type": "code",
   "execution_count": 30,
   "id": "37c4fbdf",
   "metadata": {},
   "outputs": [
    {
     "name": "stdout",
     "output_type": "stream",
     "text": [
      "The CGPA_ values are:  (0.0, 3.98, 3.67, 3.5, 3.78, 4.0, 3.99) \n",
      "\n",
      "The average CGPA_ is:  3.8200000000000003 \n",
      "\n"
     ]
    }
   ],
   "source": [
    "#Now, I want to calculate the AVG CGPA\n",
    "#In order to do this-\n",
    "#1. first retrive the CGPA from list_ and store in a tuple\n",
    "#2. then use sum function and find the average\n",
    "#3. use reduce function\n",
    "CGPA_ = (0.00, )\n",
    "for values_ in list_:\n",
    "    values_ = float(values_[3])\n",
    "    CGPA_ = CGPA_+(values_, )\n",
    "print(\"The CGPA_ values are: \", CGPA_,'\\n')\n",
    "print(\"The average CGPA_ is: \", sum(CGPA_)/len(list_),'\\n')"
   ]
  },
  {
   "cell_type": "code",
   "execution_count": 31,
   "id": "cb7fa424",
   "metadata": {},
   "outputs": [
    {
     "name": "stdout",
     "output_type": "stream",
     "text": [
      "The list looks like: \n",
      "\n",
      " [('Atikul Islam Sajib', '011142099', 'CSE', '3.98', 'ML'), ('Thasin Sahabuddin', '011181150', 'CSE', '3.67', 'NE'), ('Shahriar Sabbir', '011142098', 'CSEE', '3.50', 'NE'), ('Z S Tamim Hossain', '011152216', 'CSE', '3.78', 'AI'), ('ABC', '011152215', 'CSE', '4.00', 'AI'), ('DEF', '011152214', 'CSE', '3.99', 'Adv AI')] \n",
      "\n"
     ]
    }
   ],
   "source": [
    "#print the list_\n",
    "print(\"The list looks like: \\n\\n\", list_,'\\n')"
   ]
  },
  {
   "cell_type": "code",
   "execution_count": 32,
   "id": "71113228",
   "metadata": {},
   "outputs": [
    {
     "name": "stdout",
     "output_type": "stream",
     "text": [
      "The list_ with tuple looks like: \n",
      "\n",
      " [('Atikul Islam Sajib', '011142099', 'CSE', '3.98', 'ML', 'Waiver'), ('Thasin Sahabuddin', '011181150', 'CSE', '3.67', 'NE', 'Not Waiver'), ('Shahriar Sabbir', '011142098', 'CSEE', '3.50', 'NE', 'Not Waiver'), ('Z S Tamim Hossain', '011152216', 'CSE', '3.78', 'AI', 'Waiver'), ('ABC', '011152215', 'CSE', '4.00', 'AI', 'Waiver'), ('DEF', '011152214', 'CSE', '3.99', 'Adv AI', 'Waiver')]\n"
     ]
    }
   ],
   "source": [
    "#Now, print \"Weaver\" or not based on GPA, if CGPA>3.7 then got \"Weaver\", on the other hand got \"Not Waiver\"\n",
    "for index_, tuples_ in enumerate(list_):\n",
    "    values_ = float(tuples_[3])\n",
    "    if values_>=3.7:\n",
    "        list_[index_] = tuples_ + ('Waiver', )\n",
    "    else:\n",
    "        list_[index_]  = tuples_ + ('Not Waiver', )\n",
    "        \n",
    "print(\"The list_ with tuple looks like: \\n\\n\", list_)"
   ]
  },
  {
   "cell_type": "code",
   "execution_count": 33,
   "id": "816515cb",
   "metadata": {},
   "outputs": [
    {
     "name": "stdout",
     "output_type": "stream",
     "text": [
      "The list_ with the tuple looks like:\n",
      " [('A', 70, 80, 90, 100, 86), ('B', 90, 60, 90, 100, 87), ('C', 100, 84, 87, 98, 86), ('D', 90, 67, 88, 87, 86)] \n",
      "\n",
      "The length of this list_ with tuple: 4 \n",
      "\n",
      "0 ('A', 70, 80, 90, 100, 86)\n",
      "1 ('B', 90, 60, 90, 100, 87)\n",
      "2 ('C', 100, 84, 87, 98, 86)\n",
      "3 ('D', 90, 67, 88, 87, 86)\n"
     ]
    }
   ],
   "source": [
    "#Create the list_ with tuple\n",
    "list_ = [('A',70,80,90,100,86),('B',90,60,90,100,87),('C',100,84,87,98,86),('D',90,67,88,87,86)]\n",
    "print(\"The list_ with the tuple looks like:\\n\", list_,'\\n')\n",
    "print(\"The length of this list_ with tuple:\", len(list_),'\\n')\n",
    "#Now replace the numeric number with grade_\n",
    "for index_, tuple_ in enumerate(list_):\n",
    "    print(f'{index_} {tuple_}')"
   ]
  },
  {
   "cell_type": "code",
   "execution_count": 34,
   "id": "88b4716a",
   "metadata": {},
   "outputs": [
    {
     "name": "stdout",
     "output_type": "stream",
     "text": [
      "0 ('A', 70, 80, 90, 100, 86)\n",
      "1 ('B', 90, 60, 90, 100, 87)\n",
      "2 ('C', 100, 84, 87, 98, 86)\n",
      "3 ('D', 90, 67, 88, 87, 86)\n"
     ]
    }
   ],
   "source": [
    "#just print the marks:\n",
    "for index_, tuple_ in enumerate(list_):\n",
    "    print(f'{index_} {tuple_}')"
   ]
  },
  {
   "cell_type": "code",
   "execution_count": 35,
   "id": "8b3e69ed",
   "metadata": {},
   "outputs": [
    {
     "name": "stdout",
     "output_type": "stream",
     "text": [
      "B A- A A+ A- A fail A A+ A- A+ A- A- A A- A fail A- A- A- The list_ with tuple_ looks like:\n",
      "\n",
      " [('A', 70, 80, 90, 100, 86, 'B', 'A-', 'A', 'A+', 'A-'), ('B', 90, 60, 90, 100, 87, 'A', 'fail', 'A', 'A+', 'A-'), ('C', 100, 84, 87, 98, 86, 'A+', 'A-', 'A-', 'A', 'A-'), ('D', 90, 67, 88, 87, 86, 'A', 'fail', 'A-', 'A-', 'A-')]\n"
     ]
    }
   ],
   "source": [
    "for index1_, tuple_ in enumerate(list_):\n",
    "    for index_, values_ in enumerate(tuple_[1:]):\n",
    "        if (values_>50) & (values_<70):\n",
    "            print('fail', end = \" \")\n",
    "            list_[index1_] = list_[index1_] + ('fail', )\n",
    "        elif (values_>=70) & (values_<80):\n",
    "            print('B', end = \" \")\n",
    "            list_[index1_] = list_[index1_] + ('B', )\n",
    "        elif (values_>=80) & (values_<90):\n",
    "            print('A-', end = \" \")\n",
    "            list_[index1_] = list_[index1_] + ('A-', )\n",
    "        elif (values_>=90) & (values_<100):\n",
    "            print('A', end = \" \")\n",
    "            list_[index1_] = list_[index1_] + ('A', )\n",
    "        else:\n",
    "            print('A+', end = \" \")\n",
    "            list_[index1_] = list_[index1_] + ('A+', )\n",
    "\n",
    "print(\"The list_ with tuple_ looks like:\\n\\n\", list_)"
   ]
  },
  {
   "cell_type": "code",
   "execution_count": 36,
   "id": "57a733d4",
   "metadata": {},
   "outputs": [
    {
     "name": "stdout",
     "output_type": "stream",
     "text": [
      "The list_ with tupple looks like: \n",
      "\n",
      " [('A', 70, 80, 90, 100, 86, 'B', 'A-', 'A', 'A+', 'A-', 85.2), ('B', 90, 60, 90, 100, 87, 'A', 'fail', 'A', 'A+', 'A-', 85.4), ('C', 100, 84, 87, 98, 86, 'A+', 'A-', 'A-', 'A', 'A-', 91.0), ('D', 90, 67, 88, 87, 86, 'A', 'fail', 'A-', 'A-', 'A-', 83.6)]\n"
     ]
    }
   ],
   "source": [
    "#Now, my task is to find the AVG of marks\n",
    "\n",
    "length_ = len(list_[0][1:6])\n",
    "for index_, tuples_ in enumerate(list_):\n",
    "    addition_ = 0\n",
    "    for values_ in (tuples_[1:6]):\n",
    "        addition_ = addition_ + values_\n",
    "    list_[index_] = list_[index_] + (addition_/length_, )\n",
    "    \n",
    "print(\"The list_ with tupple looks like: \\n\\n\", list_)"
   ]
  },
  {
   "cell_type": "code",
   "execution_count": 37,
   "id": "8edb2762",
   "metadata": {},
   "outputs": [
    {
     "name": "stdout",
     "output_type": "stream",
     "text": [
      "Done  0\n",
      "Done  1\n",
      "Done  2\n",
      "Done  3\n",
      " \n",
      "The list_ with tupple looks like: \n",
      "\n",
      " [('A', 70, 80, 90, 100, 86, 'B', 'A-', 'A', 'A+', 'A-', 85.2, 85.2), ('B', 90, 60, 90, 100, 87, 'A', 'fail', 'A', 'A+', 'A-', 85.4, 67.4), ('C', 100, 84, 87, 98, 86, 'A+', 'A-', 'A-', 'A', 'A-', 91.0, 91.0), ('D', 90, 67, 88, 87, 86, 'A', 'fail', 'A-', 'A-', 'A-', 83.6, 83.6)]\n"
     ]
    }
   ],
   "source": [
    "#Do the same things with using \"set\"\n",
    "for index_, tuples_ in enumerate(list_):\n",
    "    list_[index_] = list_[index_] + (sum(set(tuples_[1:6]))/length_, )\n",
    "    print(\"Done \", index_)\n",
    "print(\" \")\n",
    "print(\"The list_ with tupple looks like: \\n\\n\", list_)"
   ]
  },
  {
   "cell_type": "code",
   "execution_count": 38,
   "id": "266c9ff5",
   "metadata": {},
   "outputs": [
    {
     "name": "stdout",
     "output_type": "stream",
     "text": [
      "Done  0\n",
      "Done  1\n",
      "Done  2\n",
      "Done  3\n",
      " \n",
      "The list_ with tupple looks like: \n",
      "\n",
      " [('A', 70, 80, 90, 100, 86, 'B', 'A-', 'A', 'A+', 'A-', 85.2, 85.2, 85.2), ('B', 90, 60, 90, 100, 87, 'A', 'fail', 'A', 'A+', 'A-', 85.4, 67.4, 85.4), ('C', 100, 84, 87, 98, 86, 'A+', 'A-', 'A-', 'A', 'A-', 91.0, 91.0, 91.0), ('D', 90, 67, 88, 87, 86, 'A', 'fail', 'A-', 'A-', 'A-', 83.6, 83.6, 83.6)]\n"
     ]
    }
   ],
   "source": [
    "#Do the same things with \"reduce\" function\n",
    "for index_, tuples_ in enumerate(list_):\n",
    "    list_[index_] = list_[index_] + (reduce(lambda x, y:(x+y), tuples_[1:6])/length_, )\n",
    "    print(\"Done \", index_)\n",
    "print(\" \")\n",
    "print(\"The list_ with tupple looks like: \\n\\n\", list_)"
   ]
  }
 ],
 "metadata": {
  "kernelspec": {
   "display_name": "Python 3 (ipykernel)",
   "language": "python",
   "name": "python3"
  },
  "language_info": {
   "codemirror_mode": {
    "name": "ipython",
    "version": 3
   },
   "file_extension": ".py",
   "mimetype": "text/x-python",
   "name": "python",
   "nbconvert_exporter": "python",
   "pygments_lexer": "ipython3",
   "version": "3.9.12"
  }
 },
 "nbformat": 4,
 "nbformat_minor": 5
}
